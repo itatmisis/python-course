{
 "cells": [
  {
   "cell_type": "markdown",
   "metadata": {
    "collapsed": true,
    "pycharm": {
     "name": "#%% md\n"
    }
   },
   "source": [
    "### Установка Jupyter Notebook\n",
    "``` bash\n",
    "pip install notebook\n",
    "jupyter notebook\n",
    "```\n",
    "#### TODO стоит написать инфу как ставить юпитер сразу в месте про инфу об установки питона, то есть в 1 лекции"
   ]
  },
  {
   "cell_type": "markdown",
   "metadata": {},
   "source": [
    "### Интерактивная консоль\n",
    "Вместе со стандартным пакетом python поставляется интерактивная консоль,\n",
    "которая позволяет в реальном времени взаимодействовать с интерпретатором питона.\n",
    "``` bash\n",
    "# Запуск консоли\n",
    "$ python    # Или python3\n",
    "Python 3.8.10 (default, Jun  2 2021, 10:49:15)\n",
    "[GCC 9.4.0] on linux\n",
    "Type \"help\", \"copyright\", \"credits\" or \"license\" for more information.\n",
    ">>> 4 + 1 # Консоль можно использовать как калькулятор\n",
    "5\n",
    ">>> print(\"Hello world\") # Или просто писать в ней код\n",
    "Hello world\n",
    ">>> 84 ** 2 - 1 / 4 * 3.1415\n",
    "7055.214625\n",
    "```"
   ]
  },
  {
   "cell_type": "markdown",
   "metadata": {
    "pycharm": {
     "name": "#%% md\n"
    }
   },
   "source": [
    "### Термины\n",
    "Литерал - запись в исходном коде компьютерной программы, представляющая собой фиксированное значение.\n",
    "``` python\n",
    "2 # литерал целочисленного типа int, представляющего число 2\n",
    "\"Hello\" # литерал строкового типа, представляющего слово \"Hello\"\n",
    "0x42 # тоже литерал целочисленного типа int, но уже в 16-ричной записи,\n",
    "# 0x42 - 66 в десятичной\n",
    "```\n",
    "Конструктор - метод, который создаёт некий объект, например:\n",
    "``` python\n",
    ">>> a = int() # int() создаёт обьект типа int и даёт ему значение 0\n",
    ">>> a\n",
    "0\n",
    "```\n",
    "Конструктор типов данных позволяет конвертировать один типов данных в другой:\n",
    "`int(4.0)` - переведёт 4.0 в 4.\n",
    "\n",
    "Оператор - в данном контексте операторами мы называем арифметические операторы, например \n",
    "``` python\n",
    "2 + 1 == 3 # + - оператор сложения, == - оператор сравнения \n",
    "```  \n",
    "\n",
    "### Типы данных\n",
    "Основные типы данных:\n",
    "1. Int - целочисленный тип.<br>\n",
    "Литералы:\n",
    "- 10-ичные числа: `0, 42, -5, 100, 500_200`\n",
    "- 16-ичные числа: `0x42, 0x00, 0xf2`\n",
    "- 8-ичные числа: `0o42, 0o74`\n",
    "- 2-ичные числа: `0b101, 0b10101` <br>\n",
    "Конструктор: <br>\n",
    "`int()`"
   ]
  },
  {
   "cell_type": "code",
   "execution_count": 14,
   "metadata": {
    "pycharm": {
     "name": "#%%\n"
    }
   },
   "outputs": [
    {
     "data": {
      "text/plain": [
       "(9, 36, 3, 66)"
      ]
     },
     "execution_count": 14,
     "metadata": {},
     "output_type": "execute_result"
    }
   ],
   "source": [
    "a = 0b1001\n",
    "b = 4 * 9 # можно сразу присваивать выражение\n",
    "c = 10 // 3 # // - целочисленное деление\n",
    "d = 0x42\n",
    "a, b, c, d"
   ]
  },
  {
   "cell_type": "code",
   "execution_count": 13,
   "metadata": {},
   "outputs": [
    {
     "data": {
      "text/plain": [
       "(3, 5)"
      ]
     },
     "execution_count": 13,
     "metadata": {},
     "output_type": "execute_result"
    }
   ],
   "source": [
    "# Операторы\n",
    "# Cложения и вычитания\n",
    "2 + 1, 9 - 4"
   ]
  },
  {
   "cell_type": "code",
   "execution_count": 19,
   "metadata": {},
   "outputs": [
    {
     "data": {
      "text/plain": [
       "((16, 5), (3.3333333333333335, 2.0))"
      ]
     },
     "execution_count": 19,
     "metadata": {},
     "output_type": "execute_result"
    }
   ],
   "source": [
    "# Умножения и целочисленного деления\n",
    "a = 8*2, 10 // 2\n",
    "# Сущесвует также обычное деление, но оно всегда возвращает тип float\n",
    "b = 10 / 3, 10 / 5\n",
    "a, b"
   ]
  },
  {
   "cell_type": "code",
   "execution_count": 15,
   "metadata": {},
   "outputs": [
    {
     "data": {
      "text/plain": [
       "(1, 729)"
      ]
     },
     "execution_count": 15,
     "metadata": {},
     "output_type": "execute_result"
    }
   ],
   "source": [
    "# Взятия остатка и возведения в степень\n",
    "10 % 3, 9**3"
   ]
  },
  {
   "cell_type": "code",
   "execution_count": 18,
   "metadata": {},
   "outputs": [
    {
     "data": {
      "text/plain": [
       "40"
      ]
     },
     "execution_count": 18,
     "metadata": {},
     "output_type": "execute_result"
    }
   ],
   "source": [
    "# Аналогично существуют арифметические операторы присваивания\n",
    "# Например\n",
    "a = 10\n",
    "a += 30 # можно эквивалентно переписать как a = a + 30\n",
    "a "
   ]
  },
  {
   "cell_type": "markdown",
   "metadata": {
    "pycharm": {
     "name": "#%% md\n"
    }
   },
   "source": [
    "2. Float - число с плавающей точкой  \n",
    "Литералы:  \n",
    "- Через точку: `0.52, 52.44`\n",
    "- Через экспоненциальную запись: `4e3` <br>\n",
    "Конструктор: <br>\n",
    "`float()`"
   ]
  },
  {
   "cell_type": "code",
   "execution_count": 21,
   "metadata": {
    "pycharm": {
     "name": "#%%\n"
    }
   },
   "outputs": [
    {
     "data": {
      "text/plain": [
       "(4000.0, 38.22, 3.142857142857143)"
      ]
     },
     "execution_count": 21,
     "metadata": {},
     "output_type": "execute_result"
    }
   ],
   "source": [
    "a = 4e3\n",
    "b = 4.2 * 9.1\n",
    "c = 22.0/7\n",
    "a, b, c"
   ]
  },
  {
   "cell_type": "code",
   "execution_count": 20,
   "metadata": {},
   "outputs": [
    {
     "data": {
      "text/plain": [
       "3.3333333333333335"
      ]
     },
     "execution_count": 20,
     "metadata": {},
     "output_type": "execute_result"
    }
   ],
   "source": [
    "# У Float операторы аналогичны операторам int, за исключением:\n",
    "# Деление\n",
    "10.0 / 3.0"
   ]
  },
  {
   "cell_type": "markdown",
   "metadata": {},
   "source": [
    "3. Bool - логический тип, может принимать только True(правда) или False(ложь)  \n",
    "Литералы:  \n",
    "`True` и `False`  \n",
    "Конструктор:  \n",
    "`bool()`  "
   ]
  },
  {
   "cell_type": "code",
   "execution_count": 18,
   "metadata": {
    "pycharm": {
     "name": "#%%\n"
    }
   },
   "outputs": [
    {
     "data": {
      "text/plain": [
       "(True, False, True)"
      ]
     },
     "execution_count": 18,
     "metadata": {},
     "output_type": "execute_result"
    }
   ],
   "source": [
    "a = True\n",
    "b = False\n",
    "c = b or a # or - дизъюнкция, логическое ИЛИ\n",
    "a, b, c"
   ]
  },
  {
   "cell_type": "code",
   "execution_count": 27,
   "metadata": {},
   "outputs": [
    {
     "data": {
      "text/plain": [
       "(True, False, False, 9)"
      ]
     },
     "execution_count": 27,
     "metadata": {},
     "output_type": "execute_result"
    }
   ],
   "source": [
    "# Операторы\n",
    "a = True or False # дизъюнкция, логическое ИЛИ\n",
    "b = True and False # конъюнкция, логическо И\n",
    "c = not True # логическое отрицание\n",
    "d = 10 - True # так как bool наследуется от int, \n",
    "              # то к нему применимы и операторы int, но с этим баловаться не стои:)\n",
    "a, b, c, d"
   ]
  },
  {
   "cell_type": "markdown",
   "metadata": {
    "pycharm": {
     "name": "#%% md\n"
    }
   },
   "source": [
    "4. Str - строковый тип, может быть любой длины. (питон не имеет символьный тип)  \n",
    "Литералы:\n",
    "- `\"Hello\"` - двойные кавычки\n",
    "- `'World'` - одинарные кавычки(оба варианта эквивалентны)\n",
    "- `\"\"\"Hello World\"\"\"` - тройные кавычки  \n",
    "Конструктор:  \n",
    "`str()`"
   ]
  },
  {
   "cell_type": "code",
   "execution_count": 9,
   "metadata": {
    "pycharm": {
     "name": "#%%\n"
    }
   },
   "outputs": [
    {
     "data": {
      "text/plain": [
       "('Hello, World',\n",
       " 'Hello, \"User\"',\n",
       " 'Very\\nLong\\nText\\n',\n",
       " 'Very\\nLong\\nText\\n',\n",
       " True)"
      ]
     },
     "execution_count": 9,
     "metadata": {},
     "output_type": "execute_result"
    }
   ],
   "source": [
    "a = \"Hello, World\"\n",
    "b = 'Hello, \"User\"' # можно миксовать кавычки\n",
    "c = \"\"\"Very\n",
    "Long\n",
    "Text\n",
    "\"\"\" # Тройные кавычки позволяют писать длинно\n",
    "d = \"Very\\n\" \\\n",
    "    \"Long\\n\" \\\n",
    "    \"Text\\n\" # Хотя можно просто использовать \\ для переноса\n",
    "a, b, c, c == d # == - сравнение строк на идентичность"
   ]
  },
  {
   "cell_type": "code",
   "execution_count": 32,
   "metadata": {},
   "outputs": [
    {
     "data": {
      "text/plain": [
       "('Hello World', 'AAAaAAAaAAAaAAAaAAAaAAAaAAAaAAAaAAAaAAAa')"
      ]
     },
     "execution_count": 32,
     "metadata": {},
     "output_type": "execute_result"
    }
   ],
   "source": [
    "# Операторы\n",
    "a = \"Hello\" + \" World\" # конкатенация, то есть сложение строк \n",
    "b = \"AAAa\" * 10 # умножие строки на число повторит её соответвенное количество раз \n",
    "a, b"
   ]
  },
  {
   "cell_type": "markdown",
   "metadata": {},
   "source": [
    "5. List - динамический массив данных, который может быть любой длины, длина может увеличиваться, элементы можно удалять, также может иметь любые и разные типы данных внутри  \n",
    "Литералы: \n",
    "- [1, 2, 3] - в квадратных скобках  \n",
    "Конструктор:  \n",
    "`list()`"
   ]
  },
  {
   "cell_type": "code",
   "execution_count": 35,
   "metadata": {},
   "outputs": [
    {
     "data": {
      "text/plain": [
       "([43, 2], [], ['Hello', 73.0])"
      ]
     },
     "execution_count": 35,
     "metadata": {},
     "output_type": "execute_result"
    }
   ],
   "source": [
    "a = [43, 2]\n",
    "b = []\n",
    "c = [\"Hello\", 10*7.3]\n",
    "a, b, c"
   ]
  },
  {
   "cell_type": "code",
   "execution_count": 48,
   "metadata": {},
   "outputs": [
    {
     "data": {
      "text/plain": [
       "([2, 3, 1, 2], 3)"
      ]
     },
     "execution_count": 48,
     "metadata": {},
     "output_type": "execute_result"
    }
   ],
   "source": [
    "# Операторы\n",
    "a = [2, 3] + [1, 2] # контатенация листов\n",
    "b = len([4, 3, 2]) # взятие длины(актуально и для строк)\n",
    "a, b"
   ]
  },
  {
   "cell_type": "markdown",
   "metadata": {},
   "source": [
    "6. Nonetype - None, ничего, пустота, нуль, иными словами что-то, чего нет. Используется, например, для объявления переменных, а также для указания чего-то, что не известно.  \n",
    "Литерал:  \n",
    "- `None`\n",
    "Конструктора нет, он и не нужен, так как такой тип может принимать только 1 значение"
   ]
  },
  {
   "cell_type": "code",
   "execution_count": 40,
   "metadata": {},
   "outputs": [
    {
     "data": {
      "text/plain": [
       "('H', 7)"
      ]
     },
     "execution_count": 40,
     "metadata": {},
     "output_type": "execute_result"
    }
   ],
   "source": [
    "# Слайсы и индексации строк и листов\n",
    "# Индексация - взятие отдельного элемента по его индексу, индексация всегда начинается с нуля\n",
    "a = \"Hello, World\"\n",
    "b = [9, 8, 7, 6]\n",
    "a[0], b[2] # 0 элемент в \"Hello Wolrd - H, второй в 9, 8, 7, 6 - 7\""
   ]
  },
  {
   "cell_type": "code",
   "execution_count": 43,
   "metadata": {},
   "outputs": [
    {
     "data": {
      "text/plain": [
       "'Hello'"
      ]
     },
     "execution_count": 43,
     "metadata": {},
     "output_type": "execute_result"
    }
   ],
   "source": [
    "# Слайсинг - получение подлиста или подстроки. \n",
    "# Формат: [начальный индекс, конечный(не включая), шаг]\n",
    "# Например, нам нужно получить только слово Hello в [Hello, Wolrd], тогда начинаем с 0, заканчиваем 5\n",
    "a = \"Hello, Wolrd\"\n",
    "a[0:5]"
   ]
  },
  {
   "cell_type": "code",
   "execution_count": 49,
   "metadata": {},
   "outputs": [
    {
     "data": {
      "text/plain": [
       "12"
      ]
     },
     "execution_count": 49,
     "metadata": {},
     "output_type": "execute_result"
    }
   ],
   "source": [
    "# Трюки со слайсами:\n",
    "a = \"Hello, World\"\n",
    "a[:5] # Пустой первые аргумент автоматически заменяется на 0"
   ]
  },
  {
   "cell_type": "code",
   "execution_count": 53,
   "metadata": {},
   "outputs": [
    {
     "data": {
      "text/plain": [
       "('World', 'World')"
      ]
     },
     "execution_count": 53,
     "metadata": {},
     "output_type": "execute_result"
    }
   ],
   "source": [
    "a[-5:], a[7:] # Отрицательные индекс считает с конца, то есть заменяется на len(a) - 5, что равно 7"
   ]
  },
  {
   "cell_type": "code",
   "execution_count": 54,
   "metadata": {},
   "outputs": [
    {
     "data": {
      "text/plain": [
       "'dlroW ,olleH'"
      ]
     },
     "execution_count": 54,
     "metadata": {},
     "output_type": "execute_result"
    }
   ],
   "source": [
    "a[::-1] # Такая запись повзоляет перевернуть строчку или лист"
   ]
  },
  {
   "cell_type": "markdown",
   "metadata": {},
   "source": [
    "В питоне существует два типа данных, mutable(изменяемый) и immutable(неизменяемые)\n",
    "Неизменяемые типы данных не могут быть изменены и поэтому всегда пересоздаются\n",
    "Изменяемые же могут изменяться(очевидно)\n",
    "Неизменяемые: int, float, str и т.д.\n",
    "Изменяемые: list и т.д."
   ]
  },
  {
   "cell_type": "code",
   "execution_count": 12,
   "metadata": {},
   "outputs": [
    {
     "data": {
      "text/plain": [
       "'H e l l a ,   W o l r d'"
      ]
     },
     "execution_count": 12,
     "metadata": {},
     "output_type": "execute_result"
    }
   ],
   "source": [
    "a = \"Hello, Wolrd\"\n",
    "# a[2] = \"4\" # Выдаст ошибку, потому что str - неизменяемый\n",
    "b = list(a) # в list() можно положить любой объект, по которому можно итерироваться и он создаст из него лист\n",
    "b[4] = \"a\" # Не выдаст ошибку, потоу что list - изменяемый\n",
    "' '.join(b) # join - метод строк, что генерирует новую строку соединяя элементы из b с помощью, в данном случае\n",
    "# ' ' - то есть пробела"
   ]
  },
  {
   "cell_type": "markdown",
   "metadata": {},
   "source": [
    "### Ещё операторы\n",
    "Помимо выше указанных операторов также существуют:\n",
    "- `==` - оператор равенства. Пример: `3 == 3` вернёт `True`\n",
    "- `!=` - оператор неравенства(== наоборот). Пример: `10 != 2` вернёт `True`\n",
    "- `>`, `<` - больше и меньше соотвественно\n",
    "- `>=`, `<=` - больше, либо равно и меньше, либо равно\n",
    "- `is` - оператор идентичности. В отличие от `==` проверяет, что 2 объекта являются одним и тем же, то есть ссылаются на один и тот же отрезок памяти. "
   ]
  },
  {
   "cell_type": "code",
   "execution_count": 15,
   "metadata": {},
   "outputs": [
    {
     "data": {
      "text/plain": [
       "(False, True)"
      ]
     },
     "execution_count": 15,
     "metadata": {},
     "output_type": "execute_result"
    }
   ],
   "source": [
    "# Пример работы is\n",
    "a = 1200\n",
    "b = 1200\n",
    "a is b, a == b"
   ]
  },
  {
   "cell_type": "markdown",
   "metadata": {},
   "source": [
    "### Условные операторы и циклы\n",
    "Для управлением работы скрипта используются условные операторы, которые заставляют программу что-либо делать при каком-либо условие.  \n",
    "Формат:\n",
    "``` python\n",
    "if <условие>:\n",
    "    <блок кода> # Выполниться, если условие выше истинно\n",
    "[elif <условие>:\n",
    "    <блок кода>] # Выполниться, если выше условия НЕ истинны, а это истинно\n",
    "[else:\n",
    "    <блок кода>] # Выполниться, если все условия выше НЕ истинны\n",
    "```"
   ]
  },
  {
   "cell_type": "code",
   "execution_count": 56,
   "metadata": {},
   "outputs": [
    {
     "name": "stdout",
     "output_type": "stream",
     "text": [
      "Hi, User\n"
     ]
    }
   ],
   "source": [
    "# Примеры \n",
    "name_is = False\n",
    "if name_is:\n",
    "    print(\"Hi, Peter\")\n",
    "else:\n",
    "    print(\"Hi, User\")"
   ]
  },
  {
   "cell_type": "code",
   "execution_count": 59,
   "metadata": {},
   "outputs": [
    {
     "name": "stdout",
     "output_type": "stream",
     "text": [
      "???\n"
     ]
    }
   ],
   "source": [
    "a = 2 + 2 \n",
    "if a == 4:\n",
    "    print(\"We live in society\")\n",
    "elif a == 5:\n",
    "    print(\"We live in oceania\")\n",
    "else:\n",
    "    print(\"???\")"
   ]
  },
  {
   "cell_type": "code",
   "execution_count": 75,
   "metadata": {},
   "outputs": [
    {
     "name": "stdout",
     "output_type": "stream",
     "text": [
      "1 - истинна\n",
      "А вот НЕ пустая строка всегда истинна\n",
      "Аналогично с листами\n",
      "Но проверять какой-либо объект на None принято через is\n"
     ]
    },
    {
     "data": {
      "text/plain": [
       "True"
      ]
     },
     "execution_count": 75,
     "metadata": {},
     "output_type": "execute_result"
    }
   ],
   "source": [
    "\"\"\"\n",
    "Работайте с if осторожно, если на вход подаётся тип данных, отличный от bool, автоматически вызывается \n",
    "конструктор bool(не совсем конструктор, но по существу так) и переводит в этот тип. При этом разные типы данных по разному возвращают истинны\n",
    "\"\"\"\n",
    "if 0:\n",
    "    print(\"0 - ложь\")\n",
    "elif 1:\n",
    "    print(\"1 - истинна\")\n",
    "    \n",
    "if \"0\":\n",
    "    print(\"А вот НЕ пустая строка всегда истинна\")\n",
    "if \"\":\n",
    "    print(\"А пустая - ложна\")\n",
    "    \n",
    "if [False]:\n",
    "    print(\"Аналогично с листами\")\n",
    "    \n",
    "if None:\n",
    "    print(\"None - всегда ложен\")\n",
    "\n",
    "a = None\n",
    "if a is None:\n",
    "    print(\"Но проверять какой-либо объект на None принято через is\")\n",
    "# is сравнивает объекты на идентичность, то есть на то, что они соответствуют одинаковым участкам память\n",
    "id(a) == id(None) # id - возвращаей уникальный айди объекта"
   ]
  },
  {
   "cell_type": "markdown",
   "metadata": {
    "pycharm": {
     "name": "#%% md\n"
    }
   },
   "source": [
    "### Циклы\n",
    "В питоне существуют 2 цикла, for и while\n",
    "#### Цикл for\n",
    "Формат:\n",
    "``` python\n",
    "for <переменная для итерирования> in <объект итерирования>:\n",
    "    <тело цикла>\n",
    "```\n",
    "Например:\n",
    "``` python\n",
    "for i in [1, 2, 3]:\n",
    "    print(i) # будет напечатано: 1\\n2\\n3\\n\n",
    "```\n",
    "Принимает на вход любой объект, по которому можно проитерироваться, будь то, например, лист или строка.  \n",
    "`range(<начало>, <конец>, <шаг>)` - генератор, что создаёт объект для итерации, синтаксис, по сути, как у слайсов "
   ]
  },
  {
   "cell_type": "code",
   "execution_count": 2,
   "metadata": {
    "pycharm": {
     "name": "#%% md\n"
    }
   },
   "outputs": [
    {
     "name": "stdout",
     "output_type": "stream",
     "text": [
      "I love python I love python I love python I love python I love python I love python I love python I love python I love python I love python \n",
      "0\n",
      "1\n",
      "2\n",
      "3\n",
      "0: H\n",
      "1: e\n",
      "2: l\n",
      "3: l\n",
      "4: o\n",
      "5: ,\n",
      "6:  \n",
      "7: W\n",
      "8: o\n",
      "9: r\n",
      "10: l\n",
      "11: d\n"
     ]
    }
   ],
   "source": [
    "for i in range(10):\n",
    "    print(\"I love python\", end = ' ') # end - аргумент print, \n",
    "    # который указывает какой символ будет поставлен в конце строки\n",
    "print()\n",
    "    \n",
    "for i in [1, 2, 3, 4]:\n",
    "    print(i-1)\n",
    "    \n",
    "# Для получения как самого объекта, так и его индекса можно использовать функцию enumerate:\n",
    "for idx, symbol in enumerate(\"Hello, World\"):\n",
    "    print(\"{}: {}\".format(idx, symbol)) # .format подставляет свои аргументы в {} в оригинальной строке"
   ]
  },
  {
   "cell_type": "markdown",
   "metadata": {},
   "source": [
    "#### Цикл While\n",
    "Формат:\n",
    "``` python\n",
    "while <Условие>:\n",
    "    <тело цикла>\n",
    "```\n",
    "Например:\n",
    "``` python\n",
    "idx = 0\n",
    "while idx < 3:\n",
    "    print(idx, end=' ') # 0 1 2 \n",
    "```\n",
    "Цикл while выполняется, пока условие истинно. Как и с if, можно неявно приводить к логическому типу:"
   ]
  },
  {
   "cell_type": "code",
   "execution_count": 5,
   "metadata": {},
   "outputs": [
    {
     "name": "stdout",
     "output_type": "stream",
     "text": [
      "6, 5, 4, 3, 2, 1, "
     ]
    }
   ],
   "source": [
    "list_ = [1, 2, 3, 4, 5, 6]\n",
    "while list_:\n",
    "    # .pop() - метод листов, который удаляет последний элемент листа и возвращает его\n",
    "    print(list_.pop(), end = \", \")"
   ]
  },
  {
   "cell_type": "markdown",
   "metadata": {},
   "source": [
    "### Другие способы контролирования потока \n",
    "#### Break\n",
    "Инструкция `break` позволяет выйти из ближайщего цикла"
   ]
  },
  {
   "cell_type": "code",
   "execution_count": 8,
   "metadata": {},
   "outputs": [
    {
     "name": "stdout",
     "output_type": "stream",
     "text": [
      "0 1 2 3 4 5 "
     ]
    }
   ],
   "source": [
    "for i in range(10):\n",
    "    print(i, end = \" \")\n",
    "    if i == 5:\n",
    "        break"
   ]
  },
  {
   "cell_type": "markdown",
   "metadata": {},
   "source": [
    "#### Continue\n",
    "Позволяет пропустить остаток кода в цикле и сразу перейти к следующей итерации"
   ]
  },
  {
   "cell_type": "code",
   "execution_count": 10,
   "metadata": {},
   "outputs": [
    {
     "name": "stdout",
     "output_type": "stream",
     "text": [
      "1 3 5 7 9 "
     ]
    }
   ],
   "source": [
    "for i in range(10):\n",
    "    if i % 2 == 0:\n",
    "        continue\n",
    "    print(i, end = ' ')"
   ]
  },
  {
   "cell_type": "markdown",
   "metadata": {},
   "source": [
    "#### Pass\n",
    "Буквально ничего не делает. В основном используется для отладки"
   ]
  },
  {
   "cell_type": "code",
   "execution_count": 2,
   "metadata": {},
   "outputs": [
    {
     "name": "stdout",
     "output_type": "stream",
     "text": [
      "0123456789"
     ]
    }
   ],
   "source": [
    "for i in range(10):\n",
    "    if i % 2 == 0:\n",
    "        pass\n",
    "    print(i, end = '')"
   ]
  },
  {
   "cell_type": "markdown",
   "metadata": {},
   "source": [
    "## Ввод через консоль\n",
    "Для ввода данных в программу используется функция input(), которая считывает строку до пробела"
   ]
  },
  {
   "cell_type": "code",
   "execution_count": 4,
   "metadata": {},
   "outputs": [
    {
     "name": "stdout",
     "output_type": "stream",
     "text": [
      "2\n"
     ]
    },
    {
     "data": {
      "text/plain": [
       "'2'"
      ]
     },
     "execution_count": 4,
     "metadata": {},
     "output_type": "execute_result"
    }
   ],
   "source": [
    "a = input()\n",
    "a"
   ]
  },
  {
   "cell_type": "code",
   "execution_count": 5,
   "metadata": {},
   "outputs": [
    {
     "name": "stdout",
     "output_type": "stream",
     "text": [
      "13\n"
     ]
    },
    {
     "data": {
      "text/plain": [
       "13"
      ]
     },
     "execution_count": 5,
     "metadata": {},
     "output_type": "execute_result"
    }
   ],
   "source": [
    "# Чтобы получить на вход какое-либо значение другого типа, используете input вместе с соотвествующей функцией\n",
    "a = int(input()) # выдаст Int\n",
    "a"
   ]
  },
  {
   "cell_type": "code",
   "execution_count": 6,
   "metadata": {},
   "outputs": [
    {
     "name": "stdout",
     "output_type": "stream",
     "text": [
      "23 1 2 3 1 \n"
     ]
    },
    {
     "data": {
      "text/plain": [
       "['23', '1', '2', '3', '1']"
      ]
     },
     "execution_count": 6,
     "metadata": {},
     "output_type": "execute_result"
    }
   ],
   "source": [
    "# Если необходимо ввести несколько значений, можно использовать split(), который делит строку \n",
    "# на массив строк по пробелам\n",
    "a = input().split()\n",
    "a"
   ]
  }
 ],
 "metadata": {
  "kernelspec": {
   "display_name": "Python 3",
   "language": "python",
   "name": "python3"
  },
  "language_info": {
   "codemirror_mode": {
    "name": "ipython",
    "version": 3
   },
   "file_extension": ".py",
   "mimetype": "text/x-python",
   "name": "python",
   "nbconvert_exporter": "python",
   "pygments_lexer": "ipython3",
   "version": "3.8.10"
  }
 },
 "nbformat": 4,
 "nbformat_minor": 1
}
