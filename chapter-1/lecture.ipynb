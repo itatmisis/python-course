{
 "cells": [
  {
   "cell_type": "markdown",
   "metadata": {
    "collapsed": true,
    "pycharm": {
     "name": "#%% md\n"
    }
   },
   "source": [
    "### Установка Jupyter Notebook\n",
    "``` bash\n",
    "pip install notebook\n",
    "jupyter notebook\n",
    "```\n"
   ]
  },
  {
   "cell_type": "markdown",
   "source": [
    "### Питон как калькулятор\n",
    "Вместе со стандартным пакетом python поставляется интерактивная консоль,\n",
    "которая позволяет в реальном времени взаимодействовать с интерпретатором питона.\n",
    "``` bash\n",
    "# Запуск консоли\n",
    "$ python    # Или python3\n",
    "Python 3.8.10 (default, Jun  2 2021, 10:49:15)\n",
    "[GCC 9.4.0] on linux\n",
    "Type \"help\", \"copyright\", \"credits\" or \"license\" for more information.\n",
    ">>> 4 + 1 # Консоль можно использовать как калькулятор\n",
    "5\n",
    ">>> print(\"Hello world\") # Или просто писать в ней код\n",
    "Hello world\n",
    ">>> 84 ** 2 - 1 / 4 * 3.1415\n",
    "7055.214625\n",
    "```"
   ],
   "metadata": {
    "collapsed": false
   }
  },
  {
   "cell_type": "markdown",
   "source": [
    "### Термины\n",
    "Литерал - запись в исходном коде компьютерной программы, представляющая собой фиксированное значение.\n",
    "``` python\n",
    "2 # литерал целочисленного типа int, представляющего число 2\n",
    "\"Hello\" # литерал строкового типа, представляющего слово \"Hello\"\n",
    "0x42 # тоже литерал целочисленного типа int, но уже в 16-ричной записи,\n",
    "# 0x42 - 66 в десятичной\n",
    "```\n",
    "Конструктор - метод, который создаёт некий объект, например:\n",
    "``` python\n",
    ">>> a = int() # int() создаёт обьект типа int и даёт ему значение 0\n",
    ">>> a\n",
    "0\n",
    "```\n",
    "Конструктор типов данных позволяет конвертировать один типов данных в другой:\n",
    "`int(4.0)` - переведёт 4.0 в 4.\n",
    "\n",
    "### Типы данных\n",
    "Основные типы данных:\n",
    "1. Int - целочисленный тип.<br>\n",
    "Литералы:\n",
    "- 10-ичные числа: `0, 42, -5, 100, 500_200`\n",
    "- 16-ичные числа: `0x42, 0x00, 0xf2`\n",
    "- 8-ичные числа: `0o42, 0o74`\n",
    "- 2-ичные числа: `0b101, 0b10101` <br>\n",
    "Конструктор: <br>\n",
    "`int()`"
   ],
   "metadata": {
    "collapsed": false,
    "pycharm": {
     "name": "#%% md\n"
    }
   }
  },
  {
   "cell_type": "code",
   "source": [
    "a = 0b1001\n",
    "b = 4 * 9 # можно сразу присваивать выражение\n",
    "c = 10 // 3 # // - целочисленное деление\n",
    "d = 0x42\n",
    "a, b, c, d"
   ],
   "metadata": {
    "collapsed": false,
    "pycharm": {
     "name": "#%%\n"
    }
   },
   "execution_count": 14,
   "outputs": [
    {
     "data": {
      "text/plain": "(9, 36, 3, 66)"
     },
     "execution_count": 14,
     "metadata": {},
     "output_type": "execute_result"
    }
   ]
  },
  {
   "cell_type": "markdown",
   "source": [
    "2. Float - число с плавающей точкой\n",
    "Литералы:\n",
    "- Через точку: `0.52, 52.44`\n",
    "- Через экспоненциальную запись: `4e3` <br>\n",
    "Конструктор: <br>\n",
    "`float()`"
   ],
   "metadata": {
    "collapsed": false,
    "pycharm": {
     "name": "#%% md\n"
    }
   }
  },
  {
   "cell_type": "code",
   "source": [
    "a = 4e3\n",
    "b = 4.2 * 9.1\n",
    "c = 22/7\n",
    "a, b, c"
   ],
   "metadata": {
    "collapsed": false,
    "pycharm": {
     "name": "#%%\n"
    }
   },
   "execution_count": 16,
   "outputs": [
    {
     "data": {
      "text/plain": "(4000.0, 38.22, 3.142857142857143)"
     },
     "execution_count": 16,
     "metadata": {},
     "output_type": "execute_result"
    }
   ]
  },
  {
   "cell_type": "markdown",
   "source": [
    "3. Bool - логический тип, может принимать только True(правда) или False(ложь)\n",
    "Литералы:\n",
    "True и False\n",
    "Конструктор:\n",
    "bool()"
   ],
   "metadata": {
    "collapsed": false
   }
  },
  {
   "cell_type": "code",
   "source": [
    "a = True\n",
    "b = False\n",
    "c = b or a # or - дизъюнкция, логическое ИЛИ\n",
    "a, b, c"
   ],
   "metadata": {
    "collapsed": false,
    "pycharm": {
     "name": "#%%\n"
    }
   },
   "execution_count": 18,
   "outputs": [
    {
     "data": {
      "text/plain": "(True, False, True)"
     },
     "execution_count": 18,
     "metadata": {},
     "output_type": "execute_result"
    }
   ]
  },
  {
   "cell_type": "markdown",
   "source": [
    "В питоне существует два типа данных, mutable(изменяемый) и immutable(неизменяемые)\n",
    "Неизменяемые типы данных не могут быть изменены и поэтому, при"
   ],
   "metadata": {
    "collapsed": false,
    "pycharm": {
     "name": "#%% md\n"
    }
   }
  }
 ],
 "metadata": {
  "kernelspec": {
   "display_name": "Python 3",
   "language": "python",
   "name": "python3"
  },
  "language_info": {
   "codemirror_mode": {
    "name": "ipython",
    "version": 2
   },
   "file_extension": ".py",
   "mimetype": "text/x-python",
   "name": "python",
   "nbconvert_exporter": "python",
   "pygments_lexer": "ipython2",
   "version": "2.7.6"
  }
 },
 "nbformat": 4,
 "nbformat_minor": 0
}