{
 "cells": [
  {
   "cell_type": "code",
   "execution_count": null,
   "source": [
    "greeting = \"Hello World!\"\n",
    "print(greeting)"
   ],
   "outputs": [
    {
     "output_type": "stream",
     "name": "stdout",
     "text": [
      "Hello World!\n"
     ]
    }
   ],
   "metadata": {}
  },
  {
   "cell_type": "code",
   "execution_count": null,
   "source": [
    "apples = 10"
   ],
   "outputs": [],
   "metadata": {}
  },
  {
   "cell_type": "code",
   "execution_count": null,
   "source": [
    "print(apples, 2, 10)"
   ],
   "outputs": [
    {
     "output_type": "stream",
     "name": "stdout",
     "text": [
      "20\n"
     ]
    }
   ],
   "metadata": {}
  },
  {
   "cell_type": "code",
   "execution_count": null,
   "source": [
    "apples, \"Hello world\""
   ],
   "outputs": [
    {
     "output_type": "execute_result",
     "data": {
      "text/plain": [
       "(20, 'Hello world')"
      ]
     },
     "metadata": {},
     "execution_count": 20
    }
   ],
   "metadata": {}
  },
  {
   "cell_type": "code",
   "execution_count": null,
   "source": [
    "apples = 15"
   ],
   "outputs": [],
   "metadata": {}
  },
  {
   "cell_type": "markdown",
   "source": [
    "### Типы данных\n",
    "Основные типы данных:\n",
    "1. Int - целочисленный тип.<br>"
   ],
   "metadata": {
    "pycharm": {
     "name": "#%% md\n"
    }
   }
  },
  {
   "cell_type": "code",
   "execution_count": null,
   "source": [
    "a = 9\n",
    "b = 4 * 10 # можно сразу присваивать выражение\n",
    "c = 10 - 3 \n",
    "d = 66\n",
    "a, b, c, d"
   ],
   "outputs": [
    {
     "output_type": "execute_result",
     "data": {
      "text/plain": [
       "(9, 40, 7, 66)"
      ]
     },
     "metadata": {},
     "execution_count": 21
    }
   ],
   "metadata": {
    "pycharm": {
     "name": "#%%\n"
    }
   }
  },
  {
   "cell_type": "code",
   "execution_count": 1,
   "source": [
    "# Операторы\n",
    "# Cложения и вычитания\n",
    "2 + 1, 9 - 4"
   ],
   "outputs": [
    {
     "data": {
      "text/plain": "(3, 5)"
     },
     "execution_count": 1,
     "metadata": {},
     "output_type": "execute_result"
    }
   ],
   "metadata": {}
  },
  {
   "cell_type": "code",
   "execution_count": 2,
   "source": [
    "# Умножения и целочисленного деления\n",
    "a = 8*2\n",
    "b = 10 // 3\n",
    "# Существует также обычное деление, \n",
    "# но оно всегда возвращает тип float\n",
    "c = 10 / 2\n",
    "a, b, c"
   ],
   "outputs": [
    {
     "data": {
      "text/plain": "(16, 3, 5.0)"
     },
     "execution_count": 2,
     "metadata": {},
     "output_type": "execute_result"
    }
   ],
   "metadata": {}
  },
  {
   "cell_type": "code",
   "execution_count": null,
   "source": [
    "# Взятия остатка и возведения в степень\n",
    "10 % 3, 9**3"
   ],
   "outputs": [
    {
     "output_type": "execute_result",
     "data": {
      "text/plain": [
       "(1, 8)"
      ]
     },
     "metadata": {},
     "execution_count": 27
    }
   ],
   "metadata": {}
  },
  {
   "cell_type": "markdown",
   "source": [
    "2. Float - число с плавающей точкой  "
   ],
   "metadata": {
    "pycharm": {
     "name": "#%% md\n"
    }
   }
  },
  {
   "cell_type": "code",
   "execution_count": null,
   "source": [
    "a = 4000.0\n",
    "b = 4.2 * 9.1\n",
    "c = 22.0/7\n",
    "a, b, c"
   ],
   "outputs": [
    {
     "output_type": "execute_result",
     "data": {
      "text/plain": [
       "(4000.0, 38.22, 3.142857142857143)"
      ]
     },
     "metadata": {},
     "execution_count": 29
    }
   ],
   "metadata": {
    "pycharm": {
     "name": "#%%\n"
    }
   }
  },
  {
   "cell_type": "code",
   "execution_count": null,
   "source": [
    "# У Float операторы аналогичны операторам int, за исключением:\n",
    "# Деление\n",
    "10.0 / 3.0"
   ],
   "outputs": [
    {
     "output_type": "execute_result",
     "data": {
      "text/plain": [
       "5.0"
      ]
     },
     "metadata": {},
     "execution_count": 30
    }
   ],
   "metadata": {}
  },
  {
   "cell_type": "markdown",
   "source": [
    "3. Bool - логический тип, может принимать только True(правда) или False(ложь)  "
   ],
   "metadata": {}
  },
  {
   "cell_type": "code",
   "execution_count": null,
   "source": [
    "a = True\n",
    "b = False\n",
    "c = b or a # or - дизъюнкция, логическое ИЛИ\n",
    "a, b, c"
   ],
   "outputs": [
    {
     "output_type": "execute_result",
     "data": {
      "text/plain": [
       "(True, False, True)"
      ]
     },
     "metadata": {},
     "execution_count": 31
    }
   ],
   "metadata": {
    "pycharm": {
     "name": "#%%\n"
    }
   }
  },
  {
   "cell_type": "code",
   "execution_count": null,
   "source": [
    "# Операторы\n",
    "a = True or False # дизъюнкция, логическое ИЛИ\n",
    "b = True and False # конъюнкция, логическо И\n",
    "c = not True # логическое отрицание\n",
    "\n",
    "a, b, c"
   ],
   "outputs": [
    {
     "output_type": "execute_result",
     "data": {
      "text/plain": [
       "(True, True, False, True)"
      ]
     },
     "metadata": {},
     "execution_count": 14
    }
   ],
   "metadata": {}
  },
  {
   "cell_type": "markdown",
   "source": [
    "![image-2.png](attachment:image-2.png)"
   ],
   "metadata": {
    "collapsed": true,
    "pycharm": {
     "name": "#%% md\n"
    }
   },
   "attachments": {
    "image-2.png": {
     "image/png": "[encoded data removed]"
    }
   }
  },
  {
   "cell_type": "markdown",
   "source": [
    "4. Str - строковый тип, может быть любой длины. (питон не имеет символьный тип)  "
   ],
   "metadata": {
    "pycharm": {
     "name": "#%% md\n"
    }
   }
  },
  {
   "cell_type": "code",
   "execution_count": null,
   "source": [
    "a = \"Hello, 'my' World\" # Записывается через кавычки, как одинарные и двойные, так и тройные\n",
    "b = 'Hello, \"User\"' # можно миксовать кавычки\n",
    "c = \"\"\"Very\n",
    "Long\n",
    "Text\n",
    "\"\"\" # Тройные кавычки позволяют писать длинно\n",
    "d = \"Very\\n\" \\\n",
    "    \"Long\\n\" \\\n",
    "    \"Text\\n\" # Хотя можно просто использовать \\ для переноса\n",
    "a, b, c, d"
   ],
   "outputs": [
    {
     "output_type": "execute_result",
     "data": {
      "text/plain": [
       "('Hello, World', 'Hello, \"User\"', 'Very\\nLong\\nText\\n', 'Very\\nLong\\nText\\n')"
      ]
     },
     "metadata": {},
     "execution_count": 35
    }
   ],
   "metadata": {
    "pycharm": {
     "name": "#%%\n"
    }
   }
  },
  {
   "cell_type": "code",
   "execution_count": null,
   "source": [
    "# Операторы\n",
    "a = \"Hello\" + \" World\" # конкатенация, то есть сложение строк \n",
    "a"
   ],
   "outputs": [
    {
     "output_type": "execute_result",
     "data": {
      "text/plain": [
       "'Hello World'"
      ]
     },
     "metadata": {},
     "execution_count": 34
    }
   ],
   "metadata": {}
  },
  {
   "cell_type": "markdown",
   "source": [
    "5. List - динамический массив данных, который может быть любой длины, длина может увеличиваться, элементы можно удалять, также может иметь любые и разные типы данных внутри  "
   ],
   "metadata": {}
  },
  {
   "cell_type": "code",
   "execution_count": null,
   "source": [
    "a = [43, 2]\n",
    "b = []\n",
    "c = [\"Hello\", 7.3]\n",
    "a, b, c"
   ],
   "outputs": [
    {
     "output_type": "execute_result",
     "data": {
      "text/plain": [
       "([43, 2], [], ['Hello', 73.0])"
      ]
     },
     "metadata": {},
     "execution_count": 37
    }
   ],
   "metadata": {}
  },
  {
   "cell_type": "code",
   "execution_count": null,
   "source": [
    "# Операторы\n",
    "a = [2, 3] + [1, 2] # контатенация листов\n",
    "b = len([4, 3, 2]) # взятие длины(релевантно и для строк)\n",
    "c = len(\"Hello, World\")\n",
    "a, b, c"
   ],
   "outputs": [
    {
     "output_type": "execute_result",
     "data": {
      "text/plain": [
       "([2, 3, 1, 2], 3, 12)"
      ]
     },
     "metadata": {},
     "execution_count": 40
    }
   ],
   "metadata": {}
  },
  {
   "cell_type": "code",
   "execution_count": null,
   "source": [
    "# Слайсы и индексации\n",
    "# Индексация - взятие отдельного элемента по его индексу\n",
    "# Нумерация всегда начинается с нуля\n",
    "a = \"Hello, World\"\n",
    "b = [9, 8, 7, 6]\n",
    "a[0], b[2] # 0 элемент в \"Hello Wolrd - H, второй в 9, 8, 7, 6 - 7\""
   ],
   "outputs": [
    {
     "output_type": "execute_result",
     "data": {
      "text/plain": [
       "('H', 7)"
      ]
     },
     "metadata": {},
     "execution_count": 41
    }
   ],
   "metadata": {}
  },
  {
   "cell_type": "code",
   "execution_count": null,
   "source": [
    "# Слайсинг - получение подлиста или подстроки. \n",
    "# Формат: [начальный индекс : конечный (не включая) : шаг]\n",
    "# Например, нам нужно получить только слово Hello в \"Hello, World\"\n",
    "# , тогда начинаем с 0, заканчиваем 5 (0, 1, 2, 3, 4)\n",
    "a = \"Hello, World\"\n",
    "a[0:5]"
   ],
   "outputs": [
    {
     "output_type": "execute_result",
     "data": {
      "text/plain": [
       "'H'"
      ]
     },
     "metadata": {},
     "execution_count": 44
    }
   ],
   "metadata": {}
  },
  {
   "cell_type": "code",
   "execution_count": null,
   "source": [
    "a = \"Hello, World\"\n",
    "a[:5] # Пустой первый аргумент автоматически заменяется на 0"
   ],
   "outputs": [
    {
     "output_type": "execute_result",
     "data": {
      "text/plain": [
       "', World'"
      ]
     },
     "metadata": {},
     "execution_count": 47
    }
   ],
   "metadata": {}
  },
  {
   "cell_type": "code",
   "execution_count": null,
   "source": [
    "a[::2]"
   ],
   "outputs": [
    {
     "output_type": "execute_result",
     "data": {
      "text/plain": [
       "'Hlo ol'"
      ]
     },
     "metadata": {},
     "execution_count": 51
    }
   ],
   "metadata": {}
  },
  {
   "cell_type": "code",
   "execution_count": null,
   "source": [
    "# Отрицательные индекс считает с конца, \n",
    "# то есть заменяется на len(a) - 5, что равно 7\n",
    "\n",
    "a[-5:], a[7:]"
   ],
   "outputs": [
    {
     "output_type": "execute_result",
     "data": {
      "text/plain": [
       "('World', 'World')"
      ]
     },
     "metadata": {},
     "execution_count": 50
    }
   ],
   "metadata": {}
  },
  {
   "cell_type": "code",
   "execution_count": null,
   "source": [
    "a[::-1] # Такая запись повзоляет перевернуть строчку или лист"
   ],
   "outputs": [
    {
     "output_type": "execute_result",
     "data": {
      "text/plain": [
       "('Hello, World', 'dlroW ,olleH')"
      ]
     },
     "metadata": {},
     "execution_count": 54
    }
   ],
   "metadata": {}
  },
  {
   "cell_type": "markdown",
   "source": [
    "``` sh\n",
    "+---+---+---+---+---+---+---+---+---+---+---+---+\n",
    "| P | y | t | h | o | n | P | y | t | h | o | n |\n",
    "+---+---+---+---+---+---+---+---+---+---+---+---+\n",
    " -6  -5  -4  -3  -2  -1   0   1   2   3   4   5\n",
    "```"
   ],
   "metadata": {}
  },
  {
   "cell_type": "markdown",
   "source": [
    "Типы данных питона можно разделить на mutable (изменяемый) и immutable (неизменяемые)  \n",
    "Неизменяемые типы данных не могут быть изменены и поэтому всегда пересоздаются при изменение  \n",
    "Изменяемые же могут изменяться  \n",
    "Неизменяемые: int, float, str и т.д.  \n",
    "Изменяемые: list и т.д."
   ],
   "metadata": {}
  },
  {
   "cell_type": "code",
   "execution_count": null,
   "source": [
    "a = \"Hello, World\"\n",
    "# a[2] = \"4\" # Выдаст ошибку, потому что str - неизменяемый"
   ],
   "outputs": [],
   "metadata": {}
  },
  {
   "cell_type": "code",
   "execution_count": null,
   "source": [
    "b  = ['H', 'e', 'l', 'l', 'o', ',', ' ', 'W', 'o', 'l', 'r', 'd']\n",
    "b[4] = \"a\" # Не выдаст ошибку, потоу что list - изменяемый\n",
    "b"
   ],
   "outputs": [
    {
     "output_type": "execute_result",
     "data": {
      "text/plain": [
       "['H', 'e', 'l', 'l', 'a', ',', ' ', 'W', 'o', 'l', 'r', 'd']"
      ]
     },
     "metadata": {},
     "execution_count": 59
    }
   ],
   "metadata": {}
  },
  {
   "cell_type": "code",
   "execution_count": null,
   "source": [
    "a = 10\n",
    "a += 15\n",
    "a"
   ],
   "outputs": [
    {
     "output_type": "execute_result",
     "data": {
      "text/plain": [
       "15"
      ]
     },
     "metadata": {},
     "execution_count": 60
    }
   ],
   "metadata": {}
  },
  {
   "cell_type": "markdown",
   "source": [
    "### Ещё операторы\n",
    "Помимо выше указанных операторов также существуют:\n",
    "- `==` - оператор равенства. Пример: `3 == 3.0` вернёт `True`\n",
    "- `!=` - оператор неравенства(== наоборот). Пример: `10 != 2` вернёт `True`\n",
    "- `>`, `<` - больше и меньше соотвественно\n",
    "- `>=`, `<=` - больше, либо равно и меньше, либо равно\n",
    "- `is` - оператор идентичности. В отличие от `==` проверяет, что 2 объекта являются одним и тем же, то есть ссылаются на один и тот же блок памяти. "
   ],
   "metadata": {}
  },
  {
   "cell_type": "code",
   "execution_count": null,
   "source": [
    "# Пример работы is\n",
    "a = 257\n",
    "b = 257\n",
    "a is b, a == b"
   ],
   "outputs": [
    {
     "output_type": "execute_result",
     "data": {
      "text/plain": [
       "True"
      ]
     },
     "metadata": {},
     "execution_count": 63
    }
   ],
   "metadata": {}
  },
  {
   "cell_type": "markdown",
   "source": [
    "### Условные операторы и циклы\n",
    "Для управлением работы скрипта используются условные операторы, которые заставляют программу что-либо делать при каком-либо условие.  \n",
    "Формат:\n",
    "``` python\n",
    "if <условие>:\n",
    "    <блок кода> # Выполниться, если условие выше истинно\n",
    "[elif <условие>:\n",
    "    <блок кода>] # Выполниться, если выше условия НЕ истинны, а это истинно\n",
    "[else:\n",
    "    <блок кода>] # Выполниться, если все условия выше НЕ истинны\n",
    "```"
   ],
   "metadata": {}
  },
  {
   "cell_type": "code",
   "execution_count": null,
   "source": [
    "# Примеры \n",
    "name_is = False\n",
    "if name_is:\n",
    "    print(\"Hi, Peter\")\n",
    "else:\n",
    "    print(\"Hi, User\")"
   ],
   "outputs": [
    {
     "output_type": "stream",
     "name": "stdout",
     "text": [
      "Hi, User\n"
     ]
    }
   ],
   "metadata": {}
  },
  {
   "cell_type": "code",
   "execution_count": null,
   "source": [
    "a = 2 + 2\n",
    "if a == 4:\n",
    "    print(\"We live in society\")\n",
    "elif a == 5:\n",
    "    print(\"We live in oceania\")\n",
    "else:\n",
    "    print(\"???\")"
   ],
   "outputs": [
    {
     "output_type": "stream",
     "name": "stdout",
     "text": [
      "We live in society\n"
     ]
    }
   ],
   "metadata": {}
  },
  {
   "cell_type": "code",
   "execution_count": null,
   "source": [
    "\"\"\"\n",
    "Работайте с if осторожно, если на вход подаётся тип данных, \n",
    "отличный от bool, происходит перевод к bool. \n",
    "При этом разные типы данных по разному возвращают истинность\n",
    "\"\"\"\n",
    "if 0:\n",
    "    print(\"0 - ложь\")\n",
    "elif 1:\n",
    "    print(\"1 - истинна\")"
   ],
   "outputs": [
    {
     "output_type": "stream",
     "name": "stdout",
     "text": [
      "1 - истинна\n"
     ]
    }
   ],
   "metadata": {}
  },
  {
   "cell_type": "code",
   "execution_count": null,
   "source": [
    "if \"False\":\n",
    "    print(\"А вот НЕ пустая строка всегда истинна\")\n",
    "if \"\":\n",
    "    print(\"А пустая - ложна\")"
   ],
   "outputs": [
    {
     "output_type": "stream",
     "name": "stdout",
     "text": [
      "А вот НЕ пустая строка всегда истинна\n"
     ]
    }
   ],
   "metadata": {}
  },
  {
   "cell_type": "code",
   "execution_count": null,
   "source": [
    "if [False]:\n",
    "    print(\"Аналогично с листами\")\n",
    "if []:\n",
    "    print(\"Не сработает\")"
   ],
   "outputs": [
    {
     "output_type": "stream",
     "name": "stdout",
     "text": [
      "Аналогично с листами\n"
     ]
    }
   ],
   "metadata": {}
  },
  {
   "cell_type": "markdown",
   "source": [
    "### Циклы\n",
    "В питоне существуют 2 цикла, for и while\n",
    "#### Цикл for\n",
    "Формат:\n",
    "``` python\n",
    "for <переменная для итерирования> in <объект итерирования>:\n",
    "    <тело цикла>\n",
    "```\n",
    "Например:\n",
    "``` python\n",
    "for i in [1, 2, 3]:\n",
    "    print(i) # будет напечатано: 1\\n2\\n3\\n\n",
    "```\n",
    "Принимает на вход любой объект, по которому можно проитерироваться, будь то, например, лист или строка.  \n",
    "`range(<начало>, <конец>, <шаг>)` - генератор, что создаёт объект для итерации, синтаксис, по сути, как у слайсов "
   ],
   "metadata": {
    "pycharm": {
     "name": "#%% md\n"
    }
   }
  },
  {
   "cell_type": "code",
   "execution_count": null,
   "source": [
    "for i in range(10):\n",
    "    print(\"I love python\", end = ' ') # end - аргумент print, \n",
    "    # который указывает какой символ будет поставлен в конце строки"
   ],
   "outputs": [
    {
     "output_type": "stream",
     "name": "stdout",
     "text": [
      "I love python I love python I love python "
     ]
    }
   ],
   "metadata": {
    "pycharm": {
     "name": "#%% md\n"
    }
   }
  },
  {
   "cell_type": "code",
   "execution_count": null,
   "source": [
    "for i in [1, 2, 3, 4]:\n",
    "    print(i-1)"
   ],
   "outputs": [
    {
     "output_type": "stream",
     "name": "stdout",
     "text": [
      "0\n",
      "1\n",
      "2\n",
      "3\n",
      "4\n"
     ]
    }
   ],
   "metadata": {}
  },
  {
   "cell_type": "code",
   "execution_count": null,
   "source": [
    "# Для получения как самого объекта, так и его \n",
    "# индекса можно использовать функцию enumerate:\n",
    "for idx, symbol in enumerate(\"Hello, World\"):\n",
    "    print(idx, symbol, sep = ': ')"
   ],
   "outputs": [
    {
     "output_type": "stream",
     "name": "stdout",
     "text": [
      "0: H\n",
      "1: e\n",
      "2: l\n",
      "3: l\n",
      "4: o\n",
      "5: ,\n",
      "6:  \n",
      "7: W\n",
      "8: o\n",
      "9: r\n",
      "10: l\n",
      "11: d\n"
     ]
    }
   ],
   "metadata": {}
  },
  {
   "cell_type": "markdown",
   "source": [
    "#### Цикл While\n",
    "Формат:\n",
    "``` python\n",
    "while <Условие>:\n",
    "    <тело цикла>\n",
    "```\n",
    "Например:\n",
    "``` python\n",
    "idx = 0\n",
    "while idx < 3:\n",
    "    print(idx, end=' ') # 0 1 2 \n",
    "    idx+=1\n",
    "```\n",
    "Цикл while выполняется, пока условие истинно. Как и с if, можно неявно приводить к логическому типу:"
   ],
   "metadata": {}
  },
  {
   "cell_type": "code",
   "execution_count": null,
   "source": [
    "list_ = [1, 2, 3, 4, 5, 6]\n",
    "while list_:\n",
    "    # .pop() - метод листов, который удаляет последний \n",
    "    # элемент листа и возвращает его\n",
    "    print(list_.pop(), end = \", \")"
   ],
   "outputs": [
    {
     "output_type": "stream",
     "name": "stdout",
     "text": [
      "6, 5, 4, 3, 2, 1, "
     ]
    }
   ],
   "metadata": {}
  },
  {
   "cell_type": "markdown",
   "source": [
    "### Другие способы контролирования потока \n",
    "#### Break\n",
    "Инструкция `break` позволяет выйти из ближайщего цикла"
   ],
   "metadata": {}
  },
  {
   "cell_type": "code",
   "execution_count": null,
   "source": [
    "for i in range(10):\n",
    "    print(i, end = \" \")\n",
    "    if i == 5:\n",
    "        break"
   ],
   "outputs": [
    {
     "output_type": "stream",
     "name": "stdout",
     "text": [
      "0 1 2 3 4 5 6 7 8 "
     ]
    }
   ],
   "metadata": {}
  },
  {
   "cell_type": "markdown",
   "source": [
    "#### Continue\n",
    "Позволяет пропустить остаток кода в цикле и сразу перейти к следующей итерации"
   ],
   "metadata": {}
  },
  {
   "cell_type": "code",
   "execution_count": null,
   "source": [
    "for i in range(10):\n",
    "    if i % 2 == 0:\n",
    "        continue\n",
    "    print(i, end = ' ')"
   ],
   "outputs": [
    {
     "output_type": "stream",
     "name": "stdout",
     "text": [
      "1 3 5 7 9 "
     ]
    }
   ],
   "metadata": {}
  },
  {
   "cell_type": "markdown",
   "source": [
    "#### Pass\n",
    "Буквально ничего не делает. В основном используется для отладки"
   ],
   "metadata": {}
  },
  {
   "cell_type": "code",
   "execution_count": null,
   "source": [
    "for i in range(10):\n",
    "    if i % 2 == 0:\n",
    "        pass\n",
    "    print(i, end = '')"
   ],
   "outputs": [
    {
     "output_type": "stream",
     "name": "stdout",
     "text": [
      "0123456789"
     ]
    }
   ],
   "metadata": {}
  },
  {
   "cell_type": "markdown",
   "source": [
    "## Ввод через консоль\n",
    "Для ввода данных в программу используется функция input(), которая считывает строку до пробела"
   ],
   "metadata": {}
  },
  {
   "cell_type": "code",
   "execution_count": null,
   "source": [
    "a = input()\n",
    "a"
   ],
   "outputs": [
    {
     "output_type": "stream",
     "name": "stdout",
     "text": [
      "9\n"
     ]
    },
    {
     "output_type": "execute_result",
     "data": {
      "text/plain": [
       "'9'"
      ]
     },
     "metadata": {},
     "execution_count": 92
    }
   ],
   "metadata": {}
  },
  {
   "cell_type": "code",
   "execution_count": null,
   "source": [
    "# Чтобы получить на вход какое-либо значение другого \n",
    "# типа, используете input вместе с соотвествующей функцией\n",
    "a = int(input()) # выдаст Int\n",
    "a"
   ],
   "outputs": [
    {
     "output_type": "stream",
     "name": "stdout",
     "text": [
      "1\n"
     ]
    },
    {
     "output_type": "execute_result",
     "data": {
      "text/plain": [
       "1"
      ]
     },
     "metadata": {},
     "execution_count": 95
    }
   ],
   "metadata": {}
  },
  {
   "cell_type": "code",
   "execution_count": null,
   "source": [
    "# Если необходимо ввести несколько значений, \n",
    "# можно использовать split(), который делит строку \n",
    "# на массив строк по пробелам\n",
    "a = input()\n",
    "b = a.split()\n",
    "a, b"
   ],
   "outputs": [
    {
     "output_type": "stream",
     "name": "stdout",
     "text": [
      "2 3 5\n"
     ]
    },
    {
     "output_type": "execute_result",
     "data": {
      "text/plain": [
       "('2 3 5', ['2', '3', '5'])"
      ]
     },
     "metadata": {},
     "execution_count": 1
    }
   ],
   "metadata": {}
  },
  {
   "cell_type": "code",
   "execution_count": 163,
   "metadata": {},
   "outputs": [
    {
     "data": {
      "text/plain": [
       "[1, 4, 3, 2]"
      ]
     },
     "execution_count": 163,
     "metadata": {},
     "output_type": "execute_result"
    }
   ],
   "source": [
    "a = [1, 4, 3, 2]\n",
    "a"
   ]
  },
  {
   "cell_type": "markdown",
   "source": [],
   "metadata": {}
  }
 ],
 "metadata": {
  "kernelspec": {
   "name": "python3",
   "display_name": "Python 3.9.7 64-bit"
  },
  "language_info": {
   "codemirror_mode": {
    "name": "ipython",
    "version": 3
   },
   "file_extension": ".py",
   "mimetype": "text/x-python",
   "name": "python",
   "nbconvert_exporter": "python",
   "pygments_lexer": "ipython3",
   "version": "3.9.7"
  },
  "interpreter": {
   "hash": "b0fa6594d8f4cbf19f97940f81e996739fb7646882a419484c72d19e05852a7e"
  }
 },
 "nbformat": 4,
 "nbformat_minor": 1
}