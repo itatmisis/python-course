{
 "cells": [
  {
   "cell_type": "markdown",
   "id": "freelance-ethiopia",
   "metadata": {},
   "source": [
    "## Классы\n",
    "Класс - это шаблон для создания объектов\n",
    "\n",
    "Класс состоит из **членов**  \n",
    "Члены это:\n",
    "1. Методы - функции класса\n",
    "2. Поля - переменные класса\n",
    "Создание класса:\n",
    "```python\n",
    "class <название класса>:\n",
    "    <поля и методы класса>\n",
    "```"
   ]
  },
  {
   "cell_type": "code",
   "execution_count": 1,
   "id": "distant-reminder",
   "metadata": {},
   "outputs": [],
   "source": [
    "class A:\n",
    "    pass"
   ]
  },
  {
   "cell_type": "code",
   "execution_count": 2,
   "id": "authorized-nutrition",
   "metadata": {},
   "outputs": [],
   "source": [
    "a = A()"
   ]
  },
  {
   "cell_type": "code",
   "execution_count": 6,
   "id": "welcome-recommendation",
   "metadata": {},
   "outputs": [
    {
     "data": {
      "text/plain": [
       "(float, True)"
      ]
     },
     "execution_count": 6,
     "metadata": {},
     "output_type": "execute_result"
    }
   ],
   "source": [
    "# type - возвращает тип\n",
    "# isinstance(x, y) возвращает True если x принадлежит классу y\n",
    "type(1.0), isinstance('a', str)"
   ]
  },
  {
   "cell_type": "code",
   "execution_count": 22,
   "id": "moderate-measure",
   "metadata": {},
   "outputs": [],
   "source": [
    "class Student:\n",
    "    # __init__ - метод инициализации объекта \n",
    "    def __init__(self, name, age = 18):\n",
    "        self.name = name\n",
    "        self.age = age\n",
    "        \n",
    "        self.group = 'itam_python_courses'\n",
    "        \n",
    "    def return_age(self):\n",
    "        return self.age"
   ]
  },
  {
   "cell_type": "code",
   "execution_count": 57,
   "id": "seeing-assessment",
   "metadata": {},
   "outputs": [],
   "source": [
    "artem = Student('artem', 25)\n",
    "ivan = Student('ivan_xxx', 0)"
   ]
  },
  {
   "cell_type": "code",
   "execution_count": 35,
   "id": "musical-cycle",
   "metadata": {},
   "outputs": [],
   "source": [
    "class Student:\n",
    "    # данное поле - статическое\n",
    "    # статическое поле - доступное через имя класса\n",
    "    _count_students = 0\n",
    "    \n",
    "    \n",
    "    def __init__(self, name, age = 18):\n",
    "        self.name = name\n",
    "        self.age = age\n",
    "        Student._count_students += 1\n",
    "\n",
    "    # @staticmethod - делает метод статическим \n",
    "    @staticmethod\n",
    "    def amount():\n",
    "        return Student._count_students"
   ]
  },
  {
   "cell_type": "code",
   "execution_count": 53,
   "id": "surface-provision",
   "metadata": {},
   "outputs": [],
   "source": [
    "a, b, c = Student('peter'), Student('seva'), Student('michael')"
   ]
  },
  {
   "cell_type": "code",
   "execution_count": 60,
   "id": "seeing-norwegian",
   "metadata": {},
   "outputs": [
    {
     "data": {
      "text/plain": [
       "14"
      ]
     },
     "execution_count": 60,
     "metadata": {},
     "output_type": "execute_result"
    }
   ],
   "source": [
    "Student.amount()"
   ]
  },
  {
   "cell_type": "code",
   "execution_count": 62,
   "id": "talented-speaking",
   "metadata": {},
   "outputs": [],
   "source": [
    "class Student:\n",
    "    _count_students = 0\n",
    "    \n",
    "    \n",
    "    def __init__(self, name, age = 18):\n",
    "        self.name = name\n",
    "        self.age = age\n",
    "        Student._count_students+=1\n",
    "\n",
    "    # Через self можно обращаться к полям объекта\n",
    "    def return_data(self):\n",
    "        return self.name + \", \" + str(self.age)"
   ]
  },
  {
   "cell_type": "code",
   "execution_count": 63,
   "id": "looking-cinema",
   "metadata": {},
   "outputs": [],
   "source": [
    "a = Student('Ольга')"
   ]
  },
  {
   "cell_type": "code",
   "execution_count": 64,
   "id": "varying-contribution",
   "metadata": {},
   "outputs": [
    {
     "data": {
      "text/plain": [
       "'Ольга, 18'"
      ]
     },
     "execution_count": 64,
     "metadata": {},
     "output_type": "execute_result"
    }
   ],
   "source": [
    "a.return_data()"
   ]
  },
  {
   "cell_type": "code",
   "execution_count": 66,
   "id": "sharing-puzzle",
   "metadata": {},
   "outputs": [],
   "source": [
    "class Student:\n",
    "    _count_students = 0\n",
    "    \n",
    "    \n",
    "    def __init__(self, name, age = 18):\n",
    "        self.name = name\n",
    "        self.age = age\n",
    "        Student._count_students+=1\n",
    "\n",
    "    # Dunder or magic методы - методы с двумя _ в начале и в конце\n",
    "    # Эти методы обладают магическими свойствами\n",
    "    \n",
    "    # __str__ - применяется к обьекту при вызове str от него\n",
    "    def __str__(self):\n",
    "        return self.name + \", \" + str(self.age)"
   ]
  },
  {
   "cell_type": "code",
   "execution_count": 68,
   "id": "level-stevens",
   "metadata": {},
   "outputs": [
    {
     "data": {
      "text/plain": [
       "'Петер, 21'"
      ]
     },
     "execution_count": 68,
     "metadata": {},
     "output_type": "execute_result"
    }
   ],
   "source": [
    "a = Student('Петер', 21)\n",
    "str(a)"
   ]
  },
  {
   "cell_type": "markdown",
   "id": "korean-mitchell",
   "metadata": {},
   "source": [
    "## Инкапсуляция\n",
    "Механизм сокрытия, позволяющий разграничивать доступ к различным компонентам программы. "
   ]
  },
  {
   "cell_type": "code",
   "execution_count": 138,
   "id": "confirmed-cliff",
   "metadata": {},
   "outputs": [],
   "source": [
    "class Student:\n",
    "    _count_students = 0\n",
    "    \n",
    "    \n",
    "    def __init__(self, name, age = 18):\n",
    "        self.name = name\n",
    "        self.age = age\n",
    "        Student._count_students+=1\n",
    "\n",
    "    def __str__(self):\n",
    "        return self.name + \", \" + str(self.age)\n",
    "    \n",
    "    # public \n",
    "    def method_a(self):\n",
    "        self.d = 'a'\n",
    "        return 'a'\n",
    "    \n",
    "    # protected\n",
    "    def _method_b(self):\n",
    "        return 'b'\n",
    "    \n",
    "    # private\n",
    "    def __method_c(self):\n",
    "        return 'c'"
   ]
  },
  {
   "cell_type": "code",
   "execution_count": 142,
   "id": "residential-theory",
   "metadata": {},
   "outputs": [
    {
     "ename": "AttributeError",
     "evalue": "'Student' object has no attribute 'd'",
     "output_type": "error",
     "traceback": [
      "\u001b[0;31m---------------------------------------------------------------------------\u001b[0m",
      "\u001b[0;31mAttributeError\u001b[0m                            Traceback (most recent call last)",
      "\u001b[0;32m<ipython-input-142-2e258dff0750>\u001b[0m in \u001b[0;36m<module>\u001b[0;34m\u001b[0m\n\u001b[1;32m      1\u001b[0m \u001b[0ma\u001b[0m \u001b[0;34m=\u001b[0m \u001b[0mStudent\u001b[0m\u001b[0;34m(\u001b[0m\u001b[0;34m'Петер'\u001b[0m\u001b[0;34m,\u001b[0m \u001b[0;36m21\u001b[0m\u001b[0;34m)\u001b[0m\u001b[0;34m\u001b[0m\u001b[0;34m\u001b[0m\u001b[0m\n\u001b[1;32m      2\u001b[0m \u001b[0;31m# Сработает без проблем\u001b[0m\u001b[0;34m\u001b[0m\u001b[0;34m\u001b[0m\u001b[0;34m\u001b[0m\u001b[0m\n\u001b[0;32m----> 3\u001b[0;31m \u001b[0ma\u001b[0m\u001b[0;34m.\u001b[0m\u001b[0md\u001b[0m\u001b[0;34m\u001b[0m\u001b[0;34m\u001b[0m\u001b[0m\n\u001b[0m",
      "\u001b[0;31mAttributeError\u001b[0m: 'Student' object has no attribute 'd'"
     ]
    }
   ],
   "source": [
    "a = Student('Петер', 21)\n",
    "# Сработает без проблем\n",
    "a.d"
   ]
  },
  {
   "cell_type": "code",
   "execution_count": 72,
   "id": "authentic-representative",
   "metadata": {},
   "outputs": [
    {
     "data": {
      "text/plain": [
       "'b'"
      ]
     },
     "execution_count": 72,
     "metadata": {},
     "output_type": "execute_result"
    }
   ],
   "source": [
    "# Сработает без проблем, но большинство IDE подчеркнёт как ошибку\n",
    "a._method_b()"
   ]
  },
  {
   "cell_type": "code",
   "execution_count": 79,
   "id": "computational-fabric",
   "metadata": {},
   "outputs": [
    {
     "ename": "AttributeError",
     "evalue": "'Student' object has no attribute '__method_c'",
     "output_type": "error",
     "traceback": [
      "\u001b[0;31m---------------------------------------------------------------------------\u001b[0m",
      "\u001b[0;31mAttributeError\u001b[0m                            Traceback (most recent call last)",
      "\u001b[0;32m<ipython-input-79-0b2050dd638d>\u001b[0m in \u001b[0;36m<module>\u001b[0;34m\u001b[0m\n\u001b[1;32m      1\u001b[0m \u001b[0;31m# Не сработает\u001b[0m\u001b[0;34m\u001b[0m\u001b[0;34m\u001b[0m\u001b[0;34m\u001b[0m\u001b[0m\n\u001b[0;32m----> 2\u001b[0;31m \u001b[0ma\u001b[0m\u001b[0;34m.\u001b[0m\u001b[0m__method_c\u001b[0m\u001b[0;34m(\u001b[0m\u001b[0;34m)\u001b[0m\u001b[0;34m\u001b[0m\u001b[0;34m\u001b[0m\u001b[0m\n\u001b[0m",
      "\u001b[0;31mAttributeError\u001b[0m: 'Student' object has no attribute '__method_c'"
     ]
    }
   ],
   "source": [
    "# Не сработает\n",
    "a.__method_c()"
   ]
  },
  {
   "cell_type": "code",
   "execution_count": 80,
   "id": "conditional-supervision",
   "metadata": {},
   "outputs": [
    {
     "data": {
      "text/plain": [
       "'c'"
      ]
     },
     "execution_count": 80,
     "metadata": {},
     "output_type": "execute_result"
    }
   ],
   "source": [
    "# Но всё равно можно вызвать через <object>._<class_name><method_name>()\n",
    "a._Student__method_c()"
   ]
  },
  {
   "cell_type": "markdown",
   "id": "charitable-column",
   "metadata": {},
   "source": [
    "## Наследование\n",
    "Концепция объектно-ориентированного программирования, согласно которой абстрактный тип данных может наследовать данные и функциональность некоторого существующего типа, способствуя повторному использованию компонентов программного обеспечения.\n",
    "\n",
    "class <дочерний класс>(<родительский класс>)"
   ]
  },
  {
   "cell_type": "code",
   "execution_count": 107,
   "id": "demographic-trunk",
   "metadata": {},
   "outputs": [
    {
     "name": "stdout",
     "output_type": "stream",
     "text": [
      "Привет, мир!\n"
     ]
    }
   ],
   "source": [
    "class A:\n",
    "    def __init__(self):\n",
    "        print('Привет, мир!')\n",
    "        \n",
    "class B(A):\n",
    "    pass\n",
    "\n",
    "b = B()"
   ]
  },
  {
   "cell_type": "code",
   "execution_count": 108,
   "id": "split-disclaimer",
   "metadata": {},
   "outputs": [],
   "source": [
    "class C:\n",
    "    \n",
    "    # Члены можно переопределять\n",
    "    def __init__(self):\n",
    "        print(\"Привет, жестокий мир\")"
   ]
  },
  {
   "cell_type": "code",
   "execution_count": 109,
   "id": "spare-bench",
   "metadata": {},
   "outputs": [
    {
     "name": "stdout",
     "output_type": "stream",
     "text": [
      "Привет, жестокий мир\n"
     ]
    }
   ],
   "source": [
    "c = C()"
   ]
  },
  {
   "cell_type": "code",
   "execution_count": 116,
   "id": "pointed-young",
   "metadata": {},
   "outputs": [
    {
     "data": {
      "text/plain": [
       "(bool, int, object)"
      ]
     },
     "execution_count": 116,
     "metadata": {},
     "output_type": "execute_result"
    }
   ],
   "source": [
    "# issubclass(X, Y) возвращает True, если X - подкласса класса Y\n",
    "issubclass(C, A), issubclass(B, A)"
   ]
  },
  {
   "cell_type": "markdown",
   "id": "numerous-infection",
   "metadata": {},
   "source": [
    "## Полиморфизм\n",
    "Свойство системы, позволяющее использовать объекты с одинаковым интерфейсом без информации о типе и внутренней структуре объекта. "
   ]
  },
  {
   "cell_type": "code",
   "execution_count": 117,
   "id": "laughing-fourth",
   "metadata": {},
   "outputs": [
    {
     "name": "stdout",
     "output_type": "stream",
     "text": [
      "BARK\n",
      "MEOW\n"
     ]
    }
   ],
   "source": [
    "class Animal:\n",
    "    def __init__(self):\n",
    "        pass\n",
    "    \n",
    "    def bark(self):\n",
    "        pass\n",
    "    \n",
    "class Cat(Animal):\n",
    "    def bark(self):\n",
    "        return \"MEOW\"\n",
    "    \n",
    "\n",
    "class Dog(Animal):\n",
    "    def bark(self):\n",
    "        return \"BARK\"\n",
    "    \n",
    "\n",
    "def do_voice(animal):\n",
    "    print(animal.bark())\n",
    "    \n",
    "kraft = Dog()\n",
    "do_voice(kraft)\n",
    "\n",
    "mikki = Cat()\n",
    "do_voice(mikki)"
   ]
  },
  {
   "cell_type": "markdown",
   "id": "waiting-excellence",
   "metadata": {},
   "source": [
    "## Декораторы\n",
    "Это функции, оборачивающие другие функции"
   ]
  },
  {
   "cell_type": "code",
   "execution_count": 121,
   "id": "given-authentication",
   "metadata": {},
   "outputs": [
    {
     "name": "stdout",
     "output_type": "stream",
     "text": [
      "Elapsed time: 0.1904282569885254\n"
     ]
    }
   ],
   "source": [
    "# import - подключение библеотек, как #include c/с++\n",
    "import time \n",
    "\n",
    "\n",
    "def timeit(func):\n",
    "    def wrapper_func(*args, **kwargs):\n",
    "        start = time.time() # time.time текущее время в секундах отсчитывая c 1970 года\n",
    "        func(*args, **kwargs)\n",
    "        end = time.time()\n",
    "        print(f'Elapsed time: {end - start}')\n",
    "    return wrapper_func\n",
    "    \n",
    "    \n",
    "def count(a = 10_000_000):\n",
    "    for i in range(a):\n",
    "        pass\n",
    "    \n",
    "timed_count = timeit(count)\n",
    "timed_count(10_000_000)"
   ]
  },
  {
   "cell_type": "code",
   "execution_count": 145,
   "id": "alien-recipe",
   "metadata": {},
   "outputs": [
    {
     "data": {
      "text/plain": [
       "True"
      ]
     },
     "execution_count": 145,
     "metadata": {},
     "output_type": "execute_result"
    }
   ],
   "source": [
    "def f():\n",
    "    return True, False\n",
    "a, _ = f()\n",
    "a"
   ]
  }
 ],
 "metadata": {
  "kernelspec": {
   "display_name": "Python 3",
   "language": "python",
   "name": "python3"
  },
  "language_info": {
   "codemirror_mode": {
    "name": "ipython",
    "version": 3
   },
   "file_extension": ".py",
   "mimetype": "text/x-python",
   "name": "python",
   "nbconvert_exporter": "python",
   "pygments_lexer": "ipython3",
   "version": "3.8.10"
  }
 },
 "nbformat": 4,
 "nbformat_minor": 5
}
