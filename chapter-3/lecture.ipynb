{
 "cells": [
  {
   "cell_type": "markdown",
   "id": "bee23468-1be9-4f0f-8ba7-006d6add3b42",
   "metadata": {},
   "source": [
    "# Занятие 3. Исключения, контекстные менеджеры и пакеты"
   ]
  },
  {
   "cell_type": "markdown",
   "id": "7cb180eb",
   "metadata": {},
   "source": [
    "## Исключения"
   ]
  },
  {
   "cell_type": "markdown",
   "id": "ed6ccfac",
   "metadata": {},
   "source": [
    "Исключения - это объекты, вызываемые для остановки работы программы с сообщением о том, что произошла ошибка"
   ]
  },
  {
   "cell_type": "code",
   "execution_count": null,
   "id": "3c5fd426",
   "metadata": {},
   "outputs": [
    {
     "ename": "ZeroDivisionError",
     "evalue": "division by zero",
     "output_type": "error",
     "traceback": [
      "\u001b[1;31m---------------------------------------------------------------------------\u001b[0m\n",
      "\u001b[1;31mZeroDivisionError\u001b[0m                         Traceback (most recent call last)\n",
      "Cell \u001b[1;32mIn[1], line 1\u001b[0m\n",
      "\u001b[1;32m----> 1\u001b[0m \u001b[38;5;241;43m1\u001b[39;49m\u001b[43m \u001b[49m\u001b[38;5;241;43m/\u001b[39;49m\u001b[43m \u001b[49m\u001b[38;5;241;43m0\u001b[39;49m\n",
      "\n",
      "\u001b[1;31mZeroDivisionError\u001b[0m: division by zero"
     ]
    }
   ],
   "source": [
    "1 / 0"
   ]
  },
  {
   "cell_type": "code",
   "execution_count": null,
   "id": "0c8e0758",
   "metadata": {},
   "outputs": [
    {
     "name": "stdout",
     "output_type": "stream",
     "text": [
      "Введите положительное число:  16\n"
     ]
    },
    {
     "name": "stdout",
     "output_type": "stream",
     "text": [
      "4.0\n"
     ]
    }
   ],
   "source": [
    "positive_number = int(input(\"Введите положительное число: \"))\n",
    "if positive_number <= 0:\n",
    "    raise Exception(\"Я же просил положительное число :(\")\n",
    "print(positive_number ** (1 / 2))"
   ]
  },
  {
   "cell_type": "markdown",
   "id": "c354d490",
   "metadata": {},
   "source": [
    "### Классы исключений "
   ]
  },
  {
   "cell_type": "markdown",
   "id": "fbc4ff14",
   "metadata": {},
   "source": [
    "Исключения в Python являются классами ошибок. В Python есть много стандартных исключений. Они имеют определённую иерархию за счёт механизма наследования классов. Все исключения являются потомками базового класса BaseException"
   ]
  },
  {
   "cell_type": "markdown",
   "id": "488662c3",
   "metadata": {},
   "source": [
    "В документации Python версии 3.10.8 приводится следующее дерево иерархии стандартных исключений:\n",
    "![image.png](attachment:5979d1bb-fbaa-43b2-9742-960df7b13851.png)"
   ]
  },
  {
   "cell_type": "markdown",
   "id": "08edb506",
   "metadata": {},
   "source": [
    "### try-except-finally"
   ]
  },
  {
   "cell_type": "markdown",
   "id": "bc015f77",
   "metadata": {},
   "source": [
    "С помощью конструкции try-except-finally можно отлавливать и обрабатывать исключения в формате:\n",
    "\n",
    "```python\n",
    "try:\n",
    "    <code>\n",
    "except <exception1> as <err name>:\n",
    "    <code>\n",
    "except <exception2> as <err name>:\n",
    "    <code>\n",
    "else:\n",
    "    <code>  # выполняется, если не вызвано исключение в блоке try\n",
    "finally:\n",
    "    <code>  # выполняется всегда\n",
    "```"
   ]
  },
  {
   "cell_type": "code",
   "execution_count": null,
   "id": "328c61c6",
   "metadata": {},
   "outputs": [],
   "source": [
    "cities = {\"Saint-Petersburg\": 2, \"Kazan\": 2, \"Suzdal\": 1}\n",
    "try:\n",
    "    city = input()\n",
    "    print(f\"В городе {city} я был {cities[city]} раз\")\n",
    "except KeyError as err:\n",
    "    print(f\"В городе {city} я еще не был\")"
   ]
  },
  {
   "cell_type": "code",
   "execution_count": null,
   "id": "9493bf32",
   "metadata": {},
   "outputs": [
    {
     "name": "stdout",
     "output_type": "stream",
     "text": [
      "Введите положительное число:  2\n"
     ]
    },
    {
     "name": "stdout",
     "output_type": "stream",
     "text": [
      "0.7071067811865476\n",
      "Ошибка не произошла\n",
      "А я выполнюсь в любом случае\n"
     ]
    }
   ],
   "source": [
    "try:\n",
    "    positive_number = 1 / int(input(\"Введите положительное число: \"))  # а что если 0 или строка?\n",
    "    print(positive_number ** (1 / 2))\n",
    "except ZeroDivisionError:\n",
    "    print(\"Обработка ошибки деления на 0...\")\n",
    "except ValueError:\n",
    "    print(\"Обработка ошибки ввода строки...\")\n",
    "else:\n",
    "    print(\"Ошибка не произошла\")\n",
    "finally:  \n",
    "    print(\"А я выполнюсь в любом случае\")"
   ]
  },
  {
   "cell_type": "code",
   "execution_count": null,
   "id": "54d06717",
   "metadata": {},
   "outputs": [
    {
     "name": "stdout",
     "output_type": "stream",
     "text": [
      "Введите положительное число:  qw\n"
     ]
    },
    {
     "name": "stdout",
     "output_type": "stream",
     "text": [
      "Неизвестная ошибка...\n"
     ]
    }
   ],
   "source": [
    "try:\n",
    "    positive_number = 1 / int(input(\"Введите положительное число: \"))  # а что если 0 или строка?\n",
    "    print(positive_number ** (1 / 2))\n",
    "except BaseException:\n",
    "    print(\"Неизвестная ошибка...\")\n",
    "except ZeroDivisionError:\n",
    "    print(\"Обработка ошибки деления на 0...\")\n",
    "except ValueError:\n",
    "    print(\"Обработка ошибки ввода строки...\")"
   ]
  },
  {
   "cell_type": "code",
   "execution_count": null,
   "id": "60d84455",
   "metadata": {},
   "outputs": [
    {
     "name": "stdout",
     "output_type": "stream",
     "text": [
      "Введите положительное число:  0\n"
     ]
    },
    {
     "name": "stdout",
     "output_type": "stream",
     "text": [
      "Произошла ошибка:\n",
      "ZeroDivisionError: division by zero\n"
     ]
    }
   ],
   "source": [
    "try:\n",
    "    positive_number = 1 / int(input(\"Введите положительное число: \"))  # а что если 0 или строка?\n",
    "    print(positive_number ** (1 / 2))\n",
    "except ZeroDivisionError as err:\n",
    "    print(f\"Произошла ошибка:\\n{err.__class__.__name__}: {err}\")\n",
    "except ValueError as err:\n",
    "    print(f\"Произошла ошибка:\\n{err.__class__.__name__}: {err}\")\n",
    "except BaseException as err:\n",
    "    print(f\"Произошла ошибка:\\n{err.__class__.__name__}: {err}\")"
   ]
  },
  {
   "cell_type": "markdown",
   "id": "51081101",
   "metadata": {},
   "source": [
    "### Собственные исключения"
   ]
  },
  {
   "cell_type": "code",
   "execution_count": null,
   "id": "cfad3125",
   "metadata": {},
   "outputs": [
    {
     "name": "stdout",
     "output_type": "stream",
     "text": [
      "Введите имя администратора:  Peter\n"
     ]
    },
    {
     "name": "stdout",
     "output_type": "stream",
     "text": [
      "Peter - администратор курса\n"
     ]
    }
   ],
   "source": [
    "class NonAdminError(AttributeError):\n",
    "    def __str__(self):\n",
    "        return \"У вас нет доступа к этому функционалу\"\n",
    "\n",
    "admins = {\"Peter\", \"Yaroslav\", \"Artem\", \"Andrew\", \"Stepan\"}\n",
    "person = input(\"Введите имя администратора: \")\n",
    "if person not in admins:\n",
    "    raise NonAdminError\n",
    "print(person, \"- администратор курса\")"
   ]
  },
  {
   "cell_type": "markdown",
   "id": "0e5b4047-b41f-4573-8abe-52537fd6bdef",
   "metadata": {},
   "source": [
    "## Context manager"
   ]
  },
  {
   "cell_type": "markdown",
   "id": "c439d4e7-c83e-472c-aaf8-5ec6d165f0cd",
   "metadata": {},
   "source": [
    ">«Контекстные менеджеры в Python — это удивительный механизм, который позволяет гарантировать корректное управление ресурсами и обеспечивать безопасное выполнение кода.» — Гвидо ван Россум, великодушный пожизненный диктатор Python."
   ]
  },
  {
   "cell_type": "markdown",
   "id": "13067229-5719-456f-9d99-9209a4278cc8",
   "metadata": {},
   "source": [
    "### Работа с файлами"
   ]
  },
  {
   "cell_type": "code",
   "execution_count": 165,
   "id": "703bff85-b978-4fa1-be03-28a307980828",
   "metadata": {},
   "outputs": [
    {
     "data": {
      "text/plain": [
       "inf"
      ]
     },
     "execution_count": 165,
     "metadata": {},
     "output_type": "execute_result"
    }
   ],
   "source": [
    "def divide(a: float, b: float) -> float:\n",
    "    try:\n",
    "        return a / b\n",
    "    except ZeroDivisionError:\n",
    "        return float(\"inf\")\n",
    "\n",
    "\n",
    "divide(1, 0)"
   ]
  },
  {
   "cell_type": "code",
   "execution_count": 167,
   "id": "51d77e86-326e-43bd-b13b-052603feefb0",
   "metadata": {},
   "outputs": [
    {
     "name": "stdout",
     "output_type": "stream",
     "text": [
      "Hello\\nWorld!\n",
      "\n"
     ]
    }
   ],
   "source": [
    "file = open(\"example.txt\", \"r\")\n",
    "try:\n",
    "    # Действия с файлом\n",
    "    content = file.read()\n",
    "    print(content)\n",
    "finally:\n",
    "    file.close()"
   ]
  },
  {
   "cell_type": "code",
   "execution_count": 169,
   "id": "cdfde82d-3d95-47ce-8c1d-14857835d430",
   "metadata": {},
   "outputs": [
    {
     "name": "stdout",
     "output_type": "stream",
     "text": [
      "Hello\\nWorld!\n",
      "\n"
     ]
    }
   ],
   "source": [
    "with open(\"example.txt\", \"r\") as file:\n",
    "    content = file.read()\n",
    "    print(content)\n",
    "# --> file.close()"
   ]
  },
  {
   "cell_type": "markdown",
   "id": "9a599282-ed4c-4d59-b248-7d0168757c4e",
   "metadata": {},
   "source": [
    "### Работа с бд"
   ]
  },
  {
   "cell_type": "code",
   "execution_count": 180,
   "id": "80c20503-1db4-44f5-a47a-0d448daeaacd",
   "metadata": {},
   "outputs": [
    {
     "name": "stdout",
     "output_type": "stream",
     "text": [
      "[(1, 'a'), (2, 'teadove'), (3, 'tainella'), (4, 'teadove'), (5, 'tainella')]\n"
     ]
    }
   ],
   "source": [
    "import sqlite3\n",
    "\n",
    "# Пример работы с SQLite базой данных\n",
    "with sqlite3.connect(\"example.db\") as conn:\n",
    "    cursor = conn.cursor()\n",
    "    # Выполнение операций с базой данных\n",
    "    cursor.execute(\"CREATE TABLE IF NOT EXISTS user(id INTEGER PRIMARY KEY, name TEXT)\")\n",
    "    cursor.execute(\"INSERT INTO user(name) VALUES ('teadove'), ('tainella')\")\n",
    "    cursor.execute(\"SELECT * FROM user\")\n",
    "    result = cursor.fetchall()\n",
    "    print(result)"
   ]
  },
  {
   "cell_type": "markdown",
   "id": "b42b5bf0-a7e6-422a-b62f-513f8c36b556",
   "metadata": {},
   "source": [
    "### Свой контекстный менеджер"
   ]
  },
  {
   "cell_type": "markdown",
   "id": "593f3cad-5b5d-493e-a9a5-4c7078ff675f",
   "metadata": {},
   "source": [
    "Контекстный менеджер в Python должен содержать методы `__enter__` и `__exit__`.\n",
    "\n",
    "Метод `__enter__` выполняется перед выполнением блока кода внутри оператора with. Он может выполнять какие-либо подготовительные действия или возвращать значение, которое будет связано с переменной после ключевого слова as.\n",
    "\n",
    "Метод `__exit__` вызывается после завершения выполнения блока кода with. Он используется для выполнения завершающих действий, таких как освобождение ресурсов, обработка исключений или выполнение финализирующих операций."
   ]
  },
  {
   "cell_type": "code",
   "execution_count": 181,
   "id": "2aa714da-b364-40d7-a0b2-43d03185d08f",
   "metadata": {},
   "outputs": [
    {
     "ename": "NameError",
     "evalue": "name 'ContextManager' is not defined",
     "output_type": "error",
     "traceback": [
      "\u001b[0;31m---------------------------------------------------------------------------\u001b[0m",
      "\u001b[0;31mNameError\u001b[0m                                 Traceback (most recent call last)",
      "Cell \u001b[0;32mIn[181], line 10\u001b[0m\n\u001b[1;32m      6\u001b[0m     \u001b[38;5;28;01mdef\u001b[39;00m \u001b[38;5;21m__exit__\u001b[39m(\u001b[38;5;28mself\u001b[39m, exc_type, exc_value, exc_traceback): \n\u001b[1;32m      7\u001b[0m         \u001b[38;5;28mprint\u001b[39m(\u001b[38;5;124m'\u001b[39m\u001b[38;5;124mexit method called\u001b[39m\u001b[38;5;124m'\u001b[39m) \n\u001b[0;32m---> 10\u001b[0m \u001b[38;5;28;01mwith\u001b[39;00m \u001b[43mContextManager\u001b[49m() \u001b[38;5;28;01mas\u001b[39;00m manager: \n\u001b[1;32m     11\u001b[0m     \u001b[38;5;28mprint\u001b[39m(\u001b[38;5;124m'\u001b[39m\u001b[38;5;124mwith statement block\u001b[39m\u001b[38;5;124m'\u001b[39m) \n",
      "\u001b[0;31mNameError\u001b[0m: name 'ContextManager' is not defined"
     ]
    }
   ],
   "source": [
    "class ErrorMutter:\n",
    "    def __enter__(self):\n",
    "        print(\"enter method called\")\n",
    "        return self\n",
    "\n",
    "    def __exit__(self, exc_type, exc_value, exc_traceback):\n",
    "        print(\"exit method called\")\n",
    "\n",
    "\n",
    "with ContextManager() as manager:\n",
    "    print(\"with statement block\")"
   ]
  },
  {
   "cell_type": "code",
   "execution_count": null,
   "id": "fc214333-aa10-4a9f-b5cb-548b3a902b4b",
   "metadata": {},
   "outputs": [],
   "source": [
    "class FileManager:\n",
    "    def __init__(self, filename, mode):\n",
    "        self.filename = filename\n",
    "        self.mode = mode\n",
    "        self.file = None\n",
    "\n",
    "    def __enter__(self):\n",
    "        self.file = open(self.filename, self.mode)\n",
    "        return self.file\n",
    "\n",
    "    def __exit__(self, exc_type, exc_value, exc_traceback):\n",
    "        self.file.close()\n",
    "\n",
    "\n",
    "# загрузка файла\n",
    "with FileManager(\"example.txt\", \"r\") as f:\n",
    "    print(f.encoding)\n",
    "\n",
    "print(f.closed)"
   ]
  },
  {
   "cell_type": "markdown",
   "id": "b8d3f36c-93bc-402b-83aa-715cf6b69a27",
   "metadata": {
    "jp-MarkdownHeadingCollapsed": true
   },
   "source": [
    "## Доп. материалы"
   ]
  },
  {
   "cell_type": "markdown",
   "id": "5643ef41-b77d-40da-9578-706bdac53020",
   "metadata": {},
   "source": [
    "[Статья про декораторы и генераторы от Яндекса](https://academy.yandex.ru/handbook/python/article/rekursiya-dekoratory-generatory)\n",
    "\n",
    "[Некоторые хитрости при работе с итераторами](https://habr.com/ru/articles/488112/)\n",
    "\n",
    "[Подробнее про context manager и его применения](https://realpython.com/python-with-statement/)\n",
    "\n",
    "Для продвинутых: \n",
    "\n",
    "[Интересная статья про асинхронность: контекстные менеджеры и не только](https://habr.com/ru/companies/wunderfund/articles/711012/)"
   ]
  }
 ],
 "metadata": {
  "kernelspec": {
   "display_name": "Python 3 (ipykernel)",
   "language": "python",
   "name": "python3"
  },
  "language_info": {
   "codemirror_mode": {
    "name": "ipython",
    "version": 3
   },
   "file_extension": ".py",
   "mimetype": "text/x-python",
   "name": "python",
   "nbconvert_exporter": "python",
   "pygments_lexer": "ipython3",
   "version": "3.10.13"
  }
 },
 "nbformat": 4,
 "nbformat_minor": 5
}
