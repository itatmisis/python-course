{
 "cells": [
  {
   "cell_type": "markdown",
   "id": "freelance-ethiopia",
   "metadata": {},
   "source": [
    "## Классы\n",
    "Класс - это шаблон для создания объектов\n",
    "\n",
    "Класс состоит из **членов**  \n",
    "Члены это:\n",
    "1. Методы - функции класса\n",
    "2. Поля - переменные класса\n",
    "Создание класса:\n",
    "```python\n",
    "class <название класса>:\n",
    "    <поля и методы класса>\n",
    "```"
   ]
  },
  {
   "cell_type": "code",
   "execution_count": 3,
   "id": "distant-reminder",
   "metadata": {},
   "outputs": [],
   "source": [
    "class A:\n",
    "    pass"
   ]
  },
  {
   "cell_type": "code",
   "execution_count": 4,
   "id": "authorized-nutrition",
   "metadata": {},
   "outputs": [],
   "source": [
    "a = A()"
   ]
  },
  {
   "cell_type": "code",
   "execution_count": 6,
   "id": "welcome-recommendation",
   "metadata": {},
   "outputs": [
    {
     "data": {
      "text/plain": [
       "(__main__.A, True)"
      ]
     },
     "execution_count": 6,
     "metadata": {},
     "output_type": "execute_result"
    }
   ],
   "source": [
    "# type - возвращает тип\n",
    "# isinstance(x, y) возвращает True если x принадлежит классу y\n",
    "type(a), isinstance(a, A)"
   ]
  },
  {
   "cell_type": "code",
   "execution_count": 8,
   "id": "moderate-measure",
   "metadata": {},
   "outputs": [],
   "source": [
    "class Student:\n",
    "    # __init__ - метод инициализации объекта \n",
    "    def __init__(self, name, age = 18):\n",
    "        self.name = name\n",
    "        self.age = age"
   ]
  },
  {
   "cell_type": "code",
   "execution_count": 13,
   "id": "seeing-assessment",
   "metadata": {},
   "outputs": [
    {
     "data": {
      "text/plain": [
       "('artem', 18)"
      ]
     },
     "execution_count": 13,
     "metadata": {},
     "output_type": "execute_result"
    }
   ],
   "source": [
    "artem = Student('artem')\n",
    "artem.name, artem.age"
   ]
  },
  {
   "cell_type": "code",
   "execution_count": 12,
   "id": "musical-cycle",
   "metadata": {},
   "outputs": [],
   "source": [
    "class Student:\n",
    "    # данное поле - статическое\n",
    "    # статическое поле - доступное через имя класса\n",
    "    _count_students = 0\n",
    "    \n",
    "    \n",
    "    def __init__(self, name, age = 18):\n",
    "        self.name = name\n",
    "        self.age = age\n",
    "        Student._count_students+=1\n",
    "\n",
    "    # @staticmethod - делает метод статическим \n",
    "    @staticmethod\n",
    "    def amount():\n",
    "        return Student._count_students"
   ]
  },
  {
   "cell_type": "code",
   "execution_count": 14,
   "id": "surface-provision",
   "metadata": {},
   "outputs": [
    {
     "data": {
      "text/plain": [
       "(<__main__.Student at 0x7f7d992ee8b0>,\n",
       " <__main__.Student at 0x7f7d992ee220>,\n",
       " <__main__.Student at 0x7f7d992ee9a0>)"
      ]
     },
     "execution_count": 14,
     "metadata": {},
     "output_type": "execute_result"
    }
   ],
   "source": [
    "Student('peter'), Student('seva'), Student('michael')"
   ]
  },
  {
   "cell_type": "code",
   "execution_count": 17,
   "id": "seeing-norwegian",
   "metadata": {},
   "outputs": [
    {
     "data": {
      "text/plain": [
       "4"
      ]
     },
     "execution_count": 17,
     "metadata": {},
     "output_type": "execute_result"
    }
   ],
   "source": [
    "Student.amount()"
   ]
  },
  {
   "cell_type": "code",
   "execution_count": 59,
   "id": "talented-speaking",
   "metadata": {},
   "outputs": [],
   "source": [
    "class Student:\n",
    "    _count_students = 0\n",
    "    \n",
    "    \n",
    "    def __init__(self, name, age = 18):\n",
    "        self.name = name\n",
    "        self.age = age\n",
    "        Student._count_students+=1\n",
    "\n",
    "    # Через self можно обращаться к полям объекта\n",
    "    def return_data(self):\n",
    "        return self.name + \", \" + str(self.age)"
   ]
  },
  {
   "cell_type": "code",
   "execution_count": 63,
   "id": "looking-cinema",
   "metadata": {},
   "outputs": [],
   "source": [
    "a = Student('a')"
   ]
  },
  {
   "cell_type": "code",
   "execution_count": 61,
   "id": "varying-contribution",
   "metadata": {},
   "outputs": [
    {
     "data": {
      "text/plain": [
       "'a, 18'"
      ]
     },
     "execution_count": 61,
     "metadata": {},
     "output_type": "execute_result"
    }
   ],
   "source": [
    "a.return_data()"
   ]
  },
  {
   "cell_type": "code",
   "execution_count": 66,
   "id": "sharing-puzzle",
   "metadata": {},
   "outputs": [],
   "source": [
    "class Student:\n",
    "    _count_students = 0\n",
    "    \n",
    "    \n",
    "    def __init__(self, name, age = 18):\n",
    "        self.name = name\n",
    "        self.age = age\n",
    "        Student._count_students+=1\n",
    "\n",
    "    # Dunder or magic методы - методы с двумя _ в начале и в конце\n",
    "    # Эти методы обладают магическими свойствами\n",
    "    \n",
    "    # __str__ - применяется к обьекту при вызове str от него\n",
    "    def __str__(self):\n",
    "        return self.name + \", \" + str(self.age)"
   ]
  },
  {
   "cell_type": "code",
   "execution_count": 69,
   "id": "level-stevens",
   "metadata": {},
   "outputs": [
    {
     "data": {
      "text/plain": [
       "'Петер, 21'"
      ]
     },
     "execution_count": 69,
     "metadata": {},
     "output_type": "execute_result"
    }
   ],
   "source": [
    "a = Student('Петер', 21)\n",
    "str(a)"
   ]
  },
  {
   "cell_type": "markdown",
   "id": "korean-mitchell",
   "metadata": {},
   "source": [
    "## Инкапсуляция\n",
    "Механизм сокрытия, позволяющий разграничивать доступ к различным компонентам программы. "
   ]
  },
  {
   "cell_type": "code",
   "execution_count": 70,
   "id": "confirmed-cliff",
   "metadata": {},
   "outputs": [],
   "source": [
    "class Student:\n",
    "    _count_students = 0\n",
    "    \n",
    "    \n",
    "    def __init__(self, name, age = 18):\n",
    "        self.name = name\n",
    "        self.age = age\n",
    "        Student._count_students+=1\n",
    "\n",
    "    def __str__(self):\n",
    "        return self.name + \", \" + str(self.age)\n",
    "    \n",
    "    # public \n",
    "    def method_a(self):\n",
    "        return 'a'\n",
    "    \n",
    "    # protected\n",
    "    def _method_b(self):\n",
    "        return 'b'\n",
    "    \n",
    "    # private\n",
    "    def __method_c(self):\n",
    "        return 'c'"
   ]
  },
  {
   "cell_type": "code",
   "execution_count": 72,
   "id": "residential-theory",
   "metadata": {},
   "outputs": [
    {
     "data": {
      "text/plain": [
       "'a'"
      ]
     },
     "execution_count": 72,
     "metadata": {},
     "output_type": "execute_result"
    }
   ],
   "source": [
    "a = Student('Петер', 21)\n",
    "# Сработает без проблем\n",
    "a.method_a()"
   ]
  },
  {
   "cell_type": "code",
   "execution_count": 73,
   "id": "authentic-representative",
   "metadata": {},
   "outputs": [
    {
     "data": {
      "text/plain": [
       "'b'"
      ]
     },
     "execution_count": 73,
     "metadata": {},
     "output_type": "execute_result"
    }
   ],
   "source": [
    "# Сработает без проблем, но большинство IDE подчеркнёт как ошибку\n",
    "a._method_b()"
   ]
  },
  {
   "cell_type": "code",
   "execution_count": 74,
   "id": "computational-fabric",
   "metadata": {},
   "outputs": [
    {
     "ename": "AttributeError",
     "evalue": "'Student' object has no attribute '__method_c'",
     "output_type": "error",
     "traceback": [
      "\u001b[0;31m---------------------------------------------------------------------------\u001b[0m",
      "\u001b[0;31mAttributeError\u001b[0m                            Traceback (most recent call last)",
      "\u001b[0;32m<ipython-input-74-c9cdfaa76b79>\u001b[0m in \u001b[0;36m<module>\u001b[0;34m\u001b[0m\n\u001b[0;32m----> 1\u001b[0;31m \u001b[0ma\u001b[0m\u001b[0;34m.\u001b[0m\u001b[0m__method_c\u001b[0m\u001b[0;34m(\u001b[0m\u001b[0;34m)\u001b[0m\u001b[0;34m\u001b[0m\u001b[0;34m\u001b[0m\u001b[0m\n\u001b[0m",
      "\u001b[0;31mAttributeError\u001b[0m: 'Student' object has no attribute '__method_c'"
     ]
    }
   ],
   "source": [
    "# Не сработает\n",
    "a.__method_c()"
   ]
  },
  {
   "cell_type": "code",
   "execution_count": 76,
   "id": "conditional-supervision",
   "metadata": {},
   "outputs": [
    {
     "data": {
      "text/plain": [
       "'c'"
      ]
     },
     "execution_count": 76,
     "metadata": {},
     "output_type": "execute_result"
    }
   ],
   "source": [
    "# Но всё равно можно вызвать через <object>._<class_name><method_name>()\n",
    "a._Student__method_c()"
   ]
  },
  {
   "cell_type": "markdown",
   "id": "charitable-column",
   "metadata": {},
   "source": [
    "## Наследование\n",
    "Концепция объектно-ориентированного программирования, согласно которой абстрактный тип данных может наследовать данные и функциональность некоторого существующего типа, способствуя повторному использованию компонентов программного обеспечения.\n",
    "\n",
    "class <дочерний класс>(<родительский класс>)"
   ]
  },
  {
   "cell_type": "code",
   "execution_count": 78,
   "id": "demographic-trunk",
   "metadata": {},
   "outputs": [
    {
     "name": "stdout",
     "output_type": "stream",
     "text": [
      "Привет мир!\n"
     ]
    }
   ],
   "source": [
    "class A:\n",
    "    def __init__(self):\n",
    "        print('Привет, мир!')\n",
    "        \n",
    "class B(A):\n",
    "    pass\n",
    "\n",
    "b = B()"
   ]
  },
  {
   "cell_type": "code",
   "execution_count": 83,
   "id": "split-disclaimer",
   "metadata": {},
   "outputs": [],
   "source": [
    "class C(A):\n",
    "    \n",
    "    # Члены можно переопределять\n",
    "    def __init__(self):\n",
    "        print(\"Привет, жестокий мир\")"
   ]
  },
  {
   "cell_type": "code",
   "execution_count": 84,
   "id": "spare-bench",
   "metadata": {},
   "outputs": [
    {
     "name": "stdout",
     "output_type": "stream",
     "text": [
      "Привет, жестокий мир\n"
     ]
    }
   ],
   "source": [
    "c = C()"
   ]
  },
  {
   "cell_type": "code",
   "execution_count": 89,
   "id": "pointed-young",
   "metadata": {},
   "outputs": [
    {
     "data": {
      "text/plain": [
       "(False, True)"
      ]
     },
     "execution_count": 89,
     "metadata": {},
     "output_type": "execute_result"
    }
   ],
   "source": [
    "# issubclass(X, Y) возвращает True, если X - подкласса класса Y\n",
    "issubclass(C, B), issubclass(C, A)"
   ]
  },
  {
   "cell_type": "markdown",
   "id": "numerous-infection",
   "metadata": {},
   "source": [
    "## Полиморфизм\n",
    "Свойство системы, позволяющее использовать объекты с одинаковым интерфейсом без информации о типе и внутренней структуре объекта. "
   ]
  },
  {
   "cell_type": "code",
   "execution_count": 93,
   "id": "laughing-fourth",
   "metadata": {},
   "outputs": [
    {
     "name": "stdout",
     "output_type": "stream",
     "text": [
      "BARK\n",
      "MEOW\n"
     ]
    }
   ],
   "source": [
    "class Animal:\n",
    "    def __init__(self):\n",
    "        pass\n",
    "    \n",
    "    def bark(self):\n",
    "        pass\n",
    "    \n",
    "class Cat(Animal):\n",
    "    def bark(self):\n",
    "        return \"MEOW\"\n",
    "    \n",
    "\n",
    "class Dog(Animal):\n",
    "    def bark(self):\n",
    "        return \"BARK\"\n",
    "    \n",
    "\n",
    "def do_voice(animal):\n",
    "    print(animal.bark())\n",
    "    \n",
    "kraft = Dog()\n",
    "do_voice(kraft)\n",
    "\n",
    "mikki = Cat()\n",
    "do_voice(mikki)"
   ]
  },
  {
   "cell_type": "markdown",
   "id": "waiting-excellence",
   "metadata": {},
   "source": [
    "## Декораторы\n",
    "Это функции, оборачивающие другие функции"
   ]
  },
  {
   "cell_type": "code",
   "execution_count": 102,
   "id": "given-authentication",
   "metadata": {},
   "outputs": [
    {
     "name": "stdout",
     "output_type": "stream",
     "text": [
      "Elapsed time: 0.1920926570892334\n"
     ]
    }
   ],
   "source": [
    "# import - подключение библеотек, как #include c/с++\n",
    "import time \n",
    "\n",
    "\n",
    "def timeit(func):\n",
    "    def wrapper_func(*args, **kwargs):\n",
    "        start = time.time() # time.time текущее время в секундах отсчитывая c 1970 года\n",
    "        func(*args, **kwargs)\n",
    "        end = time.time()\n",
    "        print(f'Elapsed time: {end - start}')\n",
    "    return wrapper_func\n",
    "    \n",
    "    \n",
    "def count(a = 10_000_000):\n",
    "    for i in range(a):\n",
    "        pass\n",
    "    \n",
    "timed_count = timeit(count)\n",
    "timed_count()"
   ]
  },
  {
   "cell_type": "code",
   "execution_count": 115,
   "id": "alien-recipe",
   "metadata": {},
   "outputs": [
    {
     "name": "stdout",
     "output_type": "stream",
     "text": [
      "0.02425360679626465\n"
     ]
    }
   ],
   "source": [
    "# import - подключение библеотек, как #include c/с++\n",
    "import time \n",
    "\n",
    "def timeit(func):\n",
    "    def wrapper_func(*args, **kwargs):\n",
    "        start = time.time()\n",
    "        func(*args, **kwargs)\n",
    "        end = time.time()\n",
    "        print(end - start)\n",
    "    return wrapper_func\n",
    "    \n",
    "@timeit\n",
    "def count(a = 10_000_000):\n",
    "    for i in range(a):\n",
    "        pass\n",
    "    \n",
    "count(int(1e6))"
   ]
  },
  {
   "cell_type": "code",
   "execution_count": null,
   "id": "lonely-equity",
   "metadata": {},
   "outputs": [],
   "source": []
  }
 ],
 "metadata": {
  "kernelspec": {
   "display_name": "Python 3",
   "language": "python",
   "name": "python3"
  },
  "language_info": {
   "codemirror_mode": {
    "name": "ipython",
    "version": 3
   },
   "file_extension": ".py",
   "mimetype": "text/x-python",
   "name": "python",
   "nbconvert_exporter": "python",
   "pygments_lexer": "ipython3",
   "version": "3.8.10"
  }
 },
 "nbformat": 4,
 "nbformat_minor": 5
}
