{
 "cells": [
  {
   "cell_type": "markdown",
   "id": "bee23468-1be9-4f0f-8ba7-006d6add3b42",
   "metadata": {},
   "source": [
    "## Глава 3 - Исключения, контекстные менеджеры, управление зависимостями. HTTP и JSON."
   ]
  },
  {
   "cell_type": "markdown",
   "id": "7cb180eb",
   "metadata": {},
   "source": [
    "## Исключения"
   ]
  },
  {
   "cell_type": "markdown",
   "id": "ed6ccfac",
   "metadata": {},
   "source": [
    "Исключения - это объекты, вызываемые для остановки работы программы с сообщением о том, что произошла ошибка"
   ]
  },
  {
   "cell_type": "code",
   "execution_count": null,
   "id": "3c5fd426",
   "metadata": {},
   "outputs": [
    {
     "ename": "ZeroDivisionError",
     "evalue": "division by zero",
     "output_type": "error",
     "traceback": [
      "\u001b[1;31m---------------------------------------------------------------------------\u001b[0m\n",
      "\u001b[1;31mZeroDivisionError\u001b[0m                         Traceback (most recent call last)\n",
      "Cell \u001b[1;32mIn[1], line 1\u001b[0m\n",
      "\u001b[1;32m----> 1\u001b[0m \u001b[38;5;241;43m1\u001b[39;49m\u001b[43m \u001b[49m\u001b[38;5;241;43m/\u001b[39;49m\u001b[43m \u001b[49m\u001b[38;5;241;43m0\u001b[39;49m\n",
      "\n",
      "\u001b[1;31mZeroDivisionError\u001b[0m: division by zero"
     ]
    }
   ],
   "source": [
    "1 / 0"
   ]
  },
  {
   "cell_type": "code",
   "execution_count": null,
   "id": "0c8e0758",
   "metadata": {},
   "outputs": [
    {
     "name": "stdout",
     "output_type": "stream",
     "text": [
      "Введите положительное число:  16\n"
     ]
    },
    {
     "name": "stdout",
     "output_type": "stream",
     "text": [
      "4.0\n"
     ]
    }
   ],
   "source": [
    "positive_number = int(input(\"Введите положительное число: \"))\n",
    "if positive_number <= 0:\n",
    "    raise Exception(\"Я же просил положительное число :(\")\n",
    "print(positive_number ** (1 / 2))"
   ]
  },
  {
   "cell_type": "markdown",
   "id": "c354d490",
   "metadata": {},
   "source": [
    "### Классы исключений "
   ]
  },
  {
   "cell_type": "markdown",
   "id": "fbc4ff14",
   "metadata": {},
   "source": [
    "Исключения в Python являются классами ошибок. В Python есть много стандартных исключений. Они имеют определённую иерархию за счёт механизма наследования классов. Все исключения являются потомками базового класса BaseException"
   ]
  },
  {
   "cell_type": "markdown",
   "id": "488662c3",
   "metadata": {},
   "source": [
    "В документации Python версии 3.10.8 приводится следующее дерево иерархии стандартных исключений:\n",
    "![image.png](attachment:5979d1bb-fbaa-43b2-9742-960df7b13851.png)"
   ]
  },
  {
   "cell_type": "markdown",
   "id": "08edb506",
   "metadata": {},
   "source": [
    "### try-except-finally"
   ]
  },
  {
   "cell_type": "markdown",
   "id": "bc015f77",
   "metadata": {},
   "source": [
    "С помощью конструкции try-except-finally можно отлавливать и обрабатывать исключения в формате:\n",
    "\n",
    "```python\n",
    "try:\n",
    "    <code>\n",
    "except <exception1> as <err name>: # выполняется, если вылетела ошибка <exception1>\n",
    "    <code>\n",
    "except <exception2> as <err name>:\n",
    "    <code>\n",
    "else:\n",
    "    <code>  # выполняется, если не вызвано исключение в блоке try\n",
    "finally:\n",
    "    <code>  # выполняется всегда\n",
    "```"
   ]
  },
  {
   "cell_type": "code",
   "execution_count": null,
   "id": "328c61c6",
   "metadata": {},
   "outputs": [],
   "source": [
    "cities = {\"Saint-Petersburg\": 2, \"Kazan\": 2, \"Suzdal\": 1}\n",
    "try:\n",
    "    city = input()\n",
    "    print(f\"В городе {city} я был {cities[city]} раз\")\n",
    "except KeyError as err:\n",
    "    print(f\"В городе {city} я еще не был\")"
   ]
  },
  {
   "cell_type": "code",
   "execution_count": null,
   "id": "9493bf32",
   "metadata": {},
   "outputs": [
    {
     "name": "stdout",
     "output_type": "stream",
     "text": [
      "Введите положительное число:  2\n"
     ]
    },
    {
     "name": "stdout",
     "output_type": "stream",
     "text": [
      "0.7071067811865476\n",
      "Ошибка не произошла\n",
      "А я выполнюсь в любом случае\n"
     ]
    }
   ],
   "source": [
    "try:\n",
    "    positive_number = 1 / int(input(\"Введите положительное число: \"))  # а что если 0 или строка?\n",
    "    print(positive_number ** (1 / 2))\n",
    "except ZeroDivisionError:\n",
    "    print(\"Обработка ошибки деления на 0...\")\n",
    "except ValueError:\n",
    "    print(\"Обработка ошибки ввода строки...\")\n",
    "else:\n",
    "    print(\"Ошибка не произошла\")\n",
    "finally:  \n",
    "    print(\"А я выполнюсь в любом случае\")"
   ]
  },
  {
   "cell_type": "code",
   "execution_count": null,
   "id": "54d06717",
   "metadata": {},
   "outputs": [
    {
     "name": "stdout",
     "output_type": "stream",
     "text": [
      "Введите положительное число:  qw\n"
     ]
    },
    {
     "name": "stdout",
     "output_type": "stream",
     "text": [
      "Неизвестная ошибка...\n"
     ]
    }
   ],
   "source": [
    "try:\n",
    "    positive_number = 1 / int(input(\"Введите положительное число: \"))  # а что если 0 или строка?\n",
    "    print(positive_number ** (1 / 2))\n",
    "except BaseException:\n",
    "    print(\"Неизвестная ошибка...\")\n",
    "except ZeroDivisionError:\n",
    "    print(\"Обработка ошибки деления на 0...\")\n",
    "except ValueError:\n",
    "    print(\"Обработка ошибки ввода строки...\")"
   ]
  },
  {
   "cell_type": "code",
   "execution_count": null,
   "id": "60d84455",
   "metadata": {},
   "outputs": [
    {
     "name": "stdout",
     "output_type": "stream",
     "text": [
      "Введите положительное число:  0\n"
     ]
    },
    {
     "name": "stdout",
     "output_type": "stream",
     "text": [
      "Произошла ошибка:\n",
      "ZeroDivisionError: division by zero\n"
     ]
    }
   ],
   "source": [
    "try:\n",
    "    positive_number = 1 / int(input(\"Введите положительное число: \"))  # а что если 0 или строка?\n",
    "    print(positive_number ** (1 / 2))\n",
    "except ZeroDivisionError as err:\n",
    "    print(f\"Произошла ошибка:\\n{err.__class__.__name__}: {err}\")\n",
    "except ValueError as err:\n",
    "    print(f\"Произошла ошибка:\\n{err.__class__.__name__}: {err}\")\n",
    "except BaseException as err:\n",
    "    print(f\"Произошла ошибка:\\n{err.__class__.__name__}: {err}\")"
   ]
  },
  {
   "cell_type": "markdown",
   "id": "51081101",
   "metadata": {},
   "source": [
    "### Собственные исключения"
   ]
  },
  {
   "cell_type": "code",
   "execution_count": null,
   "id": "cfad3125",
   "metadata": {},
   "outputs": [
    {
     "name": "stdout",
     "output_type": "stream",
     "text": [
      "Введите имя администратора:  Peter\n"
     ]
    },
    {
     "name": "stdout",
     "output_type": "stream",
     "text": [
      "Peter - администратор курса\n"
     ]
    }
   ],
   "source": [
    "class NonAdminError(Exception):\n",
    "    ...\n",
    "\n",
    "admins = {\"Peter\", \"Yaroslav\", \"Artem\", \"Andrew\", \"Stepan\"}\n",
    "person = input(\"Введите имя администратора: \")\n",
    "if person not in admins:\n",
    "    raise NonAdminError(\"У вас нет доступа к этому функционалу\")\n",
    "print(person, \"- администратор курса\")"
   ]
  },
  {
   "cell_type": "markdown",
   "id": "0e5b4047-b41f-4573-8abe-52537fd6bdef",
   "metadata": {},
   "source": [
    "## Context manager"
   ]
  },
  {
   "cell_type": "markdown",
   "id": "c439d4e7-c83e-472c-aaf8-5ec6d165f0cd",
   "metadata": {},
   "source": [
    ">«Контекстные менеджеры в Python — это удивительный механизм, который позволяет гарантировать корректное управление ресурсами и обеспечивать безопасное выполнение кода.» — Гвидо ван Россум, великодушный пожизненный диктатор Python."
   ]
  },
  {
   "cell_type": "markdown",
   "id": "13067229-5719-456f-9d99-9209a4278cc8",
   "metadata": {},
   "source": [
    "### Работа с файлами"
   ]
  },
  {
   "cell_type": "code",
   "execution_count": 167,
   "id": "51d77e86-326e-43bd-b13b-052603feefb0",
   "metadata": {},
   "outputs": [
    {
     "name": "stdout",
     "output_type": "stream",
     "text": [
      "Hello\\nWorld!\n",
      "\n"
     ]
    }
   ],
   "source": [
    "file = open(\"example.txt\", \"r\")\n",
    "try:\n",
    "    # Действия с файлом\n",
    "    content = file.read()\n",
    "    print(content)\n",
    "    \n",
    "finally:\n",
    "    file.close()"
   ]
  },
  {
   "cell_type": "code",
   "execution_count": 169,
   "id": "cdfde82d-3d95-47ce-8c1d-14857835d430",
   "metadata": {},
   "outputs": [
    {
     "name": "stdout",
     "output_type": "stream",
     "text": [
      "Hello\\nWorld!\n",
      "\n"
     ]
    }
   ],
   "source": [
    "with open(\"example.txt\", \"r\") as file:\n",
    "    content = file.read()\n",
    "    print(content)\n",
    "# --> file.close()"
   ]
  },
  {
   "cell_type": "markdown",
   "id": "a1a190bf",
   "metadata": {},
   "source": [
    "## Модули и библиотеки"
   ]
  },
  {
   "cell_type": "markdown",
   "id": "6cf7f7ee",
   "metadata": {},
   "source": [
    "* Модуль - это файл, содержащий код с питоном с расширением .py. Модули можно подключать в других файлах.\n",
    "* Библиотека - общий термин, чаще понимают как набор пакетов и модулей, иногда как то же самое, что и пакет или модуль\n",
    "  \n",
    "В дальнейшем, для краткости будем использовать общий термин модуль"
   ]
  },
  {
   "cell_type": "markdown",
   "id": "725dba23",
   "metadata": {},
   "source": [
    "Модули бывают:\n",
    "\n",
    "1. Встроенные. Идут вместе с питоном \n",
    "2. Сторонние. Требуют установки \n",
    "3. Локальные. То есть те, что созданы внутри данного проекта"
   ]
  },
  {
   "cell_type": "code",
   "execution_count": null,
   "id": "046324a3",
   "metadata": {},
   "outputs": [
    {
     "name": "stdout",
     "output_type": "stream",
     "text": [
      "Введите своё имя:  afasf\n"
     ]
    },
    {
     "name": "stdout",
     "output_type": "stream",
     "text": [
      "Привет, afasf!\n",
      "Красота вашего имени: 2\n"
     ]
    }
   ],
   "source": [
    "# В Python есть несколько способов подключения модулей: \n",
    "import random\n",
    "import datetime as dt # так мы переименовываем пакет \n",
    "from math import *  # так мы импортим все из math, но так не стоит делать \n",
    "\n",
    "def hello(name):\n",
    "    return f\"Привет, {name}!\"\n",
    "\n",
    "def count_beauty(name):\n",
    "    beauty = round(dt.datetime.now().timestamp() * random.randint(1, 10)) % 10\n",
    "    return f\"Красота вашего имени: {beauty}\"\n",
    "    \n",
    "# print(hello(input(\"Введите своё имя: \")))  что произойдет при импорте?\n",
    "if __name__ == \"__main__\":\n",
    "    name = input(\"Введите своё имя: \")\n",
    "    print(hello(name))\n",
    "    print(count_beauty(name))"
   ]
  },
  {
   "cell_type": "markdown",
   "id": "f6bfb23c",
   "metadata": {},
   "source": [
    "### Полезные команды pip"
   ]
  },
  {
   "cell_type": "markdown",
   "id": "eaaee0e5",
   "metadata": {},
   "source": [
    "- `pip freeze`  # получение текущих версий пакетов,\n",
    "- `pip install -r requirements.txt`  # установка из файла\n",
    "- `pip install -U numpy`  # обновление\n",
    "- `pip install git+https://github.com/teadove/teleout`  # установка с гита"
   ]
  },
  {
   "cell_type": "markdown",
   "id": "e93459a0",
   "metadata": {},
   "source": [
    "## Сети. Модель OSI"
   ]
  },
  {
   "cell_type": "markdown",
   "id": "413efb01",
   "metadata": {},
   "source": [
    "Передача информации по сети между клиентом (устройством, запращивающим услугу) и сервером (устройстов, предоставляющим услугу) - сложный многоуровневый процесс. Для его работы требовалось стандартизировать и ввести соответсвующие протоколы для всех уровней взаимодействия устройств – от побитовой передачи до клиент-серверного взаимодействия. \n",
    "\n",
    "Для описания этого процесса придумали эталонную модель взаимодействия открытых систем OSI (Open Systems Interconnection reference model)."
   ]
  },
  {
   "cell_type": "markdown",
   "id": "cb9ef156",
   "metadata": {},
   "source": [
    "![image.png](attachment:image.png)"
   ]
  },
  {
   "cell_type": "markdown",
   "id": "0d6a1bd1",
   "metadata": {},
   "source": [
    "![image.png](attachment:b7c24c10-dd9d-409a-9625-c10606d990e7.png)"
   ]
  },
  {
   "cell_type": "markdown",
   "id": "ba222158",
   "metadata": {},
   "source": [
    "К счастью, для разработки не требуется экспертное знание всех представленных протоколов. "
   ]
  },
  {
   "cell_type": "markdown",
   "id": "bc74f5b7",
   "metadata": {},
   "source": [
    "### UDP vs TCP\n",
    "UDP быстрее, чем TCP, потому что пользователю не нужно разрешать или подтверждать получение данных перед отправкой следующего пакета. Поэтому через протокол UDP и установка соединения, и передача данных происходит быстрее."
   ]
  },
  {
   "cell_type": "markdown",
   "id": "832b06d2",
   "metadata": {},
   "source": [
    "## HTTP"
   ]
  },
  {
   "cell_type": "markdown",
   "id": "af76f4de",
   "metadata": {},
   "source": [
    "На прикладном уровне представлены 2 протокола, часто используемых протокола в Backend разработке: WebSocket и HTTP (HyperText Transfer Protocol, протокол передачи гипертекста). \n",
    "\n",
    "О последнем мы поговорим более подробно. "
   ]
  },
  {
   "cell_type": "markdown",
   "id": "1ee375a8",
   "metadata": {},
   "source": [
    "Протокол HTTP работает по принципу «запрос — ответ». Он создавался для передачи гипертекстовых документов формата HTML (веб-страницы), однако в настоящее время используется для обмена произвольными данными: графическими и видеофайлами, документами и т. д. В протоколе описаны виды запросов, правила формирования запросов и возможные варианты ответов на запросы.\n",
    "."
   ]
  },
  {
   "cell_type": "markdown",
   "id": "53d8a1c2",
   "metadata": {},
   "source": [
    "### HTTP Requests"
   ]
  },
  {
   "cell_type": "markdown",
   "id": "f1c7625b",
   "metadata": {},
   "source": [
    "Структура HTTP Request:\n",
    "1. Method (GET, POST, PUT, ...)\n",
    "2. URI\n",
    "3. Version (HTTP/1.1)\n",
    "4. HTTP-заголовки (Headers)\n",
    "5. Тело сообщения (опционально)\n",
    "   \n",
    "![image.png](attachment:5f3cebea-a02f-410c-a4a5-58d04beb49fc.png)"
   ]
  },
  {
   "cell_type": "markdown",
   "id": "4959e33b",
   "metadata": {},
   "source": [
    "В протоколе HTTP описаны различные виды запросов (Requests): \n",
    "на получение данных (GET), на передачу данных (POST), на добавление и изменение данных (PUT), на удаление данных (DELETE) и др."
   ]
  },
  {
   "cell_type": "markdown",
   "id": "6ce0a59d",
   "metadata": {},
   "source": [
    "### HTTP Responce"
   ]
  },
  {
   "cell_type": "markdown",
   "id": "c8ba0fc4",
   "metadata": {},
   "source": [
    "![image](https://media.geeksforgeeks.org/wp-content/uploads/20210905094321/StructureOfAHTTPResponse-660x374.png)"
   ]
  },
  {
   "cell_type": "markdown",
   "id": "e35bc6fe",
   "metadata": {},
   "source": [
    "Ответы (Responce в протоколе HTTP имеют коды состояния, которые представляют собой числовые значения. По коду состояния всегда можно определить, верно ли был обработан запрос или произошла ошибка.\n",
    "\n",
    "![image.png](attachment:1b52c8ac-e6ca-42ad-842a-f7d43446c2f9.png)"
   ]
  },
  {
   "cell_type": "markdown",
   "id": "a29653b0",
   "metadata": {},
   "source": [
    "### Способы передачи данных\n",
    "\n",
    "1. HTTP Query\n",
    "![image.png](attachment:8f61c033-895c-4d1b-9ab8-01cb76d78c02.png)\n",
    "2. Path Param"
   ]
  },
  {
   "cell_type": "code",
   "execution_count": null,
   "id": "ade84bb5",
   "metadata": {},
   "outputs": [
    {
     "data": {
      "text/plain": [
       "'https://www.google.com/?q=Python+%D0%B7%D0%B0+5+%D1%81%D0%B5%D0%BA%D1%83%D0%BD%D0%B4'"
      ]
     },
     "metadata": {},
     "output_type": "display_data"
    }
   ],
   "source": [
    "# !pip install requests\n",
    "import requests\n",
    "\n",
    "r = requests.get(\"https://www.google.com/\", params={\"q\": \"Python за 5 секунд\"})\n",
    "r.request.url"
   ]
  },
  {
   "cell_type": "code",
   "execution_count": null,
   "id": "4a524c6e",
   "metadata": {},
   "outputs": [
    {
     "data": {
      "text/plain": [
       "{'User-Agent': 'python-requests/2.31.0', 'Accept-Encoding': 'gzip, deflate', 'accept': 'application/json', 'Connection': 'keep-alive'}"
      ]
     },
     "metadata": {},
     "output_type": "display_data"
    }
   ],
   "source": [
    "r = requests.get(\"https://www.google.com/\", params={\"q\": \"Python за 5 секунд\"}, headers={\"accept\": \"application/json\"})\n",
    "r.request.headers"
   ]
  },
  {
   "cell_type": "code",
   "execution_count": null,
   "id": "c434c8f1",
   "metadata": {},
   "outputs": [
    {
     "name": "stdout",
     "output_type": "stream",
     "text": [
      "Date: Sun, 15 Oct 2023 19:09:37 GMT\n",
      "\n",
      "Expires: -1\n",
      "\n",
      "Cache-Control: private, max-age=0\n",
      "\n",
      "Content-Type: text/html; charset=ISO-8859-1\n",
      "\n",
      "Content-Security-Policy-Report-Only: object-src 'none';base-uri 'self';script-src 'nonce-vdgEMI7zHEEa7P6Kw-CYLw' 'strict-dynamic' 'report-sample' 'unsafe-eval' 'unsafe-inline' https: http:;report-uri https://csp.withgoogle.com/csp/gws/other-hp\n",
      "\n",
      "P3P: CP=\"This is not a P3P policy! See g.co/p3phelp for more info.\"\n",
      "\n",
      "Content-Encoding: gzip\n",
      "\n",
      "Server: gws\n",
      "\n",
      "X-XSS-Protection: 0\n",
      "\n",
      "X-Frame-Options: SAMEORIGIN\n",
      "\n",
      "Set-Cookie: 1P_JAR=2023-10-15-19; expires=Tue, 14-Nov-2023 19:09:37 GMT; path=/; domain=.google.com; Secure, AEC=Ackid1TT1dfByybyjGyflCy4or1IIKmfzk9AqaLqcvEBRCd6O3qrcXZ1YWg; expires=Fri, 12-Apr-2024 19:09:37 GMT; path=/; domain=.google.com; Secure; HttpOnly; SameSite=lax, NID=511=cBmXDvuIAbq4LBPgTy5YH2xUDUnK18I7Nc5nN5M_Oc5w0D74DtynRunnmqIH1PRAyOxCkKRUuoxAaledLficKcREycgJiBVEiJpilnikNhNIANIdFNFmg88s7BCJDKwL1VI1gA-uU9PzuCz9rbE-PDA9C33Ero9av2-t8RhASlw; expires=Mon, 15-Apr-2024 19:09:37 GMT; path=/; domain=.google.com; HttpOnly\n",
      "\n",
      "Alt-Svc: h3=\":443\"; ma=2592000,h3-29=\":443\"; ma=2592000\n",
      "\n",
      "Transfer-Encoding: chunked\n",
      "\n",
      "200\n"
     ]
    }
   ],
   "source": [
    "import requests\n",
    "\n",
    "r = requests.get(\"https://www.google.com/\")\n",
    "for header in r.headers:\n",
    "    print(f\"{header}: {r.headers[header]}\", end=\"\\n\\n\")\n",
    "print(r.status_code)"
   ]
  },
  {
   "cell_type": "markdown",
   "id": "a8984fb9",
   "metadata": {},
   "source": [
    "## JSON"
   ]
  },
  {
   "cell_type": "markdown",
   "id": "fcdff468",
   "metadata": {},
   "source": [
    "JSON (JavaScript Object Notation) — стандартный текстовый формат для хранения и передачи структурированных данных. Он основан на синтаксисе объекта в JavaScript: данные представлены в виде пар ключ:значение (map) или набор значений (array)"
   ]
  },
  {
   "cell_type": "markdown",
   "id": "e647a6cf",
   "metadata": {},
   "source": [
    "Ключи - только строки.\n",
    "\n",
    "Значения могут быть следующих типов:\n",
    "\n",
    "Python|JSON\n",
    "------|-----\n",
    "dict|object\n",
    "list, tuple|array\n",
    "str|string\n",
    "int, float|number\n",
    "True|true\n",
    "False|false\n",
    "None|null"
   ]
  },
  {
   "cell_type": "code",
   "execution_count": null,
   "id": "e8b0c719",
   "metadata": {},
   "outputs": [
    {
     "data": {
      "text/plain": [
       "{'key1': 'value1', 'key2': 'value2', 'key3': 'value3'}"
      ]
     },
     "metadata": {},
     "output_type": "display_data"
    }
   ],
   "source": [
    "# чтение json из файла\n",
    "import json\n",
    "\n",
    "with open(\"example.json\") as f:\n",
    "    data = json.load(f)\n",
    "data"
   ]
  },
  {
   "cell_type": "code",
   "execution_count": null,
   "id": "7a697426",
   "metadata": {},
   "outputs": [
    {
     "name": "stdout",
     "output_type": "stream",
     "text": [
      "['key1', 123, None]\n"
     ]
    }
   ],
   "source": [
    "# чтение json из строки\n",
    "import json\n",
    "\n",
    "data = json.loads('[\"key1\", 123, null]')\n",
    "print(data)"
   ]
  },
  {
   "cell_type": "code",
   "execution_count": null,
   "id": "4a288857",
   "metadata": {},
   "outputs": [],
   "source": [
    "# запись в файл\n",
    "import json\n",
    "\n",
    "to_json = {\"key1\": \"value1\", \"key2\": \"value2\", \"key3\": \"value3\"}\n",
    "with open(\"output.json\", \"w\") as f:\n",
    "    f.write(json.dumps(to_json))"
   ]
  },
  {
   "cell_type": "code",
   "execution_count": null,
   "id": "3bf5bde9",
   "metadata": {},
   "outputs": [
    {
     "name": "stdout",
     "output_type": "stream",
     "text": [
      "\"[\\\"key1\\\", 123, null]\"\n"
     ]
    }
   ],
   "source": [
    "# запись в json строку\n",
    "import json\n",
    "\n",
    "data = json.dumps('[\"key1\", 123, null]')\n",
    "print(data)"
   ]
  },
  {
   "cell_type": "markdown",
   "id": "b8d3f36c-93bc-402b-83aa-715cf6b69a27",
   "metadata": {
    "jp-MarkdownHeadingCollapsed": true
   },
   "source": [
    "## Доп. материалы"
   ]
  },
  {
   "cell_type": "markdown",
   "id": "5643ef41-b77d-40da-9578-706bdac53020",
   "metadata": {},
   "source": [
    "[Некоторые хитрости при работе с итераторами](https://habr.com/ru/articles/488112/)\n",
    "\n",
    "[Подробнее про context manager и его применения](https://realpython.com/python-with-statement/)\n",
    "\n",
    "Для продвинутых: \n",
    "\n",
    "[Интересная статья про асинхронность: контекстные менеджеры и не только](https://habr.com/ru/companies/wunderfund/articles/711012/)"
   ]
  }
 ],
 "metadata": {
  "kernelspec": {
   "display_name": "Python 3 (ipykernel)",
   "language": "python",
   "name": "python3"
  },
  "language_info": {
   "codemirror_mode": {
    "name": "ipython",
    "version": 3
   },
   "file_extension": ".py",
   "mimetype": "text/x-python",
   "name": "python",
   "nbconvert_exporter": "python",
   "pygments_lexer": "ipython3",
   "version": "3.10.13"
  }
 },
 "nbformat": 4,
 "nbformat_minor": 5
}
