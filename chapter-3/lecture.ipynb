{
 "cells": [
  {
   "cell_type": "markdown",
   "id": "bee23468-1be9-4f0f-8ba7-006d6add3b42",
   "metadata": {},
   "source": [
    "# Занятие 3. Итераторы, генераторы и context manager\n"
   ]
  },
  {
   "cell_type": "markdown",
   "id": "e8432131-06d0-4f09-bf78-126e7f3a7883",
   "metadata": {
    "jp-MarkdownHeadingCollapsed": true
   },
   "source": [
    "## Декораторы"
   ]
  },
  {
   "cell_type": "markdown",
   "id": "cba08bf8-9ece-4044-8e11-7c265c14ab00",
   "metadata": {},
   "source": [
    "Декоратор — это объект, который расширяет возможности функции, не меняя её исходный кода."
   ]
  },
  {
   "cell_type": "markdown",
   "id": "e7fc460d-6909-4e85-a6d0-df138836f561",
   "metadata": {},
   "source": [
    "Принцип работы декоратора:\n",
    "1. принимает функцию как аргумент\n",
    "2. объявляет новую функцию, которая расширяет функцию-аргумент\n",
    "3. возвращает новую функцию в качестве объекта.\n"
   ]
  },
  {
   "cell_type": "code",
   "execution_count": null,
   "id": "74672e8f-586f-473b-86fc-f6fe1568db45",
   "metadata": {},
   "outputs": [],
   "source": [
    "def counter(f):\n",
    "    total = 0\n",
    "\n",
    "    # Объявляем функцию, которая расширяет функционал f\n",
    "    def decorated(*args, **kwargs):\n",
    "        # Переменная total объявлена нелокальной для доступа из внутренней функции\n",
    "        nonlocal total\n",
    "        total += 1\n",
    "        # Возвращаем значение исходной функции и дополнительно total\n",
    "        return f(*args, **kwargs), total\n",
    "    # Возвращаем новую функцию как объект\n",
    "    return decorated\n",
    "\n",
    "\n",
    "@counter\n",
    "def hello(name):\n",
    "    return f\"Привет, {name}!\"\n",
    "\n",
    "\n",
    "print(hello(\"Студент_1\"))\n",
    "print(hello(\"Студент_404\"))"
   ]
  },
  {
   "cell_type": "code",
   "execution_count": null,
   "id": "9a7c6169-79d6-47d3-a3ca-445f97b9d397",
   "metadata": {},
   "outputs": [],
   "source": [
    "import time\n",
    "import random\n",
    "\n",
    "def timer(f):\n",
    "    # Объявляем функцию, которая расширяет функционал f\n",
    "    def decorated(*args, **kwargs):\n",
    "        # Переменная total объявлена нелокальной для доступа из внутренней функции\n",
    "        start = time.time()\n",
    "        # Возвращаем значение исходной функции и дополнительно total\n",
    "        executed = f(*args, **kwargs)\n",
    "        total_time = time.time() - start\n",
    "        return executed, total_time\n",
    "    # Возвращаем новую функцию как объект\n",
    "    return decorated\n",
    "\n",
    "\n",
    "@timer\n",
    "def hello(name):\n",
    "    time.sleep(random.random())\n",
    "    return f\"Привет, {name}!\"\n",
    "\n",
    "\n",
    "print(hello(\"Студент_1\"))\n",
    "print(hello(\"Студент_404\"))"
   ]
  },
  {
   "cell_type": "markdown",
   "id": "d6dd6d20-1d39-4fe8-a41b-9b183da3fc9c",
   "metadata": {},
   "source": [
    "### Фабрика декораторов"
   ]
  },
  {
   "cell_type": "code",
   "execution_count": null,
   "id": "a7556f98-a280-47cd-a8df-379f5155edd6",
   "metadata": {},
   "outputs": [],
   "source": [
    "from time import perf_counter, sleep\n",
    "import random\n",
    "\n",
    "def decorator_factory(loops_num):\n",
    "    def decorating(fn):\n",
    "        def inner(*args, **kwargs):   \n",
    "            total_elapsed = 0\n",
    "            for i in range(loops_num):\n",
    "                start = perf_counter()\n",
    "                result = fn(*args, **kwargs)\n",
    "                end = perf_counter()\n",
    "                total_elapsed += end - start\n",
    "            avg_run_time = total_elapsed/loops_num\n",
    "            print('result is', result)    \n",
    "            print('num of loops is', loops_num)\n",
    "            print('avg time elapsed', avg_run_time)\n",
    "        return inner\n",
    "    return decorating\n",
    "\n",
    "@decorator_factory(3)\n",
    "def hello(name):\n",
    "    sleep(random.random())\n",
    "    return f\"Привет, {name}!\"\n",
    "\n",
    "hello(\"Студент_418\")"
   ]
  },
  {
   "cell_type": "code",
   "execution_count": null,
   "id": "1e3385a8-e4e5-4142-a402-570161c858dd",
   "metadata": {},
   "outputs": [],
   "source": [
    "class Decorator_Factory_Class:\n",
    "    def __init__(self, num_loops):\n",
    "        self.num_loops = num_loops\n",
    "    def __call__(self, fn):\n",
    "          def inner(num):   \n",
    "            total_elapsed = 0\n",
    "            for i in range(self.num_loops):\n",
    "                start = perf_counter()\n",
    "                result = fn(num)\n",
    "                end = perf_counter()\n",
    "                total_elapsed += end - start\n",
    "            avg_run_time = total_elapsed/self.num_loops\n",
    "            print('num of loops is', self.num_loops)\n",
    "            return result\n",
    "          return inner\n",
    "\n",
    "\n",
    "@decorator_factory(3)\n",
    "def hello(name):\n",
    "    sleep(random.random())\n",
    "    return f\"Привет, {name}!\"\n",
    "\n",
    "hello(\"Студент_418\")"
   ]
  },
  {
   "cell_type": "markdown",
   "id": "ce995609-16c1-4fb3-8f09-8902e7957643",
   "metadata": {},
   "source": [
    "### Декораторы классов"
   ]
  },
  {
   "cell_type": "code",
   "execution_count": null,
   "id": "0d96a83f-1640-410e-b9dc-2c8d4809935a",
   "metadata": {},
   "outputs": [],
   "source": [
    "class University:\n",
    "    def __init__(self, name):\n",
    "        self.name = name\n",
    "\n",
    "    @staticmethod\n",
    "    def say_greeting():\n",
    "        print(\"Welcome to our university!\")\n",
    "\n",
    "University.say_greeting()"
   ]
  },
  {
   "cell_type": "code",
   "execution_count": null,
   "id": "adb5e342-0bd8-4916-b63f-58a0134c7d08",
   "metadata": {},
   "outputs": [],
   "source": [
    "class University:\n",
    "    _subjects = [\"Math\", \"English\", \"Physics\"]\n",
    "    def __init__(self, name):\n",
    "        self.name = name\n",
    "\n",
    "    @classmethod\n",
    "    def reduce_subjects(cls):\n",
    "        cls._subjects.pop()\n",
    "\n",
    "    def get_subjects(self):\n",
    "        return self._subjects\n",
    "\n",
    "misis = University(\"MISIS\")\n",
    "print(misis.get_subjects())\n",
    "University.reduce_subjects()\n",
    "print(misis.get_subjects())"
   ]
  },
  {
   "cell_type": "code",
   "execution_count": null,
   "id": "6245f3a6-2a3a-4621-bef1-3b817a86a469",
   "metadata": {},
   "outputs": [],
   "source": [
    "class Rectangle:\n",
    "    def __init__(self, a, b):\n",
    "        self.a = a\n",
    "        self.b = b\n",
    "\n",
    "    @property\n",
    "    def area(self):\n",
    "        return self.a * self.b\n",
    "\n",
    "rect = Rectangle(5, 6)\n",
    "print(rect.area)"
   ]
  },
  {
   "cell_type": "markdown",
   "id": "733da796-3ca7-42b0-9ccf-94278bcb9699",
   "metadata": {
    "jp-MarkdownHeadingCollapsed": true
   },
   "source": [
    "## Итераторы"
   ]
  },
  {
   "cell_type": "markdown",
   "id": "999c9a5e-5f6d-471d-988a-ffde2b07771f",
   "metadata": {},
   "source": [
    "Итератор (iterator) - это объект, который возвращает свои элементы по одному за раз.\n",
    "\n",
    "С точки зрения Python - это любой объект, у которого определены магические методы `__next__` и `__iter__`.\n",
    "\n",
    "`__next__` - этот метод возвращает следующий элемент, если он есть, или возвращает исключение StopIteration, когда элементы закончились.\n",
    "\n",
    "`__iter__` - этот метод просто возвращает сам итератор."
   ]
  },
  {
   "cell_type": "code",
   "execution_count": null,
   "id": "1ffa51df-9fde-4954-9a4c-cb13d8ca3923",
   "metadata": {},
   "outputs": [],
   "source": [
    "langs = [\"Python\", \"Golang\", \"C++\"]\n",
    "iter(langs)"
   ]
  },
  {
   "cell_type": "code",
   "execution_count": null,
   "id": "09a5505d-4aa2-485d-b6f2-99811b91cfcb",
   "metadata": {},
   "outputs": [],
   "source": [
    "iter_langs = iter([\"Python\", \"Golang\", \"C++\"])\n",
    "print(next(iter_langs))\n",
    "list(iter_langs)"
   ]
  },
  {
   "cell_type": "code",
   "execution_count": null,
   "id": "5af81694-47d5-4117-b3c6-72b9337ed64b",
   "metadata": {},
   "outputs": [],
   "source": [
    "langs = [\"Python\", \"Golang\", \"C++\"]\n",
    "for lang in iter(langs): # == for lang in langs\n",
    "    print(lang)"
   ]
  },
  {
   "cell_type": "markdown",
   "id": "0f51b3d8-a6d5-4a96-ab94-cade3b7dc868",
   "metadata": {},
   "source": [
    "* Зачем нужны итераторы? "
   ]
  },
  {
   "cell_type": "code",
   "execution_count": null,
   "id": "b6356703-211f-4a34-84a8-ee270608f546",
   "metadata": {},
   "outputs": [],
   "source": [
    "file = open('example.txt')\n",
    "file.__next__()"
   ]
  },
  {
   "cell_type": "code",
   "execution_count": null,
   "id": "f67b153f-16c8-4263-b32e-8bfe1793e425",
   "metadata": {},
   "outputs": [],
   "source": [
    "for line in file:\n",
    "    print(line.rstrip())"
   ]
  },
  {
   "cell_type": "markdown",
   "id": "47de44b9-1c69-44a5-98b6-612598836d37",
   "metadata": {},
   "source": [
    "### Генераторы"
   ]
  },
  {
   "cell_type": "markdown",
   "id": "b9ec6ed4-063f-4b06-895d-040da20b2e44",
   "metadata": {},
   "source": [
    "Каждый генератор - это итератор, но не наоборот (== генератор это подтип итератора)"
   ]
  },
  {
   "cell_type": "code",
   "execution_count": null,
   "id": "c6754955-ae06-43e8-a303-643fef53c365",
   "metadata": {},
   "outputs": [],
   "source": [
    "from typing import Iterator\n",
    "from typing import Generator\n",
    "\n",
    "print(f'issubclass(Generator, Iterator) = {issubclass(Generator, Iterator)}')\n",
    "print(f'issubclass(Iterator, Generator) = {issubclass(Iterator, Generator)}')"
   ]
  },
  {
   "cell_type": "markdown",
   "id": "589c78ee-2d22-4bd6-9eed-7d6ec3b6e621",
   "metadata": {},
   "source": [
    "#### Генераторное выражение"
   ]
  },
  {
   "cell_type": "code",
   "execution_count": null,
   "id": "1bb497e2-d145-4d63-aa2a-0f8ebb079141",
   "metadata": {},
   "outputs": [],
   "source": [
    "genexpr = (int(input()) ** 2 for x in range(3))  # ожидания ввода нет"
   ]
  },
  {
   "cell_type": "code",
   "execution_count": null,
   "id": "16c18eb8-aea2-418d-a8f6-faf341a5453e",
   "metadata": {},
   "outputs": [],
   "source": [
    "next(genexpr)"
   ]
  },
  {
   "cell_type": "markdown",
   "id": "f8c4d178-c5f5-40c0-9c4b-862f15d9a39f",
   "metadata": {},
   "source": [
    "#### Функция-генератор"
   ]
  },
  {
   "cell_type": "code",
   "execution_count": null,
   "id": "e03fd523-9ad0-4514-8a86-9e13d149928f",
   "metadata": {},
   "outputs": [],
   "source": [
    "import time\n",
    "\n",
    "\n",
    "def fib(n):  # числа Фиббоначи\n",
    "    n_1, n_2 = 1, 1\n",
    "    for i in range(n):\n",
    "        print(\"Stop execution\")\n",
    "        yield n_1\n",
    "        print(\"Continue execution\")\n",
    "        n_1, n_2 = n_2, n_1 + n_2\n",
    "\n",
    "for x in fib(5):\n",
    "    print(\"Current number:\", x)\n",
    "    time.sleep(2)"
   ]
  },
  {
   "cell_type": "markdown",
   "id": "0e5b4047-b41f-4573-8abe-52537fd6bdef",
   "metadata": {
    "jp-MarkdownHeadingCollapsed": true
   },
   "source": [
    "## Context manager"
   ]
  },
  {
   "cell_type": "markdown",
   "id": "c439d4e7-c83e-472c-aaf8-5ec6d165f0cd",
   "metadata": {},
   "source": [
    ">«Контекстные менеджеры в Python — это удивительный механизм, который позволяет гарантировать корректное управление ресурсами и обеспечивать безопасное выполнение кода.» — Гвидо ван Россум, создатель языка программирования Python."
   ]
  },
  {
   "cell_type": "markdown",
   "id": "13067229-5719-456f-9d99-9209a4278cc8",
   "metadata": {},
   "source": [
    "### Работа с файлами"
   ]
  },
  {
   "cell_type": "code",
   "execution_count": null,
   "id": "51d77e86-326e-43bd-b13b-052603feefb0",
   "metadata": {},
   "outputs": [],
   "source": [
    "file = open(\"example.txt\", \"r\")\n",
    "try:\n",
    "    # Действия с файлом\n",
    "    content = file.read()\n",
    "    print(content)\n",
    "finally:\n",
    "    file.close()"
   ]
  },
  {
   "cell_type": "code",
   "execution_count": null,
   "id": "cdfde82d-3d95-47ce-8c1d-14857835d430",
   "metadata": {},
   "outputs": [],
   "source": [
    "with open(\"example.txt\", \"r\") as file:\n",
    "    content = file.read()\n",
    "    print(content)\n",
    "# --> file.close()"
   ]
  },
  {
   "cell_type": "markdown",
   "id": "9a599282-ed4c-4d59-b248-7d0168757c4e",
   "metadata": {},
   "source": [
    "### Работа с бд"
   ]
  },
  {
   "cell_type": "code",
   "execution_count": null,
   "id": "80c20503-1db4-44f5-a47a-0d448daeaacd",
   "metadata": {},
   "outputs": [],
   "source": [
    "import sqlite3\n",
    "\n",
    "# Пример работы с SQLite базой данных\n",
    "with sqlite3.connect('example.db') as conn:\n",
    "    cursor = conn.cursor()\n",
    "    # Выполнение операций с базой данных\n",
    "    cursor.execute('SELECT * FROM users')\n",
    "    result = cursor.fetchall()\n",
    "    print(result)"
   ]
  },
  {
   "cell_type": "markdown",
   "id": "b42b5bf0-a7e6-422a-b62f-513f8c36b556",
   "metadata": {},
   "source": [
    "### Свой контекстный менеджер"
   ]
  },
  {
   "cell_type": "markdown",
   "id": "593f3cad-5b5d-493e-a9a5-4c7078ff675f",
   "metadata": {},
   "source": [
    "Контекстный менеджер в Python должен содержать методы `__enter__` и `__exit__`.\n",
    "\n",
    "Метод `__enter__` выполняется перед выполнением блока кода внутри оператора with. Он может выполнять какие-либо подготовительные действия или возвращать значение, которое будет связано с переменной после ключевого слова as.\n",
    "\n",
    "Метод `__exit__` вызывается после завершения выполнения блока кода with. Он используется для выполнения завершающих действий, таких как освобождение ресурсов, обработка исключений или выполнение финализирующих операций."
   ]
  },
  {
   "cell_type": "code",
   "execution_count": 14,
   "id": "2aa714da-b364-40d7-a0b2-43d03185d08f",
   "metadata": {},
   "outputs": [
    {
     "name": "stdout",
     "output_type": "stream",
     "text": [
      "init method called\n",
      "enter method called\n",
      "with statement block\n",
      "exit method called\n"
     ]
    }
   ],
   "source": [
    "class ContextManager(): \n",
    "    def __init__(self): \n",
    "        print('init method called') \n",
    "          \n",
    "    def __enter__(self): \n",
    "        print('enter method called') \n",
    "        return self\n",
    "      \n",
    "    def __exit__(self, exc_type, exc_value, exc_traceback): \n",
    "        print('exit method called') \n",
    "  \n",
    "  \n",
    "with ContextManager() as manager: \n",
    "    print('with statement block') "
   ]
  },
  {
   "cell_type": "code",
   "execution_count": null,
   "id": "fc214333-aa10-4a9f-b5cb-548b3a902b4b",
   "metadata": {},
   "outputs": [],
   "source": [
    "class FileManager(): \n",
    "    def __init__(self, filename, mode): \n",
    "        self.filename = filename \n",
    "        self.mode = mode \n",
    "        self.file = None\n",
    "          \n",
    "    def __enter__(self): \n",
    "        self.file = open(self.filename, self.mode) \n",
    "        return self.file\n",
    "      \n",
    "    def __exit__(self, exc_type, exc_value, exc_traceback): \n",
    "        self.file.close() \n",
    "  \n",
    "# загрузка файла\n",
    "with FileManager('example.txt', 'r') as f: \n",
    "    print(f.encoding)\n",
    "  \n",
    "print(f.closed) "
   ]
  },
  {
   "cell_type": "code",
   "execution_count": 17,
   "id": "64872ea5-7543-4cd8-ae97-859bcff8263d",
   "metadata": {},
   "outputs": [
    {
     "name": "stdout",
     "output_type": "stream",
     "text": [
      "enter method called\n",
      "with statement block\n",
      "exit method called\n"
     ]
    }
   ],
   "source": [
    "from contextlib import contextmanager\n",
    "\n",
    "@contextmanager\n",
    "def context_manager():\n",
    "    # Внутри вызова __enter__\n",
    "    print(\"enter method called\")\n",
    "    try:\n",
    "        yield\n",
    "    finally:\n",
    "        # Внутри вызова __exit__\n",
    "        print(\"exit method called\")\n",
    "\n",
    "with context_manager() as manager:\n",
    "    print(\"with statement block\")"
   ]
  },
  {
   "cell_type": "code",
   "execution_count": 20,
   "id": "2da3fc20-7115-4142-89cb-b22898a18f9d",
   "metadata": {},
   "outputs": [
    {
     "name": "stdout",
     "output_type": "stream",
     "text": [
      ">entering the context manager\n",
      "within the manager\n",
      ">exiting the context manager\n"
     ]
    }
   ],
   "source": [
    "import asyncio\n",
    " \n",
    "# определение асинхронного менеджера контекста\n",
    "class AsyncContextManager:\n",
    "    # вход в асинхронный менеджер контекста\n",
    "    async def __aenter__(self):\n",
    "        # вывод сообщения\n",
    "        print('>entering the context manager')\n",
    "        # блокировка на некоторое время\n",
    "        await asyncio.sleep(0.5)\n",
    " \n",
    "    # выход из асинхронного менеджера контекста\n",
    "    async def __aexit__(self, exc_type, exc, tb):\n",
    "        # вывод сообщения\n",
    "        print('>exiting the context manager')\n",
    "        # блокировка на некоторое время\n",
    "        await asyncio.sleep(0.5)\n",
    " \n",
    "# определение простой корутины\n",
    "async def custom_coroutine():\n",
    "    # создание и использование асинхронного менеджера контекста\n",
    "    async with AsyncContextManager() as manager:\n",
    "        # вывод результирующего сообщения\n",
    "        print(f'within the manager')\n",
    " \n",
    "# запуск asyncio-программы\n",
    "await custom_coroutine()"
   ]
  },
  {
   "cell_type": "markdown",
   "id": "b8d3f36c-93bc-402b-83aa-715cf6b69a27",
   "metadata": {
    "jp-MarkdownHeadingCollapsed": true
   },
   "source": [
    "## Доп. материалы"
   ]
  },
  {
   "cell_type": "markdown",
   "id": "5643ef41-b77d-40da-9578-706bdac53020",
   "metadata": {},
   "source": [
    "[Статья про декораторы и генераторы от Яндекса](https://academy.yandex.ru/handbook/python/article/rekursiya-dekoratory-generatory)\n",
    "\n",
    "[Некоторые хитрости при работе с итераторами](https://habr.com/ru/articles/488112/)\n",
    "\n",
    "[Подробнее про context manager и его применения](https://realpython.com/python-with-statement/)\n",
    "\n",
    "Для продвинутых: \n",
    "\n",
    "[Интересная статья про асинхронность: контекстные менеджеры и не только](https://habr.com/ru/companies/wunderfund/articles/711012/)"
   ]
  }
 ],
 "metadata": {
  "kernelspec": {
   "display_name": "Python 3 (ipykernel)",
   "language": "python",
   "name": "python3"
  },
  "language_info": {
   "codemirror_mode": {
    "name": "ipython",
    "version": 3
   },
   "file_extension": ".py",
   "mimetype": "text/x-python",
   "name": "python",
   "nbconvert_exporter": "python",
   "pygments_lexer": "ipython3",
   "version": "3.10.2"
  }
 },
 "nbformat": 4,
 "nbformat_minor": 5
}
