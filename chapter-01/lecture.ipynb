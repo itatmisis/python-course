{
 "cells": [
  {
   "cell_type": "markdown",
   "metadata": {},
   "source": [
    "## Глава 1 - Типы данных, операторы, ввод/ввывод, циклы, if-else, словари, множества, списки"
   ]
  },
  {
   "cell_type": "code",
   "execution_count": 10,
   "metadata": {},
   "outputs": [
    {
     "name": "stdout",
     "output_type": "stream",
     "text": [
      "Hello World from ITAM\n"
     ]
    }
   ],
   "source": [
    "greeting = \"Hello World from ITAM\"\n",
    "print(greeting)"
   ]
  },
  {
   "cell_type": "code",
   "execution_count": 11,
   "metadata": {},
   "outputs": [],
   "source": [
    "apples = 13"
   ]
  },
  {
   "cell_type": "code",
   "execution_count": 21,
   "metadata": {},
   "outputs": [
    {
     "name": "stdout",
     "output_type": "stream",
     "text": [
      "15\n"
     ]
    }
   ],
   "source": [
    "print(apples)"
   ]
  },
  {
   "cell_type": "code",
   "execution_count": 19,
   "metadata": {},
   "outputs": [
    {
     "data": {
      "text/plain": [
       "(15, 'Hello world')"
      ]
     },
     "execution_count": 19,
     "metadata": {},
     "output_type": "execute_result"
    }
   ],
   "source": [
    "apples, \"Hello world\""
   ]
  },
  {
   "cell_type": "code",
   "execution_count": 20,
   "metadata": {},
   "outputs": [],
   "source": [
    "apples = 15"
   ]
  },
  {
   "cell_type": "markdown",
   "metadata": {
    "pycharm": {
     "name": "#%% md\n"
    }
   },
   "source": [
    "### Типы данных\n",
    "Основные типы данных:\n",
    "1. Int - целочисленный тип.<br>"
   ]
  },
  {
   "cell_type": "code",
   "execution_count": 24,
   "metadata": {
    "pycharm": {
     "name": "#%%\n"
    }
   },
   "outputs": [
    {
     "data": {
      "text/plain": [
       "(9, 40, 7, 66)"
      ]
     },
     "execution_count": 24,
     "metadata": {},
     "output_type": "execute_result"
    }
   ],
   "source": [
    "a = 9\n",
    "b = 4 * 10  # можно сразу присваивать выражение\n",
    "c = 10 - 3\n",
    "d = 66\n",
    "a, b, c, d"
   ]
  },
  {
   "cell_type": "code",
   "execution_count": null,
   "metadata": {},
   "outputs": [],
   "source": [
    "# Операторы\n",
    "# Cложения и вычитания\n",
    "2 + 1, 9 - 4"
   ]
  },
  {
   "cell_type": "code",
   "execution_count": 26,
   "metadata": {},
   "outputs": [
    {
     "data": {
      "text/plain": [
       "(16, 3, 3.3333333333333335)"
      ]
     },
     "execution_count": 26,
     "metadata": {},
     "output_type": "execute_result"
    }
   ],
   "source": [
    "# Умножения и целочисленного деления\n",
    "a = 8 * 2\n",
    "b = 10 // 3\n",
    "# Существует также обычное деление,\n",
    "# но оно всегда возвращает тип float\n",
    "c = 10 / 3\n",
    "a, b, c"
   ]
  },
  {
   "cell_type": "code",
   "execution_count": 27,
   "metadata": {},
   "outputs": [
    {
     "data": {
      "text/plain": [
       "(1, 729)"
      ]
     },
     "execution_count": 27,
     "metadata": {},
     "output_type": "execute_result"
    }
   ],
   "source": [
    "# Взятия остатка и возведения в степень\n",
    "10 % 3, 9**3"
   ]
  },
  {
   "cell_type": "markdown",
   "metadata": {
    "pycharm": {
     "name": "#%% md\n"
    }
   },
   "source": [
    "2. Float - число с плавающей точкой  "
   ]
  },
  {
   "cell_type": "code",
   "execution_count": 28,
   "metadata": {
    "pycharm": {
     "name": "#%%\n"
    }
   },
   "outputs": [
    {
     "data": {
      "text/plain": [
       "(4000.0, 38.22, 3.142857142857143)"
      ]
     },
     "execution_count": 28,
     "metadata": {},
     "output_type": "execute_result"
    }
   ],
   "source": [
    "a = 4000.0\n",
    "b = 4.2 * 9.1\n",
    "c = 22.0 / 7\n",
    "a, b, c"
   ]
  },
  {
   "cell_type": "code",
   "execution_count": 34,
   "metadata": {},
   "outputs": [
    {
     "data": {
      "text/plain": [
       "5.0"
      ]
     },
     "execution_count": 34,
     "metadata": {},
     "output_type": "execute_result"
    }
   ],
   "source": [
    "# У Float операторы аналогичны операторам int, за исключением:\n",
    "# Деление\n",
    "10 / 2"
   ]
  },
  {
   "cell_type": "markdown",
   "metadata": {},
   "source": [
    "3. Bool - логический тип, может принимать только True(правда) или False(ложь)  "
   ]
  },
  {
   "cell_type": "code",
   "execution_count": 36,
   "metadata": {
    "pycharm": {
     "name": "#%%\n"
    }
   },
   "outputs": [
    {
     "data": {
      "text/plain": [
       "(True, False, True)"
      ]
     },
     "execution_count": 36,
     "metadata": {},
     "output_type": "execute_result"
    }
   ],
   "source": [
    "a = True\n",
    "b = False\n",
    "c = b or a  # or - дизъюнкция, логическое ИЛИ\n",
    "a, b, c"
   ]
  },
  {
   "cell_type": "code",
   "execution_count": 37,
   "metadata": {},
   "outputs": [
    {
     "data": {
      "text/plain": [
       "(True, False, False)"
      ]
     },
     "execution_count": 37,
     "metadata": {},
     "output_type": "execute_result"
    }
   ],
   "source": [
    "# Операторы\n",
    "a = True or False  # дизъюнкция, логическое ИЛИ\n",
    "b = True and False  # конъюнкция, логическо И\n",
    "c = not True  # логическое отрицание\n",
    "\n",
    "a, b, c"
   ]
  },
  {
   "cell_type": "markdown",
   "metadata": {
    "pycharm": {
     "name": "#%% md\n"
    }
   },
   "source": [
    "4. Str - строковый тип, может быть любой длины."
   ]
  },
  {
   "cell_type": "code",
   "execution_count": null,
   "metadata": {
    "pycharm": {
     "name": "#%%\n"
    }
   },
   "outputs": [],
   "source": [
    "# Записывается через кавычки, как одинарные и двойные, так и тройные\n",
    "a = \"Hello, 'my' World\"\n",
    "\n",
    "# можно миксовать кавычки\n",
    "b = 'Hello, \"User\"'\n",
    "\n",
    "# Тройные кавычки позволяют писать длинно\n",
    "c = \"\"\"Very\n",
    "Long\n",
    "Text\n",
    "\"\"\"\n",
    "a, b, c"
   ]
  },
  {
   "cell_type": "code",
   "execution_count": null,
   "metadata": {},
   "outputs": [],
   "source": [
    "# Операторы\n",
    "a = \"Hello\" + \" World\"  # конкатенация, то есть сложение строк\n",
    "a"
   ]
  },
  {
   "cell_type": "markdown",
   "metadata": {},
   "source": [
    "5. List - динамический массив данных, который может быть любой длины, длина может увеличиваться, элементы можно удалять, также может иметь любые и разные типы данных внутри  "
   ]
  },
  {
   "cell_type": "code",
   "execution_count": null,
   "metadata": {},
   "outputs": [],
   "source": [
    "a = [43, 2]\n",
    "b = []\n",
    "c = [\"Hello\", 7.3]\n",
    "a, b, c"
   ]
  },
  {
   "cell_type": "code",
   "execution_count": null,
   "metadata": {},
   "outputs": [],
   "source": [
    "# Операторы\n",
    "a = [2, 3] + [1, 2]  # контатенация листов\n",
    "b = len([4, 3, 2])  # взятие длины(релевантно и для строк)\n",
    "c = len(\"Hello, World\")\n",
    "a, b, c"
   ]
  },
  {
   "cell_type": "code",
   "execution_count": null,
   "metadata": {},
   "outputs": [],
   "source": [
    "# Слайсы и индексации\n",
    "# Индексация - взятие отдельного элемента по его индексу\n",
    "# Нумерация всегда начинается с нуля\n",
    "a = \"Hello, World\"\n",
    "b = [9, 8, 7, 6]\n",
    "a[0], b[2]  # 0 элемент в \"Hello Wolrd - H, второй в 9, 8, 7, 6 - 7\""
   ]
  },
  {
   "cell_type": "code",
   "execution_count": null,
   "metadata": {},
   "outputs": [],
   "source": [
    "# Слайсинг - получение подлиста или подстроки.\n",
    "# Формат: [начальный индекс : конечный (не включая) : шаг]\n",
    "# Например, нам нужно получить только слово Hello в \"Hello, World\"\n",
    "# , тогда начинаем с 0, заканчиваем 5 (0, 1, 2, 3, 4)\n",
    "a = \"Hello, World\"\n",
    "a[0:5]"
   ]
  },
  {
   "cell_type": "code",
   "execution_count": null,
   "metadata": {},
   "outputs": [],
   "source": [
    "a = \"Hello, World\"\n",
    "a[:5]  # Пустой первый аргумент автоматически заменяется на 0"
   ]
  },
  {
   "cell_type": "markdown",
   "metadata": {},
   "source": [
    "Типы данных питона можно разделить на mutable (изменяемый) и immutable (неизменяемые)  \n",
    "Неизменяемые типы данных не могут быть изменены и поэтому всегда пересоздаются при изменение  \n",
    "Изменяемые же могут изменяться  \n",
    "Неизменяемые: int, float, str и т.д.  \n",
    "Изменяемые: list и т.д."
   ]
  },
  {
   "cell_type": "code",
   "execution_count": null,
   "metadata": {},
   "outputs": [],
   "source": [
    "a = \"Hello, World\"\n",
    "# a[2] = \"4\" # Выдаст ошибку, потому что str - неизменяемый"
   ]
  },
  {
   "cell_type": "code",
   "execution_count": null,
   "metadata": {},
   "outputs": [],
   "source": [
    "b = [\"H\", \"e\", \"l\", \"l\", \"o\", \",\", \" \", \"W\", \"o\", \"l\", \"r\", \"d\"]\n",
    "b[4] = \"a\"  # Не выдаст ошибку, потоу что list - изменяемый\n",
    "b"
   ]
  },
  {
   "cell_type": "code",
   "execution_count": null,
   "metadata": {},
   "outputs": [],
   "source": [
    "a = 10\n",
    "a += 15\n",
    "a"
   ]
  },
  {
   "cell_type": "markdown",
   "metadata": {},
   "source": [
    "### Ещё операторы\n",
    "Помимо выше указанных операторов также существуют:\n",
    "- `==` - оператор равенства. Пример: `3 == 3.0` вернёт `True`\n",
    "- `!=` - оператор неравенства(== наоборот). Пример: `10 != 2` вернёт `True`\n",
    "- `>`, `<` - больше и меньше соотвественно\n",
    "- `>=`, `<=` - больше, либо равно и меньше, либо равно\n",
    "- `is` - оператор идентичности. В отличие от `==` проверяет, что 2 объекта являются одним и тем же, то есть ссылаются на один и тот же блок памяти. "
   ]
  },
  {
   "cell_type": "code",
   "execution_count": 38,
   "metadata": {},
   "outputs": [
    {
     "data": {
      "text/plain": [
       "(False, True)"
      ]
     },
     "execution_count": 38,
     "metadata": {},
     "output_type": "execute_result"
    }
   ],
   "source": [
    "# Пример работы is\n",
    "a = 257\n",
    "b = 257\n",
    "a is b, a == b"
   ]
  },
  {
   "cell_type": "markdown",
   "metadata": {},
   "source": [
    "### Условные операторы и циклы\n",
    "Для управлением работы скрипта используются условные операторы, которые заставляют программу что-либо делать при каком-либо условие.  \n",
    "Формат:\n",
    "``` python\n",
    "if <условие>:\n",
    "    <блок кода> # Выполниться, если условие выше истинно\n",
    "[elif <условие>:\n",
    "    <блок кода>] # Выполниться, если выше условия НЕ истинны, а это истинно\n",
    "[else:\n",
    "    <блок кода>] # Выполниться, если все условия выше НЕ истинны\n",
    "```"
   ]
  },
  {
   "cell_type": "code",
   "execution_count": null,
   "metadata": {},
   "outputs": [],
   "source": [
    "# Примеры\n",
    "name_is = False\n",
    "if name_is:\n",
    "    print(\"Hi, Peter\")\n",
    "else:\n",
    "    print(\"Hi, User\")"
   ]
  },
  {
   "cell_type": "code",
   "execution_count": null,
   "metadata": {},
   "outputs": [],
   "source": [
    "a = 2 + 2\n",
    "if a == 4:\n",
    "    print(\"We live in society\")\n",
    "elif a == 5:\n",
    "    print(\"We live in oceania\")\n",
    "else:\n",
    "    print(\"???\")"
   ]
  },
  {
   "cell_type": "code",
   "execution_count": null,
   "metadata": {},
   "outputs": [],
   "source": [
    "\"\"\"\n",
    "Работайте с if осторожно, если на вход подаётся тип данных, \n",
    "отличный от bool, происходит перевод к bool. \n",
    "При этом разные типы данных по разному возвращают истинность\n",
    "\"\"\"\n",
    "if 0:\n",
    "    print(\"0 - ложь\")\n",
    "elif 1:\n",
    "    print(\"1 - истинна\")"
   ]
  },
  {
   "cell_type": "code",
   "execution_count": null,
   "metadata": {},
   "outputs": [],
   "source": [
    "if \"False\":\n",
    "    print(\"А вот НЕ пустая строка всегда истинна\")\n",
    "if \"\":\n",
    "    print(\"А пустая - ложна\")"
   ]
  },
  {
   "cell_type": "code",
   "execution_count": null,
   "metadata": {},
   "outputs": [],
   "source": [
    "if [False]:\n",
    "    print(\"Аналогично с листами\")\n",
    "if []:\n",
    "    print(\"Не сработает\")"
   ]
  },
  {
   "cell_type": "markdown",
   "metadata": {
    "pycharm": {
     "name": "#%% md\n"
    }
   },
   "source": [
    "### Циклы\n",
    "В питоне существуют 2 цикла, for и while\n",
    "#### Цикл for\n",
    "Формат:\n",
    "``` python\n",
    "for <переменная для итерирования> in <объект итерирования>:\n",
    "    <тело цикла>\n",
    "```\n",
    "Например:\n",
    "``` python\n",
    "for i in [1, 2, 3]:\n",
    "    print(i) # будет напечатано: 1\\n2\\n3\\n\n",
    "```\n",
    "Принимает на вход любой объект, по которому можно проитерироваться, будь то, например, лист или строка.  \n",
    "`range(<начало>, <конец>, <шаг>)` - генератор, что создаёт объект для итерации, синтаксис, по сути, как у слайсов "
   ]
  },
  {
   "cell_type": "code",
   "execution_count": null,
   "metadata": {
    "pycharm": {
     "name": "#%% md\n"
    }
   },
   "outputs": [],
   "source": [
    "for i in range(10):\n",
    "    print(\"I love python\", end=\" \")  # end - аргумент print,\n",
    "    # который указывает какой символ будет поставлен в конце строки"
   ]
  },
  {
   "cell_type": "code",
   "execution_count": null,
   "metadata": {},
   "outputs": [],
   "source": [
    "for i in [1, 2, 3, 4]:\n",
    "    print(i - 1)"
   ]
  },
  {
   "cell_type": "code",
   "execution_count": null,
   "metadata": {},
   "outputs": [],
   "source": [
    "# Для получения как самого объекта, так и его\n",
    "# индекса можно использовать функцию enumerate:\n",
    "for idx, symbol in enumerate(\"Hello, World\"):\n",
    "    print(idx, symbol, sep=\": \")"
   ]
  },
  {
   "cell_type": "markdown",
   "metadata": {},
   "source": [
    "#### Цикл While\n",
    "Формат:\n",
    "``` python\n",
    "while <Условие>:\n",
    "    <тело цикла>\n",
    "```\n",
    "Например:\n",
    "``` python\n",
    "idx = 0\n",
    "while idx < 3:\n",
    "    print(idx, end=' ') # 0 1 2 \n",
    "    idx+=1\n",
    "```\n",
    "Цикл while выполняется, пока условие истинно. Как и с if, можно неявно приводить к логическому типу:"
   ]
  },
  {
   "cell_type": "code",
   "execution_count": null,
   "metadata": {},
   "outputs": [],
   "source": [
    "list_ = [1, 2, 3, 4, 5, 6]\n",
    "while list_:\n",
    "    # .pop() - метод листов, который удаляет последний\n",
    "    # элемент листа и возвращает его\n",
    "    print(list_.pop(), end=\", \")"
   ]
  },
  {
   "cell_type": "markdown",
   "metadata": {},
   "source": [
    "### Другие способы контролирования потока \n",
    "#### Break\n",
    "Инструкция `break` позволяет выйти из ближайщего цикла"
   ]
  },
  {
   "cell_type": "code",
   "execution_count": null,
   "metadata": {},
   "outputs": [],
   "source": [
    "for i in range(10):\n",
    "    print(i, end=\" \")\n",
    "    if i == 5:\n",
    "        break"
   ]
  },
  {
   "cell_type": "markdown",
   "metadata": {},
   "source": [
    "#### Continue\n",
    "Позволяет пропустить остаток кода в цикле и сразу перейти к следующей итерации"
   ]
  },
  {
   "cell_type": "code",
   "execution_count": null,
   "metadata": {},
   "outputs": [],
   "source": [
    "for i in range(10):\n",
    "    if i % 2 == 0:\n",
    "        continue\n",
    "    print(i, end=\" \")"
   ]
  },
  {
   "cell_type": "markdown",
   "metadata": {},
   "source": [
    "#### Pass\n",
    "Буквально ничего не делает. В основном используется для отладки"
   ]
  },
  {
   "cell_type": "code",
   "execution_count": null,
   "metadata": {},
   "outputs": [],
   "source": [
    "for i in range(10):\n",
    "    if i % 2 == 0:\n",
    "        ...\n",
    "    print(i, end=\"\")\n",
    "\n",
    "### или\n",
    "\n",
    "# for i in range(10):\n",
    "#     if i % 2 == 0:\n",
    "#         pass\n",
    "#     print(i, end=\"\")"
   ]
  },
  {
   "cell_type": "markdown",
   "metadata": {},
   "source": [
    "## Ввод через консоль\n",
    "Для ввода данных в программу используется функция input(), которая считывает строку до пробела"
   ]
  },
  {
   "cell_type": "code",
   "execution_count": null,
   "metadata": {},
   "outputs": [],
   "source": [
    "a = input()\n",
    "a"
   ]
  },
  {
   "cell_type": "code",
   "execution_count": null,
   "metadata": {},
   "outputs": [],
   "source": [
    "# Чтобы получить на вход какое-либо значение другого\n",
    "# типа, используете input вместе с соотвествующей функцией\n",
    "a = int(input())  # выдаст Int\n",
    "a"
   ]
  },
  {
   "cell_type": "code",
   "execution_count": null,
   "metadata": {},
   "outputs": [],
   "source": [
    "# Если необходимо ввести несколько значений,\n",
    "# можно использовать split(), который делит строку\n",
    "# на массив строк по пробелам\n",
    "a = input()\n",
    "b = a.split()\n",
    "a, b"
   ]
  },
  {
   "cell_type": "markdown",
   "metadata": {},
   "source": [
    "## Словарь\n",
    "Ассоциативный массив данных  \n",
    "`dictionary = {<ключ>: <значение>}`"
   ]
  },
  {
   "cell_type": "code",
   "execution_count": null,
   "metadata": {},
   "outputs": [],
   "source": [
    "city_to_country = {\"Moscow\": \"Russia\", \"New York\": \"US\", \"Munich\": \"Bundesrepublik Deutschland\"}\n",
    "city_to_country[\"Moscow\"]"
   ]
  },
  {
   "cell_type": "code",
   "execution_count": null,
   "metadata": {},
   "outputs": [],
   "source": [
    "# Добавление элемента\n",
    "city_to_country[\"Paris\"] = \"France\"\n",
    "city_to_country[\"Paris\"]"
   ]
  },
  {
   "cell_type": "code",
   "execution_count": null,
   "metadata": {},
   "outputs": [],
   "source": [
    "# Также можно менять значение по ключу\n",
    "city_to_country[\"Moscow\"] = \"USSR\"\n",
    "city_to_country[\"Moscow\"]"
   ]
  },
  {
   "cell_type": "code",
   "execution_count": null,
   "metadata": {},
   "outputs": [],
   "source": [
    "# Вывод пар ключ-значение\n",
    "for key, value in city_to_country.items():\n",
    "    print(key, value, sep=\": \")"
   ]
  },
  {
   "cell_type": "code",
   "execution_count": null,
   "metadata": {},
   "outputs": [],
   "source": [
    "city_to_country[\"Saratov\"]  # KeyError"
   ]
  },
  {
   "cell_type": "code",
   "execution_count": null,
   "metadata": {},
   "outputs": [],
   "source": [
    "print(city_to_country.get(\"Saratov\", \"Russia\"))\n",
    "if \"Saratov\" not in city_to_country:  # проверка на существование ключа в словаре\n",
    "    city_to_country[\"Saratov\"] = \"Russia\""
   ]
  },
  {
   "cell_type": "markdown",
   "metadata": {},
   "source": [
    "**Hashable** data types: int, float, str, tuple and NoneType (`__hash__`, `__eq__`)\n",
    "\n",
    "**Unhashable** data types: dict, list, and set"
   ]
  },
  {
   "cell_type": "markdown",
   "metadata": {},
   "source": [
    "## Множества\n",
    "Неупорядоченная коллекция уникальных элементов"
   ]
  },
  {
   "cell_type": "code",
   "execution_count": null,
   "metadata": {},
   "outputs": [],
   "source": [
    "a = {1, 2, 3, 3}\n",
    "b = {3, 4, 5}\n",
    "\n",
    "print(a | b)  # Объединение (дизьюнкция)\n",
    "print(a & b)  # Разница (конъюкция)"
   ]
  },
  {
   "cell_type": "code",
   "execution_count": null,
   "metadata": {},
   "outputs": [],
   "source": [
    "a = {1, 2, 3}\n",
    "b = {2, 3}\n",
    "a >= b"
   ]
  }
 ],
 "metadata": {
  "interpreter": {
   "hash": "b0fa6594d8f4cbf19f97940f81e996739fb7646882a419484c72d19e05852a7e"
  },
  "kernelspec": {
   "display_name": "Python 3 (ipykernel)",
   "language": "python",
   "name": "python3"
  },
  "language_info": {
   "codemirror_mode": {
    "name": "ipython",
    "version": 3
   },
   "file_extension": ".py",
   "mimetype": "text/x-python",
   "name": "python",
   "nbconvert_exporter": "python",
   "pygments_lexer": "ipython3",
   "version": "3.10.13"
  }
 },
 "nbformat": 4,
 "nbformat_minor": 4
}
