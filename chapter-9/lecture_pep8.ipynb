{
 "cells": [
  {
   "cell_type": "markdown",
   "id": "f41cd407",
   "metadata": {},
   "source": [
    "#### PEP8\n",
    "\n",
    "PEP8 - стилистический стандарт питона\n",
    "https://www.python.org/dev/peps/pep-0008/   \n",
    "Описывает *как* стилистически правильно писать на питоне\n",
    "\n",
    "Примеры:"
   ]
  },
  {
   "cell_type": "code",
   "execution_count": 1,
   "id": "11a79ab6",
   "metadata": {},
   "outputs": [],
   "source": [
    "# Все глобальные константы должны писаться используя UPPER_CASE\n",
    "MAIN_PASS = \"5125123823\"\n",
    "RESPONCE_TIMEOUT = 20.1"
   ]
  },
  {
   "cell_type": "code",
   "execution_count": 2,
   "id": "451fe7b3",
   "metadata": {},
   "outputs": [],
   "source": [
    "# Локальные переменные, названия функций, методой, полей и аргументов\n",
    "# должны писаться с использованием snake_case\n",
    "def func_name():\n",
    "    local_var = 20\n",
    "    students_list = [1, 2, 3]"
   ]
  },
  {
   "cell_type": "code",
   "execution_count": 3,
   "id": "b36fbd9d",
   "metadata": {},
   "outputs": [],
   "source": [
    "# Названия классов должны использовать CamelUpperCase\n",
    "class BestClassEver:\n",
    "    pass"
   ]
  },
  {
   "cell_type": "markdown",
   "id": "d3f69c45",
   "metadata": {},
   "source": [
    "Импорты по PEP8 должны идти в следующем формате\n",
    "``` python\n",
    "import <build in lib>\n",
    "import <build1 in lib>\n",
    "import <build2 in lib>\n",
    "\n",
    "import <third-party lib>\n",
    "\n",
    "import <local lib>\n",
    "```\n",
    "Также недопускается подключать несколько библиотек в одну строку  \n",
    "Нельзя:\n",
    "``` python\n",
    "import os, sys\n",
    "```\n",
    "Можно:\n",
    "``` python\n",
    "import os\n",
    "import sys\n",
    "```"
   ]
  }
 ],
 "metadata": {
  "kernelspec": {
   "display_name": "Python 3 (ipykernel)",
   "language": "python",
   "name": "python3"
  },
  "language_info": {
   "codemirror_mode": {
    "name": "ipython",
    "version": 3
   },
   "file_extension": ".py",
   "mimetype": "text/x-python",
   "name": "python",
   "nbconvert_exporter": "python",
   "pygments_lexer": "ipython3",
   "version": "3.8.9"
  }
 },
 "nbformat": 4,
 "nbformat_minor": 5
}
