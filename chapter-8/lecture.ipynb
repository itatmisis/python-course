{
 "cells": [
  {
   "cell_type": "markdown",
   "id": "bd7dae2f",
   "metadata": {},
   "source": [
    "## Абстрактные типы в Python\n",
    "- Встроенные\n",
    "- Подключаемые\n",
    "\n",
    "О типах в официальной документации: https://docs.python.org/3/library/stdtypes.html#standard-generic-collections"
   ]
  },
  {
   "cell_type": "markdown",
   "id": "95df4d3f",
   "metadata": {},
   "source": [
    "## Встроенные "
   ]
  },
  {
   "attachments": {
    "image.png": {
     "image/png": "[encoded data removed]"
    }
   },
   "cell_type": "markdown",
   "id": "08c7f469",
   "metadata": {},
   "source": [
    "### List, Лист\n",
    "Реализован как динамический массив \n",
    "- имеет 2 размера, физический и логический\n",
    "- когда элемент добавляется/удаляется меняется логический размер\n",
    "- если логический размер требует увеличения больше физического, массив пересоздается с размером 2x от предыдушего.\n",
    "![image.png](attachment:image.png)"
   ]
  },
  {
   "cell_type": "code",
   "execution_count": 1,
   "id": "26b0445f",
   "metadata": {},
   "outputs": [
    {
     "data": {
      "text/plain": [
       "([0, 1, 2, 3], [0, 1, 2, 4])"
      ]
     },
     "execution_count": 1,
     "metadata": {},
     "output_type": "execute_result"
    }
   ],
   "source": [
    "a = list(range(4))\n",
    "a, [0, 1, 2, 4]"
   ]
  },
  {
   "cell_type": "code",
   "execution_count": 97,
   "id": "c9c6c13f",
   "metadata": {},
   "outputs": [
    {
     "name": "stdout",
     "output_type": "stream",
     "text": [
      "0: 56| +56\n",
      "1: 88| +32\n",
      "2: 88| +0\n",
      "3: 88| +0\n",
      "4: 88| +0\n",
      "5: 120| +32\n",
      "6: 120| +0\n",
      "7: 120| +0\n",
      "8: 120| +0\n",
      "9: 184| +64\n",
      "10: 184| +0\n",
      "11: 184| +0\n",
      "12: 184| +0\n",
      "13: 184| +0\n",
      "14: 184| +0\n",
      "15: 184| +0\n",
      "16: 184| +0\n",
      "17: 256| +72\n",
      "18: 256| +0\n",
      "19: 256| +0\n",
      "20: 256| +0\n",
      "21: 256| +0\n",
      "22: 256| +0\n",
      "23: 256| +0\n",
      "24: 256| +0\n",
      "25: 256| +0\n",
      "26: 336| +80\n",
      "27: 336| +0\n",
      "28: 336| +0\n",
      "29: 336| +0\n"
     ]
    }
   ],
   "source": [
    "from sys import getsizeof\n",
    "\n",
    "list_ = []\n",
    "prev = 0\n",
    "cur = getsizeof(list_)\n",
    "print(f'0: {cur}| +{cur-prev}')\n",
    "for i in range(1, 30):\n",
    "    list_.append(None)\n",
    "    prev = cur\n",
    "    cur = getsizeof(list_)\n",
    "    print(f'{i}: {cur}| +{cur-prev}')"
   ]
  },
  {
   "cell_type": "markdown",
   "id": "0d31311d",
   "metadata": {},
   "source": [
    "> Внимание, метод getsizeof возвращает размер только аттрибьютов объекта, он не рекурсиве"
   ]
  },
  {
   "cell_type": "code",
   "execution_count": 10,
   "id": "66db98a4",
   "metadata": {},
   "outputs": [
    {
     "data": {
      "text/plain": [
       "(64, 32)"
      ]
     },
     "execution_count": 10,
     "metadata": {},
     "output_type": "execute_result"
    }
   ],
   "source": [
    "b = 1_000_000_000_000\n",
    "a = [b]\n",
    "getsizeof(a), getsizeof(b)"
   ]
  },
  {
   "cell_type": "code",
   "execution_count": 7,
   "id": "719b80ff",
   "metadata": {},
   "outputs": [
    {
     "data": {
      "text/plain": [
       "(64, 66)"
      ]
     },
     "execution_count": 7,
     "metadata": {},
     "output_type": "execute_result"
    }
   ],
   "source": [
    "b = '1_000_000_000_000'\n",
    "a = [b]\n",
    "getsizeof(a), getsizeof(b)"
   ]
  },
  {
   "cell_type": "markdown",
   "id": "ae238b10",
   "metadata": {},
   "source": [
    "#### Применимость листа\n",
    "_в основном_ лист используется для тех же целей, что и массив, кортеж и тд. То есть для хранения массива данных. \n",
    "Но если вам нужна скорость, неизменяемость или экономичность, лист стоит не использовать. \n",
    "> Помните, операчи insert на листе очень медленная "
   ]
  },
  {
   "cell_type": "markdown",
   "id": "b546d23d",
   "metadata": {},
   "source": [
    "### Tuple, Кортеж\n",
    "Реализован как просто статический массив"
   ]
  },
  {
   "cell_type": "code",
   "execution_count": 14,
   "id": "189f4f0b",
   "metadata": {},
   "outputs": [
    {
     "data": {
      "text/plain": [
       "((0, 1, 2, 3, 4, 5, 6, 7, 8, 9), (1, 2, 3))"
      ]
     },
     "execution_count": 14,
     "metadata": {},
     "output_type": "execute_result"
    }
   ],
   "source": [
    "# Tuple, Кортеж\n",
    "a = tuple(range(10))\n",
    "b = (1, 2, 3)\n",
    "a, b"
   ]
  },
  {
   "cell_type": "code",
   "execution_count": 16,
   "id": "0a5bbf05",
   "metadata": {},
   "outputs": [
    {
     "name": "stdout",
     "output_type": "stream",
     "text": [
      "0: 40| +40\n",
      "1: 48| +8\n",
      "2: 56| +8\n",
      "3: 64| +8\n",
      "4: 72| +8\n",
      "5: 80| +8\n",
      "6: 88| +8\n",
      "7: 96| +8\n",
      "8: 104| +8\n",
      "9: 112| +8\n",
      "10: 120| +8\n",
      "11: 128| +8\n",
      "12: 136| +8\n",
      "13: 144| +8\n",
      "14: 152| +8\n",
      "15: 160| +8\n",
      "16: 168| +8\n",
      "17: 176| +8\n",
      "18: 184| +8\n",
      "19: 192| +8\n",
      "20: 200| +8\n",
      "21: 208| +8\n",
      "22: 216| +8\n",
      "23: 224| +8\n",
      "24: 232| +8\n",
      "25: 240| +8\n",
      "26: 248| +8\n",
      "27: 256| +8\n",
      "28: 264| +8\n",
      "29: 272| +8\n"
     ]
    }
   ],
   "source": [
    "list_ = []\n",
    "tuple_ = tuple()\n",
    "prev = 0\n",
    "cur = getsizeof(tuple_)\n",
    "print(f'0: {cur}| +{cur-prev}')\n",
    "for i in range(1, 30):\n",
    "    list_.append(None)\n",
    "    tuple_ = tuple(list_)\n",
    "    prev = cur\n",
    "    cur = getsizeof(tuple_)\n",
    "    print(f'{i}: {cur}| +{cur-prev}')"
   ]
  },
  {
   "cell_type": "markdown",
   "id": "d166e84d",
   "metadata": {},
   "source": [
    "#### Применимость кортежа\n",
    "Кортеж стоит использовать всегда, когда данные не будут меняться. \n",
    "Например, при чтение из базы данных строчки записываются в кортежи.  \n",
    "Также, кортеж стоит использовать в умолчательных значения функций\n",
    "``` python\n",
    "# Так делать можно\n",
    "def func(array: Tuple = (0, 1, 2)):\n",
    "    print(array)\n",
    "    \n",
    "# Так делать *можно*, но не стоит\n",
    "def func(array: List = [0, 1, 2]):\n",
    "    print(array)\n",
    "```"
   ]
  },
  {
   "attachments": {
    "image.png": {
     "image/png": "[encoded data removed]"
    }
   },
   "cell_type": "markdown",
   "id": "21cbe382",
   "metadata": {},
   "source": [
    "#### Словарь\n",
    "Словарь реализует ассоциативный массив через хеш-таблицу \n",
    "![image.png](attachment:image.png)"
   ]
  },
  {
   "cell_type": "code",
   "execution_count": 24,
   "id": "43b5387c",
   "metadata": {},
   "outputs": [
    {
     "data": {
      "text/plain": [
       "{1: 0, 2: 1, 3: -1}"
      ]
     },
     "execution_count": 24,
     "metadata": {},
     "output_type": "execute_result"
    }
   ],
   "source": [
    "a = {1: 0, 2: 1, 3: -1}\n",
    "a"
   ]
  },
  {
   "cell_type": "code",
   "execution_count": 25,
   "id": "adc8160c",
   "metadata": {},
   "outputs": [
    {
     "name": "stdout",
     "output_type": "stream",
     "text": [
      "0: 232| +232\n",
      "1: 232| +0\n",
      "2: 232| +0\n",
      "3: 232| +0\n",
      "4: 232| +0\n",
      "5: 232| +0\n",
      "6: 360| +128\n",
      "7: 360| +0\n",
      "8: 360| +0\n",
      "9: 360| +0\n",
      "10: 360| +0\n",
      "11: 640| +280\n",
      "12: 640| +0\n",
      "13: 640| +0\n",
      "14: 640| +0\n",
      "15: 640| +0\n",
      "16: 640| +0\n",
      "17: 640| +0\n",
      "18: 640| +0\n",
      "19: 640| +0\n",
      "20: 640| +0\n",
      "21: 640| +0\n",
      "22: 1176| +536\n",
      "23: 1176| +0\n",
      "24: 1176| +0\n",
      "25: 1176| +0\n",
      "26: 1176| +0\n",
      "27: 1176| +0\n",
      "28: 1176| +0\n",
      "29: 1176| +0\n"
     ]
    }
   ],
   "source": [
    "dict_ = dict()\n",
    "prev = 0\n",
    "cur = getsizeof(dict_)\n",
    "print(f'0: {cur}| +{cur-prev}')\n",
    "for i in range(1, 30):\n",
    "    dict_.update({i: i})\n",
    "    prev = cur\n",
    "    cur = getsizeof(dict_)\n",
    "    print(f'{i}: {cur}| +{cur-prev}')"
   ]
  },
  {
   "cell_type": "markdown",
   "id": "edef2ff4",
   "metadata": {},
   "source": [
    "### Применимость словаря\n",
    "Всегда когда вам нужен ассоциативный массив ключ-значение, используйте словарь.  \n",
    "Но помните, что он реализован на хештаблицах, которые по сравнению\n",
    "с другими реализациями ассоциативных массиво медлены."
   ]
  },
  {
   "cell_type": "markdown",
   "id": "3a97280f",
   "metadata": {},
   "source": [
    "### Set, Множество\n",
    "Массив данных, все элементы которого уникальны  \n",
    "Де-факто является словарем без значение, то есть реализован как хештаблица, где keys - значения множества."
   ]
  },
  {
   "cell_type": "code",
   "execution_count": 26,
   "id": "b8556c91",
   "metadata": {},
   "outputs": [
    {
     "data": {
      "text/plain": [
       "({1, 2, 3}, {1, 2, 3})"
      ]
     },
     "execution_count": 26,
     "metadata": {},
     "output_type": "execute_result"
    }
   ],
   "source": [
    "a = {1, 2, 3}\n",
    "b = set([1, 2, 3])\n",
    "a, b"
   ]
  },
  {
   "cell_type": "code",
   "execution_count": 27,
   "id": "3b392799",
   "metadata": {},
   "outputs": [
    {
     "name": "stdout",
     "output_type": "stream",
     "text": [
      "0: 216| +216\n",
      "1: 216| +0\n",
      "2: 216| +0\n",
      "3: 216| +0\n",
      "4: 216| +0\n",
      "5: 728| +512\n",
      "6: 728| +0\n",
      "7: 728| +0\n",
      "8: 728| +0\n",
      "9: 728| +0\n",
      "10: 728| +0\n",
      "11: 728| +0\n",
      "12: 728| +0\n",
      "13: 728| +0\n",
      "14: 728| +0\n",
      "15: 728| +0\n",
      "16: 728| +0\n",
      "17: 728| +0\n",
      "18: 728| +0\n",
      "19: 2264| +1536\n",
      "20: 2264| +0\n",
      "21: 2264| +0\n",
      "22: 2264| +0\n",
      "23: 2264| +0\n",
      "24: 2264| +0\n",
      "25: 2264| +0\n",
      "26: 2264| +0\n",
      "27: 2264| +0\n",
      "28: 2264| +0\n",
      "29: 2264| +0\n"
     ]
    }
   ],
   "source": [
    "set_ = set()\n",
    "prev = 0\n",
    "cur = getsizeof(set_)\n",
    "print(f'0: {cur}| +{cur-prev}')\n",
    "for i in range(1, 30):\n",
    "    set_.add(i)\n",
    "    prev = cur\n",
    "    cur = getsizeof(set_)\n",
    "    print(f'{i}: {cur}| +{cur-prev}')"
   ]
  },
  {
   "cell_type": "markdown",
   "id": "a6a06163",
   "metadata": {},
   "source": [
    "### Применимость множества\n",
    "> Внимание, множество очень дорогая структура, поэтому используйте только в крайней нужде. \n",
    "\n",
    "Set стоит применять в ситуации, когда необходимо найти пересечения, объединения и тд.  \n",
    "Например, наличие пересечение прав на некий ресурс."
   ]
  },
  {
   "cell_type": "code",
   "execution_count": 73,
   "id": "28b37932",
   "metadata": {},
   "outputs": [
    {
     "data": {
      "text/plain": [
       "set()"
      ]
     },
     "execution_count": 73,
     "metadata": {},
     "output_type": "execute_result"
    }
   ],
   "source": [
    "access = {\"Admin\", \"Publisher\"}\n",
    "my_rights = {\"Moderator\"}\n",
    "\n",
    "access & my_rights"
   ]
  },
  {
   "cell_type": "markdown",
   "id": "92e9a583",
   "metadata": {},
   "source": [
    "####  FrozenSet, Замороженное множество\n",
    "Как set, но не изменяемый"
   ]
  },
  {
   "cell_type": "code",
   "execution_count": 75,
   "id": "297db50b",
   "metadata": {},
   "outputs": [
    {
     "data": {
      "text/plain": [
       "(frozenset({1, 2, 3}), {2, 3, 4}, frozenset({2, 3}))"
      ]
     },
     "execution_count": 75,
     "metadata": {},
     "output_type": "execute_result"
    }
   ],
   "source": [
    "a = frozenset((1, 2, 3))\n",
    "b = set((2, 3, 4))\n",
    "a, b, a & b"
   ]
  },
  {
   "cell_type": "code",
   "execution_count": 76,
   "id": "1435839a",
   "metadata": {},
   "outputs": [
    {
     "name": "stdout",
     "output_type": "stream",
     "text": [
      "0: 216| +216\n",
      "1: 216| +0\n",
      "2: 216| +0\n",
      "3: 216| +0\n",
      "4: 216| +0\n",
      "5: 728| +512\n",
      "6: 728| +0\n",
      "7: 728| +0\n",
      "8: 728| +0\n",
      "9: 728| +0\n",
      "10: 728| +0\n",
      "11: 728| +0\n",
      "12: 728| +0\n",
      "13: 728| +0\n",
      "14: 728| +0\n",
      "15: 728| +0\n",
      "16: 728| +0\n",
      "17: 728| +0\n",
      "18: 728| +0\n",
      "19: 2264| +1536\n",
      "20: 2264| +0\n",
      "21: 2264| +0\n",
      "22: 2264| +0\n",
      "23: 2264| +0\n",
      "24: 2264| +0\n",
      "25: 2264| +0\n",
      "26: 2264| +0\n",
      "27: 2264| +0\n",
      "28: 2264| +0\n",
      "29: 2264| +0\n"
     ]
    }
   ],
   "source": [
    "list_ = []\n",
    "set_ = frozenset()\n",
    "prev = 0\n",
    "cur = getsizeof(set_)\n",
    "print(f'0: {cur}| +{cur-prev}')\n",
    "for i in range(1, 30):\n",
    "    list_.append(i)\n",
    "    set_ = frozenset(list_)\n",
    "    prev = cur\n",
    "    cur = getsizeof(set_)\n",
    "    print(f'{i}: {cur}| +{cur-prev}')"
   ]
  },
  {
   "cell_type": "markdown",
   "id": "249fc973",
   "metadata": {},
   "source": [
    "#### Применимость frozenset\n",
    "Аналогично set, но его можно использовать в умолчательных значения функций.\n",
    "``` python\n",
    "# Очень-очень плохо\n",
    "def func(set_: Set = {1, 2, 3}):\n",
    "    print(set_)\n",
    "    \n",
    "# Хорошо\n",
    "def func(set_: Frozenset = frozenset((1, 2, 3))):\n",
    "    print(set_)\n",
    "```"
   ]
  },
  {
   "cell_type": "markdown",
   "id": "80a30581",
   "metadata": {},
   "source": [
    "### Подключаемые\n",
    "Расмотрим типы данных из библиотек:\n",
    "- collections\n",
    "- array\n",
    "- heapq  "
   ]
  },
  {
   "cell_type": "code",
   "execution_count": 78,
   "id": "50c2ae5c",
   "metadata": {},
   "outputs": [
    {
     "name": "stdout",
     "output_type": "stream",
     "text": [
      "Tokyo Moscow\n"
     ]
    }
   ],
   "source": [
    "\"\"\"\n",
    "ChainMap группирует словари и отображает их в единое, \n",
    "обновляемое представление с поведением, подобным поведению словаря, \n",
    "а также представляет возможности для эффективного управления \n",
    "различными словарями, определения их ключей, свойств и не только. \n",
    "\"\"\"\n",
    "\n",
    "from collections import ChainMap\n",
    "\n",
    "\n",
    "europe = {\"Russia\": \"Moscow\", \"France\": \"Paris\"}\n",
    "asia = {\"Japan\": \"Tokyo\", \"China\": \"Beijing\", 'Seoul': 'South Korea'}\n",
    "\n",
    "chain_map = ChainMap(europe, asia)\n",
    "print(chain_map['Japan'], chain_map['Russia'])\n",
    "\n",
    "\"\"\"\n",
    "ЧейнМэп удобно использовать в ситуации, \n",
    "когда требуется обьеденить много словарей в один\n",
    "\"\"\";"
   ]
  },
  {
   "cell_type": "code",
   "execution_count": 80,
   "id": "bb1570f2",
   "metadata": {},
   "outputs": [
    {
     "data": {
      "text/plain": [
       "Counter({'cats': 4, 'dogs': 1})"
      ]
     },
     "execution_count": 80,
     "metadata": {},
     "output_type": "execute_result"
    }
   ],
   "source": [
    "\"\"\"\n",
    "Counter также является словарем, но используется для подсчета. \n",
    "Во время инициализации ему можно передать итерируемый объект и он \n",
    "посчитает количество входов для каждого элемента\n",
    "\"\"\"\n",
    "\n",
    "from collections import Counter\n",
    "\n",
    "animals = Counter(cats=3, dogs=1)\n",
    "animals['cats']+=1\n",
    "animals"
   ]
  },
  {
   "cell_type": "code",
   "execution_count": 85,
   "id": "329da83f",
   "metadata": {},
   "outputs": [
    {
     "data": {
      "text/plain": [
       "5"
      ]
     },
     "execution_count": 85,
     "metadata": {},
     "output_type": "execute_result"
    }
   ],
   "source": [
    "ode_to_joy = \"\"\"\n",
    "Freude, schöner Götterfunken,\n",
    "Tochter aus Elysium,\n",
    "Wir betreten feuertrunken,\n",
    "Himmlische, dein Heiligtum!\n",
    "Deine Zauber binden wieder\n",
    "Was die Mode streng geteilt*;\n",
    "Alle Menschen werden Brüder*\n",
    "Wo dein sanfter Flügel weilt.\n",
    "\"\"\"\n",
    "\n",
    "count_letters = Counter(ode_to_joy.lower())\n",
    "count_letters['f']"
   ]
  },
  {
   "cell_type": "markdown",
   "id": "b03455a3",
   "metadata": {},
   "source": [
    "`Counter` удобен для подсчета(очевидно)"
   ]
  },
  {
   "cell_type": "code",
   "execution_count": 89,
   "id": "327d4471",
   "metadata": {},
   "outputs": [
    {
     "data": {
      "text/plain": [
       "(10, 'string')"
      ]
     },
     "execution_count": 89,
     "metadata": {},
     "output_type": "execute_result"
    }
   ],
   "source": [
    "\"\"\"\n",
    "defaultdict \n",
    "Наследуется от dict, но при инциализации принимает функцию, которая\n",
    "используется для умолчательных значений. \n",
    "\"\"\"\n",
    "from collections import defaultdict\n",
    "\n",
    "def simple_str():\n",
    "    return \"string\"\n",
    "\n",
    "d = defaultdict(simple_str)\n",
    "d['key'] = 10\n",
    "d['key'], d['nonexisting_key']"
   ]
  },
  {
   "cell_type": "code",
   "execution_count": 93,
   "id": "08f3d5ed",
   "metadata": {},
   "outputs": [
    {
     "data": {
      "text/plain": [
       "(10, 'string')"
      ]
     },
     "execution_count": 93,
     "metadata": {},
     "output_type": "execute_result"
    }
   ],
   "source": [
    "\"\"\"\n",
    "Аналогичного поведения можно добиться, \n",
    "если использовать стандартные словари \n",
    "с методом .get(key, default)\n",
    "\"\"\"\n",
    "d = {'key': 10}\n",
    "d.get('key', simple_str()), d.get('nonexisting_key', simple_str())"
   ]
  },
  {
   "cell_type": "markdown",
   "id": "4829b9a5",
   "metadata": {},
   "source": [
    "`defaultdict` удобно использовать когда требуется часто возвращать умолчательное значение "
   ]
  },
  {
   "cell_type": "markdown",
   "id": "b309996d",
   "metadata": {},
   "source": [
    "### Namedtuple, Именованный кортеж\n",
    "Кортеж, к полям которого можно обратиться как к атрибутам"
   ]
  },
  {
   "cell_type": "code",
   "execution_count": 90,
   "id": "cfef3dc8",
   "metadata": {},
   "outputs": [
    {
     "data": {
      "text/plain": [
       "(4, 6, __main__.Point)"
      ]
     },
     "execution_count": 90,
     "metadata": {},
     "output_type": "execute_result"
    }
   ],
   "source": [
    "from collections import namedtuple\n",
    "Point = namedtuple('Point', ['x', 'y'])\n",
    "\n",
    "p = Point(4, 6)\n",
    "p.x, p.y, type(p)"
   ]
  },
  {
   "cell_type": "markdown",
   "id": "a5f16d76",
   "metadata": {},
   "source": [
    "`namedtuple` идеален для десериализации данных  \n",
    "Например, у вас есть csv файл с данными вида:\n",
    "``` csv\n",
    "idx, name, age, avgscore\n",
    "0, peter, 21, 4\n",
    "1, artem, 21, 3.5\n",
    "2, ilia, 20, 5\n",
    "```\n",
    "В такой ситуации достаточно создать  \n",
    "`namedtuple('Student', ['idx', 'name', 'age', 'avgscore'])`  \n",
    "К которому можно будет обращаться по атрибутам"
   ]
  },
  {
   "cell_type": "markdown",
   "id": "48dcec96",
   "metadata": {},
   "source": [
    "### Array, Массив\n",
    "Работает аналогично листу за тем исключением, что в него можно класть элементы одного типа"
   ]
  },
  {
   "cell_type": "code",
   "execution_count": 93,
   "id": "09b73f07",
   "metadata": {},
   "outputs": [
    {
     "data": {
      "text/plain": [
       "(array('i', [1, 2, 3]), 3)"
      ]
     },
     "execution_count": 93,
     "metadata": {},
     "output_type": "execute_result"
    }
   ],
   "source": [
    "from array import array\n",
    "a = array('i', [1, 2, 3])\n",
    "a, a[2]"
   ]
  },
  {
   "cell_type": "code",
   "execution_count": 103,
   "id": "c8b9038e",
   "metadata": {},
   "outputs": [
    {
     "name": "stdout",
     "output_type": "stream",
     "text": [
      "0: 64| +64\n",
      "1: 80| +16\n",
      "2: 80| +0\n",
      "3: 80| +0\n",
      "4: 80| +0\n",
      "5: 96| +16\n",
      "6: 96| +0\n",
      "7: 96| +0\n",
      "8: 96| +0\n",
      "9: 128| +32\n",
      "10: 128| +0\n",
      "11: 128| +0\n",
      "12: 128| +0\n",
      "13: 128| +0\n",
      "14: 128| +0\n",
      "15: 128| +0\n",
      "16: 128| +0\n",
      "17: 164| +36\n",
      "18: 164| +0\n",
      "19: 164| +0\n",
      "20: 164| +0\n",
      "21: 164| +0\n",
      "22: 164| +0\n",
      "23: 164| +0\n",
      "24: 164| +0\n",
      "25: 164| +0\n",
      "26: 200| +36\n",
      "27: 200| +0\n",
      "28: 200| +0\n",
      "29: 200| +0\n"
     ]
    }
   ],
   "source": [
    "array_ = array('i')\n",
    "prev = 0\n",
    "cur = getsizeof(array_)\n",
    "print(f'0: {cur}| +{cur-prev}')\n",
    "for i in range(1, 30):\n",
    "    array_.append(i)\n",
    "    prev = cur\n",
    "    cur = getsizeof(array_)\n",
    "    print(f'{i}: {cur}| +{cur-prev}')"
   ]
  },
  {
   "cell_type": "markdown",
   "id": "404be18e",
   "metadata": {},
   "source": [
    "`Array` стоит использовать в ситуации, когда есть гарантия, что в массиве будут присутствовать данные одного простого типа.  \n",
    "В таком случае `Array` экономичнее `List`'а"
   ]
  },
  {
   "attachments": {
    "image.png": {
     "image/png": "[encoded data removed]"
    }
   },
   "cell_type": "markdown",
   "id": "ab64fd5f",
   "metadata": {},
   "source": [
    "### Deque, Double-ended queue, Дек, Двусторонняя очередь\n",
    "Реализована как двусторонняя очередь\n",
    "![image.png](attachment:image.png)\n",
    "За одним исключением, ноды данной очереди представляют собой блоки по 64 элементов в виде массива"
   ]
  },
  {
   "cell_type": "code",
   "execution_count": 106,
   "id": "f6715876",
   "metadata": {},
   "outputs": [
    {
     "data": {
      "text/plain": [
       "deque([0, 1, 2, 3])"
      ]
     },
     "execution_count": 106,
     "metadata": {},
     "output_type": "execute_result"
    }
   ],
   "source": [
    "from collections import deque\n",
    "\n",
    "d = deque(range(4), maxlen=8)\n",
    "d"
   ]
  },
  {
   "cell_type": "code",
   "execution_count": 130,
   "id": "f263ba71",
   "metadata": {},
   "outputs": [
    {
     "data": {
      "text/plain": [
       "deque([-1, -1, -1, -1, 5, 5, 5, 5])"
      ]
     },
     "execution_count": 130,
     "metadata": {},
     "output_type": "execute_result"
    }
   ],
   "source": [
    "d.appendleft(-1)\n",
    "d.append(5)\n",
    "d"
   ]
  },
  {
   "cell_type": "code",
   "execution_count": 132,
   "id": "925e8abc",
   "metadata": {},
   "outputs": [
    {
     "data": {
      "text/plain": [
       "(5, -1)"
      ]
     },
     "execution_count": 132,
     "metadata": {},
     "output_type": "execute_result"
    }
   ],
   "source": [
    "d.pop(), d.popleft()"
   ]
  },
  {
   "cell_type": "code",
   "execution_count": 135,
   "id": "4c395749",
   "metadata": {},
   "outputs": [
    {
     "name": "stdout",
     "output_type": "stream",
     "text": [
      "0: 624| +624\n",
      "1: 624| +0\n",
      "2: 624| +0\n",
      "3: 624| +0\n",
      "4: 624| +0\n",
      "5: 624| +0\n",
      "6: 624| +0\n",
      "7: 624| +0\n",
      "8: 624| +0\n",
      "9: 624| +0\n",
      "10: 624| +0\n",
      "11: 624| +0\n",
      "12: 624| +0\n",
      "13: 624| +0\n",
      "14: 624| +0\n",
      "15: 624| +0\n",
      "16: 624| +0\n",
      "17: 624| +0\n",
      "18: 624| +0\n",
      "19: 624| +0\n",
      "20: 624| +0\n",
      "21: 624| +0\n",
      "22: 624| +0\n",
      "23: 624| +0\n",
      "24: 624| +0\n",
      "25: 624| +0\n",
      "26: 624| +0\n",
      "27: 624| +0\n",
      "28: 624| +0\n",
      "29: 624| +0\n",
      "30: 624| +0\n",
      "31: 624| +0\n",
      "32: 624| +0\n",
      "33: 1152| +528\n",
      "34: 1152| +0\n",
      "35: 1152| +0\n",
      "36: 1152| +0\n",
      "37: 1152| +0\n",
      "38: 1152| +0\n",
      "39: 1152| +0\n",
      "40: 1152| +0\n",
      "41: 1152| +0\n",
      "42: 1152| +0\n",
      "43: 1152| +0\n",
      "44: 1152| +0\n",
      "45: 1152| +0\n",
      "46: 1152| +0\n",
      "47: 1152| +0\n",
      "48: 1152| +0\n",
      "49: 1152| +0\n",
      "50: 1152| +0\n",
      "51: 1152| +0\n",
      "52: 1152| +0\n",
      "53: 1152| +0\n",
      "54: 1152| +0\n",
      "55: 1152| +0\n",
      "56: 1152| +0\n",
      "57: 1152| +0\n",
      "58: 1152| +0\n",
      "59: 1152| +0\n",
      "60: 1152| +0\n",
      "61: 1152| +0\n",
      "62: 1152| +0\n",
      "63: 1152| +0\n",
      "64: 1152| +0\n",
      "65: 1152| +0\n",
      "66: 1152| +0\n",
      "67: 1152| +0\n",
      "68: 1152| +0\n",
      "69: 1152| +0\n",
      "70: 1152| +0\n",
      "71: 1152| +0\n",
      "72: 1152| +0\n",
      "73: 1152| +0\n",
      "74: 1152| +0\n",
      "75: 1152| +0\n",
      "76: 1152| +0\n",
      "77: 1152| +0\n",
      "78: 1152| +0\n",
      "79: 1152| +0\n",
      "80: 1152| +0\n",
      "81: 1152| +0\n",
      "82: 1152| +0\n",
      "83: 1152| +0\n",
      "84: 1152| +0\n",
      "85: 1152| +0\n",
      "86: 1152| +0\n",
      "87: 1152| +0\n",
      "88: 1152| +0\n",
      "89: 1152| +0\n",
      "90: 1152| +0\n",
      "91: 1152| +0\n",
      "92: 1152| +0\n",
      "93: 1152| +0\n",
      "94: 1152| +0\n",
      "95: 1152| +0\n",
      "96: 1152| +0\n",
      "97: 1680| +528\n",
      "98: 1680| +0\n",
      "99: 1680| +0\n",
      "100: 1680| +0\n",
      "101: 1680| +0\n",
      "102: 1680| +0\n",
      "103: 1680| +0\n",
      "104: 1680| +0\n",
      "105: 1680| +0\n",
      "106: 1680| +0\n",
      "107: 1680| +0\n",
      "108: 1680| +0\n",
      "109: 1680| +0\n",
      "110: 1680| +0\n",
      "111: 1680| +0\n",
      "112: 1680| +0\n",
      "113: 1680| +0\n",
      "114: 1680| +0\n",
      "115: 1680| +0\n",
      "116: 1680| +0\n",
      "117: 1680| +0\n",
      "118: 1680| +0\n",
      "119: 1680| +0\n",
      "120: 1680| +0\n",
      "121: 1680| +0\n",
      "122: 1680| +0\n",
      "123: 1680| +0\n",
      "124: 1680| +0\n",
      "125: 1680| +0\n",
      "126: 1680| +0\n",
      "127: 1680| +0\n",
      "128: 1680| +0\n",
      "129: 1680| +0\n",
      "130: 1680| +0\n",
      "131: 1680| +0\n",
      "132: 1680| +0\n",
      "133: 1680| +0\n",
      "134: 1680| +0\n",
      "135: 1680| +0\n",
      "136: 1680| +0\n",
      "137: 1680| +0\n",
      "138: 1680| +0\n",
      "139: 1680| +0\n",
      "140: 1680| +0\n",
      "141: 1680| +0\n",
      "142: 1680| +0\n",
      "143: 1680| +0\n",
      "144: 1680| +0\n",
      "145: 1680| +0\n",
      "146: 1680| +0\n",
      "147: 1680| +0\n",
      "148: 1680| +0\n",
      "149: 1680| +0\n",
      "150: 1680| +0\n",
      "151: 1680| +0\n",
      "152: 1680| +0\n",
      "153: 1680| +0\n",
      "154: 1680| +0\n",
      "155: 1680| +0\n",
      "156: 1680| +0\n",
      "157: 1680| +0\n",
      "158: 1680| +0\n",
      "159: 1680| +0\n",
      "160: 1680| +0\n",
      "161: 2208| +528\n",
      "162: 2208| +0\n",
      "163: 2208| +0\n",
      "164: 2208| +0\n",
      "165: 2208| +0\n",
      "166: 2208| +0\n",
      "167: 2208| +0\n",
      "168: 2208| +0\n",
      "169: 2208| +0\n",
      "170: 2208| +0\n",
      "171: 2208| +0\n",
      "172: 2208| +0\n",
      "173: 2208| +0\n",
      "174: 2208| +0\n",
      "175: 2208| +0\n",
      "176: 2208| +0\n",
      "177: 2208| +0\n",
      "178: 2208| +0\n",
      "179: 2208| +0\n",
      "180: 2208| +0\n",
      "181: 2208| +0\n",
      "182: 2208| +0\n",
      "183: 2208| +0\n",
      "184: 2208| +0\n",
      "185: 2208| +0\n",
      "186: 2208| +0\n",
      "187: 2208| +0\n",
      "188: 2208| +0\n",
      "189: 2208| +0\n",
      "190: 2208| +0\n",
      "191: 2208| +0\n",
      "192: 2208| +0\n",
      "193: 2208| +0\n",
      "194: 2208| +0\n",
      "195: 2208| +0\n",
      "196: 2208| +0\n",
      "197: 2208| +0\n",
      "198: 2208| +0\n",
      "199: 2208| +0\n"
     ]
    }
   ],
   "source": [
    "deque_ = deque()\n",
    "prev = 0\n",
    "cur = getsizeof(deque_)\n",
    "print(f'0: {cur}| +{cur-prev}')\n",
    "for i in range(1, 200):\n",
    "    deque_.append(i)\n",
    "    prev = cur\n",
    "    cur = getsizeof(deque_)\n",
    "    print(f'{i}: {cur}| +{cur-prev}')"
   ]
  },
  {
   "cell_type": "markdown",
   "id": "18cfa64f",
   "metadata": {},
   "source": [
    "### Когда использовать Deque?\n",
    "Если вам необходимо часто проводить операции pop, popleft, append, appendleft, то deque будет быстрее чем list.\n",
    "Но в тоже время list на малых данные будет экономичнее и быстрее."
   ]
  },
  {
   "attachments": {
    "image.png": {
     "image/png": "[encoded data removed]"
    }
   },
   "cell_type": "markdown",
   "id": "0ef10bf7",
   "metadata": {},
   "source": [
    "###  HeapQ, Бинарная куча\n",
    "Реализована как надстройка над листами\n",
    "![image.png](attachment:image.png)"
   ]
  },
  {
   "cell_type": "code",
   "execution_count": 136,
   "id": "223b66ad",
   "metadata": {},
   "outputs": [
    {
     "data": {
      "text/plain": [
       "[(1, 'Выйти на улицу'),\n",
       " (3, 'Пойти в магазин'),\n",
       " (6, 'Выйти из магазина'),\n",
       " (14, 'Покушать'),\n",
       " (5, 'Купить колбасы'),\n",
       " (8, 'Вернуться домой'),\n",
       " (9, 'Приготовить бутерброт')]"
      ]
     },
     "execution_count": 136,
     "metadata": {},
     "output_type": "execute_result"
    }
   ],
   "source": [
    "from heapq import *\n",
    "\n",
    "h = []\n",
    "heappush(h, (5, 'Купить колбасы'))\n",
    "heappush(h, (1, 'Выйти на улицу'))\n",
    "heappush(h, (6, 'Выйти из магазина'))\n",
    "heappush(h, (14, 'Покушать'))\n",
    "heappush(h, (3, 'Пойти в магазин'))\n",
    "heappush(h, (8, 'Вернуться домой'))\n",
    "heappush(h, (9, 'Приготовить бутерброт'))\n",
    "h"
   ]
  },
  {
   "cell_type": "code",
   "execution_count": 137,
   "id": "5943ed68",
   "metadata": {},
   "outputs": [
    {
     "name": "stdout",
     "output_type": "stream",
     "text": [
      "(1, 'Выйти на улицу')\n",
      "(3, 'Пойти в магазин')\n",
      "(5, 'Купить колбасы')\n",
      "(6, 'Выйти из магазина')\n",
      "(8, 'Вернуться домой')\n",
      "(9, 'Приготовить бутерброт')\n",
      "(14, 'Покушать')\n"
     ]
    }
   ],
   "source": [
    "while True:\n",
    "    try:\n",
    "        print(heappop(h))\n",
    "    except IndexError:\n",
    "        break"
   ]
  },
  {
   "cell_type": "markdown",
   "id": "e50f55d3",
   "metadata": {},
   "source": [
    "Зачем?\n",
    "\n",
    "Бинарная куча часто используется как структура для определенных алгоритмов.\n",
    "Например, она использутся во внешней сортировку k-way merge sort.\n"
   ]
  }
 ],
 "metadata": {
  "kernelspec": {
   "display_name": "Python 3 (ipykernel)",
   "language": "python",
   "name": "python3"
  },
  "language_info": {
   "codemirror_mode": {
    "name": "ipython",
    "version": 3
   },
   "file_extension": ".py",
   "mimetype": "text/x-python",
   "name": "python",
   "nbconvert_exporter": "python",
   "pygments_lexer": "ipython3",
   "version": "3.8.9"
  }
 },
 "nbformat": 4,
 "nbformat_minor": 5
}
