{
 "cells": [
  {
   "cell_type": "markdown",
   "metadata": {},
   "source": [
    "## Задачи на словари \n",
    "\n",
    "_Решить хотя бы 1 задачу_"
   ]
  },
  {
   "cell_type": "markdown",
   "metadata": {},
   "source": [
    "#### Задача 1.\n",
    "\n",
    "Дан список стран и городов каждой страны. Затем даны названия городов. Для каждого города укажите, в какой стране он находится.\n",
    "\n",
    "\n",
    "Программа получает на вход количество стран 𝑁. Далее идет 𝑁 строк, каждая строка начинается с названия страны, затем идут названия городов этой страны. В следующей строке записано число 𝑀, далее идут 𝑀 запросов — названия каких-то 𝑀 городов, перечисленных выше.\n",
    "\n",
    "**Входные данные:**\n"
   ]
  },
  {
   "cell_type": "code",
   "execution_count": null,
   "metadata": {},
   "outputs": [],
   "source": [
    "2\n",
    "Aztec Tenochtitlan Tetzcoco Tlacopan\n",
    "Inca Cusco Chan-Chan Tiwanaku\n",
    "3\n",
    "Cusco\n",
    "Tenochtitlan\n",
    "Chan-Chan"
   ]
  },
  {
   "cell_type": "markdown",
   "metadata": {},
   "source": [
    "**Результат:**\n",
    "\n",
    "Inca\n",
    "\n",
    "Aztec\n",
    "\n",
    "Inca\n"
   ]
  },
  {
   "cell_type": "code",
   "execution_count": null,
   "metadata": {},
   "outputs": [],
   "source": [
    "# Писать код здесь"
   ]
  },
  {
   "cell_type": "markdown",
   "metadata": {},
   "source": [
    "#### Задача 2. \n",
    "\n",
    "Дан текст (строк может быть много). Выведите слово, которое в этом тексте встречается чаще всего. Если таких слов несколько, выведите то, которое меньше в лексикографическом порядке.\n",
    "\n",
    "*Примечание: используйте метод get()*\n",
    "\n",
    "**Входные данные:**\n"
   ]
  },
  {
   "cell_type": "code",
   "execution_count": null,
   "metadata": {},
   "outputs": [],
   "source": [
    "apple orange banana banana orange"
   ]
  },
  {
   "cell_type": "markdown",
   "metadata": {},
   "source": [
    "**Результат:**\n",
    "\n",
    "`banana`"
   ]
  },
  {
   "cell_type": "code",
   "execution_count": null,
   "metadata": {},
   "outputs": [],
   "source": [
    "# Писать код здесь"
   ]
  },
  {
   "cell_type": "markdown",
   "metadata": {},
   "source": [
    "#### Задача 3. (повышенной сложности, с практики)\n",
    "\n",
    "В городе M прошли выборы, и теперь у вас имеется список результатов голосов избирателей. В каждой из последующих N строк записано название партии, за которую проголосовал данный избиратель, в виде текстовой строки. Программа должна вывести список всех партий в порядке убывания количества голосов, отданных за эту партию. При этом название каждой партии должно быть выведено ровно один раз, вне зависимости от того, сколько голосов было отдано за данную партию. Партии с одинаковым количеством голосов надо выводить в алфавитном порядке.\n",
    "*Для этой задачи потребуется метод списков sort*\n",
    "\n",
    "**Входные данные:**"
   ]
  },
  {
   "cell_type": "code",
   "execution_count": null,
   "metadata": {},
   "outputs": [],
   "source": [
    "6\n",
    "Party one\n",
    "Party two\n",
    "Party three\n",
    "Party three\n",
    "Party two\n",
    "Party three"
   ]
  },
  {
   "cell_type": "markdown",
   "metadata": {},
   "source": [
    "**Результат:**\n",
    "\n",
    "`Party three`\\\n",
    "`Party two`\\\n",
    "`Party one`"
   ]
  },
  {
   "cell_type": "code",
   "execution_count": null,
   "metadata": {},
   "outputs": [],
   "source": [
    "# Писать код здесь"
   ]
  },
  {
   "cell_type": "markdown",
   "metadata": {},
   "source": [
    "## Задачи на множества\n",
    "\n",
    "_В данном блоке нужно решить все задачи_"
   ]
  },
  {
   "cell_type": "markdown",
   "metadata": {},
   "source": [
    "#### Задача 1.\n",
    "Напишите программу, которая находит все различные цифры в символьной строке.\n",
    "Программа должна вывести в одной строке все различные цифры, которые встречаются в исходной строке, в порядке возрастания. Если в строке нет цифр, нужно вывести слово 'NO'.\n",
    "\n",
    "**Входные данные:**"
   ]
  },
  {
   "cell_type": "code",
   "execution_count": null,
   "metadata": {},
   "outputs": [],
   "source": [
    "ab1n32kz2"
   ]
  },
  {
   "cell_type": "markdown",
   "metadata": {},
   "source": [
    "**Результат:**\n",
    "\n",
    "`123`"
   ]
  },
  {
   "cell_type": "code",
   "execution_count": null,
   "metadata": {},
   "outputs": [],
   "source": [
    "# Писать код здесь"
   ]
  },
  {
   "cell_type": "markdown",
   "metadata": {},
   "source": [
    "#### Задача 2.\n",
    "\n",
    "Во входной строке записана последовательность чисел через пробел. Для каждого числа выведите слово _YES_ (в отдельной строке), если это число ранее встречалось в последовательности или _NO_, если не встречалось.\n",
    "\n",
    "\n",
    "**Входные данные:**"
   ]
  },
  {
   "cell_type": "code",
   "execution_count": null,
   "metadata": {},
   "outputs": [],
   "source": [
    "1 2 3 2 3 4"
   ]
  },
  {
   "cell_type": "markdown",
   "metadata": {},
   "source": [
    "**Результат:**\n",
    "\n",
    "NO\n",
    "\n",
    "NO\n",
    "\n",
    "NO\n",
    "\n",
    "YES\n",
    "\n",
    "YES\n",
    "\n",
    "NO"
   ]
  },
  {
   "cell_type": "code",
   "execution_count": null,
   "metadata": {},
   "outputs": [],
   "source": [
    "# Писать код здесь"
   ]
  },
  {
   "cell_type": "markdown",
   "metadata": {},
   "source": [
    "## Задачи на функции\n",
    "\n",
    "_В данном блоке решить хотя бы 2 обычных или 1 сложную_"
   ]
  },
  {
   "cell_type": "markdown",
   "metadata": {},
   "source": [
    "#### Задача 1.\n",
    "\n",
    "Последовательность Фибоначчи определена следующим образом: \\\n",
    "$φ_0=1, φ_1=1$ \\\n",
    "$φ_n=φ_{n-1}+φ_{n-2}$ \\\n",
    "при $n>1$. Начало ряда Фибоначчи выглядит следующим образом: 1, 1, 2, 3, 5, 8, 13, 21, 34, 55, ... Напишите функцию, которая по данному натуральному n возвращает $φ_n$.\n",
    "\n",
    "\n",
    "**Входные данные:**"
   ]
  },
  {
   "cell_type": "code",
   "execution_count": null,
   "metadata": {},
   "outputs": [],
   "source": [
    "3"
   ]
  },
  {
   "cell_type": "markdown",
   "metadata": {},
   "source": [
    "**Результат:**\n",
    "\n",
    "`3`"
   ]
  },
  {
   "cell_type": "code",
   "execution_count": null,
   "metadata": {},
   "outputs": [],
   "source": [
    "# Писать код здесь"
   ]
  },
  {
   "cell_type": "markdown",
   "metadata": {},
   "source": [
    "#### Задача 2.\n",
    "\n",
    "Напишите функцию, которая переводит число, записанное в десятичной системе, в двоичный код.\n",
    "\n",
    "**Входные данные:**\n",
    "\n",
    "-14\n",
    "\n",
    "**Результат:**\n",
    "\n",
    "`-1110`"
   ]
  },
  {
   "cell_type": "code",
   "execution_count": null,
   "metadata": {},
   "outputs": [],
   "source": [
    "# Писать код здесь"
   ]
  },
  {
   "cell_type": "markdown",
   "metadata": {},
   "source": [
    "#### Задача 3.\n",
    "\n",
    "_Примечание:_ при решении данной задачи используйте **РЕКУРСИЮ (на доп. изучение)**\n",
    "\n",
    "Дана последовательность чисел, завершающаяся числом 0. Найдите сумму всех этих чисел, не используя цикл.\n",
    "\n",
    "**Входные данные:**"
   ]
  },
  {
   "cell_type": "code",
   "execution_count": null,
   "metadata": {},
   "outputs": [],
   "source": [
    "1\n",
    "7\n",
    "9\n",
    "0"
   ]
  },
  {
   "cell_type": "markdown",
   "metadata": {},
   "source": [
    "**Результат:**\n",
    "\n",
    "`17`"
   ]
  },
  {
   "cell_type": "code",
   "execution_count": null,
   "metadata": {},
   "outputs": [],
   "source": [
    "# Писать код здесь"
   ]
  },
  {
   "cell_type": "markdown",
   "metadata": {},
   "source": [
    "#### Задача 4. (повышенной сложности)\n",
    "\n",
    "Есть список, который может содержать список в качестве элемента (этот список также может содержать список, и так далее) или строку. Необходимо создать словарь, ключами которого являются все встречающиеся символы в строках в списках, а значение - количество включений этого символа в элементах в списках.\n",
    "\n",
    "**Входные данные:**"
   ]
  },
  {
   "cell_type": "code",
   "execution_count": null,
   "metadata": {},
   "outputs": [],
   "source": [
    "[\"wow\", [\"waow\", \"1000-7\", \"wahoo\", [\"oh\"], [\"dead\", [\"inside\"]]]]"
   ]
  },
  {
   "cell_type": "markdown",
   "metadata": {},
   "source": [
    "**Результат:**\n",
    "\n",
    "`{'w': 5, 'o': 5, 'a': 3, '1': 1, '0': 3, '-': 1, '7': 1, 'h': 2, 'd': 3, 'e': 2, 'i': 2, 'n': 1, 's': 1}`"
   ]
  },
  {
   "cell_type": "code",
   "execution_count": null,
   "metadata": {},
   "outputs": [],
   "source": [
    "# Писать код здесь"
   ]
  },
  {
   "cell_type": "markdown",
   "metadata": {},
   "source": [
    "## Задачи на строки. \n",
    "_В данном блоке решить хотя бы 2 задачи_\n"
   ]
  },
  {
   "cell_type": "markdown",
   "metadata": {},
   "source": [
    "#### Задача 1 (обязательна к решению).\n",
    "\n",
    "\n",
    "Дана строка:\n",
    "\n",
    "Сначала выведите третий символ этой строки.\n",
    "\n",
    "Во второй строке выведите предпоследний символ этой строки.\n",
    "\n",
    "В третьей строке выведите первые пять символов этой строки.\n",
    "\n",
    "В четвертой строке выведите всю строку, кроме последних двух символов.\n",
    "\n",
    "В пятой строке выведите все символы с четными индексами (считая, что индексация начинается с 0, поэтому символы выводятся начиная с первого).\n",
    "\n",
    "В шестой строке выведите все символы с нечетными индексами, то есть начиная со второго символа строки.\n",
    "\n",
    "В седьмой строке выведите все символы в обратном порядке.\n",
    "\n",
    "В восьмой строке выведите все символы строки через один в обратном порядке, начиная с последнего.\n",
    "\n",
    "В девятой строке выведите длину данной строки.\n",
    "\n",
    "**Входные данные:**"
   ]
  },
  {
   "cell_type": "code",
   "execution_count": null,
   "metadata": {},
   "outputs": [],
   "source": [
    "Abrakadabra"
   ]
  },
  {
   "cell_type": "markdown",
   "metadata": {},
   "source": [
    "**Результат:**\n",
    "\n",
    "`r`\\\n",
    "`r`\\\n",
    "`Abrak`\\\n",
    "`Abrakadab`\\\n",
    "`Arkdba`\\\n",
    "`baaar`\\\n",
    "`arbadakarbA`\\\n",
    "`abdkrA`\\\n",
    "`11`"
   ]
  },
  {
   "cell_type": "code",
   "execution_count": null,
   "metadata": {},
   "outputs": [],
   "source": [
    "# Писать код здесь"
   ]
  },
  {
   "cell_type": "markdown",
   "metadata": {},
   "source": [
    "#### Задача 2.\n",
    "\n",
    "Дана строка. Замените в этой строке все появления буквы s на букву S, кроме первого и последнего вхождения.\n",
    "\n",
    "**Входные данные:**"
   ]
  },
  {
   "cell_type": "code",
   "execution_count": null,
   "metadata": {},
   "outputs": [],
   "source": [
    "Strings in python are surrounded by either single quotation marks, or double quotation marks."
   ]
  },
  {
   "cell_type": "markdown",
   "metadata": {},
   "source": [
    "**Результат:**\n",
    "\n",
    "`Strings in python are Surrounded by either Single quotation markS, or double quotation marks.`"
   ]
  },
  {
   "cell_type": "code",
   "execution_count": null,
   "metadata": {},
   "outputs": [],
   "source": [
    "# Писать код здесь"
   ]
  },
  {
   "cell_type": "markdown",
   "metadata": {},
   "source": [
    "#### Задача 3.\n",
    "Шарик пришёл в гости к своему другу Барбосу. Они и поели, и поиграли, и поспали. А теперь пришли к выводу, что у дедули надо исправить все письма.\n",
    "Во всех словах после каждой третьей буквы поставить загадочный символ \"@\", который почему-то люди называют ласково собачка.\n",
    "\n",
    "**Входные данные:**\n"
   ]
  },
  {
   "cell_type": "code",
   "execution_count": null,
   "metadata": {},
   "outputs": [],
   "source": [
    "сосиски"
   ]
  },
  {
   "cell_type": "markdown",
   "metadata": {},
   "source": [
    "\n",
    "**Результат**\n",
    "\n",
    "сос@иск@и"
   ]
  },
  {
   "cell_type": "code",
   "execution_count": null,
   "metadata": {},
   "outputs": [],
   "source": [
    "# Писать код здесь"
   ]
  }
 ],
 "metadata": {
  "kernelspec": {
   "display_name": "Python 3 (ipykernel)",
   "language": "python",
   "name": "python3"
  },
  "language_info": {
   "codemirror_mode": {
    "name": "ipython",
    "version": 3
   },
   "file_extension": ".py",
   "mimetype": "text/x-python",
   "name": "python",
   "nbconvert_exporter": "python",
   "pygments_lexer": "ipython3",
   "version": "3.10.2"
  }
 },
 "nbformat": 4,
 "nbformat_minor": 4
}
