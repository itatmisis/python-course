{
 "cells": [
  {
   "cell_type": "markdown",
   "id": "hawaiian-emperor",
   "metadata": {},
   "source": [
    "## Функции"
   ]
  },
  {
   "cell_type": "code",
   "execution_count": 11,
   "id": "distinct-experience",
   "metadata": {},
   "outputs": [],
   "source": [
    "# function_name - имя функции\n",
    "def function_name():\n",
    "    # тело функции\n",
    "    print('Hello World')"
   ]
  },
  {
   "cell_type": "code",
   "execution_count": 13,
   "id": "buried-softball",
   "metadata": {},
   "outputs": [
    {
     "name": "stdout",
     "output_type": "stream",
     "text": [
      "Hello World\n"
     ]
    }
   ],
   "source": [
    "# вызов функции\n",
    "function_name()"
   ]
  },
  {
   "cell_type": "code",
   "execution_count": 14,
   "id": "stuffed-equality",
   "metadata": {},
   "outputs": [],
   "source": [
    "def func(a, b, c):\n",
    "    # a, b, c - аргументы функции\n",
    "    # a, b, c, d - недоступены из вне\n",
    "    d = a + b + c\n",
    "    return d"
   ]
  },
  {
   "cell_type": "code",
   "execution_count": 17,
   "id": "laughing-routine",
   "metadata": {},
   "outputs": [
    {
     "data": {
      "text/plain": [
       "6"
      ]
     },
     "execution_count": 17,
     "metadata": {},
     "output_type": "execute_result"
    }
   ],
   "source": [
    "func(1, 2, 3)"
   ]
  },
  {
   "cell_type": "code",
   "execution_count": 19,
   "id": "athletic-ontario",
   "metadata": {},
   "outputs": [],
   "source": [
    "# аргумент \"a\" имеет умолчательное значение\n",
    "def func(a = 10):\n",
    "    return a * 2"
   ]
  },
  {
   "cell_type": "code",
   "execution_count": 20,
   "id": "perceived-fortune",
   "metadata": {},
   "outputs": [
    {
     "name": "stdout",
     "output_type": "stream",
     "text": [
      "20\n",
      "20\n",
      "40\n"
     ]
    }
   ],
   "source": [
    "print(func())\n",
    "print(func(10))\n",
    "print(func(20))"
   ]
  },
  {
   "cell_type": "markdown",
   "id": "otherwise-elite",
   "metadata": {},
   "source": [
    "## Лямбда Функции\n",
    "Это анонимные функции, то есть функции без имени  \n",
    "`labmda <аргументы через запятую>: <возвращаемое выражение>`"
   ]
  },
  {
   "cell_type": "code",
   "execution_count": 24,
   "id": "organic-begin",
   "metadata": {},
   "outputs": [],
   "source": [
    "a = lambda x: x * 10"
   ]
  },
  {
   "cell_type": "code",
   "execution_count": 2,
   "id": "related-oxygen",
   "metadata": {},
   "outputs": [
    {
     "data": {
      "text/plain": [
       "[1, 4, 9, 16, 25]"
      ]
     },
     "execution_count": 2,
     "metadata": {},
     "output_type": "execute_result"
    }
   ],
   "source": [
    "# map - функция, которая применяет к итерироемому объекту некую функцию\n",
    "b = [1, 2, 3, 4, 5]\n",
    "c = map(lambda x: x ** 2, b)\n",
    "list(c)"
   ]
  },
  {
   "cell_type": "code",
   "execution_count": 6,
   "id": "protecting-boulder",
   "metadata": {},
   "outputs": [],
   "source": [
    "for i in c:\n",
    "    print(i)"
   ]
  },
  {
   "cell_type": "markdown",
   "id": "peripheral-azerbaijan",
   "metadata": {},
   "source": [
    "## Словарь\n",
    "Это ассоциативный массив данных  \n",
    "`dictionary = {<ключ>: <значение>}`"
   ]
  },
  {
   "cell_type": "code",
   "execution_count": 28,
   "id": "solved-entry",
   "metadata": {},
   "outputs": [
    {
     "data": {
      "text/plain": [
       "'Russia'"
      ]
     },
     "execution_count": 28,
     "metadata": {},
     "output_type": "execute_result"
    }
   ],
   "source": [
    "a = {'Moscow': 'Russia', \"New York\": 'US', 'Munich': 'FRG'}\n",
    "a['Moscow']"
   ]
  },
  {
   "cell_type": "code",
   "execution_count": 29,
   "id": "colored-school",
   "metadata": {},
   "outputs": [
    {
     "data": {
      "text/plain": [
       "'France'"
      ]
     },
     "execution_count": 29,
     "metadata": {},
     "output_type": "execute_result"
    }
   ],
   "source": [
    "# Добавление элемента\n",
    "a['Paris'] = 'France'\n",
    "a['Paris']"
   ]
  },
  {
   "cell_type": "code",
   "execution_count": 30,
   "id": "atomic-mexico",
   "metadata": {},
   "outputs": [
    {
     "data": {
      "text/plain": [
       "'USSR'"
      ]
     },
     "execution_count": 30,
     "metadata": {},
     "output_type": "execute_result"
    }
   ],
   "source": [
    "# Также можно менять значение по ключу\n",
    "a['Moscow'] = \"USSR\"\n",
    "a['Moscow']"
   ]
  },
  {
   "cell_type": "code",
   "execution_count": 69,
   "id": "acute-toilet",
   "metadata": {},
   "outputs": [
    {
     "name": "stdout",
     "output_type": "stream",
     "text": [
      "Moscow FRG\n",
      "New York US\n",
      "Munich FRG\n",
      "Paris France\n"
     ]
    }
   ],
   "source": [
    "# Вывод пар ключ-значение\n",
    "for key, value in a.items():\n",
    "    print(key, value)"
   ]
  },
  {
   "cell_type": "markdown",
   "id": "legislative-celtic",
   "metadata": {},
   "source": [
    "## List и Dict comprehensions"
   ]
  },
  {
   "cell_type": "code",
   "execution_count": 76,
   "id": "billion-sharing",
   "metadata": {},
   "outputs": [
    {
     "data": {
      "text/plain": [
       "[0, 1, 4, 9, 16, 25, 36, 49, 64, 81]"
      ]
     },
     "execution_count": 76,
     "metadata": {},
     "output_type": "execute_result"
    }
   ],
   "source": [
    "# \"Создание\" листа в одну строку\n",
    "list_ = [i**2 for i in range(10)]\n",
    "list_"
   ]
  },
  {
   "cell_type": "code",
   "execution_count": 78,
   "id": "structured-convenience",
   "metadata": {},
   "outputs": [
    {
     "data": {
      "text/plain": [
       "[1, 3, 5, 7, 9]"
      ]
     },
     "execution_count": 78,
     "metadata": {},
     "output_type": "execute_result"
    }
   ],
   "source": [
    "list_ = [i for i in range(10) if i % 2 == 1]\n",
    "list_"
   ]
  },
  {
   "cell_type": "code",
   "execution_count": 79,
   "id": "earlier-extreme",
   "metadata": {},
   "outputs": [
    {
     "data": {
      "text/plain": [
       "{0: 0, 1: 1, 2: 4, 3: 9, 4: 16, 5: 25, 6: 36, 7: 49, 8: 64, 9: 81}"
      ]
     },
     "execution_count": 79,
     "metadata": {},
     "output_type": "execute_result"
    }
   ],
   "source": [
    "# Аналогичное можно делать с словарями\n",
    "dict_ = {i: i**2 for i in range(10)}\n",
    "dict_"
   ]
  },
  {
   "cell_type": "code",
   "execution_count": 80,
   "id": "prescription-suspension",
   "metadata": {},
   "outputs": [
    {
     "data": {
      "text/plain": [
       "{0: 0, 2: 4, 4: 16, 6: 36, 8: 64}"
      ]
     },
     "execution_count": 80,
     "metadata": {},
     "output_type": "execute_result"
    }
   ],
   "source": [
    "dict_ = {i: i**2 for i in range(10) if i % 2 == 0}\n",
    "dict_"
   ]
  },
  {
   "cell_type": "markdown",
   "id": "labeled-number",
   "metadata": {},
   "source": [
    "## Key-word args"
   ]
  },
  {
   "cell_type": "code",
   "execution_count": 9,
   "id": "instant-hampton",
   "metadata": {},
   "outputs": [],
   "source": [
    "def func(a = 0, b = 0, c = 0):\n",
    "    return a + 2 * b + 3 * c"
   ]
  },
  {
   "cell_type": "code",
   "execution_count": 13,
   "id": "quarterly-advice",
   "metadata": {},
   "outputs": [
    {
     "data": {
      "text/plain": [
       "7"
      ]
     },
     "execution_count": 13,
     "metadata": {},
     "output_type": "execute_result"
    }
   ],
   "source": [
    "func(1, c = 2)"
   ]
  },
  {
   "cell_type": "markdown",
   "id": "expressed-vintage",
   "metadata": {},
   "source": [
    "## Распаковка"
   ]
  },
  {
   "cell_type": "code",
   "execution_count": 14,
   "id": "verbal-radar",
   "metadata": {},
   "outputs": [],
   "source": [
    "def func(*args, **kwargs):\n",
    "    print(f'{type(args)=}  {type(kwargs)=}\\n\\n')\n",
    "    print('args')\n",
    "    for idx, arg in enumerate(args):\n",
    "        print(idx, arg, sep=': ')\n",
    "    print('kwargs')\n",
    "    for key, kwarg in kwargs.items():\n",
    "        print(key, kwarg, sep=': ')"
   ]
  },
  {
   "cell_type": "code",
   "execution_count": 15,
   "id": "tired-greek",
   "metadata": {},
   "outputs": [
    {
     "name": "stdout",
     "output_type": "stream",
     "text": [
      "type(args)=<class 'tuple'>  type(kwargs)=<class 'dict'>\n",
      "\n",
      "\n",
      "args\n",
      "0: 21\n",
      "1: 2\n",
      "kwargs\n",
      "b: 2\n",
      "c: 1\n"
     ]
    }
   ],
   "source": [
    "func(21, 2, b=2, c=1)"
   ]
  },
  {
   "cell_type": "code",
   "execution_count": 31,
   "id": "dental-strand",
   "metadata": {},
   "outputs": [],
   "source": [
    "def niceprint(*args):\n",
    "    for idx, arg in enumerate(args):\n",
    "        print(idx, arg, sep=': ')"
   ]
  },
  {
   "cell_type": "code",
   "execution_count": 32,
   "id": "sound-gamma",
   "metadata": {},
   "outputs": [
    {
     "name": "stdout",
     "output_type": "stream",
     "text": [
      "0: 1\n",
      "1: 2\n",
      "2: 3\n",
      "3: 4\n"
     ]
    }
   ],
   "source": [
    "niceprint(1, 2, 3, 4)"
   ]
  },
  {
   "cell_type": "code",
   "execution_count": 33,
   "id": "solved-posting",
   "metadata": {},
   "outputs": [],
   "source": [
    "list_of_cities = a.keys()\n",
    "list_of_cities = list(list_of_cities)"
   ]
  },
  {
   "cell_type": "code",
   "execution_count": 34,
   "id": "vulnerable-wallpaper",
   "metadata": {},
   "outputs": [
    {
     "name": "stdout",
     "output_type": "stream",
     "text": [
      "0: Moscow\n",
      "1: New York\n",
      "2: Munich\n",
      "3: Paris\n",
      "\n",
      "0: Moscow\n",
      "1: New York\n",
      "2: Munich\n",
      "3: Paris\n"
     ]
    }
   ],
   "source": [
    "niceprint(list_of_cities[0], list_of_cities[1], list_of_cities[2], list_of_cities[3])\n",
    "print()\n",
    "niceprint(*list_of_cities)"
   ]
  },
  {
   "cell_type": "code",
   "execution_count": 35,
   "id": "nearby-student",
   "metadata": {},
   "outputs": [
    {
     "name": "stdout",
     "output_type": "stream",
     "text": [
      "Hello <World>"
     ]
    }
   ],
   "source": [
    "sep = ' <'\n",
    "end = '>'\n",
    "kwargs = {'sep': sep, 'end': end}\n",
    "args = ['Hello', 'World']\n",
    "print(*args, **kwargs)"
   ]
  },
  {
   "cell_type": "markdown",
   "id": "imported-nepal",
   "metadata": {},
   "source": [
    "## Методы листов"
   ]
  },
  {
   "cell_type": "code",
   "execution_count": 64,
   "id": "supreme-salmon",
   "metadata": {},
   "outputs": [],
   "source": [
    "a = [0, 1, 2, 3, 4, 93, 0, -2, 4]"
   ]
  },
  {
   "cell_type": "code",
   "execution_count": 65,
   "id": "adjusted-alert",
   "metadata": {},
   "outputs": [
    {
     "data": {
      "text/plain": [
       "[0, 1, 2, 3, 4, 93, 0, -2, 4, 5]"
      ]
     },
     "execution_count": 65,
     "metadata": {},
     "output_type": "execute_result"
    }
   ],
   "source": [
    "# Добавление элемента\n",
    "a.append(5)\n",
    "a"
   ]
  },
  {
   "cell_type": "code",
   "execution_count": 66,
   "id": "legendary-shuttle",
   "metadata": {},
   "outputs": [
    {
     "data": {
      "text/plain": [
       "[0, 1, 2, 3, 4, 93, 0, -2, 4, 5, 6, 7, 7, 7]"
      ]
     },
     "execution_count": 66,
     "metadata": {},
     "output_type": "execute_result"
    }
   ],
   "source": [
    "# Добавление листа\n",
    "b = [6, 7, 7, 7]\n",
    "a.extend(b) # эквивалентно a += b\n",
    "a"
   ]
  },
  {
   "cell_type": "code",
   "execution_count": 67,
   "id": "photographic-boating",
   "metadata": {},
   "outputs": [
    {
     "data": {
      "text/plain": [
       "[0, 1, 2, 'вставлено', 3, 4, 93, 0, -2, 4, 5, 6, 7, 7, 7]"
      ]
     },
     "execution_count": 67,
     "metadata": {},
     "output_type": "execute_result"
    }
   ],
   "source": [
    "# Вставка по индексу\n",
    "a.insert(3, 'вставлено')\n",
    "a"
   ]
  },
  {
   "cell_type": "code",
   "execution_count": 43,
   "id": "iraqi-disorder",
   "metadata": {},
   "outputs": [
    {
     "data": {
      "text/plain": [
       "[]"
      ]
     },
     "execution_count": 43,
     "metadata": {},
     "output_type": "execute_result"
    }
   ],
   "source": [
    "# Очистка\n",
    "b.clear()\n",
    "b"
   ]
  },
  {
   "cell_type": "code",
   "execution_count": 44,
   "id": "fresh-aircraft",
   "metadata": {},
   "outputs": [
    {
     "data": {
      "text/plain": [
       "3"
      ]
     },
     "execution_count": 44,
     "metadata": {},
     "output_type": "execute_result"
    }
   ],
   "source": [
    "# Получение индекса\n",
    "a.index('вставлено')"
   ]
  },
  {
   "cell_type": "code",
   "execution_count": 45,
   "id": "referenced-cinema",
   "metadata": {},
   "outputs": [
    {
     "data": {
      "text/plain": [
       "6"
      ]
     },
     "execution_count": 45,
     "metadata": {},
     "output_type": "execute_result"
    }
   ],
   "source": [
    "# Подсчёт количества элементов\n",
    "a.count(7)"
   ]
  },
  {
   "cell_type": "code",
   "execution_count": 55,
   "id": "injured-primary",
   "metadata": {},
   "outputs": [
    {
     "data": {
      "text/plain": [
       "[1, 2, 93, 7, 7, 7, 7, 7, 7, 6, 6, 5, 4, 4, 3, 0]"
      ]
     },
     "execution_count": 55,
     "metadata": {},
     "output_type": "execute_result"
    }
   ],
   "source": [
    "# Удаление по значение\n",
    "a.remove('вставлено')\n",
    "a"
   ]
  },
  {
   "cell_type": "code",
   "execution_count": 56,
   "id": "nuclear-assault",
   "metadata": {},
   "outputs": [
    {
     "data": {
      "text/plain": [
       "[1, 2, 93, 7, 7, 7, 7, 7, 7, 6, 6, 5, 4, 4, 3]"
      ]
     },
     "execution_count": 56,
     "metadata": {},
     "output_type": "execute_result"
    }
   ],
   "source": [
    "# Удаление и возвращение последнего \n",
    "a.pop()\n",
    "a"
   ]
  },
  {
   "cell_type": "code",
   "execution_count": 57,
   "id": "white-johnston",
   "metadata": {},
   "outputs": [],
   "source": [
    "# Сортировка листа\n",
    "a.sort()"
   ]
  },
  {
   "cell_type": "code",
   "execution_count": 68,
   "id": "mediterranean-hollow",
   "metadata": {},
   "outputs": [
    {
     "data": {
      "text/plain": [
       "[7, 7, 7, 6, 5, 4, -2, 0, 93, 4, 3, 'вставлено', 2, 1, 0]"
      ]
     },
     "execution_count": 68,
     "metadata": {},
     "output_type": "execute_result"
    }
   ],
   "source": [
    "# Разворот листа\n",
    "a.reverse()\n",
    "a"
   ]
  },
  {
   "cell_type": "markdown",
   "id": "intimate-trinity",
   "metadata": {},
   "source": [
    "## Методы строк"
   ]
  },
  {
   "cell_type": "code",
   "execution_count": 69,
   "id": "accessible-juvenile",
   "metadata": {},
   "outputs": [
    {
     "data": {
      "text/plain": [
       "7"
      ]
     },
     "execution_count": 69,
     "metadata": {},
     "output_type": "execute_result"
    }
   ],
   "source": [
    "# Поиск индекса по значению\n",
    "a = 'Привет Мир!'\n",
    "a.find('Мир!')"
   ]
  },
  {
   "cell_type": "code",
   "execution_count": 70,
   "id": "pretty-albany",
   "metadata": {},
   "outputs": [
    {
     "data": {
      "text/plain": [
       "'Привет, ITAM, Г511'"
      ]
     },
     "execution_count": 70,
     "metadata": {},
     "output_type": "execute_result"
    }
   ],
   "source": [
    "a = 'Привет, {}, {}'.format('ITAM', \"Г511\")\n",
    "a"
   ]
  },
  {
   "cell_type": "code",
   "execution_count": 71,
   "id": "numerical-grave",
   "metadata": {},
   "outputs": [
    {
     "data": {
      "text/plain": [
       "\"Привет, name='ITAM'\""
      ]
     },
     "execution_count": 71,
     "metadata": {},
     "output_type": "execute_result"
    }
   ],
   "source": [
    "name = \"ITAM\"\n",
    "f'Привет, {name=}'"
   ]
  },
  {
   "cell_type": "code",
   "execution_count": 72,
   "id": "fallen-sharing",
   "metadata": {},
   "outputs": [
    {
     "data": {
      "text/plain": [
       "'Антон+Илья+Астольфо+Михаил'"
      ]
     },
     "execution_count": 72,
     "metadata": {},
     "output_type": "execute_result"
    }
   ],
   "source": [
    "a = ['Антон', 'Илья', 'Астольфо', 'Михаил']\n",
    "'+'.join(a)"
   ]
  },
  {
   "cell_type": "code",
   "execution_count": 73,
   "id": "increasing-relative",
   "metadata": {},
   "outputs": [
    {
     "data": {
      "text/plain": [
       "['Длинный', 'длинный, текст,с,пробелами']"
      ]
     },
     "execution_count": 73,
     "metadata": {},
     "output_type": "execute_result"
    }
   ],
   "source": [
    "a = 'Длинный\\nдлинный, текст,с,пробелами'\n",
    "a.split('\\n')"
   ]
  },
  {
   "cell_type": "code",
   "execution_count": 74,
   "id": "timely-english",
   "metadata": {},
   "outputs": [
    {
     "data": {
      "text/plain": [
       "['Длинный текст ', 'с новыми строками']"
      ]
     },
     "execution_count": 74,
     "metadata": {},
     "output_type": "execute_result"
    }
   ],
   "source": [
    "a = 'Длинный текст \\nс новыми строками'\n",
    "a.splitlines()"
   ]
  },
  {
   "cell_type": "code",
   "execution_count": 75,
   "id": "processed-contributor",
   "metadata": {},
   "outputs": [
    {
     "data": {
      "text/plain": [
       "'длинный текст \\nс новыми строками'"
      ]
     },
     "execution_count": 75,
     "metadata": {},
     "output_type": "execute_result"
    }
   ],
   "source": [
    "a.lower()"
   ]
  },
  {
   "cell_type": "code",
   "execution_count": 76,
   "id": "false-cartridge",
   "metadata": {},
   "outputs": [
    {
     "data": {
      "text/plain": [
       "'ДЛИННЫЙ ТЕКСТ \\nС НОВЫМИ СТРОКАМИ'"
      ]
     },
     "execution_count": 76,
     "metadata": {},
     "output_type": "execute_result"
    }
   ],
   "source": [
    "a.upper()"
   ]
  }
 ],
 "metadata": {
  "interpreter": {
   "hash": "b0fa6594d8f4cbf19f97940f81e996739fb7646882a419484c72d19e05852a7e"
  },
  "kernelspec": {
   "display_name": "Python 3.8.5 64-bit",
   "language": "python",
   "name": "python38564bit03041eafe65845ed975da9aa4c3cccbf"
  },
  "language_info": {
   "codemirror_mode": {
    "name": "ipython",
    "version": 3
   },
   "file_extension": ".py",
   "mimetype": "text/x-python",
   "name": "python",
   "nbconvert_exporter": "python",
   "pygments_lexer": "ipython3",
   "version": "3.8.10"
  }
 },
 "nbformat": 4,
 "nbformat_minor": 5
}
