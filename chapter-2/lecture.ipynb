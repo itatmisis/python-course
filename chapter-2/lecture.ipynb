{
 "cells": [
  {
   "cell_type": "markdown",
   "id": "peripheral-azerbaijan",
   "metadata": {},
   "source": [
    "## Словарь\n",
    "Ассоциативный массив данных  \n",
    "`dictionary = {<ключ>: <значение>}`"
   ]
  },
  {
   "cell_type": "code",
   "execution_count": 36,
   "id": "solved-entry",
   "metadata": {},
   "outputs": [
    {
     "data": {
      "text/plain": [
       "'Russia'"
      ]
     },
     "execution_count": 36,
     "metadata": {},
     "output_type": "execute_result"
    }
   ],
   "source": [
    "city_to_country = {\"Moscow\": \"Russia\", \"New York\": \"US\", \"Munich\": \"FRG\"}\n",
    "city_to_country[\"Moscow\"]"
   ]
  },
  {
   "cell_type": "code",
   "execution_count": null,
   "id": "colored-school",
   "metadata": {},
   "outputs": [],
   "source": [
    "# Добавление элемента\n",
    "city_to_country[\"Paris\"] = \"France\"\n",
    "city_to_country[\"Paris\"]"
   ]
  },
  {
   "cell_type": "code",
   "execution_count": null,
   "id": "atomic-mexico",
   "metadata": {},
   "outputs": [],
   "source": [
    "# Также можно менять значение по ключу\n",
    "city_to_country[\"Moscow\"] = \"USSR\"\n",
    "city_to_country[\"Moscow\"]"
   ]
  },
  {
   "cell_type": "code",
   "execution_count": null,
   "id": "acute-toilet",
   "metadata": {},
   "outputs": [],
   "source": [
    "# Вывод пар ключ-значение\n",
    "for key, value in city_to_country.items():\n",
    "    print(key, value)"
   ]
  },
  {
   "cell_type": "code",
   "execution_count": null,
   "id": "3cee1250-6a18-4dd4-9456-c23741bab196",
   "metadata": {},
   "outputs": [],
   "source": [
    "city_to_country[\"Saratov\"] # KeyError"
   ]
  },
  {
   "cell_type": "code",
   "execution_count": 38,
   "id": "316c28b5-f1f4-4615-9078-89624a69cf41",
   "metadata": {},
   "outputs": [
    {
     "name": "stdout",
     "output_type": "stream",
     "text": [
      "Russia\n"
     ]
    }
   ],
   "source": [
    "print(city_to_country.get(\"Saratov\", \"Russia\"))\n",
    "if \"Saratov\" not in city_to_country:  # проверка на существование ключа в словаре\n",
    "    a[\"Saratov\"] = \"Russia\""
   ]
  },
  {
   "cell_type": "markdown",
   "id": "985d087c-2995-457a-ab30-8cb8a29863fd",
   "metadata": {},
   "source": [
    "**Hashable** data types: int, float, str, tuple and NoneType (`__hash__`, `__eq__`)\n",
    "\n",
    "**Unhashable** data types: dict, list, and set"
   ]
  },
  {
   "cell_type": "markdown",
   "id": "1af15c64-cb29-418c-88f7-c8511c7fca10",
   "metadata": {
    "jp-MarkdownHeadingCollapsed": true
   },
   "source": [
    "## Множества\n",
    "Неупорядоченная коллекция уникальных элементов"
   ]
  },
  {
   "cell_type": "code",
   "execution_count": 29,
   "id": "3301a0ea-2953-4596-a6c0-4cee3f10f721",
   "metadata": {},
   "outputs": [
    {
     "data": {
      "text/plain": [
       "({1, 2, 3, 4, 5}, {1, 2})"
      ]
     },
     "execution_count": 29,
     "metadata": {},
     "output_type": "execute_result"
    }
   ],
   "source": [
    "set_a = {1, 2, 3, 3}\n",
    "set_b = {3, 4, 5}\n",
    "set_a.union(set_b), set_a.intersection(set_b) # и т.д"
   ]
  },
  {
   "cell_type": "code",
   "execution_count": null,
   "id": "881ffa61-7ff1-4b45-b08f-0c5d3135e095",
   "metadata": {},
   "outputs": [],
   "source": [
    "set_a = {1, 2, 3}\n",
    "set_b = {2, 3}\n",
    "set_a >= set_b"
   ]
  },
  {
   "cell_type": "markdown",
   "id": "hawaiian-emperor",
   "metadata": {
    "jp-MarkdownHeadingCollapsed": true
   },
   "source": [
    "## Функции"
   ]
  },
  {
   "cell_type": "code",
   "execution_count": 40,
   "id": "stuffed-equality",
   "metadata": {},
   "outputs": [],
   "source": [
    "# необязтально указывать входные и выходные аргументы\n",
    "def func(a, b, c):\n",
    "    # a, b, c - аргументы функции\n",
    "    # a, b, c, d - недоступены из вне\n",
    "    d = a + b + c\n",
    "    return d"
   ]
  },
  {
   "cell_type": "code",
   "execution_count": null,
   "id": "laughing-routine",
   "metadata": {},
   "outputs": [],
   "source": [
    "func(1, 2, 3)"
   ]
  },
  {
   "cell_type": "code",
   "execution_count": null,
   "id": "athletic-ontario",
   "metadata": {},
   "outputs": [],
   "source": [
    "# аргумент \"a\" имеет умолчательное значение (которое задается 1 раз при объявлении функции!)\n",
    "def is_even(a=10):\n",
    "    if a % 2 == 0:\n",
    "        return True  # при исполнении этой строчки произойдет выход из функции\n",
    "    return False  # еще один return"
   ]
  },
  {
   "cell_type": "code",
   "execution_count": null,
   "id": "perceived-fortune",
   "metadata": {},
   "outputs": [],
   "source": [
    "print(func())\n",
    "print(func(10))\n",
    "print(func(15))"
   ]
  },
  {
   "cell_type": "code",
   "execution_count": 30,
   "id": "33b8ff5e-cb7e-40a5-93d7-6e9642b90c0f",
   "metadata": {},
   "outputs": [],
   "source": [
    "# args и kwargs\n",
    "def func(*args, **kwargs):\n",
    "    print(f\"{type(args)=}  {type(kwargs)=}\\n\\n\")\n",
    "    print(\"args\")\n",
    "    for idx, arg in enumerate(args):\n",
    "        print(idx, arg, sep=\": \")\n",
    "    print(\"kwargs\")\n",
    "    for key, kwarg in kwargs.items():\n",
    "        print(key, kwarg, sep=\": \")"
   ]
  },
  {
   "cell_type": "code",
   "execution_count": 31,
   "id": "100c242b-015e-43ab-bc69-a87413390695",
   "metadata": {},
   "outputs": [
    {
     "name": "stdout",
     "output_type": "stream",
     "text": [
      "type(args)=<class 'tuple'>  type(kwargs)=<class 'dict'>\n",
      "\n",
      "\n",
      "args\n",
      "0: 1\n",
      "1: 2\n",
      "2: 3\n",
      "kwargs\n",
      "a: 4\n",
      "b: 5\n"
     ]
    }
   ],
   "source": [
    "func(1, 2, 3, a=4, b=5)"
   ]
  },
  {
   "cell_type": "markdown",
   "id": "96a2a058-64ce-4171-9e04-ae7c486daeee",
   "metadata": {
    "jp-MarkdownHeadingCollapsed": true
   },
   "source": [
    "### Области видимости"
   ]
  },
  {
   "cell_type": "code",
   "execution_count": 24,
   "id": "df3f5397-00f1-4dfe-873e-889ef2aedd15",
   "metadata": {},
   "outputs": [
    {
     "name": "stdout",
     "output_type": "stream",
     "text": [
      "Количество вызовов функции: 1\n",
      "1\n",
      "Количество вызовов функции: 2\n",
      "2\n"
     ]
    }
   ],
   "source": [
    "def func():\n",
    "    global count\n",
    "    count += 1\n",
    "    print(f\"Количество вызовов функции: {count}\")\n",
    "    return count\n",
    "\n",
    "count = 0\n",
    "func()\n",
    "print(count)\n",
    "func()\n",
    "print(count)"
   ]
  },
  {
   "cell_type": "code",
   "execution_count": null,
   "id": "a1b51a2d-eed9-4fb0-83dc-a9192862550f",
   "metadata": {},
   "outputs": [],
   "source": [
    "def func(count):\n",
    "    count += 1\n",
    "    return count\n",
    "\n",
    "count = 0\n",
    "count = func(count)"
   ]
  },
  {
   "cell_type": "code",
   "execution_count": 21,
   "id": "b81b7186-5049-4a46-b177-965be1c51a0a",
   "metadata": {},
   "outputs": [
    {
     "data": {
      "text/plain": [
       "[1, 2, 3]"
      ]
     },
     "execution_count": 21,
     "metadata": {},
     "output_type": "execute_result"
    }
   ],
   "source": [
    "def change_mutable():\n",
    "    my_list.append(sum(my_list))\n",
    "\n",
    "my_list = [1, 2]\n",
    "func()\n",
    "my_list"
   ]
  },
  {
   "cell_type": "code",
   "execution_count": 22,
   "id": "1aa35b11-3fc4-4d45-8a2f-593acd653a73",
   "metadata": {},
   "outputs": [
    {
     "data": {
      "text/plain": [
       "[1, 2]"
      ]
     },
     "execution_count": 22,
     "metadata": {},
     "output_type": "execute_result"
    }
   ],
   "source": [
    "def create_new_mutable():\n",
    "    new_list = [1, 2, 3]\n",
    "\n",
    "new_list = [1, 2]\n",
    "func()\n",
    "new_list"
   ]
  },
  {
   "cell_type": "markdown",
   "id": "otherwise-elite",
   "metadata": {
    "jp-MarkdownHeadingCollapsed": true
   },
   "source": [
    "## Лямбда Функции\n",
    "Это анонимные функции, то есть функции без имени  \n",
    "`labmda <аргументы через запятую>: <возвращаемое выражение>`"
   ]
  },
  {
   "cell_type": "code",
   "execution_count": null,
   "id": "organic-begin",
   "metadata": {},
   "outputs": [],
   "source": [
    "a = lambda x: x * 10"
   ]
  },
  {
   "cell_type": "code",
   "execution_count": 27,
   "id": "related-oxygen",
   "metadata": {},
   "outputs": [
    {
     "data": {
      "text/plain": [
       "[4, 16]"
      ]
     },
     "execution_count": 27,
     "metadata": {},
     "output_type": "execute_result"
    }
   ],
   "source": [
    "# функции высшего порядка\n",
    "def check(number):\n",
    "    return number % 2 == 0\n",
    "    \n",
    "# map - функция, которая применяет к итерироемому объекту некую функцию\n",
    "b = [1, 2, 3, 4, 5]\n",
    "c = map(lambda x: x**2, b) \n",
    "# filter - функция, которая последовательно проверяет значение функции-критерия для каждого элемента\n",
    "list(filter(check, c))"
   ]
  },
  {
   "cell_type": "code",
   "execution_count": null,
   "id": "protecting-boulder",
   "metadata": {},
   "outputs": [],
   "source": [
    "for i in c:\n",
    "    print(i)"
   ]
  },
  {
   "cell_type": "markdown",
   "id": "legislative-celtic",
   "metadata": {
    "jp-MarkdownHeadingCollapsed": true
   },
   "source": [
    "## List и Dict comprehensions"
   ]
  },
  {
   "cell_type": "code",
   "execution_count": null,
   "id": "billion-sharing",
   "metadata": {},
   "outputs": [],
   "source": [
    "# \"Создание\" листа в одну строку\n",
    "list_ = [i**2 for i in range(10)]\n",
    "list_"
   ]
  },
  {
   "cell_type": "code",
   "execution_count": null,
   "id": "structured-convenience",
   "metadata": {},
   "outputs": [],
   "source": [
    "list_ = [i for i in range(10) if i % 2 == 1]\n",
    "list_"
   ]
  },
  {
   "cell_type": "code",
   "execution_count": 42,
   "id": "a4e34501-94fa-4251-8df0-1f9aeea98998",
   "metadata": {},
   "outputs": [
    {
     "data": {
      "text/plain": [
       "[1, 3, 5, 7, 9]"
      ]
     },
     "execution_count": 42,
     "metadata": {},
     "output_type": "execute_result"
    }
   ],
   "source": [
    "gen_ = (i for i in range(10) if i % 2 == 1)\n",
    "list(gen_)"
   ]
  },
  {
   "cell_type": "code",
   "execution_count": null,
   "id": "earlier-extreme",
   "metadata": {},
   "outputs": [],
   "source": [
    "# Аналогичное можно делать с словарями\n",
    "dict_ = {i: i**2 for i in range(10)}\n",
    "dict_"
   ]
  },
  {
   "cell_type": "code",
   "execution_count": null,
   "id": "prescription-suspension",
   "metadata": {},
   "outputs": [],
   "source": [
    "dict_ = {i: i**2 for i in range(10) if i % 2 == 0}\n",
    "dict_"
   ]
  },
  {
   "cell_type": "markdown",
   "id": "imported-nepal",
   "metadata": {
    "jp-MarkdownHeadingCollapsed": true
   },
   "source": [
    "## Методы листов "
   ]
  },
  {
   "cell_type": "code",
   "execution_count": null,
   "id": "supreme-salmon",
   "metadata": {},
   "outputs": [],
   "source": [
    "a = [0, 1, 2, 3, 4, 93, 0, -2, 4]"
   ]
  },
  {
   "cell_type": "code",
   "execution_count": null,
   "id": "adjusted-alert",
   "metadata": {},
   "outputs": [],
   "source": [
    "# Добавление элемента\n",
    "a.append(5)\n",
    "a"
   ]
  },
  {
   "cell_type": "code",
   "execution_count": null,
   "id": "legendary-shuttle",
   "metadata": {},
   "outputs": [],
   "source": [
    "# Добавление листа\n",
    "b = [6, 7, 7, 7]\n",
    "a.extend(b)  # эквивалентно a += b\n",
    "a"
   ]
  },
  {
   "cell_type": "code",
   "execution_count": null,
   "id": "photographic-boating",
   "metadata": {},
   "outputs": [],
   "source": [
    "# Вставка по индексу\n",
    "a.insert(3, \"вставлено\")\n",
    "a"
   ]
  },
  {
   "cell_type": "code",
   "execution_count": null,
   "id": "iraqi-disorder",
   "metadata": {},
   "outputs": [],
   "source": [
    "# Очистка\n",
    "b.clear()\n",
    "b"
   ]
  },
  {
   "cell_type": "code",
   "execution_count": null,
   "id": "fresh-aircraft",
   "metadata": {},
   "outputs": [],
   "source": [
    "# Получение индекса\n",
    "a.index(\"вставлено\")"
   ]
  },
  {
   "cell_type": "code",
   "execution_count": null,
   "id": "referenced-cinema",
   "metadata": {},
   "outputs": [],
   "source": [
    "# Подсчёт количества элементов\n",
    "a.count(7)"
   ]
  },
  {
   "cell_type": "code",
   "execution_count": null,
   "id": "injured-primary",
   "metadata": {},
   "outputs": [],
   "source": [
    "# Удаление по значение\n",
    "a.remove(\"вставлено\")\n",
    "a"
   ]
  },
  {
   "cell_type": "code",
   "execution_count": null,
   "id": "white-johnston",
   "metadata": {},
   "outputs": [],
   "source": [
    "# Сортировка листа\n",
    "a.sort()"
   ]
  },
  {
   "cell_type": "code",
   "execution_count": null,
   "id": "mediterranean-hollow",
   "metadata": {},
   "outputs": [],
   "source": [
    "# Разворот листа\n",
    "a.reverse()\n",
    "a"
   ]
  },
  {
   "cell_type": "markdown",
   "id": "intimate-trinity",
   "metadata": {
    "jp-MarkdownHeadingCollapsed": true
   },
   "source": [
    "## Методы строк "
   ]
  },
  {
   "cell_type": "code",
   "execution_count": null,
   "id": "accessible-juvenile",
   "metadata": {},
   "outputs": [],
   "source": [
    "# Поиск индекса по значению\n",
    "a = \"Привет Мир!\"\n",
    "a.find(\"Мир!\")"
   ]
  },
  {
   "cell_type": "code",
   "execution_count": null,
   "id": "pretty-albany",
   "metadata": {},
   "outputs": [],
   "source": [
    "a = \"Привет, {}, {}\".format(\"ITAM\", \"Г511\")\n",
    "a"
   ]
  },
  {
   "cell_type": "code",
   "execution_count": 39,
   "id": "numerical-grave",
   "metadata": {},
   "outputs": [
    {
     "data": {
      "text/plain": [
       "'Привет, ITAM'"
      ]
     },
     "execution_count": 39,
     "metadata": {},
     "output_type": "execute_result"
    }
   ],
   "source": [
    "name = \"ITAM\"\n",
    "f\"Привет, {name}\""
   ]
  },
  {
   "cell_type": "code",
   "execution_count": null,
   "id": "fallen-sharing",
   "metadata": {},
   "outputs": [],
   "source": [
    "a = [\"Антон\", \"Илья\", \"Астольфо\", \"Михаил\"]\n",
    "\"+\".join(a)"
   ]
  },
  {
   "cell_type": "code",
   "execution_count": null,
   "id": "increasing-relative",
   "metadata": {},
   "outputs": [],
   "source": [
    "a = \"Длинный\\nдлинный, текст,с,пробелами\"\n",
    "a.split(\"\\n\")"
   ]
  },
  {
   "cell_type": "markdown",
   "id": "2b3f21b5-6d77-40f7-b3b7-d0e65052176a",
   "metadata": {
    "jp-MarkdownHeadingCollapsed": true
   },
   "source": [
    "## Классы"
   ]
  },
  {
   "cell_type": "markdown",
   "id": "8e1d8d3f-b259-4267-b892-d926e604724e",
   "metadata": {},
   "source": [
    "Класс - это шаблон для создания объектов\n",
    "\n",
    "Класс состоит из **членов**  \n",
    "Члены это:\n",
    "1. Методы - функции класса\n",
    "2. Поля - переменные класса\n",
    "Создание класса:\n",
    "```python\n",
    "class <название класса>:\n",
    "    <поля и методы класса>\n",
    "```"
   ]
  },
  {
   "cell_type": "code",
   "execution_count": 45,
   "id": "dcd88442-acf0-4dfb-b909-37620953a8b6",
   "metadata": {},
   "outputs": [
    {
     "data": {
      "text/plain": [
       "<__main__.A at 0x1355732b160>"
      ]
     },
     "execution_count": 45,
     "metadata": {},
     "output_type": "execute_result"
    }
   ],
   "source": [
    "class A:\n",
    "    pass\n",
    "\n",
    "a = A()"
   ]
  },
  {
   "cell_type": "code",
   "execution_count": 41,
   "id": "c7a2f691-ef51-40d5-8f23-2f1e157320ab",
   "metadata": {},
   "outputs": [],
   "source": [
    "class Student:\n",
    "    # __init__ - метод инициализации объекта\n",
    "    def __init__(self, name, age=18):\n",
    "        self.name = name\n",
    "        self.age = age\n",
    "\n",
    "        self.group = \"itam_python_backend_courses\"\n",
    "\n",
    "    def return_age(self):\n",
    "        return self.age        "
   ]
  },
  {
   "cell_type": "code",
   "execution_count": 42,
   "id": "0ad52c16-00e7-4f09-ab43-64c126ad7c89",
   "metadata": {},
   "outputs": [
    {
     "name": "stdout",
     "output_type": "stream",
     "text": [
      "<__main__.Student object at 0x0000013557328D60>\n"
     ]
    }
   ],
   "source": [
    "artem = Student(\"Artem\", 25)\n",
    "ivan = Student(\"Ivan_xxx\", 0)\n",
    "artem"
   ]
  },
  {
   "cell_type": "code",
   "execution_count": 51,
   "id": "e2312463-cf51-48e1-a647-7d75a7104b1d",
   "metadata": {},
   "outputs": [
    {
     "name": "stdout",
     "output_type": "stream",
     "text": [
      "Andrew, 18 лет\n"
     ]
    }
   ],
   "source": [
    "class Student:\n",
    "    _count_students = 0\n",
    "\n",
    "    def __init__(self, name, age=18):\n",
    "        self.name = name\n",
    "        self.age = age\n",
    "        Student._count_students += 1\n",
    "        self.marks = [5, 3, 5]\n",
    "        \n",
    "    # Dunder or magic методы - методы с двумя _ в начале и в конце\n",
    "    # Эти методы обладают магическими свойствами\n",
    "\n",
    "    # __str__ - применяется к обьекту при вызове str от него\n",
    "    def __str__(self):\n",
    "        return f\"{self.name}, {self.age} лет\"\n",
    "\n",
    "    def __len__(self):\n",
    "        return f\"У {self.name} {len(self.marks)} оценок\"\n",
    "\n",
    "yaroslav = Student(\"Yaroslav\", 18)\n",
    "print(yaroslav)"
   ]
  },
  {
   "cell_type": "code",
   "execution_count": null,
   "id": "a1e4a6c6-014f-4906-b49e-70e9ef8ec54e",
   "metadata": {},
   "outputs": [],
   "source": [
    "class Student:\n",
    "    def __init__(self, name, marks, age=18):\n",
    "        self.name = name\n",
    "        self.age = age\n",
    "        Student._count_students += 1\n",
    "        self.marks = marks\n",
    "    # Dunder or magic методы - методы с двумя _ в начале и в конце\n",
    "    # Эти методы обладают магическими свойствами\n",
    "\n",
    "    def __getitem__(self, index):\n",
    "        return self.marks[index]  # в чём ошибка?\n",
    "\n",
    "    def __setitem__(self, index, new_mark):\n",
    "        self.marks[index] = new_mark\n",
    "\n",
    "stepan = Student(\"Stepan\", [5, 3, 5])\n",
    "stepan[2] = 4\n",
    "print(stepan[2])        "
   ]
  },
  {
   "cell_type": "markdown",
   "id": "08fed0f7-c9c4-4802-ac1a-92adc0616de3",
   "metadata": {
    "jp-MarkdownHeadingCollapsed": true
   },
   "source": [
    "### Принципы ООП"
   ]
  },
  {
   "cell_type": "markdown",
   "id": "ce798443-33ac-4ffb-ba65-6d754f1b583f",
   "metadata": {},
   "source": [
    "#### Абстракция"
   ]
  },
  {
   "cell_type": "markdown",
   "id": "b0387b6c-7caf-4a88-8c22-7d9e9113f94f",
   "metadata": {},
   "source": [
    "#### Наследование"
   ]
  },
  {
   "cell_type": "markdown",
   "id": "0fc826f8-9da5-4d78-bd8d-fe03c7580a02",
   "metadata": {},
   "source": [
    "Класс может наследовать данные и функциональность некоторого существующего типа, способствуя повторному использованию компонентов программного обеспечения.\n",
    "\n",
    "`class <дочерний класс>(<родительский класс>)`"
   ]
  },
  {
   "cell_type": "code",
   "execution_count": 43,
   "id": "65ba6e6e-c3d8-4054-8148-315dcb766319",
   "metadata": {},
   "outputs": [
    {
     "name": "stdout",
     "output_type": "stream",
     "text": [
      "Не только студент ...\n",
      "... но и выпускник\n",
      "Выпускник Artem, 23 год\n"
     ]
    },
    {
     "data": {
      "text/plain": [
       "23"
      ]
     },
     "execution_count": 43,
     "metadata": {},
     "output_type": "execute_result"
    }
   ],
   "source": [
    "class Student:\n",
    "    def __init__(self, name, age):\n",
    "        self.name = name\n",
    "        self.age = age\n",
    "        print(\"Не только студент ...\")\n",
    "\n",
    "    def __str__(self):\n",
    "        return f\"{self.name}, {self.age} года\"\n",
    "\n",
    "    def get_age(self):\n",
    "        return self.age\n",
    "\n",
    "class Graduate(Student):\n",
    "    def __init__(self, name, age, diploma_mark):\n",
    "        super().__init__(name, age)\n",
    "        self.diploma_mark = diploma_mark\n",
    "        print(\"... но и выпускник\")\n",
    "\n",
    "    def __str__(self):  # переопределение метода\n",
    "        return f\"Выпускник {self.name}, {self.age} года\"\n",
    "        \n",
    "artem = Graduate(\"Artem\", 23, 5)\n",
    "print(artem)\n",
    "artem.get_age()"
   ]
  },
  {
   "cell_type": "markdown",
   "id": "664e493b-2af7-470f-a937-691f692582f7",
   "metadata": {},
   "source": [
    "#### Инкапсуляция"
   ]
  },
  {
   "cell_type": "markdown",
   "id": "97e1623b-0288-451f-a5d9-339cb212e99a",
   "metadata": {},
   "source": [
    "Класс должен представлять пользователю данные и единый интерфейс для работы с ними, скрывая конкретную реализацию методов от него"
   ]
  },
  {
   "cell_type": "code",
   "execution_count": 14,
   "id": "a019c557-e3cc-43be-936b-4c8967b73db2",
   "metadata": {},
   "outputs": [
    {
     "data": {
      "text/plain": [
       "4"
      ]
     },
     "execution_count": 14,
     "metadata": {},
     "output_type": "execute_result"
    }
   ],
   "source": [
    "class Student:\n",
    "    __course_points = 0\n",
    "    \n",
    "    def __init__(self, name, age=18):\n",
    "        self.name = name\n",
    "        self.age = age\n",
    "\n",
    "    def get_course_mark(self):\n",
    "        return self.__course_points // 10\n",
    "\n",
    "    def set_course_points(self, points):\n",
    "        if points < 0:\n",
    "            return \n",
    "        self.__course_points = points\n",
    "\n",
    "andrew = Student(\"Andrew\")\n",
    "andrew.set_course_points(33)\n",
    "andrew.get_course_mark()"
   ]
  },
  {
   "cell_type": "code",
   "execution_count": 17,
   "id": "c1984521-2fe0-4055-89fd-fd775542332c",
   "metadata": {},
   "outputs": [
    {
     "data": {
      "text/plain": [
       "2"
      ]
     },
     "execution_count": 17,
     "metadata": {},
     "output_type": "execute_result"
    }
   ],
   "source": [
    "class Student:\n",
    "    __course_points = 0\n",
    "    \n",
    "    def __init__(self, name, age=18):\n",
    "        self.name = name\n",
    "        self.age = age\n",
    "\n",
    "    def get_course_mark(self):\n",
    "        return self.__calculate_mark()\n",
    "\n",
    "    def set_course_points(self, points):\n",
    "        if points < 0:\n",
    "            return\n",
    "        self.__course_points = points\n",
    "        \n",
    "    def __calculate_mark(self):\n",
    "        if self.__course_points < 35:\n",
    "            return 2\n",
    "        return min(self.__course_points // 10, 5)\n",
    "\n",
    "andrew = Student(\"Andrew\")\n",
    "andrew.set_course_points(33)\n",
    "andrew.get_course_mark()"
   ]
  },
  {
   "cell_type": "code",
   "execution_count": 18,
   "id": "602f627e-a4b0-4071-a2e2-8703bd12f32e",
   "metadata": {},
   "outputs": [
    {
     "ename": "AttributeError",
     "evalue": "'Student' object has no attribute '__calculate_mark'",
     "output_type": "error",
     "traceback": [
      "\u001B[1;31m---------------------------------------------------------------------------\u001B[0m",
      "\u001B[1;31mAttributeError\u001B[0m                            Traceback (most recent call last)",
      "Cell \u001B[1;32mIn[18], line 1\u001B[0m\n\u001B[1;32m----> 1\u001B[0m \u001B[43mandrew\u001B[49m\u001B[38;5;241;43m.\u001B[39;49m\u001B[43m__calculate_mark\u001B[49m()\n",
      "\u001B[1;31mAttributeError\u001B[0m: 'Student' object has no attribute '__calculate_mark'"
     ]
    }
   ],
   "source": [
    "andrew.__calculate_mark()"
   ]
  },
  {
   "cell_type": "code",
   "execution_count": null,
   "id": "8ec8755f-ee18-4540-acee-6bbd922102ea",
   "metadata": {},
   "outputs": [],
   "source": [
    "andrew._Student__calculate_mark() # Но всё равно можно вызвать через <object>._<class_name><method_name>()"
   ]
  },
  {
   "cell_type": "markdown",
   "id": "16bfbc2b-344c-4f9a-b5c7-7fb36bd9617d",
   "metadata": {},
   "source": [
    "#### Инкапсуляция"
   ]
  },
  {
   "cell_type": "markdown",
   "id": "74210416-ba76-4160-a323-701047e2d7bc",
   "metadata": {},
   "source": [
    "Класс должен позволять пользователю использовать разные объекты с одинаковым интерфейсом (без информации о типе и внутренней структуре объекта)"
   ]
  },
  {
   "cell_type": "markdown",
   "id": "cb5640d6-254a-41eb-bc97-b825a9b6432d",
   "metadata": {
    "jp-MarkdownHeadingCollapsed": true
   },
   "source": [
    "## Утиная типизация (Duck typing)"
   ]
  },
  {
   "cell_type": "markdown",
   "id": "4e71cd29-4bd2-4089-a4dc-6db280fb2ac9",
   "metadata": {},
   "source": [
    "«Если нечто выглядит как утка, плавает как утка и крякает как утка, это, вероятно, утка и есть» \n",
    "\n",
    "(«If it looks like a duck, swims like a duck and quacks like a duck, then it probably is a duck»)."
   ]
  },
  {
   "cell_type": "markdown",
   "id": "963798a2-b7bc-4969-8052-54966c1eceeb",
   "metadata": {},
   "source": [
    "Если какой-то объект поддерживает все требуемые от него операции, с ним и будут работать с помощью этих операций, не заботясь о том, какого он на самом деле типа."
   ]
  },
  {
   "cell_type": "code",
   "execution_count": null,
   "id": "ae9c92b5-f97a-47d7-8784-da033e91d336",
   "metadata": {},
   "outputs": [],
   "source": [
    "class Student:\n",
    "    def __init__(self, name, age):\n",
    "        self.name = name\n",
    "        self.age = age\n",
    "\n",
    "class Teacher:\n",
    "    def __init__(self, name, course):\n",
    "        self.name = name\n",
    "        self.course = course\n",
    "\n",
    "def print_name(person):\n",
    "    print(person.name)\n",
    "\n",
    "student = Student(\"Kondratev Andrew\", 18)\n",
    "teacher = Teacher(\"Pluzhnikova Elena Leonidovna\", \"Math\")\n",
    "print_name(student)\n",
    "print_name(teacher)"
   ]
  },
  {
   "cell_type": "markdown",
   "id": "80914e26-9700-428a-a62f-d3fd16384fae",
   "metadata": {},
   "source": [
    "## Полезные материалы"
   ]
  },
  {
   "cell_type": "markdown",
   "id": "633d75e9-adb3-4338-9749-c136953f4b3a",
   "metadata": {},
   "source": [
    "1. [Хэндбук Яндекса](https://academy.yandex.ru/handbook/python)\n",
    "2. [\"Поколение Python\": курс для начинающих](https://stepik.org/course/58852/promo)"
   ]
  }
 ],
 "metadata": {
  "interpreter": {
   "hash": "b0fa6594d8f4cbf19f97940f81e996739fb7646882a419484c72d19e05852a7e"
  },
  "kernelspec": {
   "display_name": "Python 3 (ipykernel)",
   "language": "python",
   "name": "python3"
  },
  "language_info": {
   "codemirror_mode": {
    "name": "ipython",
    "version": 3
   },
   "file_extension": ".py",
   "mimetype": "text/x-python",
   "name": "python",
   "nbconvert_exporter": "python",
   "pygments_lexer": "ipython3",
   "version": "3.10.2"
  }
 },
 "nbformat": 4,
 "nbformat_minor": 5
}
