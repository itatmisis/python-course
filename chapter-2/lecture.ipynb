{
 "cells": [
  {
   "cell_type": "markdown",
   "id": "interim-bones",
   "metadata": {},
   "source": [
    "## Функции"
   ]
  },
  {
   "cell_type": "code",
   "execution_count": 3,
   "id": "considerable-newcastle",
   "metadata": {},
   "outputs": [],
   "source": [
    "# function_name - имя функции\n",
    "def function_name():\n",
    "    # тело функции\n",
    "    print('Hello World')"
   ]
  },
  {
   "cell_type": "code",
   "execution_count": 5,
   "id": "current-bread",
   "metadata": {},
   "outputs": [
    {
     "name": "stdout",
     "output_type": "stream",
     "text": [
      "Hello World\n"
     ]
    }
   ],
   "source": [
    "# вызов функции\n",
    "function_name()"
   ]
  },
  {
   "cell_type": "code",
   "execution_count": 13,
   "id": "polish-consensus",
   "metadata": {},
   "outputs": [],
   "source": [
    "def func(a, b, c):\n",
    "    # a, b, c - аргументы функции\n",
    "    # a, b, c, d - недоступен из вне\n",
    "    d = a + b + c\n",
    "    return d"
   ]
  },
  {
   "cell_type": "code",
   "execution_count": 14,
   "id": "behind-ladder",
   "metadata": {},
   "outputs": [
    {
     "data": {
      "text/plain": [
       "6"
      ]
     },
     "execution_count": 14,
     "metadata": {},
     "output_type": "execute_result"
    }
   ],
   "source": [
    "func(1, 2, 3)"
   ]
  },
  {
   "cell_type": "code",
   "execution_count": 15,
   "id": "worth-brooklyn",
   "metadata": {},
   "outputs": [],
   "source": [
    "# a имеет умолчательное значение\n",
    "def func(a = 10):\n",
    "    return a * 2"
   ]
  },
  {
   "cell_type": "code",
   "execution_count": 17,
   "id": "underlying-protest",
   "metadata": {},
   "outputs": [
    {
     "name": "stdout",
     "output_type": "stream",
     "text": [
      "20\n",
      "20\n",
      "40\n"
     ]
    }
   ],
   "source": [
    "print(func())\n",
    "print(func(10))\n",
    "print(func(20))"
   ]
  },
  {
   "cell_type": "markdown",
   "id": "distinct-conservative",
   "metadata": {},
   "source": [
    "## Лямбда Функции\n",
    "Это анонимные функции, то есть функции без имени  \n",
    "`labmda <аргументы через запятую>: <возвращаемое выражение>`"
   ]
  },
  {
   "cell_type": "code",
   "execution_count": 20,
   "id": "reserved-participation",
   "metadata": {},
   "outputs": [
    {
     "data": {
      "text/plain": [
       "20"
      ]
     },
     "execution_count": 20,
     "metadata": {},
     "output_type": "execute_result"
    }
   ],
   "source": [
    "a = lambda x: x * 10\n",
    "a(2)"
   ]
  },
  {
   "cell_type": "code",
   "execution_count": 30,
   "id": "assumed-survival",
   "metadata": {},
   "outputs": [
    {
     "data": {
      "text/plain": [
       "<map at 0x7fd351294fa0>"
      ]
     },
     "execution_count": 30,
     "metadata": {},
     "output_type": "execute_result"
    }
   ],
   "source": [
    "# map - функция, которая применяет к итерироемому объекту некую функцию\n",
    "b = [1, 2, 3, 4, 5]\n",
    "c = map(lambda x: x ** 2, b)\n",
    "c"
   ]
  },
  {
   "cell_type": "code",
   "execution_count": 31,
   "id": "confused-yukon",
   "metadata": {},
   "outputs": [
    {
     "data": {
      "text/plain": [
       "[1, 4, 9, 16, 25]"
      ]
     },
     "execution_count": 31,
     "metadata": {},
     "output_type": "execute_result"
    }
   ],
   "source": [
    "for i in c:\n",
    "    print(i)"
   ]
  },
  {
   "cell_type": "markdown",
   "id": "informed-income",
   "metadata": {},
   "source": [
    "## Словарь\n",
    "Это ассоциативный массив данных  \n",
    "`dictionary = {<ключ>: <значение>}`"
   ]
  },
  {
   "cell_type": "code",
   "execution_count": 32,
   "id": "ceramic-tourism",
   "metadata": {},
   "outputs": [
    {
     "data": {
      "text/plain": [
       "'Russia'"
      ]
     },
     "execution_count": 32,
     "metadata": {},
     "output_type": "execute_result"
    }
   ],
   "source": [
    "a = {'Moscow': 'Russia', 'New York': 'US', 'Munich': 'FRG'}\n",
    "a['Moscow']"
   ]
  },
  {
   "cell_type": "code",
   "execution_count": 34,
   "id": "strange-bangkok",
   "metadata": {},
   "outputs": [
    {
     "data": {
      "text/plain": [
       "'France'"
      ]
     },
     "execution_count": 34,
     "metadata": {},
     "output_type": "execute_result"
    }
   ],
   "source": [
    "a['Paris'] = 'France'\n",
    "a['Paris']"
   ]
  },
  {
   "cell_type": "code",
   "execution_count": 35,
   "id": "suspected-student",
   "metadata": {},
   "outputs": [
    {
     "data": {
      "text/plain": [
       "'USSR'"
      ]
     },
     "execution_count": 35,
     "metadata": {},
     "output_type": "execute_result"
    }
   ],
   "source": [
    "a['Moscow'] = 'USSR'\n",
    "a['Moscow']"
   ]
  },
  {
   "cell_type": "code",
   "execution_count": 36,
   "id": "micro-silver",
   "metadata": {},
   "outputs": [
    {
     "name": "stdout",
     "output_type": "stream",
     "text": [
      "Moscow USSR\n",
      "New York US\n",
      "Munich FRG\n",
      "Paris France\n"
     ]
    }
   ],
   "source": [
    "for key, value in a.items():\n",
    "    print(key, value)"
   ]
  },
  {
   "cell_type": "markdown",
   "id": "beautiful-evolution",
   "metadata": {},
   "source": [
    "## List и Dict comprehensions"
   ]
  },
  {
   "cell_type": "code",
   "execution_count": 2,
   "id": "monetary-bargain",
   "metadata": {},
   "outputs": [
    {
     "data": {
      "text/plain": [
       "[0, 1, 2, 3, 4, 5, 6, 7, 8, 9]"
      ]
     },
     "execution_count": 2,
     "metadata": {},
     "output_type": "execute_result"
    }
   ],
   "source": [
    "# создание листа в одну строку\n",
    "list_ = [i for i in range(10)]\n",
    "list_"
   ]
  },
  {
   "cell_type": "code",
   "execution_count": 3,
   "id": "informational-completion",
   "metadata": {},
   "outputs": [
    {
     "data": {
      "text/plain": [
       "[0, 2, 4, 6, 8]"
      ]
     },
     "execution_count": 3,
     "metadata": {},
     "output_type": "execute_result"
    }
   ],
   "source": [
    "list_ = [i for i in range(10) if i % 2 == 0]\n",
    "list_"
   ]
  },
  {
   "cell_type": "code",
   "execution_count": 4,
   "id": "ideal-strap",
   "metadata": {},
   "outputs": [
    {
     "ename": "SyntaxError",
     "evalue": "invalid syntax (<ipython-input-4-f9f80f954555>, line 1)",
     "output_type": "error",
     "traceback": [
      "\u001b[0;36m  File \u001b[0;32m\"<ipython-input-4-f9f80f954555>\"\u001b[0;36m, line \u001b[0;32m1\u001b[0m\n\u001b[0;31m    dict_ = {i, i**2 for i range(10)}\u001b[0m\n\u001b[0m                     ^\u001b[0m\n\u001b[0;31mSyntaxError\u001b[0m\u001b[0;31m:\u001b[0m invalid syntax\n"
     ]
    }
   ],
   "source": [
    "dict_ = {i, i**2 for i range(10)}\n",
    "dict_"
   ]
  },
  {
   "cell_type": "markdown",
   "id": "permanent-delaware",
   "metadata": {},
   "source": [
    "## Key-word args"
   ]
  },
  {
   "cell_type": "code",
   "execution_count": 37,
   "id": "macro-virginia",
   "metadata": {},
   "outputs": [],
   "source": [
    "def func(a = 0, b = 0, c = 0):\n",
    "    return a + b + c"
   ]
  },
  {
   "cell_type": "code",
   "execution_count": 39,
   "id": "medieval-paragraph",
   "metadata": {},
   "outputs": [
    {
     "data": {
      "text/plain": [
       "10"
      ]
     },
     "execution_count": 39,
     "metadata": {},
     "output_type": "execute_result"
    }
   ],
   "source": [
    "func(b = 10)"
   ]
  },
  {
   "cell_type": "markdown",
   "id": "handled-immune",
   "metadata": {},
   "source": [
    "## Распаковка"
   ]
  },
  {
   "cell_type": "code",
   "execution_count": 47,
   "id": "authorized-taiwan",
   "metadata": {},
   "outputs": [],
   "source": [
    "def func(*args, **kwargs):\n",
    "    print(f'{type(args)=}  {type(kwargs)=}\\n\\n')\n",
    "    print('args')\n",
    "    for idx, arg in enumerate(args):\n",
    "        print(idx, arg, sep=': ')\n",
    "    print('kwargs')\n",
    "    for key, kwarg in kwargs.items():\n",
    "        print(key, kwarg, sep=': ')"
   ]
  },
  {
   "cell_type": "code",
   "execution_count": 48,
   "id": "annoying-legend",
   "metadata": {},
   "outputs": [
    {
     "name": "stdout",
     "output_type": "stream",
     "text": [
      "type(args)=<class 'tuple'>  type(kwargs)=<class 'dict'>\n",
      "\n",
      "\n",
      "args\n",
      "0: 21\n",
      "1: 2\n",
      "kwargs\n",
      "b: 2\n",
      "c: 1\n"
     ]
    }
   ],
   "source": [
    "func(21, 2, b=2, c=1)"
   ]
  },
  {
   "cell_type": "code",
   "execution_count": 49,
   "id": "distributed-belfast",
   "metadata": {},
   "outputs": [],
   "source": [
    "def niceprint(*args):\n",
    "    for idx, arg in enumerate(args):\n",
    "        print(idx, arg, sep=': ')"
   ]
  },
  {
   "cell_type": "code",
   "execution_count": 50,
   "id": "intellectual-drama",
   "metadata": {},
   "outputs": [
    {
     "name": "stdout",
     "output_type": "stream",
     "text": [
      "0: {'Moscow': 'USSR', 'New York': 'US', 'Munich': 'FRG', 'Paris': 'France'}\n"
     ]
    }
   ],
   "source": [
    "niceprint(a)"
   ]
  },
  {
   "cell_type": "code",
   "execution_count": 51,
   "id": "listed-direction",
   "metadata": {},
   "outputs": [
    {
     "data": {
      "text/plain": [
       "dict_keys(['Moscow', 'New York', 'Munich', 'Paris'])"
      ]
     },
     "execution_count": 51,
     "metadata": {},
     "output_type": "execute_result"
    }
   ],
   "source": [
    "list_of_cities = a.keys()\n",
    "list_of_cities"
   ]
  },
  {
   "cell_type": "code",
   "execution_count": 56,
   "id": "adolescent-telescope",
   "metadata": {},
   "outputs": [
    {
     "name": "stdout",
     "output_type": "stream",
     "text": [
      "0: Moscow\n",
      "1: New York\n",
      "2: Munich\n",
      "3: Paris\n"
     ]
    }
   ],
   "source": [
    "niceprint(*list_of_cities)"
   ]
  },
  {
   "cell_type": "code",
   "execution_count": 59,
   "id": "offshore-enforcement",
   "metadata": {},
   "outputs": [
    {
     "name": "stdout",
     "output_type": "stream",
     "text": [
      "Hello <World>"
     ]
    }
   ],
   "source": [
    "sep = ' <'\n",
    "end = '>'\n",
    "kwargs = {'sep': sep, 'end': end}\n",
    "args = ['Hello', 'World']\n",
    "print(*args, **kwargs)"
   ]
  },
  {
   "cell_type": "markdown",
   "id": "protecting-belly",
   "metadata": {},
   "source": [
    "## Методы листов"
   ]
  },
  {
   "cell_type": "code",
   "execution_count": 64,
   "id": "urban-stanford",
   "metadata": {},
   "outputs": [],
   "source": [
    "a = [0, 1, 2, 3, 4]"
   ]
  },
  {
   "cell_type": "code",
   "execution_count": 65,
   "id": "central-correspondence",
   "metadata": {},
   "outputs": [
    {
     "data": {
      "text/plain": [
       "[0, 1, 2, 3, 4, 5]"
      ]
     },
     "execution_count": 65,
     "metadata": {},
     "output_type": "execute_result"
    }
   ],
   "source": [
    "# Добавление элемента\n",
    "a.append(5)\n",
    "a"
   ]
  },
  {
   "cell_type": "code",
   "execution_count": 70,
   "id": "prostate-klein",
   "metadata": {},
   "outputs": [
    {
     "data": {
      "text/plain": [
       "[0, 1, 2, 'вставлено', 3, 4, 5, 6, 7, 6, 7, 7, 7]"
      ]
     },
     "execution_count": 70,
     "metadata": {},
     "output_type": "execute_result"
    }
   ],
   "source": [
    "# Добавление листа\n",
    "b = [6, 7, 7, 7]\n",
    "a.extend(b)\n",
    "a"
   ]
  },
  {
   "cell_type": "code",
   "execution_count": 67,
   "id": "thirty-emperor",
   "metadata": {},
   "outputs": [
    {
     "data": {
      "text/plain": [
       "[0, 1, 2, 'вставлено', 3, 4, 5, 6, 7]"
      ]
     },
     "execution_count": 67,
     "metadata": {},
     "output_type": "execute_result"
    }
   ],
   "source": [
    "# Вставка по индексу\n",
    "a.insert(3, 'вставлено')\n",
    "a"
   ]
  },
  {
   "cell_type": "code",
   "execution_count": 68,
   "id": "expressed-woman",
   "metadata": {},
   "outputs": [
    {
     "data": {
      "text/plain": [
       "[]"
      ]
     },
     "execution_count": 68,
     "metadata": {},
     "output_type": "execute_result"
    }
   ],
   "source": [
    "# Очистка\n",
    "b.clear()\n",
    "b"
   ]
  },
  {
   "cell_type": "code",
   "execution_count": 69,
   "id": "copyrighted-invitation",
   "metadata": {},
   "outputs": [
    {
     "data": {
      "text/plain": [
       "3"
      ]
     },
     "execution_count": 69,
     "metadata": {},
     "output_type": "execute_result"
    }
   ],
   "source": [
    "# Получение индекса\n",
    "a.index('вставлено')"
   ]
  },
  {
   "cell_type": "code",
   "execution_count": 71,
   "id": "satellite-vision",
   "metadata": {},
   "outputs": [
    {
     "data": {
      "text/plain": [
       "4"
      ]
     },
     "execution_count": 71,
     "metadata": {},
     "output_type": "execute_result"
    }
   ],
   "source": [
    "# Подсчёт количества элементов\n",
    "a.count(7)"
   ]
  },
  {
   "cell_type": "code",
   "execution_count": 73,
   "id": "split-rebecca",
   "metadata": {},
   "outputs": [
    {
     "data": {
      "text/plain": [
       "[0, 1, 2, 3, 4, 5, 6, 7, 6, 7, 7, 7]"
      ]
     },
     "execution_count": 73,
     "metadata": {},
     "output_type": "execute_result"
    }
   ],
   "source": [
    "# Удаление по значение\n",
    "a.remove('вставлено')\n",
    "a"
   ]
  },
  {
   "cell_type": "code",
   "execution_count": 75,
   "id": "final-ghana",
   "metadata": {},
   "outputs": [
    {
     "data": {
      "text/plain": [
       "[0, 1, 2, 3, 4, 5, 6, 7, 6, 7]"
      ]
     },
     "execution_count": 75,
     "metadata": {},
     "output_type": "execute_result"
    }
   ],
   "source": [
    "# Удаление и возвращение последнего \n",
    "a.pop()\n",
    "a"
   ]
  },
  {
   "cell_type": "code",
   "execution_count": 77,
   "id": "higher-circle",
   "metadata": {},
   "outputs": [
    {
     "data": {
      "text/plain": [
       "[0, 1, 2, 3, 4, 5, 6, 6, 7, 7]"
      ]
     },
     "execution_count": 77,
     "metadata": {},
     "output_type": "execute_result"
    }
   ],
   "source": [
    "# Сортировка листа\n",
    "a.sort()\n",
    "a"
   ]
  },
  {
   "cell_type": "code",
   "execution_count": 97,
   "id": "macro-explanation",
   "metadata": {},
   "outputs": [
    {
     "data": {
      "text/plain": [
       "[0, 1, 2, 3, 4, 5, 6, 6, 7, 7]"
      ]
     },
     "execution_count": 97,
     "metadata": {},
     "output_type": "execute_result"
    }
   ],
   "source": [
    "# Разворот листа\n",
    "a.reverse()\n",
    "a"
   ]
  },
  {
   "cell_type": "markdown",
   "id": "ancient-constitution",
   "metadata": {},
   "source": [
    "## Методы строк"
   ]
  },
  {
   "cell_type": "code",
   "execution_count": 99,
   "id": "dominant-appendix",
   "metadata": {},
   "outputs": [
    {
     "data": {
      "text/plain": [
       "7"
      ]
     },
     "execution_count": 99,
     "metadata": {},
     "output_type": "execute_result"
    }
   ],
   "source": [
    "# Поиск индекса по значению\n",
    "a = 'Привет Мир!'\n",
    "a.find('М')"
   ]
  },
  {
   "cell_type": "code",
   "execution_count": 101,
   "id": "functional-greek",
   "metadata": {},
   "outputs": [
    {
     "data": {
      "text/plain": [
       "'Привет, ITAM'"
      ]
     },
     "execution_count": 101,
     "metadata": {},
     "output_type": "execute_result"
    }
   ],
   "source": [
    "a = 'Привет, {}'.format('ITAM')\n",
    "a"
   ]
  },
  {
   "cell_type": "code",
   "execution_count": 103,
   "id": "general-savannah",
   "metadata": {},
   "outputs": [
    {
     "data": {
      "text/plain": [
       "'Привет, ITAM'"
      ]
     },
     "execution_count": 103,
     "metadata": {},
     "output_type": "execute_result"
    }
   ],
   "source": [
    "name = \"ITAM\"\n",
    "f'Привет, {name}'"
   ]
  },
  {
   "cell_type": "code",
   "execution_count": 105,
   "id": "exempt-darwin",
   "metadata": {},
   "outputs": [
    {
     "data": {
      "text/plain": [
       "'Антон, Илья, Астольфо, Михаил'"
      ]
     },
     "execution_count": 105,
     "metadata": {},
     "output_type": "execute_result"
    }
   ],
   "source": [
    "a = ['Антон', 'Илья', 'Астольфо', 'Михаил']\n",
    "', '.join(a)"
   ]
  },
  {
   "cell_type": "code",
   "execution_count": 106,
   "id": "increasing-vision",
   "metadata": {},
   "outputs": [
    {
     "data": {
      "text/plain": [
       "['Длинный', 'длинный', 'текст', 'с', 'пробелами']"
      ]
     },
     "execution_count": 106,
     "metadata": {},
     "output_type": "execute_result"
    }
   ],
   "source": [
    "a = 'Длинный длинный текст с пробелами'\n",
    "a.split()"
   ]
  },
  {
   "cell_type": "code",
   "execution_count": 108,
   "id": "obvious-insertion",
   "metadata": {},
   "outputs": [
    {
     "data": {
      "text/plain": [
       "['Длинный текст ', 'с новыми строками']"
      ]
     },
     "execution_count": 108,
     "metadata": {},
     "output_type": "execute_result"
    }
   ],
   "source": [
    "a = 'Длинный текст \\nс новыми строками'\n",
    "a.splitlines()"
   ]
  },
  {
   "cell_type": "code",
   "execution_count": 111,
   "id": "checked-advance",
   "metadata": {},
   "outputs": [
    {
     "data": {
      "text/plain": [
       "'длинный текст \\nс новыми строками'"
      ]
     },
     "execution_count": 111,
     "metadata": {},
     "output_type": "execute_result"
    }
   ],
   "source": [
    "a.lower()"
   ]
  },
  {
   "cell_type": "code",
   "execution_count": 110,
   "id": "unable-craps",
   "metadata": {},
   "outputs": [
    {
     "data": {
      "text/plain": [
       "'ДЛИННЫЙ ТЕКСТ \\nС НОВЫМИ СТРОКАМИ'"
      ]
     },
     "execution_count": 110,
     "metadata": {},
     "output_type": "execute_result"
    }
   ],
   "source": [
    "a.upper()"
   ]
  }
 ],
 "metadata": {
  "kernelspec": {
   "display_name": "Python 3.8.5 64-bit",
   "language": "python",
   "name": "python38564bit03041eafe65845ed975da9aa4c3cccbf"
  },
  "language_info": {
   "codemirror_mode": {
    "name": "ipython",
    "version": 3
   },
   "file_extension": ".py",
   "mimetype": "text/x-python",
   "name": "python",
   "nbconvert_exporter": "python",
   "pygments_lexer": "ipython3",
   "version": "3.8.10"
  }
 },
 "nbformat": 4,
 "nbformat_minor": 5
}
