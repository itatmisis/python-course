{
 "cells": [
  {
   "cell_type": "markdown",
   "metadata": {},
   "source": [
    "## Задачи на словари "
   ]
  },
  {
   "cell_type": "markdown",
   "metadata": {},
   "source": [
    "#### Задача 1.\n",
    "\n",
    "Петр нашел словарь, состоящий из пар слов. Каждое слово является синонимом к парному ему слову. Все слова в словаре различны. Для одного данного слова помогите определите его синоним.\n",
    "\n",
    "Программа получает на вход количество пар синонимов 𝑁. Далее следует 𝑁 строк, каждая строка содержит ровно два слова-синонима. После этого следует одно слово.\n",
    "\n",
    "**Входные данные:**\n"
   ]
  },
  {
   "cell_type": "code",
   "execution_count": null,
   "metadata": {
    "vscode": {
     "languageId": "plaintext"
    }
   },
   "outputs": [],
   "source": [
    "3\n",
    "Hello Hi\n",
    "Bye Goodbye\n",
    "List Array\n",
    "Goodbye"
   ]
  },
  {
   "cell_type": "markdown",
   "metadata": {},
   "source": [
    "**Результат:**\n",
    "\n",
    "`Bye`"
   ]
  },
  {
   "cell_type": "code",
   "execution_count": null,
   "metadata": {},
   "outputs": [],
   "source": []
  },
  {
   "cell_type": "markdown",
   "metadata": {},
   "source": [
    "#### Задача 2. \n",
    "Усложним задачу выше. Теперь в словаре синонимы есть не для всех слов. В случае, если синоним отсутствует, выведите исходное слово. Помогите Петру решить новую задачу.\n",
    "\n",
    "*Примечание: используйте метод get()*\n",
    "\n",
    "**Входные данные:**\n"
   ]
  },
  {
   "cell_type": "code",
   "execution_count": null,
   "metadata": {
    "vscode": {
     "languageId": "plaintext"
    }
   },
   "outputs": [],
   "source": [
    "3\n",
    "Hello Hi\n",
    "Bye Goodbye\n",
    "List Array\n",
    "Python"
   ]
  },
  {
   "cell_type": "markdown",
   "metadata": {},
   "source": [
    "**Результат:**\n",
    "\n",
    "`Python`"
   ]
  },
  {
   "cell_type": "code",
   "execution_count": null,
   "metadata": {},
   "outputs": [],
   "source": []
  },
  {
   "cell_type": "markdown",
   "metadata": {},
   "source": [
    "#### Задача 3. (повышенной сложности)\n",
    "\n",
    "В городе M прошли выборы, и теперь у вас имеется список результатов голосов избирателей. В каждой из последующих N строк записано название партии, за которую проголосовал данный избиратель, в виде текстовой строки. Программа должна вывести список всех партий в порядке убывания количества голосов, отданных за эту партию. При этом название каждой партии должно быть выведено ровно один раз, вне зависимости от того, сколько голосов было отдано за данную партию. Партии с одинаковым количеством голосов надо выводить в алфавитном порядке.\n",
    "*Для этой задачи потребуется метод списков sort*\n",
    "\n",
    "**Входные данные:**"
   ]
  },
  {
   "cell_type": "code",
   "execution_count": null,
   "metadata": {
    "vscode": {
     "languageId": "plaintext"
    }
   },
   "outputs": [],
   "source": [
    "6\n",
    "Party one\n",
    "Party two\n",
    "Party three\n",
    "Party three\n",
    "Party two\n",
    "Party three"
   ]
  },
  {
   "cell_type": "markdown",
   "metadata": {},
   "source": [
    "**Результат:**\n",
    "\n",
    "`Party three`\\\n",
    "`Party two`\\\n",
    "`Party one`"
   ]
  },
  {
   "cell_type": "code",
   "execution_count": null,
   "metadata": {},
   "outputs": [],
   "source": []
  },
  {
   "cell_type": "markdown",
   "metadata": {},
   "source": [
    "## Задачи на множества\n"
   ]
  },
  {
   "cell_type": "markdown",
   "metadata": {},
   "source": [
    "#### Задача 1.\n",
    "Петр заинтересовался: сколько студентов ходит одновременно на Python и ML курсы. Помогите решить эту задачу. \\\n",
    "В первой строке перечислены номера студентов, которые ходят на Python курс, а во второй номера тех, кто ходит на ML курс.\n",
    "\n",
    "**Входные данные:**"
   ]
  },
  {
   "cell_type": "code",
   "execution_count": null,
   "metadata": {
    "vscode": {
     "languageId": "plaintext"
    }
   },
   "outputs": [],
   "source": [
    "1 2 3 4 5 6 7 8 9\n",
    "7 8 9 10 11"
   ]
  },
  {
   "cell_type": "markdown",
   "metadata": {},
   "source": [
    "**Результат:**\n",
    "\n",
    "`7 8 9`"
   ]
  },
  {
   "cell_type": "code",
   "execution_count": null,
   "metadata": {},
   "outputs": [],
   "source": []
  },
  {
   "cell_type": "markdown",
   "metadata": {},
   "source": [
    "#### Задача 2.\n",
    "\n",
    "Помогите написать программу, которая получает две символьные строки и находит все латинские буквы. которых нет ни в одной из них. Заглавные и строчные буквы не различаются.\n",
    "\n",
    "*Все буквы должны быть заглавными. Если ни одной такой буквы нет, нужно вывести число 0.*\n",
    "\n",
    "**Входные данные:**"
   ]
  },
  {
   "cell_type": "code",
   "execution_count": null,
   "metadata": {
    "vscode": {
     "languageId": "plaintext"
    }
   },
   "outputs": [],
   "source": [
    "qwertyuiop\n",
    "asdfghjklzxc"
   ]
  },
  {
   "cell_type": "markdown",
   "metadata": {},
   "source": [
    "**Результат:**\n",
    "\n",
    "`BMNV`"
   ]
  },
  {
   "cell_type": "code",
   "execution_count": null,
   "metadata": {},
   "outputs": [],
   "source": []
  },
  {
   "cell_type": "markdown",
   "metadata": {},
   "source": [
    "## Задачи на функции\n"
   ]
  },
  {
   "cell_type": "markdown",
   "metadata": {},
   "source": [
    "#### Задача 1.\n",
    "\n",
    "Необходимо написать функцию *greetings()*, которая принимает на вход строчку, состоящую из фамилии и имени пользователя, и возвращает приветствие в формате строки\n",
    "\n",
    "**Входные данные:**"
   ]
  },
  {
   "cell_type": "markdown",
   "metadata": {},
   "source": [
    "Гендо Геннадий"
   ]
  },
  {
   "cell_type": "markdown",
   "metadata": {},
   "source": [
    "**Резульат:**\n",
    "\n",
    "`Доброго времени суток, Гендо \"Человек\" Геннадий!`\n",
    "\n",
    ">Пояснение к примеру: необходимо вернуть из функции строку формата Доброго времени суток, ИМЯ \"Человек\" ФАМИЛИЯ!"
   ]
  },
  {
   "cell_type": "code",
   "execution_count": null,
   "metadata": {},
   "outputs": [],
   "source": []
  },
  {
   "cell_type": "markdown",
   "metadata": {},
   "source": [
    "#### Задача 2.\n",
    "\n",
    "Необходимо написать функцию summation, на вход которой подаётся некоторое количество целых чисел, которая будет считать сумму всех введённых чисел с условием, что:\n",
    "\n",
    "1. Если число отрицательное, то надо сделать его положительным и умножить на два;\n",
    "2. Каждое число нужно нормализовать (поделить каждое число на самое большое число после преобразования №1)\n",
    "\n",
    "**Входные данные:**"
   ]
  },
  {
   "cell_type": "code",
   "execution_count": null,
   "metadata": {
    "vscode": {
     "languageId": "plaintext"
    }
   },
   "outputs": [],
   "source": [
    "-10, 2, 3, 15, -4"
   ]
  },
  {
   "cell_type": "markdown",
   "metadata": {},
   "source": [
    "**Результат:**\n",
    "\n",
    "`2.4`"
   ]
  },
  {
   "cell_type": "code",
   "execution_count": null,
   "metadata": {},
   "outputs": [],
   "source": []
  },
  {
   "cell_type": "markdown",
   "metadata": {},
   "source": [
    "#### Задача 3. (повышенной сложности)\n",
    "\n",
    "Есть список, который может содержать список в качестве элемента (этот список также может содержать список, и так далее) или строку. Необходимо создать словарь, ключами которого являются все встречающиеся символы в строках в списках, а значение - количество включений этого символа в элементах в списках.\n",
    "\n",
    "**Входные данные:**"
   ]
  },
  {
   "cell_type": "code",
   "execution_count": null,
   "metadata": {
    "vscode": {
     "languageId": "plaintext"
    }
   },
   "outputs": [],
   "source": [
    "[\"wow\", [\"waow\", \"1000-7\", \"wahoo\", [\"oh\"], [\"dead\", [\"inside\"]]]]"
   ]
  },
  {
   "cell_type": "markdown",
   "metadata": {},
   "source": [
    "**Результат:**\n",
    "\n",
    "`{'w': 5, 'o': 5, 'a': 3, '1': 1, '0': 3, '-': 1, '7': 1, 'h': 2, 'd': 3, 'e': 2, 'i': 2, 'n': 1, 's': 1}`"
   ]
  },
  {
   "cell_type": "code",
   "execution_count": null,
   "metadata": {},
   "outputs": [],
   "source": []
  },
  {
   "cell_type": "markdown",
   "source": [
    "Доп:\n",
    "1. Написать рекурсивную функцию поиска факториала числа\n",
    "2. Написать функцию, получающую на вход 2 листа `a` и `b` и возвращающая `True`, если эти два листа имею общий элемент.\n",
    "3. Написать функцию, получающую на вход 2 листа `a` и `b` и возвращающая `True`, `а` есть подлист листа `b`\n"
   ],
   "metadata": {
    "collapsed": false
   }
  },
  {
   "cell_type": "markdown",
   "metadata": {},
   "source": [
    "## Задачи на строки\n"
   ]
  },
  {
   "cell_type": "markdown",
   "metadata": {},
   "source": [
    "#### Задача 1.\n",
    "\n",
    "\n",
    "Дана строка:\n",
    "\n",
    "Сначала выведите третий символ этой строки.\n",
    "\n",
    "Во второй строке выведите предпоследний символ этой строки.\n",
    "\n",
    "В третьей строке выведите первые пять символов этой строки.\n",
    "\n",
    "В четвертой строке выведите всю строку, кроме последних двух символов.\n",
    "\n",
    "В пятой строке выведите все символы с четными индексами (считая, что индексация начинается с 0, поэтому символы выводятся начиная с первого).\n",
    "\n",
    "В шестой строке выведите все символы с нечетными индексами, то есть начиная со второго символа строки.\n",
    "\n",
    "В седьмой строке выведите все символы в обратном порядке.\n",
    "\n",
    "В восьмой строке выведите все символы строки через один в обратном порядке, начиная с последнего.\n",
    "\n",
    "В девятой строке выведите длину данной строки.\n",
    "\n",
    "**Входные данные:**"
   ]
  },
  {
   "cell_type": "code",
   "execution_count": null,
   "metadata": {
    "vscode": {
     "languageId": "plaintext"
    }
   },
   "outputs": [],
   "source": [
    "Abrakadabra"
   ]
  },
  {
   "cell_type": "markdown",
   "metadata": {},
   "source": [
    "**Результат:**\n",
    "\n",
    "`r`\\\n",
    "`r`\\\n",
    "`Abrak`\\\n",
    "`Abrakadab`\\\n",
    "`Arkdba`\\\n",
    "`baaar`\\\n",
    "`arbadakarbA`\\\n",
    "`abdkrA`\\\n",
    "`11`"
   ]
  },
  {
   "cell_type": "code",
   "execution_count": null,
   "metadata": {},
   "outputs": [],
   "source": []
  },
  {
   "cell_type": "markdown",
   "metadata": {},
   "source": [
    "#### Задача 2.\n",
    "\n",
    "Дана строка. Замените в этой строке все появления буквы s на букву S, кроме первого и последнего вхождения.\n",
    "\n",
    "**Входные данные:**"
   ]
  },
  {
   "cell_type": "code",
   "execution_count": null,
   "metadata": {
    "vscode": {
     "languageId": "plaintext"
    }
   },
   "outputs": [],
   "source": [
    "Strings in python are surrounded by either single quotation marks, or double quotation marks."
   ]
  },
  {
   "cell_type": "markdown",
   "metadata": {},
   "source": [
    "**Результат:**\n",
    "\n",
    "`Strings in python are Surrounded by either Single quotation markS, or double quotation marks.`"
   ]
  },
  {
   "cell_type": "code",
   "execution_count": null,
   "metadata": {},
   "outputs": [],
   "source": []
  }
 ],
 "metadata": {
  "language_info": {
   "name": "python"
  },
  "orig_nbformat": 4
 },
 "nbformat": 4,
 "nbformat_minor": 2
}
