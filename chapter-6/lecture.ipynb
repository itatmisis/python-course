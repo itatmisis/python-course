{
 "cells": [
  {
   "cell_type": "markdown",
   "metadata": {},
   "source": [
    "# Занятие 6. FastAPI и pydantic"
   ]
  },
  {
   "cell_type": "markdown",
   "metadata": {},
   "source": [
    "## Фреймворк FastAPI"
   ]
  },
  {
   "cell_type": "markdown",
   "metadata": {},
   "source": [
    "Фреймворк - это набор библиотек и модулей, которые ускоряют разработку и позволяют не вдаваться в низкоуровневые детали, но взамен задает ограничения и влияет на архитектуру проекта"
   ]
  },
  {
   "cell_type": "markdown",
   "metadata": {},
   "source": [
    "Самые популярные бэкенд-фреймворки на Python:\n",
    "* Django\n",
    "* Flask\n",
    "* FastAPI\n",
    "  \n",
    "На нашем курсе мы займемся изучением последнего"
   ]
  },
  {
   "cell_type": "markdown",
   "metadata": {},
   "source": [
    "FastAPI - популярный, простой и фреймворк, который из коробки поддерживает много фичей:\n",
    "* Скорость работы (один из самых шустрых фреймворков благодаря ASGI связке Starlette + Uvicorn)\n",
    "* Сериализация и валидация данных - Pydantic\n",
    "* Автодокументация - Swagger\n",
    "* [Отличная документация](https://fastapi.tiangolo.com/)\n",
    "\n",
    "и многое другое..."
   ]
  },
  {
   "cell_type": "markdown",
   "metadata": {},
   "source": [
    "## Pydantic"
   ]
  },
  {
   "cell_type": "markdown",
   "metadata": {},
   "source": [
    "1. Аннотация типов - подсказки от IDE, статический анализ кода и др.\n",
    "2. Скорость - core библиотеки написан на Rust\n",
    "3. Автогенерация JSON Schema (для Swagger и тд)\n",
    "4. Кастомизация и большое кол-во встроенных типов, несколько режимов работы\n",
    "5. Валидация данных"
   ]
  },
  {
   "cell_type": "code",
   "execution_count": 8,
   "metadata": {},
   "outputs": [
    {
     "ename": "ValidationError",
     "evalue": "3 validation errors for User\nage\n  Value error, User must be adult [type=value_error, input_value=16, input_type=int]\n    For further information visit https://errors.pydantic.dev/2.4/v/value_error\nemail\n  Value error, Email is invalid [type=value_error, input_value='name_test.gr', input_type=str]\n    For further information visit https://errors.pydantic.dev/2.4/v/value_error\npassword\n  Value error, The password must be between 8 and 16 characters long [type=value_error, input_value='1234', input_type=str]\n    For further information visit https://errors.pydantic.dev/2.4/v/value_error",
     "output_type": "error",
     "traceback": [
      "\u001b[1;31m---------------------------------------------------------------------------\u001b[0m",
      "\u001b[1;31mValidationError\u001b[0m                           Traceback (most recent call last)",
      "Cell \u001b[1;32mIn[8], line 48\u001b[0m\n\u001b[0;32m     41\u001b[0m \u001b[38;5;66;03m# Invalid User\u001b[39;00m\n\u001b[0;32m     42\u001b[0m invalid_user \u001b[38;5;241m=\u001b[39m {\n\u001b[0;32m     43\u001b[0m     \u001b[38;5;124m'\u001b[39m\u001b[38;5;124musername\u001b[39m\u001b[38;5;124m'\u001b[39m: \u001b[38;5;124m'\u001b[39m\u001b[38;5;124mtest_name\u001b[39m\u001b[38;5;124m'\u001b[39m,\n\u001b[0;32m     44\u001b[0m     \u001b[38;5;124m'\u001b[39m\u001b[38;5;124mage\u001b[39m\u001b[38;5;124m'\u001b[39m: \u001b[38;5;241m16\u001b[39m,\n\u001b[0;32m     45\u001b[0m     \u001b[38;5;124m'\u001b[39m\u001b[38;5;124memail\u001b[39m\u001b[38;5;124m'\u001b[39m: \u001b[38;5;124m'\u001b[39m\u001b[38;5;124mname_test.gr\u001b[39m\u001b[38;5;124m'\u001b[39m,\n\u001b[0;32m     46\u001b[0m     \u001b[38;5;124m'\u001b[39m\u001b[38;5;124mpassword\u001b[39m\u001b[38;5;124m'\u001b[39m: \u001b[38;5;124m'\u001b[39m\u001b[38;5;124m1234\u001b[39m\u001b[38;5;124m'\u001b[39m\n\u001b[0;32m     47\u001b[0m }\n\u001b[1;32m---> 48\u001b[0m user \u001b[38;5;241m=\u001b[39m User(\u001b[38;5;241m*\u001b[39m\u001b[38;5;241m*\u001b[39minvalid_user)\n",
      "File \u001b[1;32m~\\PycharmProjects\\python-course\\venv\\lib\\site-packages\\pydantic\\main.py:164\u001b[0m, in \u001b[0;36mBaseModel.__init__\u001b[1;34m(__pydantic_self__, **data)\u001b[0m\n\u001b[0;32m    162\u001b[0m \u001b[38;5;66;03m# `__tracebackhide__` tells pytest and some other tools to omit this function from tracebacks\u001b[39;00m\n\u001b[0;32m    163\u001b[0m __tracebackhide__ \u001b[38;5;241m=\u001b[39m \u001b[38;5;28;01mTrue\u001b[39;00m\n\u001b[1;32m--> 164\u001b[0m \u001b[43m__pydantic_self__\u001b[49m\u001b[38;5;241;43m.\u001b[39;49m\u001b[43m__pydantic_validator__\u001b[49m\u001b[38;5;241;43m.\u001b[39;49m\u001b[43mvalidate_python\u001b[49m\u001b[43m(\u001b[49m\u001b[43mdata\u001b[49m\u001b[43m,\u001b[49m\u001b[43m \u001b[49m\u001b[43mself_instance\u001b[49m\u001b[38;5;241;43m=\u001b[39;49m\u001b[43m__pydantic_self__\u001b[49m\u001b[43m)\u001b[49m\n",
      "\u001b[1;31mValidationError\u001b[0m: 3 validation errors for User\nage\n  Value error, User must be adult [type=value_error, input_value=16, input_type=int]\n    For further information visit https://errors.pydantic.dev/2.4/v/value_error\nemail\n  Value error, Email is invalid [type=value_error, input_value='name_test.gr', input_type=str]\n    For further information visit https://errors.pydantic.dev/2.4/v/value_error\npassword\n  Value error, The password must be between 8 and 16 characters long [type=value_error, input_value='1234', input_type=str]\n    For further information visit https://errors.pydantic.dev/2.4/v/value_error"
     ]
    }
   ],
   "source": [
    "import re\n",
    "from pydantic import BaseModel, field_validator\n",
    "\n",
    "class User(BaseModel):\n",
    "    username: str\n",
    "    age: int\n",
    "    email: str\n",
    "    password: str\n",
    "\n",
    "    @field_validator(\"age\")\n",
    "    @classmethod\n",
    "    def validate_age(cls, value):\n",
    "        if value < 18:\n",
    "            raise ValueError(\"User must be adult\")\n",
    "        return value\n",
    "\n",
    "    @field_validator(\"email\")\n",
    "    @classmethod\n",
    "    def validate_email(cls, value):\n",
    "        if not bool(re.fullmatch(r'[\\w.-]+@[\\w-]+\\.[\\w.]+', value)):\n",
    "            raise ValueError(\"Email is invalid\")\n",
    "        return value\n",
    "\n",
    "    @field_validator(\"password\")\n",
    "    @classmethod\n",
    "    def validate_password(cls, value):\n",
    "        password_length = len(value)\n",
    "        if password_length < 8 or password_length > 16:\n",
    "            raise ValueError(\"The password must be between 8 and 16 characters long\")\n",
    "        return value\n",
    "\n",
    "# Valid User\n",
    "valid_user = {\n",
    "    'username': 'test_name',\n",
    "    'age': 20,\n",
    "    'email': 'name@test.gr',\n",
    "    'password': '123456789'\n",
    "}\n",
    "user = User(**valid_user)\n",
    "\n",
    "# Invalid User\n",
    "invalid_user = {\n",
    "    'username': 'test_name',\n",
    "    'age': 16,\n",
    "    'email': 'name_test.gr',\n",
    "    'password': '1234'\n",
    "}\n",
    "user = User(**invalid_user)"
   ]
  },
  {
   "cell_type": "markdown",
   "metadata": {},
   "source": [
    "## Базовая настройка проекта"
   ]
  },
  {
   "cell_type": "markdown",
   "metadata": {},
   "source": [
    "Примеры кода в папке examples:\n",
    "1. Базовый hello world\n",
    "2. Path params + schemas + return type\n",
    "3. Query params + responce model + router\n",
    "4. Pydantic_settings + HTTPException + Pydantic Field"
   ]
  },
  {
   "cell_type": "markdown",
   "metadata": {},
   "source": [
    "# Полезные материалы\n"
   ]
  },
  {
   "cell_type": "markdown",
   "metadata": {},
   "source": [
    "1. [Отличная документация по FastApi](https://fastapi.tiangolo.com/)\n",
    "2. [Немного про то, как FastAPI устроен под капотом](https://habr.com/ru/articles/708678/)"
   ]
  }
 ],
 "metadata": {
  "kernelspec": {
   "display_name": "Python 3 (ipykernel)",
   "language": "python",
   "name": "python3"
  },
  "language_info": {
   "codemirror_mode": {
    "name": "ipython",
    "version": 3
   },
   "file_extension": ".py",
   "mimetype": "text/x-python",
   "name": "python",
   "nbconvert_exporter": "python",
   "pygments_lexer": "ipython3",
   "version": "3.10.2"
  }
 },
 "nbformat": 4,
 "nbformat_minor": 4
}
