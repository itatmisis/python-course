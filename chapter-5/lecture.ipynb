{
 "cells": [
  {
   "cell_type": "markdown",
   "id": "diagnostic-break",
   "metadata": {},
   "source": [
    "### Исключения\n",
    "Исключения, это объекты, вызываемые ключевым слово `raise` для остановки работы программы и сообщение о том, что произошла ошибка"
   ]
  },
  {
   "cell_type": "code",
   "execution_count": 1,
   "id": "latest-terminal",
   "metadata": {},
   "outputs": [
    {
     "ename": "ZeroDivisionError",
     "evalue": "division by zero",
     "output_type": "error",
     "traceback": [
      "\u001b[0;31m---------------------------------------------------------------------------\u001b[0m",
      "\u001b[0;31mZeroDivisionError\u001b[0m                         Traceback (most recent call last)",
      "\u001b[0;32m<ipython-input-1-bc757c3fda29>\u001b[0m in \u001b[0;36m<module>\u001b[0;34m\u001b[0m\n\u001b[0;32m----> 1\u001b[0;31m \u001b[0;36m1\u001b[0m \u001b[0;34m/\u001b[0m \u001b[0;36m0\u001b[0m\u001b[0;34m\u001b[0m\u001b[0;34m\u001b[0m\u001b[0m\n\u001b[0m",
      "\u001b[0;31mZeroDivisionError\u001b[0m: division by zero"
     ]
    }
   ],
   "source": [
    "1 / 0"
   ]
  },
  {
   "cell_type": "markdown",
   "id": "unlimited-group",
   "metadata": {},
   "source": [
    "### try-except-else-finally\n",
    "С помощью кострукции `try-except` можно отлавливать и обрабатывать исключения\n",
    "формат: \n",
    "```python\n",
    "try:\n",
    "    <code>\n",
    "except [<exception> [as <err name>]]:\n",
    "    <code>"
   ]
  },
  {
   "cell_type": "code",
   "execution_count": 208,
   "id": "accurate-longer",
   "metadata": {},
   "outputs": [
    {
     "name": "stdout",
     "output_type": "stream",
     "text": [
      "На ноль делить нельзя!!!\n"
     ]
    }
   ],
   "source": [
    "try:\n",
    "    print(1 / 0)\n",
    "except ZeroDivisionError:\n",
    "    print('На ноль делить нельзя!!!')"
   ]
  },
  {
   "cell_type": "code",
   "execution_count": 34,
   "id": "vulnerable-hungary",
   "metadata": {},
   "outputs": [
    {
     "name": "stdout",
     "output_type": "stream",
     "text": [
      "На ноль делить нельзя!!!\n"
     ]
    }
   ],
   "source": [
    "try:\n",
    "#     from math import sqrt\n",
    "#     sqrt(-1)\n",
    "    print(1 / 0)\n",
    "except: # Не обязательно указывать название исключения, но тогда буду отлавливаться все\n",
    "    print('На ноль делить нельзя!!!')"
   ]
  },
  {
   "cell_type": "code",
   "execution_count": 211,
   "id": "broke-hybrid",
   "metadata": {},
   "outputs": [
    {
     "name": "stdout",
     "output_type": "stream",
     "text": [
      "ZeroDivisionError\n"
     ]
    }
   ],
   "source": [
    "try:\n",
    "#     from math import sqrt\n",
    "#     sqrt(-1)\n",
    "    print(1 / 0)\n",
    "except ValueError:\n",
    "    print(\"ValueError\")\n",
    "except ZeroDivisionError:  # блоков except может быть много\n",
    "    print(\"ZeroDivisionError\")"
   ]
  },
  {
   "cell_type": "code",
   "execution_count": 212,
   "id": "handled-conflict",
   "metadata": {},
   "outputs": [
    {
     "name": "stdout",
     "output_type": "stream",
     "text": [
      "ZeroDivisionError: division by zero\n"
     ]
    }
   ],
   "source": [
    "try:\n",
    "    print(1 / 0)\n",
    "except ZeroDivisionError as err:  # Через as можно получить само исключение и его аргументы\n",
    "    print(err.__class__.__name__, \": \", err, sep='')"
   ]
  },
  {
   "cell_type": "code",
   "execution_count": 213,
   "id": "manual-royal",
   "metadata": {},
   "outputs": [
    {
     "name": "stdout",
     "output_type": "stream",
     "text": [
      "1.0\n",
      "Ошибка не произошла\n"
     ]
    }
   ],
   "source": [
    "try:\n",
    "    print(1 / 1)\n",
    "except:\n",
    "    print('Произошла ошибка!')\n",
    "else:  # else выполняется, если блок except не выполнялся\n",
    "    print('Ошибка не произошла')"
   ]
  },
  {
   "cell_type": "code",
   "execution_count": 217,
   "id": "quality-profit",
   "metadata": {},
   "outputs": [
    {
     "name": "stdout",
     "output_type": "stream",
     "text": [
      "А я выполнюсь в любом случае\n"
     ]
    },
    {
     "ename": "ValueError",
     "evalue": "invalid literal for int() with base 10: 'a'",
     "output_type": "error",
     "traceback": [
      "\u001b[0;31m---------------------------------------------------------------------------\u001b[0m",
      "\u001b[0;31mValueError\u001b[0m                                Traceback (most recent call last)",
      "\u001b[0;32m<ipython-input-217-933d4f4715ab>\u001b[0m in \u001b[0;36m<module>\u001b[0;34m\u001b[0m\n\u001b[1;32m      1\u001b[0m \u001b[0;32mtry\u001b[0m\u001b[0;34m:\u001b[0m\u001b[0;34m\u001b[0m\u001b[0;34m\u001b[0m\u001b[0m\n\u001b[0;32m----> 2\u001b[0;31m     \u001b[0mint\u001b[0m\u001b[0;34m(\u001b[0m\u001b[0;34m'a'\u001b[0m\u001b[0;34m)\u001b[0m\u001b[0;34m\u001b[0m\u001b[0;34m\u001b[0m\u001b[0m\n\u001b[0m\u001b[1;32m      3\u001b[0m \u001b[0;32mexcept\u001b[0m \u001b[0mZeroDivisionError\u001b[0m\u001b[0;34m:\u001b[0m\u001b[0;34m\u001b[0m\u001b[0;34m\u001b[0m\u001b[0m\n\u001b[1;32m      4\u001b[0m     \u001b[0mprint\u001b[0m\u001b[0;34m(\u001b[0m\u001b[0;34m'Произошла ошибка!'\u001b[0m\u001b[0;34m)\u001b[0m\u001b[0;34m\u001b[0m\u001b[0;34m\u001b[0m\u001b[0m\n\u001b[1;32m      5\u001b[0m \u001b[0;32melse\u001b[0m\u001b[0;34m:\u001b[0m\u001b[0;34m\u001b[0m\u001b[0;34m\u001b[0m\u001b[0m\n",
      "\u001b[0;31mValueError\u001b[0m: invalid literal for int() with base 10: 'a'"
     ]
    }
   ],
   "source": [
    "try:\n",
    "    int('a')\n",
    "except ZeroDivisionError:\n",
    "    print('Произошла ошибка!')\n",
    "else:  \n",
    "    print('Ошибка не произошла')\n",
    "finally:  # finally выполняется в любом случае\n",
    "    print('А я выполнюсь в любом случае')"
   ]
  },
  {
   "cell_type": "code",
   "execution_count": 218,
   "id": "expressed-density",
   "metadata": {},
   "outputs": [
    {
     "data": {
      "text/plain": [
       "1"
      ]
     },
     "execution_count": 218,
     "metadata": {},
     "output_type": "execute_result"
    }
   ],
   "source": [
    "### Интересный факт\n",
    "### finally настолько сильна, что игнорирует return\n",
    "def func():\n",
    "    try:\n",
    "        return 0\n",
    "    finally:\n",
    "        return 1\n",
    "    \n",
    "func()"
   ]
  },
  {
   "cell_type": "markdown",
   "id": "discrete-philip",
   "metadata": {},
   "source": [
    "### Вызов и создание своих исключений\n",
    "Для вызова исключения необходимо использовать слово `raise` над объектом класса `BaseException`\n",
    "```python\n",
    "raise Exception('ошибка!')\n",
    "```\n",
    "Также можно создать своё исключение\n",
    "```python\n",
    "class MyException(Exception):\n",
    "    pass\n",
    "```"
   ]
  },
  {
   "cell_type": "code",
   "execution_count": 219,
   "id": "manual-station",
   "metadata": {},
   "outputs": [
    {
     "ename": "Exception",
     "evalue": "ошибка!",
     "output_type": "error",
     "traceback": [
      "\u001b[0;31m---------------------------------------------------------------------------\u001b[0m",
      "\u001b[0;31mException\u001b[0m                                 Traceback (most recent call last)",
      "\u001b[0;32m<ipython-input-219-9ae67cfd83e3>\u001b[0m in \u001b[0;36m<module>\u001b[0;34m\u001b[0m\n\u001b[0;32m----> 1\u001b[0;31m \u001b[0;32mraise\u001b[0m \u001b[0mException\u001b[0m\u001b[0;34m(\u001b[0m\u001b[0;34m'ошибка!'\u001b[0m\u001b[0;34m)\u001b[0m\u001b[0;34m\u001b[0m\u001b[0;34m\u001b[0m\u001b[0m\n\u001b[0m",
      "\u001b[0;31mException\u001b[0m: ошибка!"
     ]
    }
   ],
   "source": [
    "raise Exception('ошибка!')"
   ]
  },
  {
   "cell_type": "code",
   "execution_count": 220,
   "id": "buried-english",
   "metadata": {},
   "outputs": [
    {
     "name": "stdout",
     "output_type": "stream",
     "text": [
      "MyException моя ошибка!\n"
     ]
    }
   ],
   "source": [
    "class MyException(Exception):\n",
    "    pass\n",
    "\n",
    "try:\n",
    "    raise MyException('моя ошибка!')\n",
    "except MyException as err:\n",
    "    print(err.__class__.__name__, err)"
   ]
  },
  {
   "cell_type": "markdown",
   "id": "rotary-youth",
   "metadata": {},
   "source": [
    "### Ещё о встроенных функция"
   ]
  },
  {
   "cell_type": "code",
   "execution_count": 222,
   "id": "ethical-geneva",
   "metadata": {},
   "outputs": [
    {
     "data": {
      "text/plain": [
       "True"
      ]
     },
     "execution_count": 222,
     "metadata": {},
     "output_type": "execute_result"
    }
   ],
   "source": [
    "a = [0, 0, 0, 1]\n",
    "any(a)  # Проверяет истинность хотя бы 1 объекта массива"
   ]
  },
  {
   "cell_type": "code",
   "execution_count": 223,
   "id": "changed-highland",
   "metadata": {},
   "outputs": [
    {
     "data": {
      "text/plain": [
       "True"
      ]
     },
     "execution_count": 223,
     "metadata": {},
     "output_type": "execute_result"
    }
   ],
   "source": [
    "a = [1, 1, 1, 1]\n",
    "all(a)  # Проверяет истинность всех объектов массива"
   ]
  },
  {
   "cell_type": "code",
   "execution_count": 225,
   "id": "existing-isolation",
   "metadata": {},
   "outputs": [
    {
     "data": {
      "text/plain": [
       "'Текст с буквами и цифрыми'"
      ]
     },
     "execution_count": 225,
     "metadata": {},
     "output_type": "execute_result"
    }
   ],
   "source": [
    "a = 'Текст с 11буквами и 0цифрыми22'\n",
    "''.join(filter(lambda x: not x.isdigit(), a))\n",
    "# filter возращает итератор элементов, для которых выполнилась функция в 1 аргументе"
   ]
  },
  {
   "cell_type": "code",
   "execution_count": 226,
   "id": "crude-methodology",
   "metadata": {},
   "outputs": [
    {
     "data": {
      "text/plain": [
       "(3, 1)"
      ]
     },
     "execution_count": 226,
     "metadata": {},
     "output_type": "execute_result"
    }
   ],
   "source": [
    "divmod(10, 3)  # div и mod одновременно."
   ]
  },
  {
   "cell_type": "code",
   "execution_count": 234,
   "id": "respiratory-bread",
   "metadata": {},
   "outputs": [
    {
     "data": {
      "text/plain": [
       "(9788992, 9789024)"
      ]
     },
     "execution_count": 234,
     "metadata": {},
     "output_type": "execute_result"
    }
   ],
   "source": [
    "a = 1\n",
    "b = 2\n",
    "id(a), id(b)  # id - возвращает уникальный идентификатор объекта. \n",
    "# Если два объекта - разные и существуют в один момент их id гарантировано будут разными"
   ]
  },
  {
   "cell_type": "code",
   "execution_count": 257,
   "id": "important-notion",
   "metadata": {},
   "outputs": [
    {
     "data": {
      "text/plain": [
       "(139910915281744, 139910915283920, False)"
      ]
     },
     "execution_count": 257,
     "metadata": {},
     "output_type": "execute_result"
    }
   ],
   "source": [
    "a = 10.1\n",
    "b = 10.1\n",
    "id(a), id(b), id(a) == id(b) "
   ]
  },
  {
   "cell_type": "code",
   "execution_count": 263,
   "id": "enormous-apache",
   "metadata": {},
   "outputs": [
    {
     "data": {
      "text/plain": [
       "(230584300921368586, 230584300921368586, True)"
      ]
     },
     "execution_count": 263,
     "metadata": {},
     "output_type": "execute_result"
    }
   ],
   "source": [
    "hash(a), hash(b), hash(a) == hash(b)\n",
    "# hash - функция, возвращающая хеш объекта. \n",
    "# Можно использовать, если в объекте реализован дандлинг __hash__\n",
    "# используется для получения хеша для ключей в словарях."
   ]
  },
  {
   "cell_type": "code",
   "execution_count": 265,
   "id": "electric-chancellor",
   "metadata": {},
   "outputs": [
    {
     "data": {
      "text/plain": [
       "[1, 1, 1]"
      ]
     },
     "execution_count": 265,
     "metadata": {},
     "output_type": "execute_result"
    }
   ],
   "source": [
    "### Интересный факт номер 2\n",
    "def func(a = []):\n",
    "    a.append(1)\n",
    "    return a\n",
    "\n",
    "func()\n",
    "func()\n",
    "func()\n",
    "# Умолчательные аргументы инициализируются только 1 раз, \n",
    "# поэтому никогда не используйте mutable объекты в них.  "
   ]
  },
  {
   "cell_type": "code",
   "execution_count": 277,
   "id": "activated-stretch",
   "metadata": {},
   "outputs": [
    {
     "name": "stdout",
     "output_type": "stream",
     "text": [
      "139910915343920\n",
      "139910915343920\n",
      "139910915343920\n"
     ]
    }
   ],
   "source": [
    "def func(a = 1.1):\n",
    "    print(id(a))\n",
    "    \n",
    "func()\n",
    "func()\n",
    "func()"
   ]
  },
  {
   "cell_type": "markdown",
   "id": "electrical-exhibit",
   "metadata": {},
   "source": [
    "### hasattr, getattr, setattr, delattr\n",
    "Это список методов, который позволяет обращаться с атрибутами(полями) объекта не через `.`, а через строку"
   ]
  },
  {
   "cell_type": "code",
   "execution_count": 279,
   "id": "spread-brook",
   "metadata": {},
   "outputs": [
    {
     "data": {
      "text/plain": [
       "True"
      ]
     },
     "execution_count": 279,
     "metadata": {},
     "output_type": "execute_result"
    }
   ],
   "source": [
    "a = 'string'\n",
    "hasattr(a, 'split')  # возвращает True, если a имеет атрибут split"
   ]
  },
  {
   "cell_type": "code",
   "execution_count": 282,
   "id": "advised-outreach",
   "metadata": {},
   "outputs": [
    {
     "data": {
      "text/plain": [
       "['string', 'with', 'spaces']"
      ]
     },
     "execution_count": 282,
     "metadata": {},
     "output_type": "execute_result"
    }
   ],
   "source": [
    "a = 'string with spaces'\n",
    "getattr(a, 'split')()  # возвращет атрибут"
   ]
  },
  {
   "cell_type": "code",
   "execution_count": 283,
   "id": "excess-characterization",
   "metadata": {},
   "outputs": [],
   "source": [
    "class MyClass:\n",
    "    def func(self):\n",
    "        return 'old func'"
   ]
  },
  {
   "cell_type": "code",
   "execution_count": 290,
   "id": "alleged-tribute",
   "metadata": {},
   "outputs": [
    {
     "data": {
      "text/plain": [
       "'new func'"
      ]
     },
     "execution_count": 290,
     "metadata": {},
     "output_type": "execute_result"
    }
   ],
   "source": [
    "a = MyClass()\n",
    "a.func()"
   ]
  },
  {
   "cell_type": "code",
   "execution_count": 285,
   "id": "minute-hampton",
   "metadata": {},
   "outputs": [],
   "source": [
    "delattr(MyClass, 'func')  # удаляет атрибут"
   ]
  },
  {
   "cell_type": "code",
   "execution_count": 289,
   "id": "maritime-figure",
   "metadata": {},
   "outputs": [],
   "source": [
    "def new_func(self):\n",
    "    return 'new func'\n",
    "\n",
    "setattr(MyClass, 'func', new_func)  # создаёт атрибут"
   ]
  },
  {
   "cell_type": "markdown",
   "id": "recovered-dream",
   "metadata": {},
   "source": [
    "### EAFP и LBYL\n",
    "`EAFP - Easier to ask for forgiveness than permission.`   \n",
    "Проще попросить прощения, чем спросить разрешения.  \n",
    "Это принцип, согласно которому проще обработать исключения, если оно появится, чем выяснять каждый раз, не сработает ли оно.\n",
    "\n",
    "`LBYL - Look before you leap.`  \n",
    "Осматривайся перед прыжком.  \n",
    "Это же принцип наобарот, гласит о том, что лучше сначала проверить на отсутствие ошибок, а уже потом выполнять функцию."
   ]
  },
  {
   "cell_type": "code",
   "execution_count": 197,
   "id": "frozen-course",
   "metadata": {},
   "outputs": [],
   "source": [
    "# Задача: найти элемент по ключу в словаре, если его нет, вернуть None\n",
    "dict_ = {1: 'trinity', 2: 'neo', 3: 'morpheus'}\n",
    "key = 1"
   ]
  },
  {
   "cell_type": "code",
   "execution_count": 291,
   "id": "colored-mills",
   "metadata": {},
   "outputs": [
    {
     "name": "stdout",
     "output_type": "stream",
     "text": [
      "trinity\n"
     ]
    }
   ],
   "source": [
    "# EAFP\n",
    "try:\n",
    "    print(dict_[key])\n",
    "except KeyError:\n",
    "    print(None)"
   ]
  },
  {
   "cell_type": "code",
   "execution_count": 293,
   "id": "frozen-astronomy",
   "metadata": {},
   "outputs": [
    {
     "name": "stdout",
     "output_type": "stream",
     "text": [
      "trinity\n"
     ]
    }
   ],
   "source": [
    "# LBYL\n",
    "if key not in dict_:\n",
    "    print('None')\n",
    "    \n",
    "print(dict_[key])"
   ]
  },
  {
   "cell_type": "markdown",
   "id": "graduate-thought",
   "metadata": {},
   "source": [
    "### Зачем EAFP?\n",
    "1. Эффективнее - если исключение возбуждается редко, то это быстрее, чем проверять наличие ключа каждый раз\n",
    "2. Безопаснее \n",
    "3. Читабельнее"
   ]
  }
 ],
 "metadata": {
  "kernelspec": {
   "display_name": "Python 3.8.5 64-bit",
   "language": "python",
   "name": "python38564bit03041eafe65845ed975da9aa4c3cccbf"
  },
  "language_info": {
   "codemirror_mode": {
    "name": "ipython",
    "version": 3
   },
   "file_extension": ".py",
   "mimetype": "text/x-python",
   "name": "python",
   "nbconvert_exporter": "python",
   "pygments_lexer": "ipython3",
   "version": "3.8.10"
  }
 },
 "nbformat": 4,
 "nbformat_minor": 5
}
