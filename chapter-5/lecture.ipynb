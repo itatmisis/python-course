{
 "cells": [
  {
   "cell_type": "markdown",
   "id": "diagnostic-break",
   "metadata": {},
   "source": [
    "### Исключения\n",
    "Исключения, это объекты, вызываемые ключевым слово `raise` для остановки работы программы и сообщение о том, что произошла ошибка"
   ]
  },
  {
   "cell_type": "code",
   "execution_count": 1,
   "id": "latest-terminal",
   "metadata": {},
   "outputs": [
    {
     "ename": "ZeroDivisionError",
     "evalue": "division by zero",
     "output_type": "error",
     "traceback": [
      "\u001b[0;31m---------------------------------------------------------------------------\u001b[0m",
      "\u001b[0;31mZeroDivisionError\u001b[0m                         Traceback (most recent call last)",
      "\u001b[0;32m<ipython-input-1-bc757c3fda29>\u001b[0m in \u001b[0;36m<module>\u001b[0;34m\u001b[0m\n\u001b[0;32m----> 1\u001b[0;31m \u001b[0;36m1\u001b[0m \u001b[0;34m/\u001b[0m \u001b[0;36m0\u001b[0m\u001b[0;34m\u001b[0m\u001b[0;34m\u001b[0m\u001b[0m\n\u001b[0m",
      "\u001b[0;31mZeroDivisionError\u001b[0m: division by zero"
     ]
    }
   ],
   "source": [
    "1 / 0"
   ]
  },
  {
   "cell_type": "markdown",
   "id": "unlimited-group",
   "metadata": {},
   "source": [
    "### try-except-else-finally\n",
    "С помощью кострукции `try-except` можно отлавливать и обрабатывать исключения\n",
    "формат: \n",
    "```python\n",
    "try:\n",
    "    <code>\n",
    "except [<exception> [as <err name>]]:\n",
    "    <code>\n",
    "```"
   ]
  },
  {
   "cell_type": "code",
   "execution_count": 3,
   "id": "accurate-longer",
   "metadata": {},
   "outputs": [
    {
     "name": "stdout",
     "output_type": "stream",
     "text": [
      "На ноль делить нельзя!!!\n"
     ]
    }
   ],
   "source": [
    "a = 1\n",
    "b = 0\n",
    "try:\n",
    "    print(a / b)\n",
    "except ZeroDivisionError:\n",
    "    print(\"На ноль делить нельзя!!!\")"
   ]
  },
  {
   "cell_type": "code",
   "execution_count": 5,
   "id": "vulnerable-hungary",
   "metadata": {},
   "outputs": [
    {
     "name": "stdout",
     "output_type": "stream",
     "text": [
      "На ноль делить нельзя!!!\n"
     ]
    }
   ],
   "source": [
    "try:\n",
    "    from math import sqrt\n",
    "\n",
    "    sqrt(-1)\n",
    "    print(1 / 0)\n",
    "except:  # Не обязательно указывать название исключения, но тогда буду отлавливаться все\n",
    "    print(\"На ноль делить нельзя!!!\")"
   ]
  },
  {
   "cell_type": "code",
   "execution_count": 7,
   "id": "broke-hybrid",
   "metadata": {},
   "outputs": [
    {
     "name": "stdout",
     "output_type": "stream",
     "text": [
      "ValueError\n"
     ]
    }
   ],
   "source": [
    "try:\n",
    "    from math import sqrt\n",
    "\n",
    "    sqrt(-1)\n",
    "    print(1 / 0)\n",
    "except ValueError:\n",
    "    print(\"ValueError\")\n",
    "except ZeroDivisionError:  # блоков except может быть много\n",
    "    print(\"ZeroDivisionError\")"
   ]
  },
  {
   "cell_type": "code",
   "execution_count": 8,
   "id": "handled-conflict",
   "metadata": {},
   "outputs": [
    {
     "name": "stdout",
     "output_type": "stream",
     "text": [
      "ZeroDivisionError: division by zero\n"
     ]
    }
   ],
   "source": [
    "try:\n",
    "    print(1 / 0)\n",
    "except ZeroDivisionError as err:  # Через as можно получить само исключение и его аргументы\n",
    "    print(err.__class__.__name__, \": \", err, sep=\"\")"
   ]
  },
  {
   "cell_type": "code",
   "execution_count": 10,
   "id": "manual-royal",
   "metadata": {},
   "outputs": [
    {
     "name": "stdout",
     "output_type": "stream",
     "text": [
      "Произошла ошибка!\n"
     ]
    }
   ],
   "source": [
    "try:\n",
    "    print(1 / 0)\n",
    "except:\n",
    "    print(\"Произошла ошибка!\")\n",
    "else:  # else выполняется, если блок except не выполнялся\n",
    "    print(\"Ошибка не произошла\")"
   ]
  },
  {
   "cell_type": "code",
   "execution_count": 14,
   "id": "quality-profit",
   "metadata": {},
   "outputs": [
    {
     "name": "stdout",
     "output_type": "stream",
     "text": [
      "А я выполнюсь в любом случае\n"
     ]
    },
    {
     "ename": "ValueError",
     "evalue": "invalid literal for int() with base 10: 'f'",
     "output_type": "error",
     "traceback": [
      "\u001b[0;31m---------------------------------------------------------------------------\u001b[0m",
      "\u001b[0;31mValueError\u001b[0m                                Traceback (most recent call last)",
      "\u001b[0;32m<ipython-input-14-9e51db542fc7>\u001b[0m in \u001b[0;36m<module>\u001b[0;34m\u001b[0m\n\u001b[1;32m      1\u001b[0m \u001b[0;32mtry\u001b[0m\u001b[0;34m:\u001b[0m\u001b[0;34m\u001b[0m\u001b[0;34m\u001b[0m\u001b[0m\n\u001b[1;32m      2\u001b[0m     \u001b[0;36m1\u001b[0m\u001b[0;34m/\u001b[0m\u001b[0;36m1\u001b[0m\u001b[0;34m\u001b[0m\u001b[0;34m\u001b[0m\u001b[0m\n\u001b[0;32m----> 3\u001b[0;31m     \u001b[0mint\u001b[0m\u001b[0;34m(\u001b[0m\u001b[0;34m'f'\u001b[0m\u001b[0;34m)\u001b[0m\u001b[0;34m\u001b[0m\u001b[0;34m\u001b[0m\u001b[0m\n\u001b[0m\u001b[1;32m      4\u001b[0m \u001b[0;32mexcept\u001b[0m \u001b[0mZeroDivisionError\u001b[0m\u001b[0;34m:\u001b[0m\u001b[0;34m\u001b[0m\u001b[0;34m\u001b[0m\u001b[0m\n\u001b[1;32m      5\u001b[0m     \u001b[0mprint\u001b[0m\u001b[0;34m(\u001b[0m\u001b[0;34m'Произошла ошибка!'\u001b[0m\u001b[0;34m)\u001b[0m\u001b[0;34m\u001b[0m\u001b[0;34m\u001b[0m\u001b[0m\n",
      "\u001b[0;31mValueError\u001b[0m: invalid literal for int() with base 10: 'f'"
     ]
    }
   ],
   "source": [
    "try:\n",
    "    1 / 1\n",
    "    int(\"f\")\n",
    "except ZeroDivisionError:\n",
    "    print(\"Произошла ошибка!\")\n",
    "else:\n",
    "    print(\"Ошибка не произошла\")\n",
    "finally:  # finally выполняется в любом случае\n",
    "    print(\"А я выполнюсь в любом случае\")"
   ]
  },
  {
   "cell_type": "code",
   "execution_count": 15,
   "id": "expressed-density",
   "metadata": {},
   "outputs": [
    {
     "data": {
      "text/plain": [
       "1"
      ]
     },
     "execution_count": 15,
     "metadata": {},
     "output_type": "execute_result"
    }
   ],
   "source": [
    "### Интересный факт\n",
    "### finally настолько сильна, что игнорирует return\n",
    "def func():\n",
    "    try:\n",
    "        return 0\n",
    "    finally:\n",
    "        return 1\n",
    "\n",
    "\n",
    "func()"
   ]
  },
  {
   "cell_type": "markdown",
   "id": "discrete-philip",
   "metadata": {},
   "source": [
    "### Вызов и создание своих исключений\n",
    "Для вызова исключения необходимо использовать слово `raise` над объектом класса `BaseException`\n",
    "```python\n",
    "raise Exception('ошибка!')\n",
    "```\n",
    "Также можно создать своё исключение\n",
    "```python\n",
    "class MyException(Exception):\n",
    "    pass\n",
    "```"
   ]
  },
  {
   "cell_type": "code",
   "execution_count": 17,
   "id": "manual-station",
   "metadata": {},
   "outputs": [
    {
     "ename": "Exception",
     "evalue": "ошибка!",
     "output_type": "error",
     "traceback": [
      "\u001b[0;31m---------------------------------------------------------------------------\u001b[0m",
      "\u001b[0;31mException\u001b[0m                                 Traceback (most recent call last)",
      "\u001b[0;32m<ipython-input-17-9ae67cfd83e3>\u001b[0m in \u001b[0;36m<module>\u001b[0;34m\u001b[0m\n\u001b[0;32m----> 1\u001b[0;31m \u001b[0;32mraise\u001b[0m \u001b[0mException\u001b[0m\u001b[0;34m(\u001b[0m\u001b[0;34m'ошибка!'\u001b[0m\u001b[0;34m)\u001b[0m\u001b[0;34m\u001b[0m\u001b[0;34m\u001b[0m\u001b[0m\n\u001b[0m",
      "\u001b[0;31mException\u001b[0m: ошибка!"
     ]
    }
   ],
   "source": [
    "raise Exception(\"ошибка!\")"
   ]
  },
  {
   "cell_type": "code",
   "execution_count": 21,
   "id": "lightweight-yesterday",
   "metadata": {},
   "outputs": [
    {
     "name": "stdout",
     "output_type": "stream",
     "text": [
      "ошибка\n"
     ]
    }
   ],
   "source": [
    "try:\n",
    "    while True:\n",
    "        pass\n",
    "\n",
    "except:\n",
    "    print(err)"
   ]
  },
  {
   "cell_type": "code",
   "execution_count": 19,
   "id": "buried-english",
   "metadata": {},
   "outputs": [
    {
     "name": "stdout",
     "output_type": "stream",
     "text": [
      "моя ошибка!\n"
     ]
    }
   ],
   "source": [
    "class MyException(Exception):\n",
    "    pass\n",
    "\n",
    "\n",
    "try:\n",
    "    raise MyException(\"моя ошибка!\")\n",
    "except MyException as err:\n",
    "    print(err)"
   ]
  },
  {
   "cell_type": "markdown",
   "id": "rotary-youth",
   "metadata": {},
   "source": [
    "### Ещё о встроенных функция"
   ]
  },
  {
   "cell_type": "code",
   "execution_count": 30,
   "id": "ethical-geneva",
   "metadata": {},
   "outputs": [
    {
     "data": {
      "text/plain": [
       "False"
      ]
     },
     "execution_count": 30,
     "metadata": {},
     "output_type": "execute_result"
    }
   ],
   "source": [
    "a = []\n",
    "any(a)  # Проверяет истинность хотя бы 1 объекта массива"
   ]
  },
  {
   "cell_type": "code",
   "execution_count": 31,
   "id": "changed-highland",
   "metadata": {},
   "outputs": [
    {
     "data": {
      "text/plain": [
       "True"
      ]
     },
     "execution_count": 31,
     "metadata": {},
     "output_type": "execute_result"
    }
   ],
   "source": [
    "a = []\n",
    "all(a)  # Проверяет истинность всех объектов массива"
   ]
  },
  {
   "cell_type": "code",
   "execution_count": 33,
   "id": "existing-isolation",
   "metadata": {},
   "outputs": [
    {
     "data": {
      "text/plain": [
       "'Текст с буквами и цифрыми'"
      ]
     },
     "execution_count": 33,
     "metadata": {},
     "output_type": "execute_result"
    }
   ],
   "source": [
    "a = \"Текст с 11буквами и 0цифрыми22\"\n",
    "\n",
    "\n",
    "\"\".join(filter(lambda x: not x.isdigit(), a))\n",
    "\n",
    "\n",
    "# filter возращает итератор элементов, для которых выполнилась функция в 1 аргументе"
   ]
  },
  {
   "cell_type": "code",
   "execution_count": 34,
   "id": "crude-methodology",
   "metadata": {},
   "outputs": [
    {
     "data": {
      "text/plain": [
       "(3, 1)"
      ]
     },
     "execution_count": 34,
     "metadata": {},
     "output_type": "execute_result"
    }
   ],
   "source": [
    "divmod(10, 3)  # div и mod одновременно."
   ]
  },
  {
   "cell_type": "code",
   "execution_count": 36,
   "id": "respiratory-bread",
   "metadata": {},
   "outputs": [
    {
     "data": {
      "text/plain": [
       "(9788992, 9789024)"
      ]
     },
     "execution_count": 36,
     "metadata": {},
     "output_type": "execute_result"
    }
   ],
   "source": [
    "a = 1\n",
    "b = 2\n",
    "id(a), id(b)  # id - возвращает уникальный идентификатор объекта.\n",
    "# Если два объекта - разные и существуют в один момент их id гарантировано будут разными"
   ]
  },
  {
   "cell_type": "code",
   "execution_count": 51,
   "id": "important-notion",
   "metadata": {},
   "outputs": [
    {
     "data": {
      "text/plain": [
       "(140627970360624, 140627970359664, False)"
      ]
     },
     "execution_count": 51,
     "metadata": {},
     "output_type": "execute_result"
    }
   ],
   "source": [
    "a = \"Hello World\"\n",
    "b = \"Hello World\"\n",
    "id(a), id(b), id(a) == id(b)"
   ]
  },
  {
   "cell_type": "code",
   "execution_count": 52,
   "id": "enormous-apache",
   "metadata": {},
   "outputs": [
    {
     "data": {
      "text/plain": [
       "(-6140468661932205335, -6140468661932205335, True)"
      ]
     },
     "execution_count": 52,
     "metadata": {},
     "output_type": "execute_result"
    }
   ],
   "source": [
    "hash(a), hash(b), hash(a) == hash(b)\n",
    "# hash - функция, возвращающая хеш объекта.\n",
    "# Можно использовать, если в объекте реализован дандлинг __hash__\n",
    "# используется для получения хеша для ключей в словарях."
   ]
  },
  {
   "cell_type": "code",
   "execution_count": 53,
   "id": "electric-chancellor",
   "metadata": {},
   "outputs": [
    {
     "data": {
      "text/plain": [
       "[1, 1, 1]"
      ]
     },
     "execution_count": 53,
     "metadata": {},
     "output_type": "execute_result"
    }
   ],
   "source": [
    "### Интересный факт номер 2\n",
    "def func(a=[]):\n",
    "    a.append(1)\n",
    "    return a\n",
    "\n",
    "\n",
    "func()\n",
    "func()\n",
    "func()\n",
    "# Умолчательные аргументы инициализируются только 1 раз,\n",
    "# поэтому никогда не используйте mutable объекты в них."
   ]
  },
  {
   "cell_type": "code",
   "execution_count": 64,
   "id": "activated-stretch",
   "metadata": {},
   "outputs": [],
   "source": [
    "def func(a=1.1):\n",
    "    print(id(a))"
   ]
  },
  {
   "cell_type": "code",
   "execution_count": 73,
   "id": "mediterranean-computer",
   "metadata": {},
   "outputs": [
    {
     "name": "stdout",
     "output_type": "stream",
     "text": [
      "140627970877328\n",
      "140627970877328\n",
      "140627970877328\n"
     ]
    }
   ],
   "source": [
    "func()\n",
    "func()\n",
    "func()"
   ]
  },
  {
   "cell_type": "markdown",
   "id": "electrical-exhibit",
   "metadata": {},
   "source": [
    "### hasattr, getattr, setattr, delattr\n",
    "Это список методов, который позволяет обращаться с атрибутами(полями) объекта не через `.`, а через строку"
   ]
  },
  {
   "cell_type": "code",
   "execution_count": 84,
   "id": "spread-brook",
   "metadata": {},
   "outputs": [
    {
     "data": {
      "text/plain": [
       "False"
      ]
     },
     "execution_count": 84,
     "metadata": {},
     "output_type": "execute_result"
    }
   ],
   "source": [
    "hasattr(a, \"func\")  # возвращает True, если a имеет атрибут split"
   ]
  },
  {
   "cell_type": "code",
   "execution_count": 79,
   "id": "advised-outreach",
   "metadata": {},
   "outputs": [
    {
     "data": {
      "text/plain": [
       "['string', 'with', 'spaces']"
      ]
     },
     "execution_count": 79,
     "metadata": {},
     "output_type": "execute_result"
    }
   ],
   "source": [
    "a = \"string with spaces\"\n",
    "getattr(a, \"split\")()  # возвращет атрибут"
   ]
  },
  {
   "cell_type": "code",
   "execution_count": 80,
   "id": "excess-characterization",
   "metadata": {},
   "outputs": [],
   "source": [
    "class MyClass:\n",
    "    def func(self):\n",
    "        return \"old func\""
   ]
  },
  {
   "cell_type": "code",
   "execution_count": 86,
   "id": "alleged-tribute",
   "metadata": {},
   "outputs": [
    {
     "data": {
      "text/plain": [
       "'new func'"
      ]
     },
     "execution_count": 86,
     "metadata": {},
     "output_type": "execute_result"
    }
   ],
   "source": [
    "a = MyClass()\n",
    "a.func()"
   ]
  },
  {
   "cell_type": "code",
   "execution_count": 82,
   "id": "minute-hampton",
   "metadata": {},
   "outputs": [],
   "source": [
    "delattr(MyClass, \"func\")  # удаляет атрибут"
   ]
  },
  {
   "cell_type": "code",
   "execution_count": 85,
   "id": "maritime-figure",
   "metadata": {},
   "outputs": [],
   "source": [
    "def new_func(self):\n",
    "    return \"new func\"\n",
    "\n",
    "\n",
    "setattr(MyClass, \"func\", new_func)  # создаёт атрибут"
   ]
  },
  {
   "cell_type": "markdown",
   "id": "recovered-dream",
   "metadata": {},
   "source": [
    "### EAFP и LBYL\n",
    "`EAFP - Easier to ask for forgiveness than permission.`   \n",
    "Проще попросить прощения, чем спросить разрешения.  \n",
    "Это принцип, согласно которому проще обработать исключения, если оно появится, чем выяснять каждый раз, не сработает ли оно.\n",
    "\n",
    "`LBYL - Look before you leap.`  \n",
    "Осматривайся перед прыжком.  \n",
    "Это же принцип наобарот, гласит о том, что лучше сначала проверить на отсутствие ошибок, а уже потом выполнять функцию."
   ]
  },
  {
   "cell_type": "code",
   "execution_count": 100,
   "id": "frozen-course",
   "metadata": {},
   "outputs": [],
   "source": [
    "# Задача: найти элемент по ключу в словаре, если его нет, вернуть None\n",
    "dict_ = {1: \"trinity\", 2: \"neo\", 3: \"morpheus\"}\n",
    "key = 0"
   ]
  },
  {
   "cell_type": "code",
   "execution_count": 93,
   "id": "colored-mills",
   "metadata": {},
   "outputs": [
    {
     "name": "stdout",
     "output_type": "stream",
     "text": [
      "trinity\n"
     ]
    }
   ],
   "source": [
    "# EAFP\n",
    "try:\n",
    "    print(dict_[key])\n",
    "except KeyError:\n",
    "    print(None)"
   ]
  },
  {
   "cell_type": "code",
   "execution_count": 101,
   "id": "frozen-astronomy",
   "metadata": {},
   "outputs": [
    {
     "name": "stdout",
     "output_type": "stream",
     "text": [
      "None\n"
     ]
    }
   ],
   "source": [
    "# LBYL\n",
    "if key not in dict_:\n",
    "    print(\"None\")\n",
    "else:\n",
    "    print(dict_[key])"
   ]
  },
  {
   "cell_type": "markdown",
   "id": "graduate-thought",
   "metadata": {},
   "source": [
    "### Зачем EAFP?\n",
    "1. Эффективнее - если исключение возбуждается редко, то это быстрее, чем проверять наличие ключа каждый раз\n",
    "2. Безопаснее \n",
    "3. Читабельнее"
   ]
  },
  {
   "cell_type": "code",
   "execution_count": 102,
   "id": "purple-broadway",
   "metadata": {},
   "outputs": [
    {
     "name": "stdout",
     "output_type": "stream",
     "text": [
      "Run 1 = 0.030127879999781726\n",
      "Run 2 = 0.045084515000326064\n",
      "Run 3 = 0.18715390700026546\n",
      "Run 4 = 0.03210179400002744\n"
     ]
    }
   ],
   "source": [
    "import timeit\n",
    "\n",
    "s = []\n",
    "\n",
    "s.append(\n",
    "    \"\"\"\\\n",
    "try:\n",
    "    x = D['key']\n",
    "except KeyError:\n",
    "    x = None\n",
    "\"\"\"\n",
    ")\n",
    "\n",
    "s.append(\n",
    "    \"\"\"\\\n",
    "x = D['key'] if 'key' in D else None\n",
    "\"\"\"\n",
    ")\n",
    "\n",
    "s.append(\n",
    "    \"\"\"\\\n",
    "try:\n",
    "    x = D['xxx']\n",
    "except KeyError:\n",
    "    x = None\n",
    "\"\"\"\n",
    ")\n",
    "\n",
    "s.append(\n",
    "    \"\"\"\\\n",
    "x = D['xxx'] if 'xxx' in D else None\n",
    "\"\"\"\n",
    ")\n",
    "\n",
    "for i, c in enumerate(s, 1):\n",
    "    t = timeit.Timer(c, \"D={'key':'value'}\")\n",
    "    print(\"Run\", i, \"=\", min(t.repeat()))"
   ]
  }
 ],
 "metadata": {
  "kernelspec": {
   "display_name": "Python 3.8.9 64-bit",
   "language": "python",
   "name": "python389jvsc74a57bd031f2aee4e71d21fbe5cf8b01ff0e069b9275f58929596ceb00d14d90e3e16cd6"
  },
  "language_info": {
   "codemirror_mode": {
    "name": "ipython",
    "version": 3
   },
   "file_extension": ".py",
   "mimetype": "text/x-python",
   "name": "python",
   "nbconvert_exporter": "python",
   "pygments_lexer": "ipython3",
   "version": "3.8.9"
  }
 },
 "nbformat": 4,
 "nbformat_minor": 5
}
