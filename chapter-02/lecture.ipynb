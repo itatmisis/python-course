{
 "cells": [
  {
   "cell_type": "markdown",
   "id": "2ac309b2",
   "metadata": {},
   "source": [
    "# Урок 2 - Python 2 ООП и ООП\n",
    "Классы и ООП, датаклассы и чуть-чуть декораторов"
   ]
  },
  {
   "cell_type": "markdown",
   "id": "2b3f21b5-6d77-40f7-b3b7-d0e65052176a",
   "metadata": {},
   "source": [
    "## Классы"
   ]
  },
  {
   "cell_type": "markdown",
   "id": "8e1d8d3f-b259-4267-b892-d926e604724e",
   "metadata": {},
   "source": [
    "Класс - это шаблон для создания объектов\n",
    "\n",
    "Класс состоит из **членов**  \n",
    "Члены это:\n",
    "1. Методы - функции класса\n",
    "2. Поля - переменные класса\n",
    "Создание класса:\n",
    "```python\n",
    "class <название класса>:\n",
    "    <поля и методы класса>\n",
    "```\n",
    "\n",
    "Подробнее про классы можно почитат тут: https://metanit.com/python/tutorial/7.1.php"
   ]
  },
  {
   "cell_type": "code",
   "execution_count": null,
   "id": "dcd88442-acf0-4dfb-b909-37620953a8b6",
   "metadata": {},
   "outputs": [],
   "source": [
    "class A:\n",
    "    ...\n",
    "\n",
    "\n",
    "# Так мы создает объект класса\n",
    "a = A()\n",
    "a"
   ]
  },
  {
   "cell_type": "code",
   "execution_count": null,
   "id": "c7a2f691-ef51-40d5-8f23-2f1e157320ab",
   "metadata": {},
   "outputs": [],
   "source": [
    "class Student:\n",
    "    # __init__ - метод инициализации объекта класса\n",
    "    def __init__(self, name: str, age: int = 18) -> None:\n",
    "        self.name = name\n",
    "        self.age = age\n",
    "\n",
    "        self.group = \"itam_python_backend_courses\"\n",
    "\n",
    "    # А это обычный \"метод\" класса, то есть функция, которая первым аргументом всегда принимает на вход объект класса\n",
    "    def get_age(self) -> int:\n",
    "        return self.age"
   ]
  },
  {
   "cell_type": "code",
   "execution_count": null,
   "id": "0ad52c16-00e7-4f09-ab43-64c126ad7c89",
   "metadata": {},
   "outputs": [],
   "source": [
    "artem = Student(\"Artem\", 25)\n",
    "ivan = Student(\"Ivan_xxx\", 0)\n",
    "artem.get_age(), ivan.get_age()"
   ]
  },
  {
   "cell_type": "code",
   "execution_count": null,
   "id": "e2312463-cf51-48e1-a647-7d75a7104b1d",
   "metadata": {},
   "outputs": [],
   "source": [
    "class Student:\n",
    "    def __init__(self, name, age=18):\n",
    "        self.name = name\n",
    "        self.age = age\n",
    "        self.marks = [5, 3, 5]\n",
    "\n",
    "    # Dunder или magic методы - методы с двумя _ в начале и в конце\n",
    "    # Эти методы обладают \"магическими\" свойствами\n",
    "\n",
    "    # __str__ - применяется к обьекту при вызове str от него, например, при принте этого объекта\n",
    "    def __str__(self) -> str:\n",
    "        return f\"{self.name}, {self.age} лет\"\n",
    "\n",
    "\n",
    "yaroslav = Student(\"Yaroslav\", 18)\n",
    "\n",
    "print(yaroslav)"
   ]
  },
  {
   "cell_type": "code",
   "execution_count": null,
   "id": "65ba6e6e-c3d8-4054-8148-315dcb766319",
   "metadata": {},
   "outputs": [],
   "source": [
    "class Student:\n",
    "    def __init__(self, name: str, age: int):\n",
    "        self.name = name\n",
    "        self.age = age\n",
    "        print(\"Не только студент ...\")\n",
    "\n",
    "    def __str__(self):\n",
    "        return f\"{self.name}, {self.age} года\"\n",
    "\n",
    "    def get_age(self):\n",
    "        return self.age\n",
    "\n",
    "\n",
    "class Graduate(Student):\n",
    "    def __init__(self, name: str, age: int, diploma_mark: int):\n",
    "        super().__init__(name, age)\n",
    "        self.diploma_mark = diploma_mark\n",
    "        print(\"... но и выпускник\")\n",
    "\n",
    "    def __str__(self):  # переопределение метода\n",
    "        return f\"Выпускник {self.name}, {self.age} года\"\n",
    "\n",
    "\n",
    "artem = Graduate(\"Artem\", 23, 5)\n",
    "print(artem)\n",
    "artem.get_age()"
   ]
  },
  {
   "cell_type": "markdown",
   "id": "664e493b-2af7-470f-a937-691f692582f7",
   "metadata": {},
   "source": [
    "#### Инкапсуляция"
   ]
  },
  {
   "cell_type": "markdown",
   "id": "97e1623b-0288-451f-a5d9-339cb212e99a",
   "metadata": {},
   "source": [
    "Класс должен представлять пользователю данные и единый интерфейс для работы с ними, скрывая конкретную реализацию методов от него"
   ]
  },
  {
   "cell_type": "code",
   "execution_count": null,
   "id": "a019c557-e3cc-43be-936b-4c8967b73db2",
   "metadata": {
    "ExecuteTime": {
     "end_time": "2023-10-22T12:21:50.994426500Z",
     "start_time": "2023-10-22T12:21:50.975426Z"
    }
   },
   "outputs": [],
   "source": [
    "class Student:\n",
    "    def __init__(self, name: str, age: int = 18):\n",
    "        self.name = name\n",
    "        self.age = age\n",
    "        # Если мы поставим __ перед названием аттрибута класса, то не сможем к нему обратиться нигде кроме как изнутри этого класса\n",
    "        self.__course_points = 0\n",
    "\n",
    "    def get_course_mark(self):\n",
    "        return self.__course_points // 10\n",
    "\n",
    "    def set_course_points(self, points):\n",
    "        if points < 0:\n",
    "            return\n",
    "        self.__course_points = points\n",
    "\n",
    "\n",
    "andrew = Student(\"Andrew\")\n",
    "andrew.set_course_points(33)\n",
    "andrew.get_course_mark()"
   ]
  },
  {
   "cell_type": "code",
   "execution_count": null,
   "id": "602f627e-a4b0-4071-a2e2-8703bd12f32e",
   "metadata": {
    "ExecuteTime": {
     "end_time": "2023-10-22T12:23:06.966585600Z",
     "start_time": "2023-10-22T12:23:06.917278300Z"
    }
   },
   "outputs": [],
   "source": [
    "andrew.__course_points"
   ]
  },
  {
   "cell_type": "markdown",
   "id": "cb5640d6-254a-41eb-bc97-b825a9b6432d",
   "metadata": {},
   "source": [
    "## Полиморфизм и Утиная типизация (Duck typing)"
   ]
  },
  {
   "cell_type": "markdown",
   "id": "4e71cd29-4bd2-4089-a4dc-6db280fb2ac9",
   "metadata": {},
   "source": [
    "«Если нечто выглядит как утка, плавает как утка и крякает как утка, это, вероятно, утка и есть» \n",
    "\n",
    "(«If it looks like a duck, swims like a duck and quacks like a duck, then it probably is a duck»)."
   ]
  },
  {
   "cell_type": "markdown",
   "id": "963798a2-b7bc-4969-8052-54966c1eceeb",
   "metadata": {},
   "source": [
    "Если какой-то объект поддерживает все требуемые от него операции, с ним и будут работать с помощью этих операций, не заботясь о том, какого он на самом деле типа."
   ]
  },
  {
   "cell_type": "code",
   "execution_count": null,
   "id": "ae9c92b5-f97a-47d7-8784-da033e91d336",
   "metadata": {},
   "outputs": [],
   "source": [
    "class Student:\n",
    "    def __init__(self, name, age):\n",
    "        self.name = name\n",
    "        self.age = age\n",
    "\n",
    "\n",
    "class Teacher:\n",
    "    def __init__(self, name, course):\n",
    "        self.name = name\n",
    "        self.course = course\n",
    "\n",
    "\n",
    "def print_name(person):\n",
    "    print(person.name)\n",
    "\n",
    "\n",
    "student = Student(\"Kondratev Andrew\", 18)\n",
    "teacher = Teacher(\"Pluzhnikova Elena Leonidovna\", \"Math\")\n",
    "print_name(student)\n",
    "print_name(teacher)"
   ]
  },
  {
   "cell_type": "markdown",
   "id": "cde266ef-7290-4297-a54f-562740ba5883",
   "metadata": {},
   "source": [
    "### Dataclass\n",
    "_Упрощают_ написание простых классов.  \n",
    "Похожи на структуры из c/go/rust.  \n",
    "Главная особенность - автоматически создается конструктор из полей класса\n",
    "\n",
    "Подробнее: https://habr.com/ru/articles/415829/"
   ]
  },
  {
   "cell_type": "code",
   "execution_count": null,
   "id": "bc3ba904-8406-4e3d-9f4e-50963a6eabf6",
   "metadata": {},
   "outputs": [],
   "source": [
    "from dataclasses import dataclass"
   ]
  },
  {
   "cell_type": "code",
   "execution_count": null,
   "id": "9766f205-c2a8-42c4-866f-9b1c9dbc3a0e",
   "metadata": {},
   "outputs": [],
   "source": [
    "@dataclass\n",
    "class User:\n",
    "    id: int\n",
    "    name: str\n",
    "    balance: int \n",
    "\n",
    "    def has_money(self) -> bool:\n",
    "        return self.balance > 0 "
   ]
  },
  {
   "cell_type": "code",
   "execution_count": null,
   "id": "b51d2264-0e46-4e19-9f25-731405abcb32",
   "metadata": {},
   "outputs": [],
   "source": [
    "user_a = User(id=0, name=\"Peter\", balance=10)\n",
    "user_b = User(id=1, name=\"Artem\", balance=-10)\n",
    "\n",
    "user_a.has_money(), user_b.has_money()"
   ]
  },
  {
   "cell_type": "markdown",
   "id": "d9c47a13",
   "metadata": {},
   "source": [
    "## Декораторы"
   ]
  },
  {
   "cell_type": "markdown",
   "id": "d264b6cc",
   "metadata": {},
   "source": [
    "Декоратор — это объект, который расширяет возможности функции, не меняя её исходный кода.\n",
    "\n",
    "Подробнее можно почитать тут: [Статья про декораторы и генераторы от Яндекса](https://academy.yandex.ru/handbook/python/article/rekursiya-dekoratory-generatory)\n",
    "\n",
    "Сразу скажу, что эта тема - боль, страх, стыд и ужас. Настоятельно рекомендую попрактиковаться с декораторами и пописать пару штук самостоятельно"
   ]
  },
  {
   "cell_type": "markdown",
   "id": "5bac8da9",
   "metadata": {},
   "source": [
    "Принцип работы декоратора:\n",
    "1. принимает функцию как аргумент\n",
    "2. объявляет новую функцию, которая расширяет функцию-аргумент\n",
    "3. возвращает новую функцию в качестве объекта.\n"
   ]
  },
  {
   "cell_type": "code",
   "execution_count": null,
   "id": "0aea93ad",
   "metadata": {},
   "outputs": [],
   "source": [
    "def counter(f):\n",
    "    # f - это сама функция, что мы декорируем\n",
    "    count = 0\n",
    "\n",
    "    # Объявляем функцию, которая расширяет функционал f\n",
    "    def decorated(name):\n",
    "        # Переменная total объявлена нелокальной для доступа из внутренней функции\n",
    "        # Такой подход называется \"замыкание\"\n",
    "        nonlocal count\n",
    "        count += 1\n",
    "\n",
    "        print(count)\n",
    "\n",
    "        return f(name)\n",
    "\n",
    "    # Возвращаем новую функцию как объект\n",
    "    return decorated\n",
    "\n",
    "\n",
    "@counter\n",
    "def hello(name: str) -> str:\n",
    "    return f\"Привет, {name}!\"\n",
    "\n",
    "# Данная запись эквивалетна записи вида hello = countr(hello)"
   ]
  },
  {
   "cell_type": "code",
   "execution_count": null,
   "id": "a4405e48",
   "metadata": {},
   "outputs": [],
   "source": [
    "hello(\"Студент_1\")"
   ]
  },
  {
   "cell_type": "code",
   "execution_count": null,
   "id": "d7bd33ae",
   "metadata": {},
   "outputs": [],
   "source": [
    "import time\n",
    "from typing import Callable, Any\n",
    "import random\n",
    "\n",
    "\n",
    "def timer(f):\n",
    "    # Объявляем функцию, которая расширяет функционал f\n",
    "    def decorated(name):\n",
    "        # Переменная total объявлена нелокальной для доступа из внутренней функции\n",
    "        t0 = time.monotonic()\n",
    "        # Возвращаем значение исходной функции и дополнительно total\n",
    "        result = f(name)\n",
    "\n",
    "        print(time.monotonic() - t0)\n",
    "\n",
    "        return result\n",
    "\n",
    "    # Возвращаем новую функцию как объект\n",
    "    return decorated\n",
    "\n",
    "\n",
    "@timer\n",
    "def hello(name: str) -> str:\n",
    "    time.sleep(random.randint(0, 10) / 100)\n",
    "    return f\"Привет, {name}!\""
   ]
  },
  {
   "cell_type": "code",
   "execution_count": null,
   "id": "7286a456",
   "metadata": {},
   "outputs": [],
   "source": [
    "print(hello(\"Студент_1\"))"
   ]
  },
  {
   "cell_type": "markdown",
   "id": "4e734d0a",
   "metadata": {},
   "source": [
    "### Декораторы классов"
   ]
  },
  {
   "cell_type": "code",
   "execution_count": null,
   "id": "7fad7749",
   "metadata": {},
   "outputs": [],
   "source": [
    "class University:\n",
    "    def __init__(self, name):\n",
    "        self.name = name\n",
    "\n",
    "    # Статический метод не требует инстанса класса\n",
    "    @staticmethod\n",
    "    def say_greeting():\n",
    "        print(\"Welcome to our university!\")\n",
    "\n",
    "\n",
    "University.say_greeting()"
   ]
  },
  {
   "cell_type": "code",
   "execution_count": null,
   "id": "5583097f",
   "metadata": {},
   "outputs": [],
   "source": [
    "class University:\n",
    "    _subjects = [\"Math\", \"English\", \"Physics\"]\n",
    "\n",
    "    def __init__(self, name):\n",
    "        self.name = name\n",
    "\n",
    "    # Класс метод принимает на вход сам класс. Не инстанс!\n",
    "    @classmethod\n",
    "    def reduce_subjects(cls):\n",
    "        cls._subjects.pop()\n",
    "\n",
    "    def get_subjects(self):\n",
    "        return self._subjects\n",
    "\n",
    "\n",
    "misis = University(\"MISIS\")\n",
    "print(misis.get_subjects())\n",
    "University.reduce_subjects()\n",
    "print(misis.get_subjects())"
   ]
  },
  {
   "cell_type": "markdown",
   "id": "70e2d443",
   "metadata": {},
   "source": [
    "## Модули и библиотеки"
   ]
  },
  {
   "cell_type": "markdown",
   "id": "75cff2f8",
   "metadata": {},
   "source": [
    "* Модуль - это файл, содержащий код с питоном с расширением .py. Модули можно подключать в других файлах.\n",
    "* Библиотека - общий термин, чаще понимают как набор пакетов и модулей, иногда как то же самое, что и пакет или модуль\n",
    "  \n",
    "В дальнейшем, для краткости будем использовать общий термин модуль"
   ]
  },
  {
   "cell_type": "markdown",
   "id": "e67fa91b",
   "metadata": {},
   "source": [
    "Модули бывают:\n",
    "\n",
    "1. Встроенные. Идут вместе с питоном \n",
    "2. Сторонние. Требуют установки \n",
    "3. Локальные. То есть те, что созданы внутри данного проекта"
   ]
  },
  {
   "cell_type": "code",
   "execution_count": null,
   "id": "eae4f055",
   "metadata": {},
   "outputs": [
    {
     "name": "stdout",
     "output_type": "stream",
     "text": [
      "Введите своё имя:  afasf\n"
     ]
    },
    {
     "name": "stdout",
     "output_type": "stream",
     "text": [
      "Привет, afasf!\n",
      "Красота вашего имени: 2\n"
     ]
    }
   ],
   "source": [
    "# В Python есть несколько способов подключения модулей: \n",
    "import random\n",
    "import datetime as dt # так мы переименовываем пакет \n",
    "from math import *  # так мы импортим все из math, но так не стоит делать \n",
    "\n",
    "def hello(name):\n",
    "    return f\"Привет, {name}!\"\n",
    "\n",
    "def count_beauty(name):\n",
    "    beauty = round(dt.datetime.now().timestamp() * random.randint(1, 10)) % 10\n",
    "    return f\"Красота вашего имени: {beauty}\"\n",
    "    \n",
    "# print(hello(input(\"Введите своё имя: \")))  что произойдет при импорте?\n",
    "if __name__ == \"__main__\":\n",
    "    name = input(\"Введите своё имя: \")\n",
    "    print(hello(name))\n",
    "    print(count_beauty(name))"
   ]
  },
  {
   "cell_type": "markdown",
   "id": "22c7b0db",
   "metadata": {},
   "source": [
    "### Полезные команды pip"
   ]
  },
  {
   "cell_type": "markdown",
   "id": "7036de1a",
   "metadata": {},
   "source": [
    "- `pip freeze`  # получение текущих версий пакетов,\n",
    "- `pip install -r requirements.txt`  # установка из файла\n",
    "- `pip install -U numpy`  # обновление\n",
    "- `pip install git+https://github.com/teadove/teleout`  # установка с гита"
   ]
  },
  {
   "cell_type": "markdown",
   "id": "80914e26-9700-428a-a62f-d3fd16384fae",
   "metadata": {},
   "source": [
    "## Полезные материалы"
   ]
  },
  {
   "cell_type": "markdown",
   "id": "633d75e9-adb3-4338-9749-c136953f4b3a",
   "metadata": {},
   "source": [
    "1. [Хэндбук Яндекса](https://academy.yandex.ru/handbook/python)\n",
    "2. [\"Поколение Python\": курс для начинающих](https://stepik.org/course/58852/promo)"
   ]
  }
 ],
 "metadata": {
  "interpreter": {
   "hash": "b0fa6594d8f4cbf19f97940f81e996739fb7646882a419484c72d19e05852a7e"
  },
  "kernelspec": {
   "display_name": "Python 3 (ipykernel)",
   "language": "python",
   "name": "python3"
  },
  "language_info": {
   "codemirror_mode": {
    "name": "ipython",
    "version": 3
   },
   "file_extension": ".py",
   "mimetype": "text/x-python",
   "name": "python",
   "nbconvert_exporter": "python",
   "pygments_lexer": "ipython3",
   "version": "3.13.5"
  }
 },
 "nbformat": 4,
 "nbformat_minor": 5
}
