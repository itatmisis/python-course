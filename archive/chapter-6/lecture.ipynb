{
 "cells": [
  {
   "cell_type": "markdown",
   "metadata": {},
   "source": [
    "# Занятие 6. FastAPI и pydantic"
   ]
  },
  {
   "cell_type": "markdown",
   "metadata": {},
   "source": [
    "## Фреймворк FastAPI"
   ]
  },
  {
   "cell_type": "markdown",
   "metadata": {},
   "source": [
    "Фреймворк - это набор библиотек и модулей, которые ускоряют разработку и позволяют не вдаваться в низкоуровневые детали, но взамен задает ограничения и влияет на архитектуру проекта"
   ]
  },
  {
   "cell_type": "markdown",
   "metadata": {},
   "source": [
    "Самые популярные бэкенд-фреймворки на Python:\n",
    "* Django\n",
    "* Flask\n",
    "* FastAPI\n",
    "  \n",
    "На нашем курсе мы займемся изучением последнего"
   ]
  },
  {
   "cell_type": "markdown",
   "metadata": {},
   "source": [
    "FastAPI - популярный и простой фреймворк, который из коробки поддерживает много фичей:\n",
    "* Скорость работы (один из самых шустрых фреймворков для Python благодаря ASGI связке Starlette + Uvicorn)\n",
    "* Сериализация и валидация данных - Pydantic\n",
    "* Автодокументация - Swagger\n",
    "* [Отличная документация](https://fastapi.tiangolo.com/)\n",
    "\n",
    "и многое другое..."
   ]
  },
  {
   "cell_type": "markdown",
   "metadata": {},
   "source": [
    "## Pydantic"
   ]
  },
  {
   "cell_type": "markdown",
   "metadata": {},
   "source": [
    "1. Аннотация типов - подсказки от IDE, статический анализ кода и др.\n",
    "2. Скорость - core библиотеки написан на Rust (это как С/C++, но сложнее)\n",
    "3. Автогенерация JSON Schema (для Swagger и тд)\n",
    "4. Кастомизация и большое кол-во встроенных типов, несколько режимов работы\n",
    "5. Валидация данных"
   ]
  },
  {
   "cell_type": "code",
   "execution_count": 2,
   "metadata": {},
   "outputs": [],
   "source": [
    "from pydantic import BaseModel\n",
    "\n",
    "\n",
    "# Базовое объявление пайдантик модели\n",
    "class User(BaseModel):\n",
    "    username: str\n",
    "    age: int\n",
    "    email: str\n",
    "    password: str"
   ]
  },
  {
   "cell_type": "code",
   "execution_count": 10,
   "metadata": {},
   "outputs": [
    {
     "data": {
      "text/plain": [
       "User(username='teadove', age=21, email='m1803003@edu.misis.ru', password='Pr1Nciple')"
      ]
     },
     "execution_count": 10,
     "metadata": {},
     "output_type": "execute_result"
    }
   ],
   "source": [
    "# Обычная инициализация модели\n",
    "User(username=\"teadove\", age=21, email=\"m1803003@edu.misis.ru\", password=\"Pr1Nciple\")"
   ]
  },
  {
   "cell_type": "code",
   "execution_count": 11,
   "metadata": {},
   "outputs": [
    {
     "data": {
      "text/plain": [
       "User(username='teadove', age=21, email='m1803003@edu.misis.ru', password='Pr1Nciple')"
      ]
     },
     "execution_count": 11,
     "metadata": {},
     "output_type": "execute_result"
    }
   ],
   "source": [
    "# Десериализация из JSON\n",
    "User.model_validate_json(\n",
    "    '{\"username\": \"teadove\", \"age\": 21, \"email\": \"m1803003@edu.misis.ru\", \"password\": \"Pr1Nciple\"}'\n",
    ")"
   ]
  },
  {
   "cell_type": "code",
   "execution_count": 14,
   "metadata": {},
   "outputs": [
    {
     "data": {
      "text/plain": [
       "User(username='teadove', age=21, email='m1803003@edu.misis.ru', password='Pr1Nciple')"
      ]
     },
     "execution_count": 14,
     "metadata": {},
     "output_type": "execute_result"
    }
   ],
   "source": [
    "# Десериализация из словаря\n",
    "user = User.model_validate(\n",
    "    {\"username\": \"teadove\", \"age\": 21, \"email\": \"m1803003@edu.misis.ru\", \"password\": \"Pr1Nciple\"}\n",
    ")\n",
    "user"
   ]
  },
  {
   "cell_type": "code",
   "execution_count": 20,
   "metadata": {},
   "outputs": [
    {
     "data": {
      "text/plain": [
       "'{\"username\":\"teadove\",\"age\":21,\"email\":\"m1803003@edu.misis.ru\",\"password\":\"Pr1Nciple\"}'"
      ]
     },
     "execution_count": 20,
     "metadata": {},
     "output_type": "execute_result"
    }
   ],
   "source": [
    "# Сериализация в json\n",
    "user.model_dump_json()"
   ]
  },
  {
   "cell_type": "code",
   "execution_count": 21,
   "metadata": {},
   "outputs": [
    {
     "data": {
      "text/plain": [
       "{'username': 'teadove',\n",
       " 'age': 21,\n",
       " 'email': 'm1803003@edu.misis.ru',\n",
       " 'password': 'Pr1Nciple'}"
      ]
     },
     "execution_count": 21,
     "metadata": {},
     "output_type": "execute_result"
    }
   ],
   "source": [
    "# Сериализация в словарь\n",
    "user.model_dump()"
   ]
  },
  {
   "cell_type": "code",
   "execution_count": 25,
   "metadata": {},
   "outputs": [
    {
     "data": {
      "text/plain": [
       "User(username='test_name', age=20, email='name@test.gr', password='123456789')"
      ]
     },
     "execution_count": 25,
     "metadata": {},
     "output_type": "execute_result"
    }
   ],
   "source": [
    "import re\n",
    "from pydantic import BaseModel, field_validator\n",
    "\n",
    "\n",
    "class User(BaseModel):\n",
    "    username: str\n",
    "    age: int\n",
    "    email: str\n",
    "    password: str\n",
    "\n",
    "    @field_validator(\"age\")\n",
    "    @classmethod\n",
    "    def validate_age(cls, value):\n",
    "        if value < 18:\n",
    "            raise ValueError(\"User must be adult\")\n",
    "        return value\n",
    "\n",
    "    @field_validator(\"email\")\n",
    "    @classmethod\n",
    "    def validate_email(cls, value):\n",
    "        if not bool(re.fullmatch(r\"[\\w.-]+@[\\w-]+\\.[\\w.]+\", value)):\n",
    "            raise ValueError(\"Email is invalid\")\n",
    "        return value.lower()\n",
    "\n",
    "    @field_validator(\"password\")\n",
    "    @classmethod\n",
    "    def validate_password(cls, value):\n",
    "        password_length = len(value)\n",
    "        if password_length < 8 or password_length > 16:\n",
    "            raise ValueError(\"The password must be between 8 and 16 characters long\")\n",
    "        return value\n",
    "\n",
    "\n",
    "# Valid User\n",
    "valid_user = {\"username\": \"test_name\", \"age\": 20, \"email\": \"NAME@test.gr\", \"password\": \"123456789\"}\n",
    "user = User.model_validate(valid_user)\n",
    "\n",
    "# Invalid User\n",
    "# invalid_user = {\n",
    "#     'username': 'test_name',\n",
    "#     'age': 16,\n",
    "#     'email': 'name_test.gr',\n",
    "#     'password': '1234'\n",
    "# }\n",
    "# user = User.model_validate(invalid_user)\n",
    "user"
   ]
  },
  {
   "cell_type": "markdown",
   "metadata": {},
   "source": [
    "## Базовая настройка проекта"
   ]
  },
  {
   "cell_type": "markdown",
   "metadata": {},
   "source": [
    "Примеры кода в папке examples:\n",
    "1. Базовый hello world\n",
    "2. Path params + schemas + return type\n",
    "3. Query params + responce model + router\n",
    "4. Pydantic_settings + HTTPException + Pydantic Field"
   ]
  },
  {
   "cell_type": "markdown",
   "metadata": {},
   "source": [
    "# Полезные материалы\n"
   ]
  },
  {
   "cell_type": "markdown",
   "metadata": {},
   "source": [
    "1. [Отличная документация по FastApi](https://fastapi.tiangolo.com/)\n",
    "2. [Немного про то, как FastAPI устроен под капотом](https://habr.com/ru/articles/708678/)"
   ]
  },
  {
   "cell_type": "code",
   "execution_count": null,
   "metadata": {},
   "outputs": [],
   "source": []
  }
 ],
 "metadata": {
  "kernelspec": {
   "display_name": "Python 3 (ipykernel)",
   "language": "python",
   "name": "python3"
  },
  "language_info": {
   "codemirror_mode": {
    "name": "ipython",
    "version": 3
   },
   "file_extension": ".py",
   "mimetype": "text/x-python",
   "name": "python",
   "nbconvert_exporter": "python",
   "pygments_lexer": "ipython3",
   "version": "3.10.12"
  }
 },
 "nbformat": 4,
 "nbformat_minor": 4
}
