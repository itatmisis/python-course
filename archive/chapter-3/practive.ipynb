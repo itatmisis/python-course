{
 "cells": [
  {
   "cell_type": "markdown",
   "metadata": {},
   "source": [
    "#### Задание №1"
   ]
  },
  {
   "cell_type": "code",
   "execution_count": null,
   "metadata": {},
   "outputs": [],
   "source": [
    "Измените декоратор для примера из лекции, чтобы функция возвращала не только кол-во вызовов, но и кол-во имен, которые оканчиваются на символ \"c\"\n",
    "\n",
    "Пример:"
   ]
  },
  {
   "cell_type": "code",
   "execution_count": null,
   "metadata": {},
   "outputs": [],
   "source": [
    "def counter(f):\n",
    "    total = 0\n",
    "\n",
    "    # Объявляем функцию, которая расширяет функционал f\n",
    "    def decorated(*args, **kwargs):\n",
    "        # Переменная total объявлена нелокальной для доступа из внутренней функции\n",
    "        nonlocal total\n",
    "        total += 1\n",
    "        # Возвращаем значение исходной функции и дополнительно total\n",
    "        return f(*args, **kwargs), total\n",
    "\n",
    "    # Возвращаем новую функцию как объект\n",
    "    return decorated\n",
    "\n",
    "\n",
    "@counter\n",
    "def hello(name):\n",
    "    return f\"Привет, {name}!\"\n",
    "\n",
    "\n",
    "print(hello(\"Студент_1\"))\n",
    "print(hello(\"Студент_404\"))"
   ]
  },
  {
   "cell_type": "markdown",
   "metadata": {},
   "source": [
    "#### Задание 2 (генераторы)\n",
    "\n",
    "Напишите функцию - генератор, которая возвращает все квадраты чисел в диапазоне до n. **(Можно изменить пример из лекции)**\n",
    "\n",
    "Ввод: n\n",
    "\n",
    "Результат:  $1^2, 2^2$, ...,  $n^2$"
   ]
  },
  {
   "cell_type": "code",
   "execution_count": null,
   "metadata": {},
   "outputs": [],
   "source": [
    "def fib(n):  # числа Фиббоначи\n",
    "    n_1, n_2 = 1, 1\n",
    "    for i in range(n):\n",
    "        print(\"Stop execution\")\n",
    "        yield n_1\n",
    "        print(\"Continue execution\")\n",
    "        n_1, n_2 = n_2, n_1 + n_2\n",
    "\n",
    "\n",
    "for x in fib(5):\n",
    "    print(\"Current number:\", x)"
   ]
  },
  {
   "cell_type": "markdown",
   "metadata": {},
   "source": [
    "#### Задание 3 (работа с файлами)\n",
    "\n",
    "напишите программу, которая выводит содержимое файла в обратном порядке."
   ]
  },
  {
   "cell_type": "code",
   "execution_count": null,
   "metadata": {},
   "outputs": [],
   "source": []
  }
 ],
 "metadata": {
  "language_info": {
   "name": "python"
  },
  "orig_nbformat": 4
 },
 "nbformat": 4,
 "nbformat_minor": 2
}
