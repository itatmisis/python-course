{
 "cells": [
  {
   "cell_type": "markdown",
   "id": "962a1f0c-7d6c-4dab-a92f-7cbb12c5219b",
   "metadata": {},
   "source": [
    "# Занятие 4. Библиотеки"
   ]
  },
  {
   "cell_type": "markdown",
   "id": "92790446-13b2-47ba-9846-a0e62d4b2c4f",
   "metadata": {},
   "source": [
    "## Модули, пакеты, библиотеки"
   ]
  },
  {
   "cell_type": "markdown",
   "id": "b20d340b-41c9-490e-9aaf-3786d81904fb",
   "metadata": {},
   "source": [
    "* Модуль - это файл, содержащий код с питоном с расширением .py. Модули можно подключать в других файлах.\n",
    "* Пакет - на практике любая папка, которая содержит файл __init__.py. (С версии Python 3.3 любая папка (даже без __init__.py) считается пакетом). Состоит из модулей.\n",
    "* Библиотека - общий термин, чаще понимают как набор пакетов и модулей, иногда как то же самое, что и пакет или модуль\n",
    "  \n",
    "В дальнейшем, для краткости будем использовать общий термин модуль"
   ]
  },
  {
   "cell_type": "markdown",
   "id": "2206815b-0af4-4479-86dc-1b4c7b188f9b",
   "metadata": {},
   "source": [
    "Модули бывают:\n",
    "\n",
    "1. Встроенные. Идут вместе с питоном \n",
    "2. Сторонние. Требуют установки \n",
    "3. Локальные. То есть те, что созданы внутри данного проекта"
   ]
  },
  {
   "cell_type": "code",
   "execution_count": 13,
   "id": "e2b78c2c-2672-469f-b422-a538ac3ad715",
   "metadata": {
    "collapsed": true,
    "jupyter": {
     "outputs_hidden": true
    }
   },
   "outputs": [
    {
     "name": "stdout",
     "output_type": "stream",
     "text": [
      "Введите своё имя:  afasf\n"
     ]
    },
    {
     "name": "stdout",
     "output_type": "stream",
     "text": [
      "Привет, afasf!\n",
      "Красота вашего имени: 2\n"
     ]
    }
   ],
   "source": [
    "# В Python есть несколько способов подключения модулей: \n",
    "import random\n",
    "import datetime as dt\n",
    "from math import *  # плохо\n",
    "\n",
    "def hello(name):\n",
    "    return f\"Привет, {name}!\"\n",
    "\n",
    "def count_beauty(name):\n",
    "    beauty = round(dt.datetime.now().timestamp() * random.randint(1, 10)) % 10\n",
    "    return f\"Красота вашего имени: {beauty}\"\n",
    "    \n",
    "# print(hello(input(\"Введите своё имя: \")))  что произойдет при импорте?\n",
    "if __name__ == \"__main__\":\n",
    "    name = input(\"Введите своё имя: \")\n",
    "    print(hello(name))\n",
    "    print(count_beauty(name))"
   ]
  },
  {
   "cell_type": "markdown",
   "id": "4edc31d5-7466-4a92-8c92-74d9c58addbc",
   "metadata": {},
   "source": [
    "### Абсолютный и относительный импорты"
   ]
  },
  {
   "attachments": {},
   "cell_type": "markdown",
   "id": "ab9ff796-715f-4d37-bc93-bf519e82345f",
   "metadata": {},
   "source": [
    "Пусть наш проект выглядит следующим образом:"
   ]
  },
  {
   "cell_type": "markdown",
   "id": "b46b4fc5-6400-44a8-ac3c-ef021a1a1b8f",
   "metadata": {
    "jp-MarkdownHeadingCollapsed": true
   },
   "source": [
    "### Порядок разрешения импорта"
   ]
  },
  {
   "cell_type": "markdown",
   "id": "cdaddfdb-2fe6-49c2-a48c-3a3859bccdcd",
   "metadata": {},
   "source": [
    "```import abc```\n",
    "\n",
    "1. Поиск **пакета** abc в том пакете, где лежит модуль, в котором исполняется импорт\n",
    "2. Поиск **модуля** abc в том пакете, где лежит модуль, в котором исполняется импорт\n",
    "3. Поиск **встроенного** модуля abc\n",
    "4. Поиск **пакета** abc в каталогах, указанных в sys.path\n",
    "5. Поиск **модуля** abc в каталогах, указанных в sys.path"
   ]
  },
  {
   "cell_type": "markdown",
   "id": "81822e9e-9fac-4314-9203-04bb654b0429",
   "metadata": {},
   "source": [
    "### Полезные команды pip"
   ]
  },
  {
   "cell_type": "markdown",
   "id": "b30253a0-9d40-4971-94ba-470ea422d614",
   "metadata": {},
   "source": [
    "- `pip freeze`  # получение текущих версий пакетов,\n",
    "- `pip install -r requirements.txt`  # установка из файла\n",
    "- `pip install -U numpy`  # обновление\n",
    "- `pip install git+https://github.com/teadove/teleout`  # установка с гита"
   ]
  },
  {
   "cell_type": "markdown",
   "id": "86e8265a-6fff-42c7-891e-d3d94faa6421",
   "metadata": {},
   "source": [
    "## Полезные материалы"
   ]
  },
  {
   "cell_type": "markdown",
   "id": "9df2a291-e89b-45a7-b234-1e3e66a74172",
   "metadata": {},
   "source": [
    "1. Что нового в [Python 3.11](https://realpython.com/python311-new-features/#zero-cost-exceptions) (в том числе Zero-Cost Exceptions) и недавно вышедшем [Python 3.12](https://habr.com/ru/companies/selectel/articles/761914/)\n",
    "2. Подробнее про работу с исключениями [тут](https://pythonchik.ru/osnovy/python-try-except) и [тут](https://habr.com/ru/companies/piter/articles/537642/)"
   ]
  }
 ],
 "metadata": {
  "kernelspec": {
   "display_name": "Python 3 (ipykernel)",
   "language": "python",
   "name": "python3"
  },
  "language_info": {
   "codemirror_mode": {
    "name": "ipython",
    "version": 3
   },
   "file_extension": ".py",
   "mimetype": "text/x-python",
   "name": "python",
   "nbconvert_exporter": "python",
   "pygments_lexer": "ipython3",
   "version": "3.10.2"
  }
 },
 "nbformat": 4,
 "nbformat_minor": 5
}
